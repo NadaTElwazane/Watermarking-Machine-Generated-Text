{
 "cells": [
  {
   "cell_type": "code",
   "execution_count": 1,
   "id": "5723b1d6",
   "metadata": {
    "_cell_guid": "b1076dfc-b9ad-4769-8c92-a6c4dae69d19",
    "_uuid": "8f2839f25d086af736a60e9eeb907d3b93b6e0e5",
    "execution": {
     "iopub.execute_input": "2024-04-11T19:08:23.732271Z",
     "iopub.status.busy": "2024-04-11T19:08:23.731780Z",
     "iopub.status.idle": "2024-04-11T19:08:24.678263Z",
     "shell.execute_reply": "2024-04-11T19:08:24.677295Z"
    },
    "papermill": {
     "duration": 0.954708,
     "end_time": "2024-04-11T19:08:24.681032",
     "exception": false,
     "start_time": "2024-04-11T19:08:23.726324",
     "status": "completed"
    },
    "tags": []
   },
   "outputs": [
    {
     "name": "stdout",
     "output_type": "stream",
     "text": [
      "/kaggle/input/watermark-temp/watermarked_texts.csv\n",
      "/kaggle/input/watermark-temp/watermarked_texts (2).csv\n",
      "/kaggle/input/watermark-temp/watermarked_texts (1).csv\n"
     ]
    }
   ],
   "source": [
    "# This Python 3 environment comes with many helpful analytics libraries installed\n",
    "# It is defined by the kaggle/python Docker image: https://github.com/kaggle/docker-python\n",
    "# For example, here's several helpful packages to load\n",
    "\n",
    "import numpy as np # linear algebra\n",
    "import pandas as pd # data processing, CSV file I/O (e.g. pd.read_csv)\n",
    "\n",
    "# Input data files are available in the read-only \"../input/\" directory\n",
    "# For example, running this (by clicking run or pressing Shift+Enter) will list all files under the input directory\n",
    "\n",
    "import os\n",
    "for dirname, _, filenames in os.walk('/kaggle/input'):\n",
    "    for filename in filenames:\n",
    "        print(os.path.join(dirname, filename))\n",
    "\n",
    "# You can write up to 20GB to the current directory (/kaggle/working/) that gets preserved as output when you create a version using \"Save & Run All\" \n",
    "# You can also write temporary files to /kaggle/temp/, but they won't be saved outside of the current session"
   ]
  },
  {
   "cell_type": "code",
   "execution_count": 2,
   "id": "7fe05c0b",
   "metadata": {
    "execution": {
     "iopub.execute_input": "2024-04-11T19:08:24.687649Z",
     "iopub.status.busy": "2024-04-11T19:08:24.687138Z",
     "iopub.status.idle": "2024-04-11T19:08:24.815296Z",
     "shell.execute_reply": "2024-04-11T19:08:24.813555Z"
    },
    "papermill": {
     "duration": 0.134502,
     "end_time": "2024-04-11T19:08:24.817918",
     "exception": false,
     "start_time": "2024-04-11T19:08:24.683416",
     "status": "completed"
    },
    "tags": []
   },
   "outputs": [
    {
     "name": "stdout",
     "output_type": "stream",
     "text": [
      "CSV files merged successfully!\n"
     ]
    }
   ],
   "source": [
    "import pandas as pd\n",
    "\n",
    "# Define the file paths\n",
    "file1 = \"/kaggle/input/watermark-temp/watermarked_texts (1).csv\"\n",
    "file2 = \"/kaggle/input/watermark-temp/watermarked_texts (2).csv\"\n",
    "file3 = \"/kaggle/input/watermark-temp/watermarked_texts.csv\"\n",
    "\n",
    "# Read the CSV files into DataFrames\n",
    "df1 = pd.read_csv(file1)\n",
    "df2 = pd.read_csv(file2)\n",
    "df3 = pd.read_csv(file3)\n",
    "\n",
    "# Concatenate the DataFrames\n",
    "merged_df = pd.concat([df1, df2, df3])\n",
    "\n",
    "# Optionally, specify how to handle potential index conflicts\n",
    "# merged_df = pd.concat([df1, df2, df3], ignore_index=True)  # Reset index for continuous numbering\n",
    "\n",
    "# Save the merged DataFrame to a new CSV file\n",
    "merged_df.to_csv(\"Watermarked Dataset.csv\", index=False)\n",
    "\n",
    "print(\"CSV files merged successfully!\")\n"
   ]
  }
 ],
 "metadata": {
  "kaggle": {
   "accelerator": "none",
   "dataSources": [
    {
     "datasetId": 4778893,
     "sourceId": 8094169,
     "sourceType": "datasetVersion"
    }
   ],
   "dockerImageVersionId": 30684,
   "isGpuEnabled": false,
   "isInternetEnabled": true,
   "language": "python",
   "sourceType": "notebook"
  },
  "kernelspec": {
   "display_name": "Python 3",
   "language": "python",
   "name": "python3"
  },
  "language_info": {
   "codemirror_mode": {
    "name": "ipython",
    "version": 3
   },
   "file_extension": ".py",
   "mimetype": "text/x-python",
   "name": "python",
   "nbconvert_exporter": "python",
   "pygments_lexer": "ipython3",
   "version": "3.10.13"
  },
  "papermill": {
   "default_parameters": {},
   "duration": 4.669185,
   "end_time": "2024-04-11T19:08:25.342456",
   "environment_variables": {},
   "exception": null,
   "input_path": "__notebook__.ipynb",
   "output_path": "__notebook__.ipynb",
   "parameters": {},
   "start_time": "2024-04-11T19:08:20.673271",
   "version": "2.5.0"
  }
 },
 "nbformat": 4,
 "nbformat_minor": 5
}
