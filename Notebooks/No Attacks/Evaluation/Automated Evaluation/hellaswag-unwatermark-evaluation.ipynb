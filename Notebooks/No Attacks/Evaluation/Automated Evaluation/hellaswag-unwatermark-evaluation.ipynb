{
 "cells": [
  {
   "cell_type": "code",
   "execution_count": null,
   "id": "4cdee0e7",
   "metadata": {
    "papermill": {
     "duration": 0.002999,
     "end_time": "2024-06-14T23:51:29.779583",
     "exception": false,
     "start_time": "2024-06-14T23:51:29.776584",
     "status": "completed"
    },
    "tags": []
   },
   "outputs": [],
   "source": []
  },
  {
   "cell_type": "code",
   "execution_count": 1,
   "id": "c86f1415",
   "metadata": {
    "_cell_guid": "b1076dfc-b9ad-4769-8c92-a6c4dae69d19",
    "_uuid": "8f2839f25d086af736a60e9eeb907d3b93b6e0e5",
    "execution": {
     "iopub.execute_input": "2024-06-14T23:51:29.786259Z",
     "iopub.status.busy": "2024-06-14T23:51:29.785840Z",
     "iopub.status.idle": "2024-06-14T23:51:32.621422Z",
     "shell.execute_reply": "2024-06-14T23:51:32.619939Z"
    },
    "papermill": {
     "duration": 2.841774,
     "end_time": "2024-06-14T23:51:32.623946",
     "exception": false,
     "start_time": "2024-06-14T23:51:29.782172",
     "status": "completed"
    },
    "tags": []
   },
   "outputs": [
    {
     "name": "stdout",
     "output_type": "stream",
     "text": [
      "/kaggle/input/hellaswag-watermarked-eval/hellaswag_evaluation_OPT_350mb_watermarked_p7.csv\n",
      "/kaggle/input/hellaswag-watermarked-eval/hellaswag_evaluation_OPT_350mb_watermarked_p15.csv\n",
      "/kaggle/input/hellaswag-watermarked-eval/hellaswag_evaluation_OPT_350mb_watermarked_p8.csv\n",
      "/kaggle/input/hellaswag-watermarked-eval/hellaswag_evaluation_OPT_350mb_watermarked_p10.csv\n",
      "/kaggle/input/hellaswag-watermarked-eval/hellaswag_evaluation_OPT_350mb_watermarked_p4.csv\n",
      "/kaggle/input/hellaswag-watermarked-eval/hellaswag_evaluation_OPT_350mb_watermarked_p1.csv\n",
      "/kaggle/input/hellaswag-watermarked-eval/hellaswag_evaluation_OPT_350mb_watermarked_p6.csv\n",
      "/kaggle/input/hellaswag-watermarked-eval/hellaswag_evaluation_OPT_350mb_watermarked_p5.csv\n",
      "/kaggle/input/hellaswag-watermarked-eval/hellaswag_evaluation_OPT_350mb_watermarked_p3.csv\n",
      "/kaggle/input/hellaswag-watermarked-eval/hellaswag_evaluation_OPT_350mb_watermarked_p14.csv\n",
      "/kaggle/input/hellaswag-watermarked-eval/hellaswag_evaluation_OPT_350mb_watermarked_p2.csv\n",
      "/kaggle/input/hellaswag-watermarked-eval/hellaswag_evaluation_OPT_350mb_watermarked_p9.csv\n",
      "/kaggle/input/hellaswag-watermarked-eval/hellaswag_evaluation_OPT_350mb_watermarked_p13.csv\n",
      "/kaggle/input/hellaswag-watermarked-eval/hellaswag_evaluation_OPT_350mb_watermarked_p11.csv\n",
      "/kaggle/input/hellaswag-watermarked-eval/hellaswag_evaluation_OPT_350mb_watermarked_p12.csv\n",
      "/kaggle/input/less-examples-of-hellaswag-eval-test-2/__results__.html\n",
      "/kaggle/input/less-examples-of-hellaswag-eval-test-2/evaluation_OPT_350mb.csv\n",
      "/kaggle/input/less-examples-of-hellaswag-eval-test-2/run_results_OPT_350mb.csv\n",
      "/kaggle/input/less-examples-of-hellaswag-eval-test-2/__notebook__.ipynb\n",
      "/kaggle/input/less-examples-of-hellaswag-eval-test-2/__output__.json\n",
      "/kaggle/input/less-examples-of-hellaswag-eval-test-2/custom.css\n",
      "/kaggle/input/less-examples-of-hellaswag-eval-test-2/hellaswag/LICENSE\n",
      "/kaggle/input/less-examples-of-hellaswag-eval-test-2/hellaswag/.gitignore\n",
      "/kaggle/input/less-examples-of-hellaswag-eval-test-2/hellaswag/README.md\n",
      "/kaggle/input/less-examples-of-hellaswag-eval-test-2/hellaswag/adversarial_filtering/README.md\n",
      "/kaggle/input/less-examples-of-hellaswag-eval-test-2/hellaswag/adversarial_filtering/bert/modeling.py\n",
      "/kaggle/input/less-examples-of-hellaswag-eval-test-2/hellaswag/adversarial_filtering/bert/tokenization.py\n",
      "/kaggle/input/less-examples-of-hellaswag-eval-test-2/hellaswag/adversarial_filtering/bert/run_af_example.sh\n",
      "/kaggle/input/less-examples-of-hellaswag-eval-test-2/hellaswag/adversarial_filtering/bert/README.md\n",
      "/kaggle/input/less-examples-of-hellaswag-eval-test-2/hellaswag/adversarial_filtering/bert/optimization.py\n",
      "/kaggle/input/less-examples-of-hellaswag-eval-test-2/hellaswag/adversarial_filtering/bert/__init__.py\n",
      "/kaggle/input/less-examples-of-hellaswag-eval-test-2/hellaswag/adversarial_filtering/bert/dataloader.py\n",
      "/kaggle/input/less-examples-of-hellaswag-eval-test-2/hellaswag/adversarial_filtering/bert/train_af.py\n",
      "/kaggle/input/less-examples-of-hellaswag-eval-test-2/hellaswag/hellaswag_models/run_hellaswag.sh\n",
      "/kaggle/input/less-examples-of-hellaswag-eval-test-2/hellaswag/hellaswag_models/bertlarge-example-submission.csv\n",
      "/kaggle/input/less-examples-of-hellaswag-eval-test-2/hellaswag/hellaswag_models/README.md\n",
      "/kaggle/input/less-examples-of-hellaswag-eval-test-2/hellaswag/hellaswag_models/bert/run_bert.py\n",
      "/kaggle/input/less-examples-of-hellaswag-eval-test-2/hellaswag/hellaswag_models/bert/modeling.py\n",
      "/kaggle/input/less-examples-of-hellaswag-eval-test-2/hellaswag/hellaswag_models/bert/__init__.py\n",
      "/kaggle/input/less-examples-of-hellaswag-eval-test-2/hellaswag/.git/config\n",
      "/kaggle/input/less-examples-of-hellaswag-eval-test-2/hellaswag/.git/packed-refs\n",
      "/kaggle/input/less-examples-of-hellaswag-eval-test-2/hellaswag/.git/HEAD\n",
      "/kaggle/input/less-examples-of-hellaswag-eval-test-2/hellaswag/.git/index\n",
      "/kaggle/input/less-examples-of-hellaswag-eval-test-2/hellaswag/.git/description\n",
      "/kaggle/input/less-examples-of-hellaswag-eval-test-2/hellaswag/.git/info/exclude\n",
      "/kaggle/input/less-examples-of-hellaswag-eval-test-2/hellaswag/.git/refs/heads/master\n",
      "/kaggle/input/less-examples-of-hellaswag-eval-test-2/hellaswag/.git/refs/remotes/origin/HEAD\n",
      "/kaggle/input/less-examples-of-hellaswag-eval-test-2/hellaswag/.git/hooks/pre-merge-commit.sample\n",
      "/kaggle/input/less-examples-of-hellaswag-eval-test-2/hellaswag/.git/hooks/prepare-commit-msg.sample\n",
      "/kaggle/input/less-examples-of-hellaswag-eval-test-2/hellaswag/.git/hooks/update.sample\n",
      "/kaggle/input/less-examples-of-hellaswag-eval-test-2/hellaswag/.git/hooks/pre-push.sample\n",
      "/kaggle/input/less-examples-of-hellaswag-eval-test-2/hellaswag/.git/hooks/pre-rebase.sample\n",
      "/kaggle/input/less-examples-of-hellaswag-eval-test-2/hellaswag/.git/hooks/pre-applypatch.sample\n",
      "/kaggle/input/less-examples-of-hellaswag-eval-test-2/hellaswag/.git/hooks/pre-commit.sample\n",
      "/kaggle/input/less-examples-of-hellaswag-eval-test-2/hellaswag/.git/hooks/commit-msg.sample\n",
      "/kaggle/input/less-examples-of-hellaswag-eval-test-2/hellaswag/.git/hooks/post-update.sample\n",
      "/kaggle/input/less-examples-of-hellaswag-eval-test-2/hellaswag/.git/hooks/pre-receive.sample\n",
      "/kaggle/input/less-examples-of-hellaswag-eval-test-2/hellaswag/.git/hooks/fsmonitor-watchman.sample\n",
      "/kaggle/input/less-examples-of-hellaswag-eval-test-2/hellaswag/.git/hooks/applypatch-msg.sample\n",
      "/kaggle/input/less-examples-of-hellaswag-eval-test-2/hellaswag/.git/logs/HEAD\n",
      "/kaggle/input/less-examples-of-hellaswag-eval-test-2/hellaswag/.git/logs/refs/heads/master\n",
      "/kaggle/input/less-examples-of-hellaswag-eval-test-2/hellaswag/.git/logs/refs/remotes/origin/HEAD\n",
      "/kaggle/input/less-examples-of-hellaswag-eval-test-2/hellaswag/.git/objects/19/97e15fe638ef2aeec6993471159295cd75aab7\n",
      "/kaggle/input/less-examples-of-hellaswag-eval-test-2/hellaswag/.git/objects/e2/267cc3822876833b61dcf3f6b06fb7497839db\n",
      "/kaggle/input/less-examples-of-hellaswag-eval-test-2/hellaswag/.git/objects/a2/9ff8e9a04bba4bd6588223785ce105328adc57\n",
      "/kaggle/input/less-examples-of-hellaswag-eval-test-2/hellaswag/.git/objects/cf/101cf678e2aa9cd1933f2957cd4e8ba68f19f1\n",
      "/kaggle/input/less-examples-of-hellaswag-eval-test-2/hellaswag/.git/objects/1b/60681a62829fb0c05ec00622005c02231122ce\n",
      "/kaggle/input/less-examples-of-hellaswag-eval-test-2/hellaswag/.git/objects/05/9fc3fe2e99888a152bfcfd9dff93b2161b6cfa\n",
      "/kaggle/input/less-examples-of-hellaswag-eval-test-2/hellaswag/.git/objects/0f/5ee25d72216f12317d5d8a7b92deafa423d81e\n",
      "/kaggle/input/less-examples-of-hellaswag-eval-test-2/hellaswag/.git/objects/45/946f18ccad60b2cc55090b63c0568e4457fea9\n",
      "/kaggle/input/less-examples-of-hellaswag-eval-test-2/hellaswag/.git/objects/45/f0581c40d1ae5da3e0d5ea38b5a559d904b9bb\n",
      "/kaggle/input/less-examples-of-hellaswag-eval-test-2/hellaswag/.git/objects/27/cfeec0c3784b6ed17861bd2109daa4dac634ec\n",
      "/kaggle/input/less-examples-of-hellaswag-eval-test-2/hellaswag/.git/objects/64/c411c60d12b85d4aa39becabaee5c9c3923b2b\n",
      "/kaggle/input/less-examples-of-hellaswag-eval-test-2/hellaswag/.git/objects/c8/4bfb6f2b73bf61f34c1ef892f9293b257796b9\n",
      "/kaggle/input/less-examples-of-hellaswag-eval-test-2/hellaswag/.git/objects/89/4a44cc066a027465cd26d634948d56d13af9af\n",
      "/kaggle/input/less-examples-of-hellaswag-eval-test-2/hellaswag/.git/objects/89/e706f5f1d813e245b9f45dc6c98fe49c86da01\n",
      "/kaggle/input/less-examples-of-hellaswag-eval-test-2/hellaswag/.git/objects/0c/3918f789906eb6972e852979d03ffdc13f6a73\n",
      "/kaggle/input/less-examples-of-hellaswag-eval-test-2/hellaswag/.git/objects/e5/2ec91b8bde33d37247601a2b4eef0d9374362e\n",
      "/kaggle/input/less-examples-of-hellaswag-eval-test-2/hellaswag/.git/objects/ef/fb57b1e893fc03b3782961deb060749083c696\n",
      "/kaggle/input/less-examples-of-hellaswag-eval-test-2/hellaswag/.git/objects/04/76fb9195c3355355b1d403fe99588bab67b5eb\n",
      "/kaggle/input/less-examples-of-hellaswag-eval-test-2/hellaswag/.git/objects/fc/d7a075b1a31972bcf36a83eb127e2d03ce461f\n",
      "/kaggle/input/less-examples-of-hellaswag-eval-test-2/hellaswag/.git/objects/53/cad328a3e289a7fc3ca9c914ccc6bf8c4e7118\n",
      "/kaggle/input/less-examples-of-hellaswag-eval-test-2/hellaswag/.git/objects/db/3580c0656f36ff14d1e07fd53b1346b40d8771\n",
      "/kaggle/input/less-examples-of-hellaswag-eval-test-2/hellaswag/.git/objects/67/74d74db0a963013d28bd9323c32de8dd506038\n",
      "/kaggle/input/less-examples-of-hellaswag-eval-test-2/hellaswag/.git/objects/e6/9de29bb2d1d6434b8b29ae775ad8c2e48c5391\n",
      "/kaggle/input/less-examples-of-hellaswag-eval-test-2/hellaswag/.git/objects/e6/34cbaf993c2073ab50a8839a84ffb453ae5244\n",
      "/kaggle/input/less-examples-of-hellaswag-eval-test-2/hellaswag/.git/objects/99/9ed0e45fe64c7cda98356b7a071d53f24553cb\n",
      "/kaggle/input/less-examples-of-hellaswag-eval-test-2/hellaswag/.git/objects/1d/9d1632a61d7e7e37b4cf61c68598410b12ba4d\n",
      "/kaggle/input/less-examples-of-hellaswag-eval-test-2/hellaswag/.git/objects/08/93c446c59741462e3e05709c4674a513e2fe03\n",
      "/kaggle/input/less-examples-of-hellaswag-eval-test-2/hellaswag/.git/objects/9b/3455692a7ab643dd92bf92ea842765a4d7b1df\n",
      "/kaggle/input/less-examples-of-hellaswag-eval-test-2/hellaswag/.git/objects/95/0522d7b3949778830444b12ea27b0e4b445d4b\n",
      "/kaggle/input/less-examples-of-hellaswag-eval-test-2/hellaswag/.git/objects/f3/8c7ac55b78980526ce4fce3280adf58a3d9a8a\n",
      "/kaggle/input/less-examples-of-hellaswag-eval-test-2/hellaswag/.git/objects/ce/f7a2b803f6ee77f3c20b6aad7dad3f059469b6\n",
      "/kaggle/input/less-examples-of-hellaswag-eval-test-2/hellaswag/.git/objects/2b/c5be87bbf25240f878fed78c3cd16c7032828c\n",
      "/kaggle/input/less-examples-of-hellaswag-eval-test-2/hellaswag/.git/objects/7a/4b590ea240595f468bfbc7f2c744e5eef72da5\n",
      "/kaggle/input/less-examples-of-hellaswag-eval-test-2/hellaswag/.git/objects/f6/facf9ab2526db4beebb7d35784875d3ed7d660\n",
      "/kaggle/input/less-examples-of-hellaswag-eval-test-2/hellaswag/.git/objects/8d/10184abd719751d03dbd106cf6f7b45919bb16\n",
      "/kaggle/input/less-examples-of-hellaswag-eval-test-2/hellaswag/.git/objects/3d/0b04b9cef59c2d2a7ce881941d0ac49140c447\n",
      "/kaggle/input/less-examples-of-hellaswag-eval-test-2/hellaswag/.git/objects/e8/00e5cb485e5fb2f8b50b9690da5ca63e0a95b2\n",
      "/kaggle/input/less-examples-of-hellaswag-eval-test-2/hellaswag/.git/objects/5f/9273e835cd922df71a0d18ad27466461027799\n",
      "/kaggle/input/less-examples-of-hellaswag-eval-test-2/hellaswag/.git/objects/63/af7468ab19525faea51776972b753c8bd4bd28\n",
      "/kaggle/input/less-examples-of-hellaswag-eval-test-2/hellaswag/.git/objects/d3/3dabd91dd965781d3dd912e0727ba23d7c2918\n",
      "/kaggle/input/less-examples-of-hellaswag-eval-test-2/hellaswag/.git/objects/51/339b899fc228a28319df535233ad41e6dad52b\n",
      "/kaggle/input/less-examples-of-hellaswag-eval-test-2/hellaswag/.git/objects/51/765063af7ef5ec912c34572905fea5478d0fae\n",
      "/kaggle/input/less-examples-of-hellaswag-eval-test-2/hellaswag/.git/objects/c9/6c7670c6a1a1b2cab7775132e4e72e45cb43ef\n",
      "/kaggle/input/less-examples-of-hellaswag-eval-test-2/hellaswag/.git/objects/6a/777eb1d94045aaf59c006604c528dd39a562c0\n",
      "/kaggle/input/less-examples-of-hellaswag-eval-test-2/hellaswag/.git/objects/73/f768a3f7f45e28214ef456a5e463682b9f30e1\n",
      "/kaggle/input/less-examples-of-hellaswag-eval-test-2/hellaswag/data/hellaswag_val.jsonl\n",
      "/kaggle/input/less-examples-of-hellaswag-eval-test-2/hellaswag/data/README.md\n",
      "/kaggle/input/less-examples-of-hellaswag-eval-test-2/hellaswag/data/hellaswag_train.jsonl\n",
      "/kaggle/input/less-examples-of-hellaswag-eval-test-2/hellaswag/data/hellaswag_test.jsonl\n",
      "/kaggle/input/less-examples-of-hellaswag-eval-test-2/__results___files/__results___14_0.png\n",
      "/kaggle/input/less-examples-of-hellaswag-eval-test-2/__results___files/__results___13_0.png\n"
     ]
    }
   ],
   "source": [
    "# This Python 3 environment comes with many helpful analytics libraries installed\n",
    "# It is defined by the kaggle/python Docker image: https://github.com/kaggle/docker-python\n",
    "# For example, here's several helpful packages to load\n",
    "\n",
    "import numpy as np # linear algebra\n",
    "import pandas as pd # data processing, CSV file I/O (e.g. pd.read_csv)\n",
    "from sklearn.metrics import confusion_matrix\n",
    "import seaborn as sns\n",
    "import matplotlib.pyplot as plt\n",
    "from sklearn.metrics import accuracy_score\n",
    "from sklearn.metrics import f1_score\n",
    "from sklearn.metrics import precision_score\n",
    "from sklearn.metrics import recall_score\n",
    "# Input data files are available in the read-only \"../input/\" directory\n",
    "# For example, running this (by clicking run or pressing Shift+Enter) will list all files under the input directory\n",
    "\n",
    "import os\n",
    "for dirname, _, filenames in os.walk('/kaggle/input'):\n",
    "    for filename in filenames:\n",
    "        print(os.path.join(dirname, filename))\n",
    "\n",
    "# You can write up to 20GB to the current directory (/kaggle/working/) that gets preserved as output when you create a version using \"Save & Run All\" \n",
    "# You can also write temporary files to /kaggle/temp/, but they won't be saved outside of the current session"
   ]
  },
  {
   "cell_type": "code",
   "execution_count": 2,
   "id": "511e2255",
   "metadata": {
    "execution": {
     "iopub.execute_input": "2024-06-14T23:51:32.632116Z",
     "iopub.status.busy": "2024-06-14T23:51:32.631142Z",
     "iopub.status.idle": "2024-06-14T23:51:33.754530Z",
     "shell.execute_reply": "2024-06-14T23:51:33.753302Z"
    },
    "papermill": {
     "duration": 1.129876,
     "end_time": "2024-06-14T23:51:33.756856",
     "exception": false,
     "start_time": "2024-06-14T23:51:32.626980",
     "status": "completed"
    },
    "tags": []
   },
   "outputs": [
    {
     "name": "stdout",
     "output_type": "stream",
     "text": [
      "Successfully merged 1 CSV files.\n",
      "Merged data saved to: merged_hellaSwag_evaluation_watermarked.csv\n"
     ]
    }
   ],
   "source": [
    "import pandas as pd\n",
    "import glob\n",
    "\n",
    "# Define the file pattern\n",
    "file_pattern = \"/kaggle/input/less-examples-of-hellaswag-eval-test-2/evaluation_OPT_350mb.csv\"\n",
    "\n",
    "# Get all matching files\n",
    "all_files = glob.glob(file_pattern)\n",
    "\n",
    "# Check if any files were found\n",
    "if not all_files:\n",
    "    print(\"No CSV files found with the pattern:\", file_pattern)\n",
    "else:\n",
    "    # Read the first file\n",
    "    df = pd.read_csv(all_files[0])\n",
    "\n",
    "    # Loop through the remaining files and append them\n",
    "    for filename in all_files[1:]:\n",
    "        df = pd.concat([df, pd.read_csv(filename)], ignore_index=True)\n",
    "\n",
    "    # Print a message indicating successful merge\n",
    "    print(\"Successfully merged\", len(all_files), \"CSV files.\")\n",
    "\n",
    "# Optionally, specify a filename to save the merged data\n",
    "merged_data_filename = \"merged_hellaSwag_evaluation_watermarked.csv\"\n",
    "df.to_csv(merged_data_filename, index=False)\n",
    "print(\"Merged data saved to:\", merged_data_filename)"
   ]
  },
  {
   "cell_type": "code",
   "execution_count": 3,
   "id": "dce48c2c",
   "metadata": {
    "execution": {
     "iopub.execute_input": "2024-06-14T23:51:33.764232Z",
     "iopub.status.busy": "2024-06-14T23:51:33.763824Z",
     "iopub.status.idle": "2024-06-14T23:51:34.151901Z",
     "shell.execute_reply": "2024-06-14T23:51:34.150654Z"
    },
    "papermill": {
     "duration": 0.39557,
     "end_time": "2024-06-14T23:51:34.155293",
     "exception": false,
     "start_time": "2024-06-14T23:51:33.759723",
     "status": "completed"
    },
    "tags": []
   },
   "outputs": [
    {
     "name": "stdout",
     "output_type": "stream",
     "text": [
      "\n",
      "Classification Metrics:\n",
      "Accuracy: 25.3734\n",
      "F1-score: 16.2738\n",
      "Precision: 19.5418\n",
      "Recall: 25.3734\n"
     ]
    },
    {
     "name": "stderr",
     "output_type": "stream",
     "text": [
      "/opt/conda/lib/python3.10/site-packages/sklearn/metrics/_classification.py:1344: UndefinedMetricWarning: Precision is ill-defined and being set to 0.0 in labels with no predicted samples. Use `zero_division` parameter to control this behavior.\n",
      "  _warn_prf(average, modifier, msg_start, len(result))\n",
      "/opt/conda/lib/python3.10/site-packages/sklearn/metrics/_classification.py:1344: UndefinedMetricWarning: Recall is ill-defined and being set to 0.0 in labels with no true samples. Use `zero_division` parameter to control this behavior.\n",
      "  _warn_prf(average, modifier, msg_start, len(result))\n"
     ]
    }
   ],
   "source": [
    "def evaluate_classification(file_path):\n",
    "\n",
    "    # Evaluates a classification model using various metrics, reading data from a CSV file and creates a confusion matrix heatmap using seaborn.\n",
    "\n",
    "    # Read the CSV file assuming 'label' and 'actual_label' columns are present\n",
    "    df = pd.read_csv(file_path)\n",
    "\n",
    "    # Extract true labels (assuming 'actual_label' column)\n",
    "    y_true = df['answer'].tolist()\n",
    "\n",
    "    # Extract predicted labels (assuming 'label' column)\n",
    "    y_pred = df['predicted_answer'].tolist()\n",
    "\n",
    "\n",
    "    # Calculate accuracy\n",
    "    accuracy = accuracy_score(y_true, y_pred)\n",
    "\n",
    "    # Calculate F1-score\n",
    "    f1 = f1_score(y_true, y_pred, average='weighted')\n",
    "\n",
    "    # Calculate precision\n",
    "    precision = precision_score(y_true, y_pred, average='weighted')\n",
    "\n",
    "    # Calculate recall\n",
    "    recall = recall_score(y_true, y_pred, average='weighted')\n",
    "      # Define custom labels for the confusion matrix\n",
    "\n",
    "    return accuracy, f1, precision, recall\n",
    "\n",
    "# Specify the file path (assuming you're using Kaggle)\n",
    "file_path = \"/kaggle/input/less-examples-of-hellaswag-eval-test-2/evaluation_OPT_350mb.csv\"\n",
    "\n",
    "# Evaluate the classification\n",
    "accuracy, f1, precision, recall = evaluate_classification(file_path)\n",
    "\n",
    "# Print classification metrics (same as before)\n",
    "print(\"\\nClassification Metrics:\")\n",
    "print(f\"Accuracy: {accuracy * 100:.4f}\")\n",
    "print(f\"F1-score: {f1 * 100:.4f}\")\n",
    "print(f\"Precision: {precision * 100:.4f}\")\n",
    "print(f\"Recall: {recall * 100:.4f}\")"
   ]
  },
  {
   "cell_type": "code",
   "execution_count": 4,
   "id": "16a69b60",
   "metadata": {
    "execution": {
     "iopub.execute_input": "2024-06-14T23:51:34.162753Z",
     "iopub.status.busy": "2024-06-14T23:51:34.162411Z",
     "iopub.status.idle": "2024-06-14T23:51:34.776941Z",
     "shell.execute_reply": "2024-06-14T23:51:34.775671Z"
    },
    "papermill": {
     "duration": 0.621198,
     "end_time": "2024-06-14T23:51:34.779542",
     "exception": false,
     "start_time": "2024-06-14T23:51:34.158344",
     "status": "completed"
    },
    "tags": []
   },
   "outputs": [
    {
     "data": {
      "image/png": "[encoded data removed]",
      "text/plain": [
       "<Figure size 800x600 with 1 Axes>"
      ]
     },
     "metadata": {},
     "output_type": "display_data"
    }
   ],
   "source": [
    "import matplotlib.pyplot as plt\n",
    "def analyze_predictions(filename):\n",
    "    \"\"\"\n",
    "    Analyzes predicted answers from a CSV file and creates a bar chart.\n",
    "\n",
    "    Args:\n",
    "      filename: Path to the CSV file containing \"predicted_answer\" column.\n",
    "    \"\"\"\n",
    "    # Read data from CSV file\n",
    "    df = pd.read_csv(filename)\n",
    "\n",
    "    # Count occurrences of each predicted answer\n",
    "    answer_counts = df['predicted_answer'].value_counts()\n",
    "\n",
    "    # Create bar chart\n",
    "    plt.figure(figsize=(8, 6))\n",
    "    answer_counts.plot(kind='bar', color='skyblue')\n",
    "    plt.xlabel('Predicted Answer')\n",
    "    plt.ylabel('Count')\n",
    "    plt.title('Distribution of Predicted Answers')\n",
    "    plt.xticks(rotation=0)  # Rotate x-axis labels for better readability\n",
    "    plt.tight_layout()\n",
    "    plt.show()\n",
    "\n",
    "# Example usage (assuming filename is set)\n",
    "filename = \"/kaggle/input/less-examples-of-hellaswag-eval-test-2/evaluation_OPT_350mb.csv\"\n",
    "analyze_predictions(filename)"
   ]
  }
 ],
 "metadata": {
  "kaggle": {
   "accelerator": "none",
   "dataSources": [
    {
     "datasetId": 5205196,
     "sourceId": 8682504,
     "sourceType": "datasetVersion"
    },
    {
     "sourceId": 173078876,
     "sourceType": "kernelVersion"
    }
   ],
   "dockerImageVersionId": 30732,
   "isGpuEnabled": false,
   "isInternetEnabled": true,
   "language": "python",
   "sourceType": "notebook"
  },
  "kernelspec": {
   "display_name": "Python 3",
   "language": "python",
   "name": "python3"
  },
  "language_info": {
   "codemirror_mode": {
    "name": "ipython",
    "version": 3
   },
   "file_extension": ".py",
   "mimetype": "text/x-python",
   "name": "python",
   "nbconvert_exporter": "python",
   "pygments_lexer": "ipython3",
   "version": "3.10.13"
  },
  "papermill": {
   "default_parameters": {},
   "duration": 8.452123,
   "end_time": "2024-06-14T23:51:35.404703",
   "environment_variables": {},
   "exception": null,
   "input_path": "__notebook__.ipynb",
   "output_path": "__notebook__.ipynb",
   "parameters": {},
   "start_time": "2024-06-14T23:51:26.952580",
   "version": "2.5.0"
  }
 },
 "nbformat": 4,
 "nbformat_minor": 5
}
