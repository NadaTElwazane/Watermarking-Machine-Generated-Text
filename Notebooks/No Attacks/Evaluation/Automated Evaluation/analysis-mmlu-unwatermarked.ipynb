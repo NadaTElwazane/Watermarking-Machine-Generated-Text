{
 "cells": [
  {
   "cell_type": "code",
   "execution_count": 1,
   "id": "c29e277a",
   "metadata": {
    "_cell_guid": "b1076dfc-b9ad-4769-8c92-a6c4dae69d19",
    "_uuid": "8f2839f25d086af736a60e9eeb907d3b93b6e0e5",
    "execution": {
     "iopub.execute_input": "2024-06-15T00:19:19.243350Z",
     "iopub.status.busy": "2024-06-15T00:19:19.242163Z",
     "iopub.status.idle": "2024-06-15T00:19:21.885902Z",
     "shell.execute_reply": "2024-06-15T00:19:21.884931Z"
    },
    "papermill": {
     "duration": 2.651046,
     "end_time": "2024-06-15T00:19:21.888567",
     "exception": false,
     "start_time": "2024-06-15T00:19:19.237521",
     "status": "completed"
    },
    "tags": []
   },
   "outputs": [],
   "source": [
    "# This Python 3 environment comes with many helpful analytics libraries installed\n",
    "# It is defined by the kaggle/python Docker image: https://github.com/kaggle/docker-python\n",
    "# For example, here's several helpful packages to load\n",
    "\n",
    "import numpy as np # linear algebra\n",
    "import pandas as pd # data processing, CSV file I/O (e.g. pd.read_csv)\n",
    "from sklearn.metrics import confusion_matrix\n",
    "import seaborn as sns\n",
    "import matplotlib.pyplot as plt\n",
    "from sklearn.metrics import accuracy_score\n",
    "from sklearn.metrics import f1_score\n",
    "from sklearn.metrics import precision_score\n",
    "from sklearn.metrics import recall_score\n",
    "# Input data files are available in the read-only \"../input/\" directory\n",
    "# For example, running this (by clicking run or pressing Shift+Enter) will list all files under the input directory\n",
    "\n",
    "import os\n",
    "import json\n",
    "import glob\n",
    "# for dirname, _, filenames in os.walk('/kaggle/input'):\n",
    "#     for filename in filenames:\n",
    "#         print(os.path.join(dirname, filename))\n",
    "\n",
    "# You can write up to 20GB to the current directory (/kaggle/working/) that gets preserved as output when you create a version using \"Save & Run All\" \n",
    "# You can also write temporary files to /kaggle/temp/, but they won't be saved outside of the current session"
   ]
  },
  {
   "cell_type": "code",
   "execution_count": null,
   "id": "278e374f",
   "metadata": {
    "papermill": {
     "duration": 0.002395,
     "end_time": "2024-06-15T00:19:21.893854",
     "exception": false,
     "start_time": "2024-06-15T00:19:21.891459",
     "status": "completed"
    },
    "tags": []
   },
   "outputs": [],
   "source": []
  },
  {
   "cell_type": "code",
   "execution_count": 2,
   "id": "ccc4175b",
   "metadata": {
    "execution": {
     "iopub.execute_input": "2024-06-15T00:19:21.901284Z",
     "iopub.status.busy": "2024-06-15T00:19:21.900659Z",
     "iopub.status.idle": "2024-06-15T00:19:21.908313Z",
     "shell.execute_reply": "2024-06-15T00:19:21.907191Z"
    },
    "papermill": {
     "duration": 0.013707,
     "end_time": "2024-06-15T00:19:21.910558",
     "exception": false,
     "start_time": "2024-06-15T00:19:21.896851",
     "status": "completed"
    },
    "tags": []
   },
   "outputs": [],
   "source": [
    "def evaluate_classification(df):\n",
    "\n",
    "    # Evaluates a classification model using various metrics, reading data from a CSV file and creates a confusion matrix heatmap using seaborn.\n",
    "\n",
    "    # df = pd.read_csv(file_path)\n",
    "\n",
    "    # Extract true labels (assuming 'actual_label' column)\n",
    "    y_true = df['gold_answers']\n",
    "\n",
    "    # Extract predicted labels (assuming 'label' column)\n",
    "    y_pred = df['pred_answers']\n",
    "\n",
    "\n",
    "    # Calculate accuracy\n",
    "    accuracy = accuracy_score(y_true, y_pred)\n",
    "\n",
    "    # Calculate F1-score\n",
    "    f1 = f1_score(y_true, y_pred, average='weighted')\n",
    "\n",
    "    # Calculate precision\n",
    "    precision = precision_score(y_true, y_pred, average='weighted')\n",
    "\n",
    "    # Calculate recall\n",
    "    recall = recall_score(y_true, y_pred, average='weighted')\n",
    "      # Define custom labels for the confusion matrix\n",
    "    # Print classification metrics (same as before)\n",
    "    print(f\"Accuracy: {accuracy * 100:.4f}\")\n",
    "    print(f\"F1-score: {f1 * 100:.4f}\")\n",
    "    print(f\"Precision: {precision * 100:.4f}\")\n",
    "    print(f\"Recall: {recall * 100:.4f}\")\n",
    "    return accuracy, f1, precision, recall\n",
    "\n"
   ]
  },
  {
   "cell_type": "code",
   "execution_count": 3,
   "id": "f0ea20ab",
   "metadata": {
    "execution": {
     "iopub.execute_input": "2024-06-15T00:19:21.917847Z",
     "iopub.status.busy": "2024-06-15T00:19:21.916896Z",
     "iopub.status.idle": "2024-06-15T00:19:22.118667Z",
     "shell.execute_reply": "2024-06-15T00:19:22.117671Z"
    },
    "papermill": {
     "duration": 0.208573,
     "end_time": "2024-06-15T00:19:22.121751",
     "exception": false,
     "start_time": "2024-06-15T00:19:21.913178",
     "status": "completed"
    },
    "tags": []
   },
   "outputs": [
    {
     "name": "stdout",
     "output_type": "stream",
     "text": [
      "ACC-abstract_algebra: 0.2200\n",
      "ACC-anatomy: 0.2667\n",
      "ACC-astronomy: 0.1776\n",
      "ACC-business_ethics: 0.2100\n",
      "ACC-clinical_knowledge: 0.2679\n",
      "ACC-college_biology: 0.2361\n",
      "ACC-college_chemistry: 0.3200\n",
      "ACC-college_computer_science: 0.2800\n",
      "ACC-college_mathematics: 0.2700\n",
      "ACC-college_medicine: 0.2486\n",
      "ACC-college_physics: 0.2157\n",
      "ACC-computer_security: 0.1900\n",
      "ACC-conceptual_physics: 0.3064\n",
      "ACC-econometrics: 0.2281\n",
      "ACC-electrical_engineering: 0.3310\n",
      "ACC-elementary_mathematics: 0.2566\n",
      "ACC-formal_logic: 0.2778\n",
      "ACC-global_facts: 0.1900\n",
      "ACC-high_school_biology: 0.3000\n",
      "ACC-high_school_chemistry: 0.3153\n",
      "ACC-high_school_computer_science: 0.1800\n",
      "ACC-high_school_european_history: 0.2606\n",
      "ACC-high_school_geography: 0.3586\n",
      "ACC-high_school_government_and_politics: 0.3472\n",
      "ACC-high_school_macroeconomics: 0.2897\n",
      "ACC-high_school_mathematics: 0.2778\n",
      "ACC-high_school_microeconomics: 0.2773\n",
      "ACC-high_school_physics: 0.3377\n",
      "ACC-high_school_psychology: 0.3358\n",
      "ACC-high_school_statistics: 0.4722\n",
      "ACC-high_school_us_history: 0.2304\n",
      "ACC-high_school_world_history: 0.2068\n",
      "ACC-human_aging: 0.1480\n",
      "ACC-human_sexuality: 0.2519\n",
      "ACC-international_law: 0.3719\n",
      "ACC-jurisprudence: 0.2315\n",
      "ACC-logical_fallacies: 0.2515\n",
      "ACC-machine_learning: 0.2054\n",
      "ACC-management: 0.2136\n",
      "ACC-marketing: 0.1966\n",
      "ACC-medical_genetics: 0.3000\n",
      "ACC-miscellaneous: 0.2031\n",
      "ACC-moral_disputes: 0.2399\n",
      "ACC-moral_scenarios: 0.2536\n",
      "ACC-nutrition: 0.2549\n",
      "ACC-philosophy: 0.2026\n",
      "ACC-prehistory: 0.2870\n",
      "ACC-professional_accounting: 0.2411\n",
      "ACC-professional_law: 0.2216\n",
      "ACC-professional_medicine: 0.4485\n",
      "ACC-professional_psychology: 0.2565\n",
      "ACC-public_relations: 0.2000\n",
      "ACC-security_studies: 0.4041\n",
      "ACC-sociology: 0.2388\n",
      "ACC-us_foreign_policy: 0.2600\n",
      "ACC-virology: 0.1928\n",
      "ACC-world_religions: 0.1754\n",
      "\n",
      "Accuracy: 26.1074\n",
      "F1-score: 24.0896\n",
      "Precision: 25.5496\n",
      "Recall: 26.1074\n"
     ]
    },
    {
     "name": "stderr",
     "output_type": "stream",
     "text": [
      "/opt/conda/lib/python3.10/site-packages/sklearn/metrics/_classification.py:1344: UndefinedMetricWarning: Recall is ill-defined and being set to 0.0 in labels with no true samples. Use `zero_division` parameter to control this behavior.\n",
      "  _warn_prf(average, modifier, msg_start, len(result))\n"
     ]
    }
   ],
   "source": [
    "def compute_metric(output_filename):\n",
    "    with open(output_filename, 'r') as f:\n",
    "        run_results = json.load(f)\n",
    "    total_acc = 0\n",
    "    total_num = 0\n",
    "    combined_results = {}\n",
    "    combined_results['pred_answers'] = []\n",
    "    combined_results['gold_answers'] = []\n",
    "    for task in run_results:\n",
    "        acc = 0\n",
    "        pred_answers = run_results[task]['pred_answers']\n",
    "        combined_results['pred_answers'] = combined_results['pred_answers'] +run_results[task]['pred_answers']\n",
    "        gold_answers = run_results[task]['gold_answers']\n",
    "        combined_results['gold_answers'] = combined_results['gold_answers'] +run_results[task]['gold_answers']\n",
    "\n",
    "        for pred, gold in zip(pred_answers, gold_answers):\n",
    "            if pred == gold: acc += 1\n",
    "        print(\"ACC-%s: %.4f\" % (task, acc/len(gold_answers)))\n",
    "        total_acc += acc\n",
    "        total_num += len(gold_answers)\n",
    "#     print(\"ACC-all: %.4f\" % (total_acc/total_num))\n",
    "    print()\n",
    "    evaluate_classification(combined_results)\n",
    "    return combined_results\n",
    "\n",
    "\n",
    "combined_results = compute_metric('/kaggle/input/mmlu-opt-350m-eval-without-watermark/run_results_OPT_350mb.json')"
   ]
  },
  {
   "cell_type": "code",
   "execution_count": 4,
   "id": "d444f1a7",
   "metadata": {
    "execution": {
     "iopub.execute_input": "2024-06-15T00:19:22.129215Z",
     "iopub.status.busy": "2024-06-15T00:19:22.128310Z",
     "iopub.status.idle": "2024-06-15T00:19:22.137185Z",
     "shell.execute_reply": "2024-06-15T00:19:22.136015Z"
    },
    "papermill": {
     "duration": 0.01512,
     "end_time": "2024-06-15T00:19:22.139559",
     "exception": false,
     "start_time": "2024-06-15T00:19:22.124439",
     "status": "completed"
    },
    "tags": []
   },
   "outputs": [],
   "source": [
    "df_combined = pd.DataFrame(combined_results)"
   ]
  },
  {
   "cell_type": "code",
   "execution_count": 5,
   "id": "0f28a2e0",
   "metadata": {
    "execution": {
     "iopub.execute_input": "2024-06-15T00:19:22.147886Z",
     "iopub.status.busy": "2024-06-15T00:19:22.146865Z",
     "iopub.status.idle": "2024-06-15T00:19:22.542328Z",
     "shell.execute_reply": "2024-06-15T00:19:22.541068Z"
    },
    "papermill": {
     "duration": 0.402112,
     "end_time": "2024-06-15T00:19:22.544768",
     "exception": false,
     "start_time": "2024-06-15T00:19:22.142656",
     "status": "completed"
    },
    "tags": []
   },
   "outputs": [
    {
     "data": {
      "image/png": "[encoded data removed]",
      "text/plain": [
       "<Figure size 800x600 with 1 Axes>"
      ]
     },
     "metadata": {},
     "output_type": "display_data"
    }
   ],
   "source": [
    "import matplotlib.pyplot as plt\n",
    "\n",
    "def analyze_predictions(df):\n",
    "    \"\"\"\n",
    "    Analyzes predicted answers from a CSV file and creates a bar chart.\n",
    "\n",
    "    Args:\n",
    "      filename: Path to the CSV file containing \"predicted_answer\" column.\n",
    "    \"\"\"\n",
    "\n",
    "    # Count occurrences of each predicted answer\n",
    "    answer_counts = df['pred_answers'].value_counts()\n",
    "\n",
    "    # Create bar chart\n",
    "    plt.figure(figsize=(8, 6))\n",
    "    answer_counts.plot(kind='bar', color='skyblue')\n",
    "    plt.xlabel('Predicted Answer')\n",
    "    plt.ylabel('Count')\n",
    "    plt.title('Distribution of Predicted Answers')\n",
    "    plt.xticks(rotation=0)  # Rotate x-axis labels for better readability\n",
    "    plt.tight_layout()\n",
    "    plt.show()\n",
    "\n",
    "analyze_predictions(df_combined)"
   ]
  }
 ],
 "metadata": {
  "kaggle": {
   "accelerator": "none",
   "dataSources": [
    {
     "datasetId": 5212154,
     "sourceId": 8693152,
     "sourceType": "datasetVersion"
    },
    {
     "sourceId": 177228288,
     "sourceType": "kernelVersion"
    }
   ],
   "dockerImageVersionId": 30732,
   "isGpuEnabled": false,
   "isInternetEnabled": true,
   "language": "python",
   "sourceType": "notebook"
  },
  "kernelspec": {
   "display_name": "Python 3",
   "language": "python",
   "name": "python3"
  },
  "language_info": {
   "codemirror_mode": {
    "name": "ipython",
    "version": 3
   },
   "file_extension": ".py",
   "mimetype": "text/x-python",
   "name": "python",
   "nbconvert_exporter": "python",
   "pygments_lexer": "ipython3",
   "version": "3.10.13"
  },
  "papermill": {
   "default_parameters": {},
   "duration": 6.730735,
   "end_time": "2024-06-15T00:19:23.168368",
   "environment_variables": {},
   "exception": null,
   "input_path": "__notebook__.ipynb",
   "output_path": "__notebook__.ipynb",
   "parameters": {},
   "start_time": "2024-06-15T00:19:16.437633",
   "version": "2.5.0"
  }
 },
 "nbformat": 4,
 "nbformat_minor": 5
}
