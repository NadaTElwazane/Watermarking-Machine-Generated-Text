{
 "cells": [
  {
   "cell_type": "code",
   "execution_count": 1,
   "id": "183f692a",
   "metadata": {
    "_cell_guid": "b1076dfc-b9ad-4769-8c92-a6c4dae69d19",
    "_uuid": "8f2839f25d086af736a60e9eeb907d3b93b6e0e5",
    "execution": {
     "iopub.execute_input": "2024-06-15T00:28:55.172764Z",
     "iopub.status.busy": "2024-06-15T00:28:55.172293Z",
     "iopub.status.idle": "2024-06-15T00:28:57.895139Z",
     "shell.execute_reply": "2024-06-15T00:28:57.893175Z"
    },
    "papermill": {
     "duration": 2.731536,
     "end_time": "2024-06-15T00:28:57.897773",
     "exception": false,
     "start_time": "2024-06-15T00:28:55.166237",
     "status": "completed"
    },
    "tags": []
   },
   "outputs": [
    {
     "name": "stdout",
     "output_type": "stream",
     "text": [
      "/kaggle/input/mmlu-watermarked/mmlu_run_results_OPT_350mb_watermarked_p13.json\n",
      "/kaggle/input/mmlu-watermarked/mmlu_run_results_OPT_350mb_watermarked_p21.json\n",
      "/kaggle/input/mmlu-watermarked/mmlu_run_results_OPT_350mb_watermarked_p4.json\n",
      "/kaggle/input/mmlu-watermarked/mmlu_run_results_OPT_350mb_watermarked_p15.json\n",
      "/kaggle/input/mmlu-watermarked/mmlu_run_results_OPT_350mb_watermarked_p2.json\n",
      "/kaggle/input/mmlu-watermarked/mmlu_run_results_OPT_350mb_watermarked_p6.json\n",
      "/kaggle/input/mmlu-watermarked/mmlu_run_results_OPT_350mb_watermarked_p5.json\n",
      "/kaggle/input/mmlu-watermarked/mmlu_run_results_OPT_350mb_watermarked_p11.json\n",
      "/kaggle/input/mmlu-watermarked/mmlu_run_results_OPT_350mb_watermarked_p17.json\n",
      "/kaggle/input/mmlu-watermarked/mmlu_run_results_OPT_350mb_watermarked_p1.json\n",
      "/kaggle/input/mmlu-watermarked/mmlu_run_results_OPT_350mb_watermarked_p14.json\n",
      "/kaggle/input/mmlu-watermarked/mmlu_run_results_OPT_350mb_watermarked_p18.json\n",
      "/kaggle/input/mmlu-watermarked/mmlu_run_results_OPT_350mb_watermarked_p20.json\n",
      "/kaggle/input/mmlu-watermarked/mmlu_run_results_OPT_350mb_watermarked_p3.json\n",
      "/kaggle/input/mmlu-watermarked/mmlu_run_results_OPT_350mb_watermarked_p10.json\n",
      "/kaggle/input/mmlu-watermarked/mmlu_run_results_OPT_350mb_watermarked_p16.json\n",
      "/kaggle/input/mmlu-watermarked/mmlu_run_results_OPT_350mb_watermarked_p8.json\n",
      "/kaggle/input/mmlu-watermarked/mmlu_run_results_OPT_350mb_watermarked_p9.json\n",
      "/kaggle/input/mmlu-watermarked/mmlu_run_results_OPT_350mb_watermarked_p12.json\n",
      "/kaggle/input/mmlu-watermarked/mmlu_run_results_OPT_350mb_watermarked_p19.json\n",
      "/kaggle/input/mmlu-watermarked/mmlu_run_results_OPT_350mb_watermarked_p7.json\n"
     ]
    }
   ],
   "source": [
    "# This Python 3 environment comes with many helpful analytics libraries installed\n",
    "# It is defined by the kaggle/python Docker image: https://github.com/kaggle/docker-python\n",
    "# For example, here's several helpful packages to load\n",
    "\n",
    "import numpy as np # linear algebra\n",
    "import pandas as pd # data processing, CSV file I/O (e.g. pd.read_csv)\n",
    "from sklearn.metrics import confusion_matrix\n",
    "import seaborn as sns\n",
    "import matplotlib.pyplot as plt\n",
    "from sklearn.metrics import accuracy_score\n",
    "from sklearn.metrics import f1_score\n",
    "from sklearn.metrics import precision_score\n",
    "from sklearn.metrics import recall_score\n",
    "# Input data files are available in the read-only \"../input/\" directory\n",
    "# For example, running this (by clicking run or pressing Shift+Enter) will list all files under the input directory\n",
    "\n",
    "import os\n",
    "for dirname, _, filenames in os.walk('/kaggle/input'):\n",
    "    for filename in filenames:\n",
    "        print(os.path.join(dirname, filename))\n",
    "\n",
    "# You can write up to 20GB to the current directory (/kaggle/working/) that gets preserved as output when you create a version using \"Save & Run All\" \n",
    "# You can also write temporary files to /kaggle/temp/, but they won't be saved outside of the current session"
   ]
  },
  {
   "cell_type": "code",
   "execution_count": 2,
   "id": "452adc15",
   "metadata": {
    "execution": {
     "iopub.execute_input": "2024-06-15T00:28:57.906981Z",
     "iopub.status.busy": "2024-06-15T00:28:57.906446Z",
     "iopub.status.idle": "2024-06-15T00:28:58.009118Z",
     "shell.execute_reply": "2024-06-15T00:28:58.007831Z"
    },
    "papermill": {
     "duration": 0.110315,
     "end_time": "2024-06-15T00:28:58.011949",
     "exception": false,
     "start_time": "2024-06-15T00:28:57.901634",
     "status": "completed"
    },
    "tags": []
   },
   "outputs": [],
   "source": [
    "import json\n",
    "import glob\n",
    "\n",
    "# Define the base path and file pattern\n",
    "base_path = \"/kaggle/input/mmlu-watermarked/\"\n",
    "file_pattern = \"mmlu_run_results_OPT_350mb_watermarked_p*.json\"\n",
    "\n",
    "# Get all file paths\n",
    "file_paths = glob.glob(base_path + file_pattern)\n",
    "# Create an empty dictionary to store the merged data\n",
    "merged_data = {}\n",
    "\n",
    "# Iterate through all file paths\n",
    "for file_path in file_paths:\n",
    "    # Load data from each file\n",
    "    with open(file_path, 'r') as f:\n",
    "        data = json.load(f)\n",
    "\n",
    "    # Merge the data from each file\n",
    "    for key, value in data.items():\n",
    "        if key in merged_data:\n",
    "            # If the key exists, merge the corresponding values\n",
    "            merged_data[key][\"pred_answers\"] += value[\"pred_answers\"]\n",
    "            merged_data[key][\"gold_answers\"] += value[\"gold_answers\"]\n",
    "        else:\n",
    "            # If the key doesn't exist, add it with the values\n",
    "            merged_data[key] = value\n",
    "\n",
    "\n",
    "with open('merged_MMLU_watermarked_results.json', 'w') as output_file:\n",
    "    json.dump(merged_data, output_file,indent=4)"
   ]
  },
  {
   "cell_type": "code",
   "execution_count": 3,
   "id": "585bdc5e",
   "metadata": {
    "execution": {
     "iopub.execute_input": "2024-06-15T00:28:58.020635Z",
     "iopub.status.busy": "2024-06-15T00:28:58.020273Z",
     "iopub.status.idle": "2024-06-15T00:28:58.028901Z",
     "shell.execute_reply": "2024-06-15T00:28:58.027689Z"
    },
    "papermill": {
     "duration": 0.016142,
     "end_time": "2024-06-15T00:28:58.031642",
     "exception": false,
     "start_time": "2024-06-15T00:28:58.015500",
     "status": "completed"
    },
    "tags": []
   },
   "outputs": [],
   "source": [
    "def evaluate_classification(df):\n",
    "\n",
    "    # Evaluates a classification model using various metrics, reading data from a CSV file and creates a confusion matrix heatmap using seaborn.\n",
    "\n",
    "    # df = pd.read_csv(file_path)\n",
    "\n",
    "    # Extract true labels (assuming 'actual_label' column)\n",
    "    y_true = df['gold_answers']\n",
    "\n",
    "    # Extract predicted labels (assuming 'label' column)\n",
    "    y_pred = df['pred_answers']\n",
    "\n",
    "\n",
    "    # Calculate accuracy\n",
    "    accuracy = accuracy_score(y_true, y_pred)\n",
    "\n",
    "    # Calculate F1-score\n",
    "    f1 = f1_score(y_true, y_pred, average='weighted')\n",
    "\n",
    "    # Calculate precision\n",
    "    precision = precision_score(y_true, y_pred, average='weighted')\n",
    "\n",
    "    # Calculate recall\n",
    "    recall = recall_score(y_true, y_pred, average='weighted')\n",
    "      # Define custom labels for the confusion matrix\n",
    "    # Print classification metrics (same as before)\n",
    "    print(f\"Accuracy: {accuracy * 100:.4f}\")\n",
    "    print(f\"F1-score: {f1 * 100:.4f}\")\n",
    "    print(f\"Precision: {precision * 100:.4f}\")\n",
    "    print(f\"Recall: {recall * 100:.4f}\")\n",
    "    return accuracy, f1, precision, recall\n",
    "\n",
    "# Specify the file path (assuming you're using Kaggle)\n",
    "# file_path = \"/kaggle/input/less-examples-of-hellaswag-eval-test-2/evaluation_OPT_350mb.csv\"\n",
    "\n",
    "# Evaluate the classification\n",
    "# accuracy, f1, precision, recall = evaluate_classification(file_path)\n",
    "\n"
   ]
  },
  {
   "cell_type": "code",
   "execution_count": 4,
   "id": "61425050",
   "metadata": {
    "execution": {
     "iopub.execute_input": "2024-06-15T00:28:58.040481Z",
     "iopub.status.busy": "2024-06-15T00:28:58.039829Z",
     "iopub.status.idle": "2024-06-15T00:28:58.369914Z",
     "shell.execute_reply": "2024-06-15T00:28:58.368473Z"
    },
    "papermill": {
     "duration": 0.337924,
     "end_time": "2024-06-15T00:28:58.373161",
     "exception": false,
     "start_time": "2024-06-15T00:28:58.035237",
     "status": "completed"
    },
    "tags": []
   },
   "outputs": [
    {
     "name": "stdout",
     "output_type": "stream",
     "text": [
      "ACC-moral_scenarios: 0.2525\n",
      "ACC-sociology: 0.2338\n",
      "ACC-world_religions: 0.1988\n",
      "ACC-elementary_mathematics: 0.2275\n",
      "ACC-global_facts: 0.1800\n",
      "ACC-high_school_chemistry: 0.2414\n",
      "ACC-nutrition: 0.2582\n",
      "ACC-philosophy: 0.1994\n",
      "ACC-college_biology: 0.2639\n",
      "ACC-college_chemistry: 0.1700\n",
      "ACC-college_computer_science: 0.2400\n",
      "ACC-college_mathematics: 0.2000\n",
      "ACC-college_medicine: 0.2486\n",
      "ACC-college_physics: 0.2353\n",
      "ACC-high_school_computer_science: 0.2200\n",
      "ACC-high_school_government_and_politics: 0.2850\n",
      "ACC-high_school_macroeconomics: 0.2923\n",
      "ACC-high_school_biology: 0.2710\n",
      "ACC-high_school_european_history: 0.2000\n",
      "ACC-high_school_geography: 0.3384\n",
      "ACC-marketing: 0.2308\n",
      "ACC-medical_genetics: 0.2400\n",
      "ACC-moral_disputes: 0.2341\n",
      "ACC-professional_law: 0.2347\n",
      "ACC-abstract_algebra: 0.2500\n",
      "ACC-anatomy: 0.2296\n",
      "ACC-astronomy: 0.1711\n",
      "ACC-business_ethics: 0.2400\n",
      "ACC-clinical_knowledge: 0.2679\n",
      "ACC-professional_psychology: 0.2271\n",
      "ACC-computer_security: 0.2100\n",
      "ACC-conceptual_physics: 0.3106\n",
      "ACC-econometrics: 0.2193\n",
      "ACC-electrical_engineering: 0.2345\n",
      "ACC-formal_logic: 0.3016\n",
      "ACC-human_sexuality: 0.2061\n",
      "ACC-international_law: 0.2479\n",
      "ACC-jurisprudence: 0.2407\n",
      "ACC-logical_fallacies: 0.2945\n",
      "ACC-machine_learning: 0.2054\n",
      "ACC-management: 0.2913\n",
      "ACC-prehistory: 0.2315\n",
      "ACC-professional_accounting: 0.2872\n",
      "ACC-virology: 0.2470\n",
      "ACC-high_school_psychology: 0.2624\n",
      "ACC-high_school_statistics: 0.3843\n",
      "ACC-high_school_us_history: 0.3137\n",
      "ACC-high_school_world_history: 0.2827\n",
      "ACC-human_aging: 0.1973\n",
      "ACC-miscellaneous: 0.2567\n",
      "ACC-professional_medicine: 0.3493\n",
      "ACC-public_relations: 0.2727\n",
      "ACC-security_studies: 0.2980\n",
      "ACC-us_foreign_policy: 0.2300\n",
      "ACC-high_school_mathematics: 0.2889\n",
      "ACC-high_school_microeconomics: 0.2563\n",
      "ACC-high_school_physics: 0.2649\n",
      "\n",
      "Accuracy: 25.2884\n",
      "F1-score: 25.2394\n",
      "Precision: 25.5738\n",
      "Recall: 25.2884\n"
     ]
    },
    {
     "name": "stderr",
     "output_type": "stream",
     "text": [
      "/opt/conda/lib/python3.10/site-packages/sklearn/metrics/_classification.py:1344: UndefinedMetricWarning: Recall is ill-defined and being set to 0.0 in labels with no true samples. Use `zero_division` parameter to control this behavior.\n",
      "  _warn_prf(average, modifier, msg_start, len(result))\n"
     ]
    }
   ],
   "source": [
    "def compute_metric(output_filename):\n",
    "    with open(output_filename, 'r') as f:\n",
    "        run_results = json.load(f)\n",
    "    total_acc = 0\n",
    "    total_num = 0\n",
    "    combined_results = {}\n",
    "    combined_results['pred_answers'] = []\n",
    "    combined_results['gold_answers'] = []\n",
    "    for task in run_results:\n",
    "        acc = 0\n",
    "        pred_answers = run_results[task]['pred_answers']\n",
    "        combined_results['pred_answers'] = combined_results['pred_answers'] +run_results[task]['pred_answers']\n",
    "        gold_answers = run_results[task]['gold_answers']\n",
    "        combined_results['gold_answers'] = combined_results['gold_answers'] +run_results[task]['gold_answers']\n",
    "\n",
    "        for pred, gold in zip(pred_answers, gold_answers):\n",
    "            if pred == gold: acc += 1\n",
    "        print(\"ACC-%s: %.4f\" % (task, acc/len(gold_answers)))\n",
    "        total_acc += acc\n",
    "        total_num += len(gold_answers)\n",
    "#     print(\"ACC-all: %.4f\" % (total_acc/total_num))\n",
    "    print()\n",
    "    evaluate_classification(combined_results)\n",
    "\n",
    "\n",
    "compute_metric('/kaggle/working/merged_MMLU_watermarked_results.json')"
   ]
  },
  {
   "cell_type": "code",
   "execution_count": 5,
   "id": "1858ddad",
   "metadata": {
    "execution": {
     "iopub.execute_input": "2024-06-15T00:28:58.382716Z",
     "iopub.status.busy": "2024-06-15T00:28:58.382327Z",
     "iopub.status.idle": "2024-06-15T00:28:58.423673Z",
     "shell.execute_reply": "2024-06-15T00:28:58.422335Z"
    },
    "papermill": {
     "duration": 0.049414,
     "end_time": "2024-06-15T00:28:58.426475",
     "exception": false,
     "start_time": "2024-06-15T00:28:58.377061",
     "status": "completed"
    },
    "tags": []
   },
   "outputs": [],
   "source": [
    "import pandas as pd\n",
    "\n",
    "def transform_all_tasks(run_results):\n",
    "    \"\"\"\n",
    "    Transforms all tasks in run_results dictionary to a single DataFrame.\n",
    "\n",
    "    Args:\n",
    "      run_results: Dictionary containing results for multiple tasks.\n",
    "\n",
    "    Returns:\n",
    "      pandas.DataFrame: DataFrame with columns 'task_name' (optional), 'prompt' (optional), 'prediction' and 'gold_label'.\n",
    "    \"\"\"\n",
    "    data = []\n",
    "    for task_name, task_results in run_results.items():\n",
    "        # Check if 'prompt' key exists in task_results\n",
    "        if 'prompt' in task_results:\n",
    "            prompts = task_results['prompt']\n",
    "            for i in range(len(prompts)):\n",
    "                data.append({\n",
    "                'task_name': task_name,\n",
    "                'prompt': prompts[i],\n",
    "                'prediction': task_results['pred_answers'][i],\n",
    "                'gold_label': task_results['gold_answers'][i]\n",
    "                })\n",
    "        else:\n",
    "            for i in range(len(task_results['pred_answers'])):\n",
    "                data.append({\n",
    "                'task_name': task_name,\n",
    "                'prediction': task_results['pred_answers'][i],\n",
    "                'gold_label': task_results['gold_answers'][i]\n",
    "                })\n",
    "    return pd.DataFrame(data)\n",
    "\n",
    "# Transform all tasks in run_results to DataFrame\n",
    "df = transform_all_tasks(merged_data)\n",
    "# print(df)"
   ]
  },
  {
   "cell_type": "code",
   "execution_count": 6,
   "id": "8c4cc127",
   "metadata": {
    "execution": {
     "iopub.execute_input": "2024-06-15T00:28:58.436340Z",
     "iopub.status.busy": "2024-06-15T00:28:58.435879Z",
     "iopub.status.idle": "2024-06-15T00:28:59.046741Z",
     "shell.execute_reply": "2024-06-15T00:28:59.045558Z"
    },
    "papermill": {
     "duration": 0.618683,
     "end_time": "2024-06-15T00:28:59.049289",
     "exception": false,
     "start_time": "2024-06-15T00:28:58.430606",
     "status": "completed"
    },
    "tags": []
   },
   "outputs": [
    {
     "data": {
      "image/png": "[encoded data removed]",
      "text/plain": [
       "<Figure size 800x600 with 1 Axes>"
      ]
     },
     "metadata": {},
     "output_type": "display_data"
    }
   ],
   "source": [
    "import matplotlib.pyplot as plt\n",
    "\n",
    "def analyze_predictions(df):\n",
    "    \"\"\"\n",
    "    Analyzes predicted answers from a CSV file and creates a bar chart.\n",
    "\n",
    "    Args:\n",
    "      filename: Path to the CSV file containing \"predicted_answer\" column.\n",
    "    \"\"\"\n",
    "\n",
    "    # Count occurrences of each predicted answer\n",
    "    answer_counts = df['prediction'].value_counts()\n",
    "\n",
    "    # Create bar chart\n",
    "    plt.figure(figsize=(8, 6))\n",
    "    answer_counts.plot(kind='bar', color='skyblue')\n",
    "    plt.xlabel('Predicted Answer')\n",
    "    plt.ylabel('Count')\n",
    "    plt.title('Distribution of Predicted Answers')\n",
    "    plt.xticks(rotation=0)  # Rotate x-axis labels for better readability\n",
    "    plt.tight_layout()\n",
    "    plt.show()\n",
    "\n",
    "analyze_predictions(df)"
   ]
  }
 ],
 "metadata": {
  "kaggle": {
   "accelerator": "none",
   "dataSources": [
    {
     "datasetId": 5212154,
     "sourceId": 8694673,
     "sourceType": "datasetVersion"
    }
   ],
   "dockerImageVersionId": 30732,
   "isGpuEnabled": false,
   "isInternetEnabled": true,
   "language": "python",
   "sourceType": "notebook"
  },
  "kernelspec": {
   "display_name": "Python 3",
   "language": "python",
   "name": "python3"
  },
  "language_info": {
   "codemirror_mode": {
    "name": "ipython",
    "version": 3
   },
   "file_extension": ".py",
   "mimetype": "text/x-python",
   "name": "python",
   "nbconvert_exporter": "python",
   "pygments_lexer": "ipython3",
   "version": "3.10.13"
  },
  "papermill": {
   "default_parameters": {},
   "duration": 7.668482,
   "end_time": "2024-06-15T00:28:59.674846",
   "environment_variables": {},
   "exception": null,
   "input_path": "__notebook__.ipynb",
   "output_path": "__notebook__.ipynb",
   "parameters": {},
   "start_time": "2024-06-15T00:28:52.006364",
   "version": "2.5.0"
  }
 },
 "nbformat": 4,
 "nbformat_minor": 5
}
