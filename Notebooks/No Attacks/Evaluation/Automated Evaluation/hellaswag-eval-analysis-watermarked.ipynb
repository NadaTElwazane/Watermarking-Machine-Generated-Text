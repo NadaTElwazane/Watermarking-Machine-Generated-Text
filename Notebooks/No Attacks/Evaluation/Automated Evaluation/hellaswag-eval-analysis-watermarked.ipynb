{
 "cells": [
  {
   "cell_type": "code",
   "execution_count": 1,
   "id": "d8dff4ce",
   "metadata": {
    "_cell_guid": "b1076dfc-b9ad-4769-8c92-a6c4dae69d19",
    "_uuid": "8f2839f25d086af736a60e9eeb907d3b93b6e0e5",
    "execution": {
     "iopub.execute_input": "2024-06-13T11:51:32.876520Z",
     "iopub.status.busy": "2024-06-13T11:51:32.876069Z",
     "iopub.status.idle": "2024-06-13T11:51:35.767630Z",
     "shell.execute_reply": "2024-06-13T11:51:35.766268Z"
    },
    "papermill": {
     "duration": 2.899101,
     "end_time": "2024-06-13T11:51:35.770692",
     "exception": false,
     "start_time": "2024-06-13T11:51:32.871591",
     "status": "completed"
    },
    "tags": []
   },
   "outputs": [
    {
     "name": "stdout",
     "output_type": "stream",
     "text": [
      "/kaggle/input/hellaswag-watermarked-eval/hellaswag_evaluation_OPT_350mb_watermarked_p7.csv\n",
      "/kaggle/input/hellaswag-watermarked-eval/hellaswag_evaluation_OPT_350mb_watermarked_p15.csv\n",
      "/kaggle/input/hellaswag-watermarked-eval/hellaswag_evaluation_OPT_350mb_watermarked_p8.csv\n",
      "/kaggle/input/hellaswag-watermarked-eval/hellaswag_evaluation_OPT_350mb_watermarked_p10.csv\n",
      "/kaggle/input/hellaswag-watermarked-eval/hellaswag_evaluation_OPT_350mb_watermarked_p4.csv\n",
      "/kaggle/input/hellaswag-watermarked-eval/hellaswag_evaluation_OPT_350mb_watermarked_p1.csv\n",
      "/kaggle/input/hellaswag-watermarked-eval/hellaswag_evaluation_OPT_350mb_watermarked_p6.csv\n",
      "/kaggle/input/hellaswag-watermarked-eval/hellaswag_evaluation_OPT_350mb_watermarked_p5.csv\n",
      "/kaggle/input/hellaswag-watermarked-eval/hellaswag_evaluation_OPT_350mb_watermarked_p3.csv\n",
      "/kaggle/input/hellaswag-watermarked-eval/hellaswag_evaluation_OPT_350mb_watermarked_p14.csv\n",
      "/kaggle/input/hellaswag-watermarked-eval/hellaswag_evaluation_OPT_350mb_watermarked_p2.csv\n",
      "/kaggle/input/hellaswag-watermarked-eval/hellaswag_evaluation_OPT_350mb_watermarked_p9.csv\n",
      "/kaggle/input/hellaswag-watermarked-eval/hellaswag_evaluation_OPT_350mb_watermarked_p13.csv\n",
      "/kaggle/input/hellaswag-watermarked-eval/hellaswag_evaluation_OPT_350mb_watermarked_p11.csv\n",
      "/kaggle/input/hellaswag-watermarked-eval/hellaswag_evaluation_OPT_350mb_watermarked_p12.csv\n"
     ]
    }
   ],
   "source": [
    "# This Python 3 environment comes with many helpful analytics libraries installed\n",
    "# It is defined by the kaggle/python Docker image: https://github.com/kaggle/docker-python\n",
    "# For example, here's several helpful packages to load\n",
    "\n",
    "import numpy as np # linear algebra\n",
    "import pandas as pd # data processing, CSV file I/O (e.g. pd.read_csv)\n",
    "from sklearn.metrics import confusion_matrix\n",
    "import seaborn as sns\n",
    "import matplotlib.pyplot as plt\n",
    "from sklearn.metrics import accuracy_score\n",
    "from sklearn.metrics import f1_score\n",
    "from sklearn.metrics import precision_score\n",
    "from sklearn.metrics import recall_score\n",
    "# Input data files are available in the read-only \"../input/\" directory\n",
    "# For example, running this (by clicking run or pressing Shift+Enter) will list all files under the input directory\n",
    "\n",
    "import os\n",
    "for dirname, _, filenames in os.walk('/kaggle/input'):\n",
    "    for filename in filenames:\n",
    "        print(os.path.join(dirname, filename))\n",
    "\n",
    "# You can write up to 20GB to the current directory (/kaggle/working/) that gets preserved as output when you create a version using \"Save & Run All\" \n",
    "# You can also write temporary files to /kaggle/temp/, but they won't be saved outside of the current session"
   ]
  },
  {
   "cell_type": "code",
   "execution_count": 2,
   "id": "cb261bb5",
   "metadata": {
    "execution": {
     "iopub.execute_input": "2024-06-13T11:51:35.778065Z",
     "iopub.status.busy": "2024-06-13T11:51:35.777502Z",
     "iopub.status.idle": "2024-06-13T11:51:38.222803Z",
     "shell.execute_reply": "2024-06-13T11:51:38.221485Z"
    },
    "papermill": {
     "duration": 2.451756,
     "end_time": "2024-06-13T11:51:38.225459",
     "exception": false,
     "start_time": "2024-06-13T11:51:35.773703",
     "status": "completed"
    },
    "tags": []
   },
   "outputs": [
    {
     "name": "stdout",
     "output_type": "stream",
     "text": [
      "Successfully merged 15 CSV files.\n",
      "Merged data saved to: merged_hellaSwag_evaluation_watermarked.csv\n"
     ]
    }
   ],
   "source": [
    "import pandas as pd\n",
    "import glob\n",
    "\n",
    "# Define the file pattern\n",
    "file_pattern = \"/kaggle/input/hellaswag-watermarked-eval/hellaswag_evaluation_OPT_350mb_watermarked_p*.csv\"\n",
    "\n",
    "# Get all matching files\n",
    "all_files = glob.glob(file_pattern)\n",
    "\n",
    "# Check if any files were found\n",
    "if not all_files:\n",
    "    print(\"No CSV files found with the pattern:\", file_pattern)\n",
    "else:\n",
    "    # Read the first file\n",
    "    df = pd.read_csv(all_files[0])\n",
    "\n",
    "    # Loop through the remaining files and append them\n",
    "    for filename in all_files[1:]:\n",
    "        df = pd.concat([df, pd.read_csv(filename)], ignore_index=True)\n",
    "\n",
    "    # Print a message indicating successful merge\n",
    "    print(\"Successfully merged\", len(all_files), \"CSV files.\")\n",
    "\n",
    "# Optionally, specify a filename to save the merged data\n",
    "merged_data_filename = \"merged_hellaSwag_evaluation_watermarked.csv\"\n",
    "df.to_csv(merged_data_filename, index=False)\n",
    "print(\"Merged data saved to:\", merged_data_filename)"
   ]
  },
  {
   "cell_type": "code",
   "execution_count": 3,
   "id": "21a20b97",
   "metadata": {
    "execution": {
     "iopub.execute_input": "2024-06-13T11:51:38.232749Z",
     "iopub.status.busy": "2024-06-13T11:51:38.232339Z",
     "iopub.status.idle": "2024-06-13T11:51:38.713198Z",
     "shell.execute_reply": "2024-06-13T11:51:38.711532Z"
    },
    "papermill": {
     "duration": 0.487589,
     "end_time": "2024-06-13T11:51:38.715778",
     "exception": false,
     "start_time": "2024-06-13T11:51:38.228189",
     "status": "completed"
    },
    "tags": []
   },
   "outputs": [
    {
     "name": "stdout",
     "output_type": "stream",
     "text": [
      "\n",
      "Classification Metrics:\n",
      "Accuracy: 18.7015\n",
      "F1-score: 19.1924\n",
      "Precision: 24.0555\n",
      "Recall: 18.7015\n"
     ]
    },
    {
     "name": "stderr",
     "output_type": "stream",
     "text": [
      "/opt/conda/lib/python3.10/site-packages/sklearn/metrics/_classification.py:1344: UndefinedMetricWarning: Recall is ill-defined and being set to 0.0 in labels with no true samples. Use `zero_division` parameter to control this behavior.\n",
      "  _warn_prf(average, modifier, msg_start, len(result))\n"
     ]
    }
   ],
   "source": [
    "def evaluate_classification(file_path):\n",
    "\n",
    "    # Evaluates a classification model using various metrics, reading data from a CSV file and creates a confusion matrix heatmap using seaborn.\n",
    "\n",
    "    # Read the CSV file assuming 'label' and 'actual_label' columns are present\n",
    "    df = pd.read_csv(file_path)\n",
    "\n",
    "    # Extract true labels (assuming 'actual_label' column)\n",
    "    y_true = df['answer'].tolist()\n",
    "\n",
    "    # Extract predicted labels (assuming 'label' column)\n",
    "    y_pred = df['predicted_answer'].tolist()\n",
    "\n",
    "\n",
    "    # Calculate accuracy\n",
    "    accuracy = accuracy_score(y_true, y_pred)\n",
    "\n",
    "    # Calculate F1-score\n",
    "    f1 = f1_score(y_true, y_pred, average='weighted')\n",
    "\n",
    "    # Calculate precision\n",
    "    precision = precision_score(y_true, y_pred, average='weighted')\n",
    "\n",
    "    # Calculate recall\n",
    "    recall = recall_score(y_true, y_pred, average='weighted')\n",
    "      # Define custom labels for the confusion matrix\n",
    "\n",
    "    return accuracy, f1, precision, recall\n",
    "\n",
    "# Specify the file path (assuming you're using Kaggle)\n",
    "file_path = \"/kaggle/working/merged_hellaSwag_evaluation_watermarked.csv\"\n",
    "\n",
    "# Evaluate the classification\n",
    "accuracy, f1, precision, recall = evaluate_classification(file_path)\n",
    "\n",
    "# Print classification metrics (same as before)\n",
    "print(\"\\nClassification Metrics:\")\n",
    "print(f\"Accuracy: {accuracy * 100:.4f}\")\n",
    "print(f\"F1-score: {f1 * 100:.4f}\")\n",
    "print(f\"Precision: {precision * 100:.4f}\")\n",
    "print(f\"Recall: {recall * 100:.4f}\")"
   ]
  },
  {
   "cell_type": "code",
   "execution_count": 4,
   "id": "2ee4caa3",
   "metadata": {
    "execution": {
     "iopub.execute_input": "2024-06-13T11:51:38.723157Z",
     "iopub.status.busy": "2024-06-13T11:51:38.722717Z",
     "iopub.status.idle": "2024-06-13T11:51:39.720914Z",
     "shell.execute_reply": "2024-06-13T11:51:39.719776Z"
    },
    "papermill": {
     "duration": 1.004911,
     "end_time": "2024-06-13T11:51:39.723580",
     "exception": false,
     "start_time": "2024-06-13T11:51:38.718669",
     "status": "completed"
    },
    "tags": []
   },
   "outputs": [
    {
     "data": {
      "image/png": "[encoded data removed]",
      "text/plain": [
       "<Figure size 800x600 with 1 Axes>"
      ]
     },
     "metadata": {},
     "output_type": "display_data"
    }
   ],
   "source": [
    "import matplotlib.pyplot as plt\n",
    "def analyze_predictions(filename):\n",
    "    \"\"\"\n",
    "    Analyzes predicted answers from a CSV file and creates a bar chart.\n",
    "\n",
    "    Args:\n",
    "      filename: Path to the CSV file containing \"predicted_answer\" column.\n",
    "    \"\"\"\n",
    "    # Read data from CSV file\n",
    "    df = pd.read_csv(filename)\n",
    "\n",
    "    # Count occurrences of each predicted answer\n",
    "    answer_counts = df['predicted_answer'].value_counts()\n",
    "\n",
    "    # Create bar chart\n",
    "    plt.figure(figsize=(8, 6))\n",
    "    answer_counts.plot(kind='bar', color='skyblue')\n",
    "    plt.xlabel('Predicted Answer')\n",
    "    plt.ylabel('Count')\n",
    "    plt.title('Distribution of Predicted Answers')\n",
    "    plt.xticks(rotation=0)  # Rotate x-axis labels for better readability\n",
    "    plt.tight_layout()\n",
    "    plt.show()\n",
    "\n",
    "# Example usage (assuming filename is set)\n",
    "filename = \"/kaggle/working/merged_hellaSwag_evaluation_watermarked.csv\"\n",
    "analyze_predictions(filename)"
   ]
  }
 ],
 "metadata": {
  "kaggle": {
   "accelerator": "none",
   "dataSources": [
    {
     "datasetId": 5205196,
     "sourceId": 8682504,
     "sourceType": "datasetVersion"
    }
   ],
   "dockerImageVersionId": 30732,
   "isGpuEnabled": false,
   "isInternetEnabled": true,
   "language": "python",
   "sourceType": "notebook"
  },
  "kernelspec": {
   "display_name": "Python 3",
   "language": "python",
   "name": "python3"
  },
  "language_info": {
   "codemirror_mode": {
    "name": "ipython",
    "version": 3
   },
   "file_extension": ".py",
   "mimetype": "text/x-python",
   "name": "python",
   "nbconvert_exporter": "python",
   "pygments_lexer": "ipython3",
   "version": "3.10.13"
  },
  "papermill": {
   "default_parameters": {},
   "duration": 10.54854,
   "end_time": "2024-06-13T11:51:40.348745",
   "environment_variables": {},
   "exception": null,
   "input_path": "__notebook__.ipynb",
   "output_path": "__notebook__.ipynb",
   "parameters": {},
   "start_time": "2024-06-13T11:51:29.800205",
   "version": "2.5.0"
  }
 },
 "nbformat": 4,
 "nbformat_minor": 5
}
