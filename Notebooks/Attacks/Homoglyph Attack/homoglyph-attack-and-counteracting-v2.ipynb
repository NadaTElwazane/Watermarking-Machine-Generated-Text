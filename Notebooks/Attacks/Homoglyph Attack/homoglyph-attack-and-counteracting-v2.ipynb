{
 "cells": [
  {
   "cell_type": "code",
   "execution_count": 1,
   "id": "8568b5de",
   "metadata": {
    "execution": {
     "iopub.execute_input": "2024-04-28T21:23:39.992293Z",
     "iopub.status.busy": "2024-04-28T21:23:39.991445Z",
     "iopub.status.idle": "2024-04-28T21:23:40.929973Z",
     "shell.execute_reply": "2024-04-28T21:23:40.928697Z"
    },
    "papermill": {
     "duration": 0.948602,
     "end_time": "2024-04-28T21:23:40.932710",
     "exception": false,
     "start_time": "2024-04-28T21:23:39.984108",
     "status": "completed"
    },
    "tags": []
   },
   "outputs": [
    {
     "name": "stdout",
     "output_type": "stream",
     "text": [
      "/kaggle/input/homoglyph-text/homoglyph_data.csv\n",
      "/kaggle/input/watermarked-and-unwatermarked-text-truncated/data_trunk.csv\n"
     ]
    }
   ],
   "source": [
    "import numpy as np\n",
    "import pandas as pd\n",
    "from tqdm import tqdm\n",
    "import os\n",
    "for dirname, _, filenames in os.walk('/kaggle/input'):\n",
    "    for filename in filenames:\n",
    "        print(os.path.join(dirname, filename))\n"
   ]
  },
  {
   "cell_type": "markdown",
   "id": "930721ed",
   "metadata": {
    "papermill": {
     "duration": 0.004656,
     "end_time": "2024-04-28T21:23:40.942892",
     "exception": false,
     "start_time": "2024-04-28T21:23:40.938236",
     "status": "completed"
    },
    "tags": []
   },
   "source": [
    "## Attack Simulation"
   ]
  },
  {
   "cell_type": "code",
   "execution_count": 2,
   "id": "c47cf155",
   "metadata": {
    "_cell_guid": "b1076dfc-b9ad-4769-8c92-a6c4dae69d19",
    "_uuid": "8f2839f25d086af736a60e9eeb907d3b93b6e0e5",
    "execution": {
     "iopub.execute_input": "2024-04-28T21:23:40.954778Z",
     "iopub.status.busy": "2024-04-28T21:23:40.954238Z",
     "iopub.status.idle": "2024-04-28T21:23:40.958384Z",
     "shell.execute_reply": "2024-04-28T21:23:40.957442Z"
    },
    "papermill": {
     "duration": 0.012641,
     "end_time": "2024-04-28T21:23:40.960514",
     "exception": false,
     "start_time": "2024-04-28T21:23:40.947873",
     "status": "completed"
    },
    "tags": []
   },
   "outputs": [],
   "source": [
    "# !pip install confusable_homoglyphs\n",
    "# from confusable_homoglyphs import confusables"
   ]
  },
  {
   "cell_type": "code",
   "execution_count": 3,
   "id": "1d244588",
   "metadata": {
    "execution": {
     "iopub.execute_input": "2024-04-28T21:23:40.972420Z",
     "iopub.status.busy": "2024-04-28T21:23:40.971785Z",
     "iopub.status.idle": "2024-04-28T21:23:40.982089Z",
     "shell.execute_reply": "2024-04-28T21:23:40.981027Z"
    },
    "papermill": {
     "duration": 0.019263,
     "end_time": "2024-04-28T21:23:40.984601",
     "exception": false,
     "start_time": "2024-04-28T21:23:40.965338",
     "status": "completed"
    },
    "tags": []
   },
   "outputs": [
    {
     "name": "stdout",
     "output_type": "stream",
     "text": [
      "Hеllо, Wоrld!\n",
      "0x48:0x65:0x6c:0x6c:0x6f:0x2c:0x20:0x57:0x6f:0x72:0x6c:0x64:0x21\n",
      "0x48:0x435:0x6c:0x6c:0x43e:0x2c:0x20:0x57:0x43e:0x72:0x6c:0x64:0x21\n"
     ]
    }
   ],
   "source": [
    "def replace_with_homoglyph(char):\n",
    "    \"\"\"\n",
    "    Replaces a character with a visually similar homoglyph.\n",
    "    \n",
    "    :param char: The character to replace.\n",
    "    :return: The replaced character.\n",
    "    \"\"\"\n",
    "    # Basic mapping of characters to homoglyphs\n",
    "    homoglyph_mapping = {\n",
    "        'a': 'а', # Latin 'a' to Cyrillic 'a'\n",
    "        'e': 'е', # Latin 'e' to Cyrillic 'e'\n",
    "        'o': 'о', # Latin 'o' to Cyrillic 'o'\n",
    "        'i': 'і', # Latin 'i' to Cyrillic 'i'\n",
    "        # Add more mappings as needed\n",
    "    }\n",
    "    \n",
    "    return homoglyph_mapping.get(char, char) # Return the homoglyph if available, else return the original character\n",
    "\n",
    "def homoglyph_attack(text):\n",
    "    \"\"\"\n",
    "    Replaces characters in the text with their homoglyphs.\n",
    "    \n",
    "    :param text: The original text.\n",
    "    :return: The text with homoglyphs.\n",
    "    \"\"\"\n",
    "    # Replace each character in the text with its homoglyph\n",
    "    homoglyph_text = ''.join(replace_with_homoglyph(c) for c in text)\n",
    "    return homoglyph_text\n",
    "\n",
    "# Example usage\n",
    "original_text = \"Hello, World!\"\n",
    "homoglyph_text = homoglyph_attack(original_text)\n",
    "print(homoglyph_text)\n",
    "print(':'.join(hex(ord(x)) for x in original_text))\n",
    "print(':'.join(hex(ord(x)) for x in homoglyph_text))\n"
   ]
  },
  {
   "cell_type": "code",
   "execution_count": 4,
   "id": "c89f929f",
   "metadata": {
    "execution": {
     "iopub.execute_input": "2024-04-28T21:23:40.996325Z",
     "iopub.status.busy": "2024-04-28T21:23:40.995939Z",
     "iopub.status.idle": "2024-04-28T21:23:41.372877Z",
     "shell.execute_reply": "2024-04-28T21:23:41.372042Z"
    },
    "papermill": {
     "duration": 0.386588,
     "end_time": "2024-04-28T21:23:41.376246",
     "exception": false,
     "start_time": "2024-04-28T21:23:40.989658",
     "status": "completed"
    },
    "tags": []
   },
   "outputs": [
    {
     "name": "stderr",
     "output_type": "stream",
     "text": [
      "100%|██████████| 1000/1000 [00:00<00:00, 3921.60it/s]\n"
     ]
    },
    {
     "name": "stdout",
     "output_type": "stream",
     "text": [
      "Replacing homoglyph complete! Homoglyph data saved to homoglyph_data.csv\n"
     ]
    }
   ],
   "source": [
    "data = pd.read_csv(\"/kaggle/input/watermarked-and-unwatermarked-text-truncated/data_trunk.csv\")\n",
    "# print(data)\n",
    "\n",
    "# Filter for watermarked \"Generated text\" with a limit of 1000 rows\n",
    "filtered_data = data[data[\"label\"] == \"watermarked\"][[\"Generated Text\"]]\n",
    "# Initialize empty list to store paraphrased text\n",
    "homoglyph_text = []\n",
    "\n",
    "# Loop through the data using tqdm for progress bar\n",
    "for text in tqdm(filtered_data[\"Generated Text\"].tolist()):\n",
    "    homoglyph = homoglyph_attack(text)\n",
    "    homoglyph_text.append(homoglyph)\n",
    "\n",
    "# Create a new dataframe with original and paraphrased text\n",
    "df = pd.DataFrame({\"Original Text\": filtered_data[\"Generated Text\"], \"Homoglyph Text\": homoglyph_text})\n",
    "\n",
    "# Save dataframe as CSV file\n",
    "df.to_csv(\"homoglyph_data.csv\", index=False)\n",
    "\n",
    "print(\"Replacing homoglyph complete! Homoglyph data saved to homoglyph_data.csv\")"
   ]
  },
  {
   "cell_type": "markdown",
   "id": "6675495d",
   "metadata": {
    "papermill": {
     "duration": 0.005303,
     "end_time": "2024-04-28T21:23:41.387051",
     "exception": false,
     "start_time": "2024-04-28T21:23:41.381748",
     "status": "completed"
    },
    "tags": []
   },
   "source": [
    "## Detect and Counteract Homoglyph Attack"
   ]
  },
  {
   "cell_type": "code",
   "execution_count": 5,
   "id": "bf903fa1",
   "metadata": {
    "execution": {
     "iopub.execute_input": "2024-04-28T21:23:41.400283Z",
     "iopub.status.busy": "2024-04-28T21:23:41.399624Z",
     "iopub.status.idle": "2024-04-28T21:23:41.406577Z",
     "shell.execute_reply": "2024-04-28T21:23:41.405788Z"
    },
    "papermill": {
     "duration": 0.016157,
     "end_time": "2024-04-28T21:23:41.408763",
     "exception": false,
     "start_time": "2024-04-28T21:23:41.392606",
     "status": "completed"
    },
    "tags": []
   },
   "outputs": [],
   "source": [
    "def find_homoglyphs(text):\n",
    "    \"\"\"\n",
    "    This function finds the positions of characters in the text that have homoglyphs \n",
    "    defined in the homoglyph_mapping dictionary.\n",
    "\n",
    "    Args:\n",
    "      text: The text to search for homoglyphs.\n",
    "      homoglyph_mapping: A dictionary mapping characters to their homoglyphs.\n",
    "\n",
    "    Returns:\n",
    "      A list of tuples where each tuple contains the index of the homoglyph in the text \n",
    "      and the corresponding homoglyph character. \n",
    "    \"\"\"\n",
    "    homoglyphs = []\n",
    "    normal_to_homoglyph = {\n",
    "        'а':'a', #  Cyrillic 'a' to Latin 'a'\n",
    "        'е':'e' , # Cyrillic 'e' to Latin 'e'\n",
    "        'о':'o' , # Cyrillic 'o' to Latin 'o'\n",
    "        'і':'i' , # Cyrillic 'i' to Latin 'i' \n",
    "    }\n",
    "    for i, char in enumerate(text):\n",
    "        if char in normal_to_homoglyph and char != normal_to_homoglyph[char]:\n",
    "            homoglyphs.append((i, normal_to_homoglyph[char]))\n",
    "    return homoglyphs\n",
    "\n",
    "# Example usage\n",
    "# text = \"This is a test.\"\n",
    "# homoglyphs = find_homoglyphs(homoglyph_text)\n",
    "\n",
    "# if homoglyphs:\n",
    "#     print(\"Found homoglyphs at positions:\")\n",
    "#     for index, homo in homoglyphs:\n",
    "#         print(f\"\\t- Index: {index}, Character: ({homo})\")\n",
    "# else:\n",
    "#     print(\"No homoglyphs found in the text.\")\n"
   ]
  },
  {
   "cell_type": "code",
   "execution_count": 6,
   "id": "1610990a",
   "metadata": {
    "execution": {
     "iopub.execute_input": "2024-04-28T21:23:41.422389Z",
     "iopub.status.busy": "2024-04-28T21:23:41.421661Z",
     "iopub.status.idle": "2024-04-28T21:23:41.431470Z",
     "shell.execute_reply": "2024-04-28T21:23:41.430313Z"
    },
    "papermill": {
     "duration": 0.019549,
     "end_time": "2024-04-28T21:23:41.433862",
     "exception": false,
     "start_time": "2024-04-28T21:23:41.414313",
     "status": "completed"
    },
    "tags": []
   },
   "outputs": [
    {
     "name": "stdout",
     "output_type": "stream",
     "text": [
      "No homoglyphs found in the text.\n"
     ]
    }
   ],
   "source": [
    "def normalize_homoglyph(text,i,char):\n",
    "    \"\"\"\n",
    "    Replaces a character with a visually similar homoglyph.\n",
    "    \n",
    "    :param char: The character to replace.\n",
    "    :return: The replaced character.\n",
    "    \"\"\"\n",
    "    # Basic mapping of characters to homoglyphs\n",
    "    normal_to_homoglyph = {\n",
    "        'а':'a', #  Cyrillic 'a' to Latin 'a'\n",
    "        'е':'e' , # Cyrillic 'e' to Latin 'e'\n",
    "        'о':'o' , # Cyrillic 'o' to Latin 'o'\n",
    "        'і':'i' , # Cyrillic 'i' to Latin 'i' \n",
    "    }\n",
    "    return normal_to_homoglyph.get(char, char) # Return the homoglyph if available, else return the original character\n",
    "\n",
    "def counteract_homoglyph(text):\n",
    "    \"\"\"\n",
    "    Replaces homoglyphs in the text with their normalized counterparts.\n",
    "    \n",
    "    :param text: The original text with homoglyph.\n",
    "    :return: The text with homoglyphs.\n",
    "    \"\"\"\n",
    "    # Replace each character in the text with its homoglyph\n",
    "    normalized_text = ''.join(normalize_homoglyph(text,i,c) for i,c in enumerate(text))\n",
    "    return normalized_text\n",
    "\n",
    "# Example usage\n",
    "text = \"This is a test.\"\n",
    "homoglyphs = find_homoglyphs(counteract_homoglyph(text))\n",
    "\n",
    "if homoglyphs:\n",
    "    print(\"Found homoglyphs at positions:\")\n",
    "    for index, homo in homoglyphs:\n",
    "        print(f\"\\t- Index: {index}, Character: ({homo})\")\n",
    "else:\n",
    "    print(\"No homoglyphs found in the text.\")\n",
    "\n"
   ]
  },
  {
   "cell_type": "code",
   "execution_count": 7,
   "id": "9fd1c708",
   "metadata": {
    "execution": {
     "iopub.execute_input": "2024-04-28T21:23:41.447191Z",
     "iopub.status.busy": "2024-04-28T21:23:41.446773Z",
     "iopub.status.idle": "2024-04-28T21:23:41.834554Z",
     "shell.execute_reply": "2024-04-28T21:23:41.832818Z"
    },
    "papermill": {
     "duration": 0.397539,
     "end_time": "2024-04-28T21:23:41.837159",
     "exception": false,
     "start_time": "2024-04-28T21:23:41.439620",
     "status": "completed"
    },
    "tags": []
   },
   "outputs": [
    {
     "name": "stderr",
     "output_type": "stream",
     "text": [
      "100%|██████████| 1000/1000 [00:00<00:00, 3265.77it/s]"
     ]
    },
    {
     "name": "stdout",
     "output_type": "stream",
     "text": [
      "Replacing homoglyph with normal characters complete! Homoglyph data saved to normalized_data.csv\n"
     ]
    },
    {
     "name": "stderr",
     "output_type": "stream",
     "text": [
      "\n"
     ]
    }
   ],
   "source": [
    "data = pd.read_csv(\"/kaggle/working/homoglyph_data.csv\")\n",
    "normalized_text = []\n",
    "\n",
    "# Loop through the data using tqdm for progress bar\n",
    "for text in tqdm(data[\"Homoglyph Text\"].tolist()):\n",
    "    normalize = counteract_homoglyph(text)\n",
    "    normalized_text.append(normalize)\n",
    "# Create a new dataframe with original and paraphrased text\n",
    "df = pd.DataFrame({\"Homoglyph Text\": data[\"Homoglyph Text\"], \"Normalized Text\": normalized_text})\n",
    "\n",
    "# Save dataframe as CSV file\n",
    "df.to_csv(\"normalized_data.csv\", index=False)\n",
    "\n",
    "print(\"Replacing homoglyph with normal characters complete! Homoglyph data saved to normalized_data.csv\")"
   ]
  },
  {
   "cell_type": "code",
   "execution_count": 8,
   "id": "6cfef591",
   "metadata": {
    "execution": {
     "iopub.execute_input": "2024-04-28T21:23:41.851654Z",
     "iopub.status.busy": "2024-04-28T21:23:41.851234Z",
     "iopub.status.idle": "2024-04-28T21:23:42.234143Z",
     "shell.execute_reply": "2024-04-28T21:23:42.232819Z"
    },
    "papermill": {
     "duration": 0.393245,
     "end_time": "2024-04-28T21:23:42.236569",
     "exception": false,
     "start_time": "2024-04-28T21:23:41.843324",
     "status": "completed"
    },
    "tags": []
   },
   "outputs": [
    {
     "name": "stderr",
     "output_type": "stream",
     "text": [
      "100%|██████████| 1000/1000 [00:00<00:00, 2884.05it/s]\n"
     ]
    }
   ],
   "source": [
    "data = pd.read_csv(\"/kaggle/working/normalized_data.csv\")\n",
    "\n",
    "# Loop through the data using tqdm for progress bar\n",
    "for text in tqdm(data[\"Normalized Text\"].tolist()):\n",
    "    normalize = counteract_homoglyph(text)\n",
    "    homoglyphs_found = find_homoglyphs(normalize)\n",
    "    if homoglyphs_found:\n",
    "        print(\"Found homoglyphs at positions:\")\n",
    "        for index, homo in homoglyphs_found:\n",
    "            print(f\"\\t- Index: {index}, Character: ({homo})\")\n",
    "        break;"
   ]
  },
  {
   "cell_type": "code",
   "execution_count": 9,
   "id": "6bffcdfe",
   "metadata": {
    "execution": {
     "iopub.execute_input": "2024-04-28T21:23:42.252007Z",
     "iopub.status.busy": "2024-04-28T21:23:42.251448Z",
     "iopub.status.idle": "2024-04-28T21:23:42.300488Z",
     "shell.execute_reply": "2024-04-28T21:23:42.298948Z"
    },
    "papermill": {
     "duration": 0.059573,
     "end_time": "2024-04-28T21:23:42.302850",
     "exception": false,
     "start_time": "2024-04-28T21:23:42.243277",
     "status": "completed"
    },
    "tags": []
   },
   "outputs": [
    {
     "name": "stdout",
     "output_type": "stream",
     "text": [
      "Counteracting Successful!\n"
     ]
    }
   ],
   "source": [
    "data = pd.read_csv(\"/kaggle/input/watermarked-and-unwatermarked-text-truncated/data_trunk.csv\")\n",
    "filtered_data = data[data[\"label\"] == \"watermarked\"][[\"Generated Text\"]]\n",
    "normalized_data = pd.read_csv(\"/kaggle/working/normalized_data.csv\")\n",
    "normalized_data = normalized_data[\"Normalized Text\"].tolist()\n",
    "count = 0\n",
    "for i, og_text in enumerate(filtered_data[\"Generated Text\"].tolist()):\n",
    "    if og_text != normalized_data[i]:\n",
    "        count +=1\n",
    "if(count == 0):\n",
    "    print(\"Counteracting Successful!\")\n"
   ]
  }
 ],
 "metadata": {
  "kaggle": {
   "accelerator": "none",
   "dataSources": [
    {
     "datasetId": 4779182,
     "sourceId": 8094561,
     "sourceType": "datasetVersion"
    },
    {
     "datasetId": 4899574,
     "sourceId": 8256470,
     "sourceType": "datasetVersion"
    }
   ],
   "dockerImageVersionId": 30699,
   "isGpuEnabled": false,
   "isInternetEnabled": true,
   "language": "python",
   "sourceType": "notebook"
  },
  "kernelspec": {
   "display_name": "Python 3",
   "language": "python",
   "name": "python3"
  },
  "language_info": {
   "codemirror_mode": {
    "name": "ipython",
    "version": 3
   },
   "file_extension": ".py",
   "mimetype": "text/x-python",
   "name": "python",
   "nbconvert_exporter": "python",
   "pygments_lexer": "ipython3",
   "version": "3.10.13"
  },
  "papermill": {
   "default_parameters": {},
   "duration": 5.725665,
   "end_time": "2024-04-28T21:23:42.730663",
   "environment_variables": {},
   "exception": null,
   "input_path": "__notebook__.ipynb",
   "output_path": "__notebook__.ipynb",
   "parameters": {},
   "start_time": "2024-04-28T21:23:37.004998",
   "version": "2.5.0"
  }
 },
 "nbformat": 4,
 "nbformat_minor": 5
}
