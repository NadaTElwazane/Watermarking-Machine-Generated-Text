{
 "cells": [
  {
   "cell_type": "code",
   "execution_count": 1,
   "id": "402f94c5",
   "metadata": {
    "_cell_guid": "b1076dfc-b9ad-4769-8c92-a6c4dae69d19",
    "_uuid": "8f2839f25d086af736a60e9eeb907d3b93b6e0e5",
    "execution": {
     "iopub.execute_input": "2024-05-21T13:06:47.850817Z",
     "iopub.status.busy": "2024-05-21T13:06:47.850073Z",
     "iopub.status.idle": "2024-05-21T13:06:48.845682Z",
     "shell.execute_reply": "2024-05-21T13:06:48.844209Z"
    },
    "papermill": {
     "duration": 1.004821,
     "end_time": "2024-05-21T13:06:48.848382",
     "exception": false,
     "start_time": "2024-05-21T13:06:47.843561",
     "status": "completed"
    },
    "tags": []
   },
   "outputs": [
    {
     "name": "stdout",
     "output_type": "stream",
     "text": [
      "/kaggle/input/watermarked-and-unwatermarked-text-truncated/data_trunk.csv\n",
      "/kaggle/input/bidi-reordered-dataset/bidi_reordered_attacked.csv\n"
     ]
    }
   ],
   "source": [
    "# This Python 3 environment comes with many helpful analytics libraries installed\n",
    "# It is defined by the kaggle/python Docker image: https://github.com/kaggle/docker-python\n",
    "# For example, here's several helpful packages to load\n",
    "\n",
    "import numpy as np # linear algebra\n",
    "import pandas as pd # data processing, CSV file I/O (e.g. pd.read_csv)\n",
    "\n",
    "# Input data files are available in the read-only \"../input/\" directory\n",
    "# For example, running this (by clicking run or pressing Shift+Enter) will list all files under the input directory\n",
    "\n",
    "import os\n",
    "for dirname, _, filenames in os.walk('/kaggle/input'):\n",
    "    for filename in filenames:\n",
    "        print(os.path.join(dirname, filename))\n",
    "\n",
    "# You can write up to 20GB to the current directory (/kaggle/working/) that gets preserved as output when you create a version using \"Save & Run All\" \n",
    "# You can also write temporary files to /kaggle/temp/, but they won't be saved outside of the current session"
   ]
  },
  {
   "cell_type": "code",
   "execution_count": 2,
   "id": "cb2f5ee4",
   "metadata": {
    "execution": {
     "iopub.execute_input": "2024-05-21T13:06:48.859032Z",
     "iopub.status.busy": "2024-05-21T13:06:48.858395Z",
     "iopub.status.idle": "2024-05-21T13:06:48.872785Z",
     "shell.execute_reply": "2024-05-21T13:06:48.871531Z"
    },
    "papermill": {
     "duration": 0.022698,
     "end_time": "2024-05-21T13:06:48.875518",
     "exception": false,
     "start_time": "2024-05-21T13:06:48.852820",
     "status": "completed"
    },
    "tags": []
   },
   "outputs": [
    {
     "name": "stdout",
     "output_type": "stream",
     "text": [
      "True\n",
      "True\n",
      "True\n",
      "True\n",
      "True\n",
      "False\n"
     ]
    }
   ],
   "source": [
    "def has_right_to_left_letters(text):\n",
    "    \"\"\"\n",
    "    Checks if the text contains any letters written in right-to-left (RTL) languages.\n",
    "\n",
    "    Args:\n",
    "    text: The text to check.\n",
    "\n",
    "    Returns:\n",
    "    True if the text contains any RTL letters, False otherwise.\n",
    "    \"\"\"\n",
    "\n",
    "    # Define a dictionary for RTL script Unicode ranges\n",
    "    # based on https://www.unicode.org/charts/ and https://en.wikipedia.org/wiki/Right-to-left_script\n",
    "    # Added Current scripts only\n",
    "    rtl_ranges = {\n",
    "      \"Arabic\": (0x0600, 0x06FF),\n",
    "      \"Hebrew\": (0x0590, 0x05FF),\n",
    "      \"Thaana\": (0x0780, 0x07BF),\n",
    "      \"Syriac\": (0x0700, 0x074F),\n",
    "      \"Mandaic\": (0x0840, 0x085F),\n",
    "      \"Samaritan\": (0x0800, 0x083F),\n",
    "      \"Mende Kikakui\": (0x1E800, 0x1E8DF),\n",
    "      \"NKo\": (0x07C0, 0x07FF),\n",
    "      \"Garay\": (0x10D40, 0x10D8F),\n",
    "      \"Adlam\": (0x1E900, 0x1E95F),\n",
    "      \"Hanifi Rohingya\": (0x10D00, 0x10D3F),\n",
    "      \"Yezidi\": (0x10E80, 0x10EBF)\n",
    "  }\n",
    "\n",
    "    for char in text:\n",
    "        for script, range in rtl_ranges.items():\n",
    "            if range[0] <= ord(char) <= range[1]:\n",
    "                return True\n",
    "    return False\n",
    "\n",
    "# Example usage\n",
    "text_with_arabic = \"مرحبا بالعالم!\"\n",
    "text_with_persian = \"سلام دنیا!\"\n",
    "text_with_hebrew = \" שלום עולם!\"\n",
    "text_with_thaana = \"ދިވެހި ބަސް\"\n",
    "text_with_syriac = \"ܡܪܝܐ ܝܗܘܒ ܠܟ ܫܠܳܡܳܐ\"\n",
    "text_with_english = \"Hello, world!\"\n",
    "\n",
    "# Example usage (unchanged)\n",
    "print(has_right_to_left_letters(text_with_arabic))  # Output: True\n",
    "print(has_right_to_left_letters(text_with_persian))  # Output: True\n",
    "print(has_right_to_left_letters(text_with_hebrew))  # Output: True\n",
    "print(has_right_to_left_letters(text_with_thaana))  # Output: True\n",
    "print(has_right_to_left_letters(text_with_syriac))  # Output: True\n",
    "print(has_right_to_left_letters(text_with_english))  # Output: False"
   ]
  },
  {
   "cell_type": "code",
   "execution_count": 3,
   "id": "33a1b1eb",
   "metadata": {
    "execution": {
     "iopub.execute_input": "2024-05-21T13:06:48.885723Z",
     "iopub.status.busy": "2024-05-21T13:06:48.885332Z",
     "iopub.status.idle": "2024-05-21T13:06:48.901818Z",
     "shell.execute_reply": "2024-05-21T13:06:48.900199Z"
    },
    "papermill": {
     "duration": 0.024623,
     "end_time": "2024-05-21T13:06:48.904338",
     "exception": false,
     "start_time": "2024-05-21T13:06:48.879715",
     "status": "completed"
    },
    "tags": []
   },
   "outputs": [
    {
     "name": "stdout",
     "output_type": "stream",
     "text": [
      "Text with BiDi override: This is normal text with an override ‫مرحبا بالعالم!‮\n",
      "Is manipulated: False, Override count: 0, Other characters 53\n",
      "Text without BiDi override: This is just normal text\n",
      "Is manipulated: False, Override count: 0, Other characters 24\n"
     ]
    }
   ],
   "source": [
    "def is_bidi_manipulated(text):\n",
    "    \"\"\"\n",
    "    Checks if a text (assumed to be non-RTL) contains BiDi override characters,\n",
    "    potentially indicating manipulation.\n",
    "\n",
    "    Args:\n",
    "        text: The text to check.\n",
    "\n",
    "    Returns:\n",
    "        A tuple containing two elements:\n",
    "            - is_manipulated (bool): True if BiDi override characters are found, \n",
    "                                     False otherwise.\n",
    "            - override_count (int): The number of BiDi override characters found.\n",
    "    \"\"\"\n",
    "\n",
    "    # Define a set of BiDi override characters\n",
    "    bidi_overrides = {\n",
    "        chr(0x202A): \"LRE (Left-to-Right Embedding)\",\n",
    "        chr(0x202B): \"RLE (Right-to-Left Embedding)\",\n",
    "        chr(0x202C): \"PDF (Pop Directional Formatting)\",\n",
    "        chr(0x202D): \"LRO (Left-to-Right Override)\",\n",
    "        chr(0x202E): \"RLO (Right-to-Left Override)\",\n",
    "        chr(0x2066): \"LRI (Left-to-Right Isolate)\",\n",
    "        chr(0x2067): \"RLI (Right-to-Left Isolate)\",\n",
    "        chr(0x2069): \"PDI (Pop Directional Isolate)\"\n",
    "    }\n",
    "\n",
    "    # Check if the text is not empty and assumed to be non-RTL\n",
    "    if not text or has_right_to_left_letters(text):  \n",
    "        return False, 0\n",
    "\n",
    "    override_count = 0\n",
    "    for char in text:\n",
    "        if char in bidi_overrides:\n",
    "            override_count += 1\n",
    "\n",
    "    return override_count > 0, override_count\n",
    "\n",
    "# Example usage\n",
    "RLE = chr(0x202B)\n",
    "RLO = chr(0x202E)\n",
    "\n",
    "text_with_bidi = \"This is normal text with an override \" + RLE + \"مرحبا بالعالم!\" + RLO\n",
    "text_without_bidi = \"This is just normal text\"\n",
    "\n",
    "is_manipulated, count = is_bidi_manipulated(text_with_bidi)\n",
    "print(f\"Text with BiDi override: {text_with_bidi}\")\n",
    "print(f\"Is manipulated: {is_manipulated}, Override count: {count}, Other characters { len(text_with_bidi) - count}\")\n",
    "\n",
    "is_manipulated, count = is_bidi_manipulated(text_without_bidi)\n",
    "print(f\"Text without BiDi override: {text_without_bidi}\")\n",
    "print(f\"Is manipulated: {is_manipulated}, Override count: {count}, Other characters { len(text_without_bidi) - count}\")\n"
   ]
  },
  {
   "cell_type": "code",
   "execution_count": 4,
   "id": "108141bc",
   "metadata": {
    "execution": {
     "iopub.execute_input": "2024-05-21T13:06:48.914942Z",
     "iopub.status.busy": "2024-05-21T13:06:48.914555Z",
     "iopub.status.idle": "2024-05-21T13:07:02.902326Z",
     "shell.execute_reply": "2024-05-21T13:07:02.900639Z"
    },
    "papermill": {
     "duration": 13.996315,
     "end_time": "2024-05-21T13:07:02.905100",
     "exception": false,
     "start_time": "2024-05-21T13:06:48.908785",
     "status": "completed"
    },
    "tags": []
   },
   "outputs": [
    {
     "name": "stderr",
     "output_type": "stream",
     "text": [
      "100%|██████████| 1000/1000 [00:13<00:00, 73.28it/s]\n"
     ]
    },
    {
     "name": "stdout",
     "output_type": "stream",
     "text": [
      "Analysis completed! Results saved to bidi_analysis_results.csv\n"
     ]
    }
   ],
   "source": [
    "import matplotlib.pyplot as plt\n",
    "from tqdm import tqdm\n",
    "# Load the dataset\n",
    "data = pd.read_csv(\"/kaggle/input/bidi-reordered-dataset/bidi_reordered_attacked.csv\")\n",
    "\n",
    "# Initialize empty lists to store results\n",
    "texts, is_manipulated, override_counts, other_char_counts,is_rtl = [], [], [], [],[]\n",
    "\n",
    "# Analyze data using tqdm for progress bar\n",
    "for text in tqdm(data[\"Reordered Text\"]):\n",
    "    is_manipulated_flag, override_count = is_bidi_manipulated(text)\n",
    "    other_char_count = len(text) - override_count\n",
    "    texts.append(text)\n",
    "    is_manipulated.append(is_manipulated_flag)\n",
    "    override_counts.append(override_count)\n",
    "    other_char_counts.append(other_char_count)\n",
    "    is_rtl.append(has_right_to_left_letters(text))\n",
    "\n",
    "# Create DataFrame with results\n",
    "df = pd.DataFrame({\n",
    "  \"Text\": texts,\n",
    "  \"Is Manipulated\": is_manipulated,\n",
    "  \"Override Count\": override_counts,\n",
    "  \"Other Character Count\": other_char_counts,\n",
    "  \"Is RTL\": is_rtl\n",
    "})\n",
    "\n",
    "# Save DataFrame as CSV\n",
    "df.to_csv(\"bidi_analysis_results.csv\", index=False)\n",
    "\n",
    "print(\"Analysis completed! Results saved to bidi_analysis_results.csv\")"
   ]
  },
  {
   "cell_type": "code",
   "execution_count": 5,
   "id": "8cf667d1",
   "metadata": {
    "execution": {
     "iopub.execute_input": "2024-05-21T13:07:02.939548Z",
     "iopub.status.busy": "2024-05-21T13:07:02.939088Z",
     "iopub.status.idle": "2024-05-21T13:07:17.548628Z",
     "shell.execute_reply": "2024-05-21T13:07:17.547458Z"
    },
    "papermill": {
     "duration": 14.629835,
     "end_time": "2024-05-21T13:07:17.551266",
     "exception": false,
     "start_time": "2024-05-21T13:07:02.921431",
     "status": "completed"
    },
    "tags": []
   },
   "outputs": [
    {
     "name": "stderr",
     "output_type": "stream",
     "text": [
      "100%|██████████| 2000/2000 [00:14<00:00, 140.00it/s] \n"
     ]
    }
   ],
   "source": [
    "# Load datasets\n",
    "data_reordered = pd.read_csv(\"/kaggle/input/bidi-reordered-dataset/bidi_reordered_attacked.csv\")\n",
    "data_clean = pd.read_csv(\"/kaggle/input/watermarked-and-unwatermarked-text-truncated/data_trunk.csv\")\n",
    "\n",
    "# Filter data_clean for \"unwatermarked\" label\n",
    "data_clean = data_clean[data_clean[\"label\"] == \"unwatermarked\"]\n",
    "\n",
    "# Select only the desired column\n",
    "data_reordered = data_reordered[[\"Reordered Text\"]]\n",
    "data_clean = data_clean[[\"Generated Text\"]]\n",
    "\n",
    "# Rename column name\n",
    "data_reordered.rename(columns={\"Reordered Text\": \"text\"}, inplace = True)\n",
    "data_clean.rename(columns={\"Generated Text\": \"text\"}, inplace = True)\n",
    "\n",
    "# Assign label \"clean\"\n",
    "data_reordered[\"label\"] = \"reordered\"\n",
    "# Assign label \"clean\"\n",
    "data_clean[\"label\"] = \"clean\"\n",
    "# Combine datasets\n",
    "data = pd.concat([data_reordered, data_clean], ignore_index=True)\n",
    "\n",
    "# Initialize empty lists to store results\n",
    "texts, is_manipulated, override_counts, other_char_counts, is_rtl, labels, actual_labels = [], [], [], [], [], [],[]\n",
    "\n",
    "# Analyze data using tqdm for progress bar\n",
    "for text, label in tqdm(zip(data[\"text\"], data[\"label\"]), total=len(data)):\n",
    "    # Check for RTL language (replace with your is_right_to_left function\n",
    "    is_manipulated_flag, override_count = is_bidi_manipulated(text)\n",
    "    other_char_count = len(text) - override_count\n",
    "    classified_label = \"reordered\" if is_manipulated_flag else \"clean\"\n",
    "    texts.append(text)\n",
    "    is_manipulated.append(is_manipulated_flag)\n",
    "    override_counts.append(override_count)\n",
    "    other_char_counts.append(other_char_count)\n",
    "    is_rtl.append(has_right_to_left_letters(text))\n",
    "    actual_labels.append(label)\n",
    "    labels.append(classified_label)\n",
    "\n",
    "# Create DataFrame with results\n",
    "df = pd.DataFrame({\n",
    "  \"Text\": texts,\n",
    "  # Drop label column and replace with \"clean\" for data_clean\n",
    "  \"label\": labels,\n",
    "  \"Actual Label\": actual_labels,\n",
    "  \"Is Manipulated\": is_manipulated,\n",
    "  \"Override Count\": override_counts,\n",
    "  \"Other Character Count\": other_char_counts,\n",
    "  \"Is RTL\": is_rtl\n",
    "})\n",
    "\n",
    "# Save DataFrame as CSV\n",
    "df.to_csv(\"bidi_analysis_results.csv\", index=False)\n"
   ]
  },
  {
   "cell_type": "code",
   "execution_count": 6,
   "id": "7864c144",
   "metadata": {
    "execution": {
     "iopub.execute_input": "2024-05-21T13:07:17.610793Z",
     "iopub.status.busy": "2024-05-21T13:07:17.610382Z",
     "iopub.status.idle": "2024-05-21T13:07:19.406981Z",
     "shell.execute_reply": "2024-05-21T13:07:19.405678Z"
    },
    "papermill": {
     "duration": 1.829836,
     "end_time": "2024-05-21T13:07:19.409896",
     "exception": false,
     "start_time": "2024-05-21T13:07:17.580060",
     "status": "completed"
    },
    "tags": []
   },
   "outputs": [],
   "source": [
    "# Import libraries for evaluation metrics\n",
    "from sklearn.metrics import confusion_matrix\n",
    "from sklearn.metrics import accuracy_score\n",
    "from sklearn.metrics import f1_score\n",
    "from sklearn.metrics import precision_score\n",
    "from sklearn.metrics import recall_score\n",
    "import seaborn as sns\n",
    "import matplotlib.pyplot as plt\n"
   ]
  },
  {
   "cell_type": "code",
   "execution_count": 7,
   "id": "2e081b53",
   "metadata": {
    "execution": {
     "iopub.execute_input": "2024-05-21T13:07:19.471008Z",
     "iopub.status.busy": "2024-05-21T13:07:19.470593Z",
     "iopub.status.idle": "2024-05-21T13:07:19.989491Z",
     "shell.execute_reply": "2024-05-21T13:07:19.988348Z"
    },
    "papermill": {
     "duration": 0.552688,
     "end_time": "2024-05-21T13:07:19.992895",
     "exception": false,
     "start_time": "2024-05-21T13:07:19.440207",
     "status": "completed"
    },
    "tags": []
   },
   "outputs": [
    {
     "data": {
      "image/png": "[encoded data removed]",
      "text/plain": [
       "<Figure size 800x600 with 2 Axes>"
      ]
     },
     "metadata": {},
     "output_type": "display_data"
    },
    {
     "name": "stdout",
     "output_type": "stream",
     "text": [
      "\n",
      "Classification Metrics:\n",
      "Accuracy: 100.0000\n",
      "F1-score: 100.0000\n",
      "Precision: 100.0000\n",
      "Recall: 100.0000\n"
     ]
    }
   ],
   "source": [
    "def evaluate_classification(file_path):\n",
    "\n",
    "    # Evaluates a classification model using various metrics, reading data from a CSV file and creates a confusion matrix heatmap using seaborn.\n",
    "\n",
    "    # Read the CSV file assuming 'label' and 'actual_label' columns are present\n",
    "    df = pd.read_csv(file_path)\n",
    "\n",
    "    # Extract true labels (assuming 'actual_label' column)\n",
    "    y_true = df['Actual Label'].tolist()\n",
    "\n",
    "    # Extract predicted labels (assuming 'label' column)\n",
    "    y_pred = df['label'].tolist()\n",
    "\n",
    "    # Create the confusion matrix\n",
    "    cm = confusion_matrix(y_true, y_pred)\n",
    "\n",
    "    # Calculate accuracy\n",
    "    accuracy = accuracy_score(y_true, y_pred)\n",
    "\n",
    "    # Calculate F1-score\n",
    "    f1 = f1_score(y_true, y_pred, average='weighted')\n",
    "\n",
    "    # Calculate precision\n",
    "    precision = precision_score(y_true, y_pred, average='weighted')\n",
    "\n",
    "    # Calculate recall\n",
    "    recall = recall_score(y_true, y_pred, average='weighted')\n",
    "\n",
    "    # Define custom labels for the confusion matrix (modify for your labels)\n",
    "    class_labels = ['Clean', 'Reordered']  # Assuming these are your labels\n",
    "\n",
    "    # Create a confusion matrix heatmap using seaborn\n",
    "    plt.figure(figsize=(8, 6))\n",
    "    ax = sns.heatmap(cm, annot=True, cmap='Blues', fmt='d', annot_kws={'fontsize': 25})\n",
    "    ax.set_xlabel('Predicted Label')\n",
    "    ax.set_ylabel('True Label')\n",
    "    ax.set_title('Confusion Matrix')\n",
    "    plt.xticks([0.5, 1.5], class_labels)\n",
    "    plt.yticks([0.5, 1.5], class_labels)  \n",
    "    plt.tight_layout()\n",
    "    plt.show()\n",
    "\n",
    "    return cm, accuracy, f1, precision, recall\n",
    "\n",
    "# Specify the file path (assuming you're using Kaggle)\n",
    "file_path = \"/kaggle/working/bidi_analysis_results.csv\"\n",
    "\n",
    "# Evaluate the classification\n",
    "cm, accuracy, f1, precision, recall = evaluate_classification(file_path)\n",
    "\n",
    "# Print classification metrics (same as before)\n",
    "print(\"\\nClassification Metrics:\")\n",
    "print(f\"Accuracy: {accuracy * 100:.4f}\")\n",
    "print(f\"F1-score: {f1 * 100:.4f}\")\n",
    "print(f\"Precision: {precision * 100:.4f}\")\n",
    "print(f\"Recall: {recall * 100:.4f}\")\n"
   ]
  }
 ],
 "metadata": {
  "kaggle": {
   "accelerator": "none",
   "dataSources": [
    {
     "datasetId": 4961483,
     "sourceId": 8350798,
     "sourceType": "datasetVersion"
    },
    {
     "datasetId": 4779182,
     "sourceId": 8094561,
     "sourceType": "datasetVersion"
    }
   ],
   "dockerImageVersionId": 30698,
   "isGpuEnabled": false,
   "isInternetEnabled": true,
   "language": "python",
   "sourceType": "notebook"
  },
  "kernelspec": {
   "display_name": "Python 3",
   "language": "python",
   "name": "python3"
  },
  "language_info": {
   "codemirror_mode": {
    "name": "ipython",
    "version": 3
   },
   "file_extension": ".py",
   "mimetype": "text/x-python",
   "name": "python",
   "nbconvert_exporter": "python",
   "pygments_lexer": "ipython3",
   "version": "3.10.13"
  },
  "papermill": {
   "default_parameters": {},
   "duration": 35.932123,
   "end_time": "2024-05-21T13:07:20.645441",
   "environment_variables": {},
   "exception": null,
   "input_path": "__notebook__.ipynb",
   "output_path": "__notebook__.ipynb",
   "parameters": {},
   "start_time": "2024-05-21T13:06:44.713318",
   "version": "2.5.0"
  }
 },
 "nbformat": 4,
 "nbformat_minor": 5
}
