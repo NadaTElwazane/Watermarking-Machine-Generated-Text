{
 "cells": [
  {
   "cell_type": "code",
   "execution_count": 1,
   "id": "36726cbd",
   "metadata": {
    "_cell_guid": "b1076dfc-b9ad-4769-8c92-a6c4dae69d19",
    "_uuid": "8f2839f25d086af736a60e9eeb907d3b93b6e0e5",
    "execution": {
     "iopub.execute_input": "2024-04-20T19:19:59.428509Z",
     "iopub.status.busy": "2024-04-20T19:19:59.427636Z",
     "iopub.status.idle": "2024-04-20T19:20:00.177709Z",
     "shell.execute_reply": "2024-04-20T19:20:00.176726Z"
    },
    "papermill": {
     "duration": 0.756569,
     "end_time": "2024-04-20T19:20:00.180089",
     "exception": false,
     "start_time": "2024-04-20T19:19:59.423520",
     "status": "completed"
    },
    "tags": []
   },
   "outputs": [
    {
     "name": "stdout",
     "output_type": "stream",
     "text": [
      "/kaggle/input/paraphrasing-test-results/paraphrasing_test_results-part 1.csv\n",
      "/kaggle/input/paraphrasing-test-results/paraphrasing_test_results-part 3.csv\n",
      "/kaggle/input/paraphrasing-test-results/paraphrasing_test_results-part 2.csv\n"
     ]
    }
   ],
   "source": [
    "# This Python 3 environment comes with many helpful analytics libraries installed\n",
    "# It is defined by the kaggle/python Docker image: https://github.com/kaggle/docker-python\n",
    "# For example, here's several helpful packages to load\n",
    "\n",
    "import numpy as np # linear algebra\n",
    "import pandas as pd # data processing, CSV file I/O (e.g. pd.read_csv)\n",
    "\n",
    "# Input data files are available in the read-only \"../input/\" directory\n",
    "# For example, running this (by clicking run or pressing Shift+Enter) will list all files under the input directory\n",
    "\n",
    "import os\n",
    "for dirname, _, filenames in os.walk('/kaggle/input'):\n",
    "    for filename in filenames:\n",
    "        print(os.path.join(dirname, filename))\n",
    "\n",
    "# You can write up to 20GB to the current directory (/kaggle/working/) that gets preserved as output when you create a version using \"Save & Run All\" \n",
    "# You can also write temporary files to /kaggle/temp/, but they won't be saved outside of the current session"
   ]
  },
  {
   "cell_type": "code",
   "execution_count": 2,
   "id": "677e1ecc",
   "metadata": {
    "execution": {
     "iopub.execute_input": "2024-04-20T19:20:00.186302Z",
     "iopub.status.busy": "2024-04-20T19:20:00.185897Z",
     "iopub.status.idle": "2024-04-20T19:20:00.189939Z",
     "shell.execute_reply": "2024-04-20T19:20:00.189087Z"
    },
    "papermill": {
     "duration": 0.00956,
     "end_time": "2024-04-20T19:20:00.192135",
     "exception": false,
     "start_time": "2024-04-20T19:20:00.182575",
     "status": "completed"
    },
    "tags": []
   },
   "outputs": [],
   "source": [
    "import os"
   ]
  },
  {
   "cell_type": "code",
   "execution_count": 3,
   "id": "2e3a3ac4",
   "metadata": {
    "execution": {
     "iopub.execute_input": "2024-04-20T19:20:00.198229Z",
     "iopub.status.busy": "2024-04-20T19:20:00.197571Z",
     "iopub.status.idle": "2024-04-20T19:20:00.254713Z",
     "shell.execute_reply": "2024-04-20T19:20:00.253723Z"
    },
    "papermill": {
     "duration": 0.062619,
     "end_time": "2024-04-20T19:20:00.257181",
     "exception": false,
     "start_time": "2024-04-20T19:20:00.194562",
     "status": "completed"
    },
    "tags": []
   },
   "outputs": [
    {
     "name": "stdout",
     "output_type": "stream",
     "text": [
      "CSV files merged with label column!\n"
     ]
    }
   ],
   "source": [
    "import pandas as pd\n",
    "\n",
    "# Define file paths (replace with your actual paths)\n",
    "part1_file = \"/kaggle/input/paraphrasing-test-results/paraphrasing_test_results-part 1.csv\"\n",
    "part2_file = \"/kaggle/input/paraphrasing-test-results/paraphrasing_test_results-part 2.csv\"\n",
    "part3_file = \"/kaggle/input/paraphrasing-test-results/paraphrasing_test_results-part 3.csv\"\n",
    "\n",
    "# Read CSV files into DataFrames\n",
    "part1_df = pd.read_csv(part1_file)\n",
    "part2_df = pd.read_csv(part2_file)\n",
    "part3_df=pd.read_csv(part3_file)\n",
    "\n",
    "# Create label columns\n",
    "# watermarked_df['label'] = 'watermarked'\n",
    "# unwatermarked_df['label'] = 'unwatermarked'\n",
    "\n",
    "# Merge DataFrames (assuming compatible column structures)\n",
    "merged_df = pd.concat([part1_df, part2_df,part3_df])\n",
    "\n",
    "# Save the merged DataFrame to a new CSV file (optional)\n",
    "merged_df.to_csv(\"data.csv\", index=False)\n",
    "\n",
    "print(\"CSV files merged with label column!\")\n"
   ]
  }
 ],
 "metadata": {
  "kaggle": {
   "accelerator": "gpu",
   "dataSources": [
    {
     "datasetId": 4840859,
     "sourceId": 8177698,
     "sourceType": "datasetVersion"
    }
   ],
   "dockerImageVersionId": 30703,
   "isGpuEnabled": true,
   "isInternetEnabled": true,
   "language": "python",
   "sourceType": "notebook"
  },
  "kernelspec": {
   "display_name": "Python 3",
   "language": "python",
   "name": "python3"
  },
  "language_info": {
   "codemirror_mode": {
    "name": "ipython",
    "version": 3
   },
   "file_extension": ".py",
   "mimetype": "text/x-python",
   "name": "python",
   "nbconvert_exporter": "python",
   "pygments_lexer": "ipython3",
   "version": "3.10.13"
  },
  "papermill": {
   "default_parameters": {},
   "duration": 4.053687,
   "end_time": "2024-04-20T19:20:00.577820",
   "environment_variables": {},
   "exception": null,
   "input_path": "__notebook__.ipynb",
   "output_path": "__notebook__.ipynb",
   "parameters": {},
   "start_time": "2024-04-20T19:19:56.524133",
   "version": "2.5.0"
  }
 },
 "nbformat": 4,
 "nbformat_minor": 5
}
