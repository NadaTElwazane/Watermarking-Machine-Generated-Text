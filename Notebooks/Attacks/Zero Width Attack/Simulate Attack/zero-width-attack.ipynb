{
 "cells": [
  {
   "cell_type": "markdown",
   "id": "16513b5b",
   "metadata": {
    "papermill": {
     "duration": 0.004312,
     "end_time": "2024-04-27T19:01:24.524552",
     "exception": false,
     "start_time": "2024-04-27T19:01:24.520240",
     "status": "completed"
    },
    "tags": []
   },
   "source": [
    "# Zero-Width Insertion attack as described by:\n",
    "- J. Kirchenbauer, J. Geiping, Y. Wen, J. Katz, I. Miers, and T. Goldstein, “A Watermark for Large Language Models,” arXiv.org, Jun. 06, 2023. https://arxiv.org/abs/2301.10226 (accessed Apr. 27, 2024).\n",
    "- N. Boucher, I. Shumailov, R. Anderson, and N. Papernot, “Bad Characters: Imperceptible NLP Attacks,” arXiv.org, Dec. 10, 2021. https://arxiv.org/abs/2106.09898 (accessed Apr. 27, 2024)."
   ]
  },
  {
   "cell_type": "code",
   "execution_count": 1,
   "id": "06f671cf",
   "metadata": {
    "_cell_guid": "b1076dfc-b9ad-4769-8c92-a6c4dae69d19",
    "_uuid": "8f2839f25d086af736a60e9eeb907d3b93b6e0e5",
    "execution": {
     "iopub.execute_input": "2024-04-27T19:01:24.534566Z",
     "iopub.status.busy": "2024-04-27T19:01:24.534184Z",
     "iopub.status.idle": "2024-04-27T19:01:25.542126Z",
     "shell.execute_reply": "2024-04-27T19:01:25.540616Z"
    },
    "papermill": {
     "duration": 1.016345,
     "end_time": "2024-04-27T19:01:25.545135",
     "exception": false,
     "start_time": "2024-04-27T19:01:24.528790",
     "status": "completed"
    },
    "tags": []
   },
   "outputs": [
    {
     "name": "stdout",
     "output_type": "stream",
     "text": [
      "/kaggle/input/watermarked-and-unwatermarked-text-truncated/data_trunk.csv\n"
     ]
    }
   ],
   "source": [
    "# This Python 3 environment comes with many helpful analytics libraries installed\n",
    "# It is defined by the kaggle/python Docker image: https://github.com/kaggle/docker-python\n",
    "# For example, here's several helpful packages to load\n",
    "\n",
    "import numpy as np # linear algebra\n",
    "import pandas as pd # data processing, CSV file I/O (e.g. pd.read_csv)\n",
    "\n",
    "# Input data files are available in the read-only \"../input/\" directory\n",
    "# For example, running this (by clicking run or pressing Shift+Enter) will list all files under the input directory\n",
    "\n",
    "import os\n",
    "for dirname, _, filenames in os.walk('/kaggle/input'):\n",
    "    for filename in filenames:\n",
    "        print(os.path.join(dirname, filename))\n",
    "\n",
    "# You can write up to 20GB to the current directory (/kaggle/working/) that gets preserved as output when you create a version using \"Save & Run All\" \n",
    "# You can also write temporary files to /kaggle/temp/, but they won't be saved outside of the current session"
   ]
  },
  {
   "cell_type": "code",
   "execution_count": 2,
   "id": "d32ab147",
   "metadata": {
    "execution": {
     "iopub.execute_input": "2024-04-27T19:01:25.555384Z",
     "iopub.status.busy": "2024-04-27T19:01:25.554882Z",
     "iopub.status.idle": "2024-04-27T19:01:29.477176Z",
     "shell.execute_reply": "2024-04-27T19:01:29.475911Z"
    },
    "papermill": {
     "duration": 3.93078,
     "end_time": "2024-04-27T19:01:29.480044",
     "exception": false,
     "start_time": "2024-04-27T19:01:25.549264",
     "status": "completed"
    },
    "tags": []
   },
   "outputs": [],
   "source": [
    "import json\n",
    "\n",
    "import torch\n",
    "import torch.nn.functional as F\n",
    "\n",
    "from tqdm import tqdm\n",
    "\n",
    "import numpy as np\n"
   ]
  },
  {
   "cell_type": "code",
   "execution_count": 3,
   "id": "f7d172cb",
   "metadata": {
    "execution": {
     "iopub.execute_input": "2024-04-27T19:01:29.489944Z",
     "iopub.status.busy": "2024-04-27T19:01:29.489408Z",
     "iopub.status.idle": "2024-04-27T19:01:29.494928Z",
     "shell.execute_reply": "2024-04-27T19:01:29.493751Z"
    },
    "papermill": {
     "duration": 0.013211,
     "end_time": "2024-04-27T19:01:29.497410",
     "exception": false,
     "start_time": "2024-04-27T19:01:29.484199",
     "status": "completed"
    },
    "tags": []
   },
   "outputs": [],
   "source": [
    "# Zero width space\n",
    "ZWSP = chr(0x200B)\n",
    "# Zero width joiner\n",
    "ZWJ = chr(0x200D)\n",
    "# Zero width non-joiner\n",
    "ZWNJ = chr(0x200C)"
   ]
  },
  {
   "cell_type": "code",
   "execution_count": 4,
   "id": "12542fc2",
   "metadata": {
    "execution": {
     "iopub.execute_input": "2024-04-27T19:01:29.506974Z",
     "iopub.status.busy": "2024-04-27T19:01:29.506575Z",
     "iopub.status.idle": "2024-04-27T19:01:29.514678Z",
     "shell.execute_reply": "2024-04-27T19:01:29.513554Z"
    },
    "papermill": {
     "duration": 0.01569,
     "end_time": "2024-04-27T19:01:29.517083",
     "exception": false,
     "start_time": "2024-04-27T19:01:29.501393",
     "status": "completed"
    },
    "tags": []
   },
   "outputs": [],
   "source": [
    "def inject_invisible_chars(text, invisible_chars=[ZWJ,ZWSP,ZWNJ], max_insertions=25):\n",
    "    \"\"\"\n",
    "    Injects invisible characters into the text at random positions.\n",
    "\n",
    "    Args:\n",
    "      text: The original text to modify.\n",
    "      invisible_chars: A list of Unicode characters with minimal visual presence.\n",
    "      max_insertions: The maximum number of invisible characters to inject.\n",
    "\n",
    "    Returns:\n",
    "      A new string with invisible characters inserted at random positions.\n",
    "    \"\"\"\n",
    "    import random\n",
    "\n",
    "    candidate = list(text)  # Convert text to character list for modification\n",
    "    for _ in range(max_insertions):\n",
    "        # Choose a random invisible character\n",
    "        invisible_char = random.choice(invisible_chars)\n",
    "        # Choose a random insertion point within the text (avoiding the very end)\n",
    "        insertion_point = random.randint(0, len(candidate) - 1)\n",
    "        candidate.insert(insertion_point, invisible_char)\n",
    "    return ''.join(candidate)\n",
    "# original_text = \"This is a sample text.\"\n",
    "# max_insertions = 80\n",
    "\n",
    "# modified_text = inject_invisible_chars(original_text, max_insertions=max_insertions)\n",
    "\n",
    "# print(\"Original Text:\", original_text)\n",
    "# print(\"Modified Text:\", modified_text)"
   ]
  },
  {
   "cell_type": "code",
   "execution_count": 5,
   "id": "47443de3",
   "metadata": {
    "execution": {
     "iopub.execute_input": "2024-04-27T19:01:29.526899Z",
     "iopub.status.busy": "2024-04-27T19:01:29.526485Z",
     "iopub.status.idle": "2024-04-27T19:01:29.533220Z",
     "shell.execute_reply": "2024-04-27T19:01:29.532377Z"
    },
    "papermill": {
     "duration": 0.014138,
     "end_time": "2024-04-27T19:01:29.535402",
     "exception": false,
     "start_time": "2024-04-27T19:01:29.521264",
     "status": "completed"
    },
    "tags": []
   },
   "outputs": [],
   "source": [
    "def find_invisible_chars(text):\n",
    "    \"\"\"\n",
    "    Finds the positions of invisible characters in the text.\n",
    "\n",
    "    Args:\n",
    "      text: The text to check for invisible characters.\n",
    "\n",
    "    Returns:\n",
    "      A list of indices where invisible characters are found.\n",
    "    \"\"\"\n",
    "    invisible_chars = [ZWSP, ZWJ, ZWNJ]\n",
    "    invisible_positions = []\n",
    "    for i, char in enumerate(text):\n",
    "        if char in invisible_chars:\n",
    "            invisible_positions.append(i)\n",
    "    return invisible_positions\n",
    "\n",
    "# text = f\"This is a sample text with {ZWSP} an{ZWJ}s invisible {ZWNJ} character.\"\n",
    "# invisible_positions = find_invisible_chars(text)\n",
    "\n",
    "# if invisible_positions:\n",
    "#     print(\"Invisible characters found at positions:\", invisible_positions)\n",
    "# else:\n",
    "#     print(\"No invisible characters found in the text.\")\n"
   ]
  },
  {
   "cell_type": "code",
   "execution_count": 6,
   "id": "911fb6a2",
   "metadata": {
    "execution": {
     "iopub.execute_input": "2024-04-27T19:01:29.545708Z",
     "iopub.status.busy": "2024-04-27T19:01:29.544482Z",
     "iopub.status.idle": "2024-04-27T19:01:29.968159Z",
     "shell.execute_reply": "2024-04-27T19:01:29.966013Z"
    },
    "papermill": {
     "duration": 0.431642,
     "end_time": "2024-04-27T19:01:29.970961",
     "exception": false,
     "start_time": "2024-04-27T19:01:29.539319",
     "status": "completed"
    },
    "tags": []
   },
   "outputs": [
    {
     "name": "stderr",
     "output_type": "stream",
     "text": [
      "100%|██████████| 1000/1000 [00:00<00:00, 3418.94it/s]\n"
     ]
    },
    {
     "name": "stdout",
     "output_type": "stream",
     "text": [
      "Attack complete! attacked data saved to attacked_text.csv\n"
     ]
    }
   ],
   "source": [
    "# Read data from CSV\n",
    "data = pd.read_csv(\"/kaggle/input/watermarked-and-unwatermarked-text-truncated/data_trunk.csv\")\n",
    "# print(data)\n",
    "\n",
    "# Filter for watermarked \"Generated text\" with a limit of 1000 rows\n",
    "filtered_data = data[data[\"label\"] == \"watermarked\"][[\"Generated Text\"]]\n",
    "# Initialize empty list to store paraphrased text\n",
    "attacked_text = []\n",
    "\n",
    "# Loop through the data using tqdm for progress bar\n",
    "for text in tqdm(filtered_data[\"Generated Text\"].tolist()):\n",
    "    # Perform round-trip translation and append to list\n",
    "    max_insertions = len(text)//5\n",
    "#     print(max_insertions)\n",
    "    modified = inject_invisible_chars(text, max_insertions=max_insertions)\n",
    "#     print(modified)\n",
    "    attacked_text.append(modified)\n",
    "\n",
    "# Create a new dataframe with original and paraphrased text\n",
    "df = pd.DataFrame({\"Original Text\": filtered_data[\"Generated Text\"], \"Attacked Text\": attacked_text})\n",
    "\n",
    "# Save dataframe as CSV file\n",
    "df.to_csv(\"attacked_text.csv\", index=False)\n",
    "\n",
    "print(\"Attack complete! attacked data saved to attacked_text.csv\")"
   ]
  },
  {
   "cell_type": "code",
   "execution_count": 7,
   "id": "e70fdfa3",
   "metadata": {
    "execution": {
     "iopub.execute_input": "2024-04-27T19:01:29.982092Z",
     "iopub.status.busy": "2024-04-27T19:01:29.981679Z",
     "iopub.status.idle": "2024-04-27T19:01:30.018367Z",
     "shell.execute_reply": "2024-04-27T19:01:30.016839Z"
    },
    "papermill": {
     "duration": 0.045993,
     "end_time": "2024-04-27T19:01:30.021544",
     "exception": false,
     "start_time": "2024-04-27T19:01:29.975551",
     "status": "completed"
    },
    "tags": []
   },
   "outputs": [
    {
     "name": "stdout",
     "output_type": "stream",
     "text": [
      "So‍m​e c‍om‌pan‍ies fail​ed to p‌ay t‌heir wo‍rkers during the lo‌‌c‌kdown​ period. It ‍also became clear‌ t​hat many jobs were no‍t‌ ​safe to exp​ec‍t‍. RBS‌ w‍a​s part​ o‌f‌ th​‍is‌.\n",
      "D‍r. ​​Jonas Geinas:\n",
      "Speaking to R​‍int​a,‍ based ‍on data​‍‌ from its ING‍O website,​ ‌it i​s har​d‍‍‌​ ​t‌o ​bel‌ieve that their #OS‍HA meeting‌ o‍n T‍ue‍sday, 17‌th Jun‌e turned out to imp​ress many‌ ​​industria‌li​sts who would‍ have ‌b​e‌en wise to do the ‌s‍ame a‌nd p​ut​ out‍ an\n",
      "Invisible characters found at positions: [2, 4, 8, 11, 15, 24, 32, 37, 45, 65, 66, 68, 74, 87, 105, 108, 130, 132, 134, 146, 149, 151, 157, 160, 162, 169, 172, 174, 178, 179, 182, 186, 190, 191, 219, 220, 224, 227, 235, 243, 244, 245, 259, 270, 272, 277, 283, 285, 286, 287, 288, 290, 292, 295, 299, 319, 330, 333, 337, 340, 349, 356, 376, 386, 388, 389, 399, 402, 416, 423, 425, 427, 446, 448, 454, 459, 462, 467]\n"
     ]
    }
   ],
   "source": [
    "# Read data from CSV\n",
    "data = pd.read_csv(\"/kaggle/working/attacked_text.csv\")\n",
    "text = data[\"Attacked Text\"].tolist()[0]\n",
    "print(text)\n",
    "invisible_positions = find_invisible_chars(text)\n",
    "\n",
    "if invisible_positions:\n",
    "    print(\"Invisible characters found at positions:\", invisible_positions)\n",
    "else:\n",
    "    print(\"No invisible characters found in the text.\")\n"
   ]
  }
 ],
 "metadata": {
  "kaggle": {
   "accelerator": "none",
   "dataSources": [
    {
     "datasetId": 4779182,
     "sourceId": 8094561,
     "sourceType": "datasetVersion"
    }
   ],
   "dockerImageVersionId": 30698,
   "isGpuEnabled": false,
   "isInternetEnabled": true,
   "language": "python",
   "sourceType": "notebook"
  },
  "kernelspec": {
   "display_name": "Python 3",
   "language": "python",
   "name": "python3"
  },
  "language_info": {
   "codemirror_mode": {
    "name": "ipython",
    "version": 3
   },
   "file_extension": ".py",
   "mimetype": "text/x-python",
   "name": "python",
   "nbconvert_exporter": "python",
   "pygments_lexer": "ipython3",
   "version": "3.10.13"
  },
  "papermill": {
   "default_parameters": {},
   "duration": 9.50425,
   "end_time": "2024-04-27T19:01:30.950770",
   "environment_variables": {},
   "exception": null,
   "input_path": "__notebook__.ipynb",
   "output_path": "__notebook__.ipynb",
   "parameters": {},
   "start_time": "2024-04-27T19:01:21.446520",
   "version": "2.5.0"
  }
 },
 "nbformat": 4,
 "nbformat_minor": 5
}
