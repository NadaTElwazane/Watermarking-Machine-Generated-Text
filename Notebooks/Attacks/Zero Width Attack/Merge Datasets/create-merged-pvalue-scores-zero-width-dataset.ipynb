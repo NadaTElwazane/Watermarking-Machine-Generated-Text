{
 "cells": [
  {
   "cell_type": "code",
   "execution_count": 1,
   "id": "a71ad5d7",
   "metadata": {
    "_cell_guid": "b1076dfc-b9ad-4769-8c92-a6c4dae69d19",
    "_uuid": "8f2839f25d086af736a60e9eeb907d3b93b6e0e5",
    "execution": {
     "iopub.execute_input": "2024-04-27T18:46:28.164863Z",
     "iopub.status.busy": "2024-04-27T18:46:28.163764Z",
     "iopub.status.idle": "2024-04-27T18:46:29.066514Z",
     "shell.execute_reply": "2024-04-27T18:46:29.064844Z"
    },
    "papermill": {
     "duration": 0.910166,
     "end_time": "2024-04-27T18:46:29.069917",
     "exception": false,
     "start_time": "2024-04-27T18:46:28.159751",
     "status": "completed"
    },
    "tags": []
   },
   "outputs": [
    {
     "name": "stdout",
     "output_type": "stream",
     "text": [
      "/kaggle/input/zero-width-attack-p-values/p-value-label-part-2.csv\n",
      "/kaggle/input/zero-width-attack-p-values/p-value-label-part-1.csv\n",
      "/kaggle/input/zero-width-attack-p-values/p-value-label-part-3.csv\n"
     ]
    }
   ],
   "source": [
    "# This Python 3 environment comes with many helpful analytics libraries installed\n",
    "# It is defined by the kaggle/python Docker image: https://github.com/kaggle/docker-python\n",
    "# For example, here's several helpful packages to load\n",
    "\n",
    "import numpy as np # linear algebra\n",
    "import pandas as pd # data processing, CSV file I/O (e.g. pd.read_csv)\n",
    "\n",
    "# Input data files are available in the read-only \"../input/\" directory\n",
    "# For example, running this (by clicking run or pressing Shift+Enter) will list all files under the input directory\n",
    "\n",
    "import os\n",
    "for dirname, _, filenames in os.walk('/kaggle/input'):\n",
    "    for filename in filenames:\n",
    "        print(os.path.join(dirname, filename))\n",
    "\n",
    "# You can write up to 20GB to the current directory (/kaggle/working/) that gets preserved as output when you create a version using \"Save & Run All\" \n",
    "# You can also write temporary files to /kaggle/temp/, but they won't be saved outside of the current session"
   ]
  },
  {
   "cell_type": "code",
   "execution_count": 2,
   "id": "abab9c43",
   "metadata": {
    "execution": {
     "iopub.execute_input": "2024-04-27T18:46:29.076375Z",
     "iopub.status.busy": "2024-04-27T18:46:29.075896Z",
     "iopub.status.idle": "2024-04-27T18:46:29.117972Z",
     "shell.execute_reply": "2024-04-27T18:46:29.116791Z"
    },
    "papermill": {
     "duration": 0.048137,
     "end_time": "2024-04-27T18:46:29.120389",
     "exception": false,
     "start_time": "2024-04-27T18:46:29.072252",
     "status": "completed"
    },
    "tags": []
   },
   "outputs": [
    {
     "name": "stdout",
     "output_type": "stream",
     "text": [
      "CSV files merged successfully!\n"
     ]
    }
   ],
   "source": [
    "import pandas as pd\n",
    "\n",
    "# Define the file paths\n",
    "file1 = \"/kaggle/input/zero-width-attack-p-values/p-value-label-part-1.csv\"\n",
    "file2 = \"/kaggle/input/zero-width-attack-p-values/p-value-label-part-2.csv\"\n",
    "file3 = \"/kaggle/input/zero-width-attack-p-values/p-value-label-part-3.csv\"\n",
    "\n",
    "# Read the CSV files into DataFrames\n",
    "df1 = pd.read_csv(file1)\n",
    "df2 = pd.read_csv(file2)\n",
    "df3 = pd.read_csv(file3)\n",
    "\n",
    "# Concatenate the DataFrames\n",
    "merged_df = pd.concat([df1, df2, df3])\n",
    "\n",
    "# Optionally, specify how to handle potential index conflicts\n",
    "# merged_df = pd.concat([df1, df2, df3], ignore_index=True)  # Reset index for continuous numbering\n",
    "\n",
    "# Save the merged DataFrame to a new CSV file\n",
    "merged_df.to_csv(\"p-values zero-width attack.csv\", index=False)\n",
    "\n",
    "print(\"CSV files merged successfully!\")\n"
   ]
  }
 ],
 "metadata": {
  "kaggle": {
   "accelerator": "none",
   "dataSources": [
    {
     "datasetId": 4893227,
     "sourceId": 8247466,
     "sourceType": "datasetVersion"
    }
   ],
   "dockerImageVersionId": 30698,
   "isGpuEnabled": false,
   "isInternetEnabled": true,
   "language": "python",
   "sourceType": "notebook"
  },
  "kernelspec": {
   "display_name": "Python 3",
   "language": "python",
   "name": "python3"
  },
  "language_info": {
   "codemirror_mode": {
    "name": "ipython",
    "version": 3
   },
   "file_extension": ".py",
   "mimetype": "text/x-python",
   "name": "python",
   "nbconvert_exporter": "python",
   "pygments_lexer": "ipython3",
   "version": "3.10.13"
  },
  "papermill": {
   "default_parameters": {},
   "duration": 4.325007,
   "end_time": "2024-04-27T18:46:29.542476",
   "environment_variables": {},
   "exception": null,
   "input_path": "__notebook__.ipynb",
   "output_path": "__notebook__.ipynb",
   "parameters": {},
   "start_time": "2024-04-27T18:46:25.217469",
   "version": "2.5.0"
  }
 },
 "nbformat": 4,
 "nbformat_minor": 5
}
