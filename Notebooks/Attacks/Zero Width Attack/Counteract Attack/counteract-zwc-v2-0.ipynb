{
 "cells": [
  {
   "cell_type": "code",
   "execution_count": 1,
   "id": "fc0083bd",
   "metadata": {
    "_cell_guid": "b1076dfc-b9ad-4769-8c92-a6c4dae69d19",
    "_uuid": "8f2839f25d086af736a60e9eeb907d3b93b6e0e5",
    "execution": {
     "iopub.execute_input": "2024-06-15T14:35:42.455795Z",
     "iopub.status.busy": "2024-06-15T14:35:42.455238Z",
     "iopub.status.idle": "2024-06-15T14:35:43.627413Z",
     "shell.execute_reply": "2024-06-15T14:35:43.625910Z"
    },
    "papermill": {
     "duration": 1.18218,
     "end_time": "2024-06-15T14:35:43.630680",
     "exception": false,
     "start_time": "2024-06-15T14:35:42.448500",
     "status": "completed"
    },
    "tags": []
   },
   "outputs": [
    {
     "name": "stdout",
     "output_type": "stream",
     "text": [
      "/kaggle/input/zero-width-attack/__results__.html\n",
      "/kaggle/input/zero-width-attack/__notebook__.ipynb\n",
      "/kaggle/input/zero-width-attack/__output__.json\n",
      "/kaggle/input/zero-width-attack/attacked_text.csv\n",
      "/kaggle/input/zero-width-attack/custom.css\n"
     ]
    }
   ],
   "source": [
    "# This Python 3 environment comes with many helpful analytics libraries installed\n",
    "# It is defined by the kaggle/python Docker image: https://github.com/kaggle/docker-python\n",
    "# For example, here's several helpful packages to load\n",
    "\n",
    "import numpy as np # linear algebra\n",
    "import pandas as pd # data processing, CSV file I/O (e.g. pd.read_csv)\n",
    "\n",
    "# Input data files are available in the read-only \"../input/\" directory\n",
    "# For example, running this (by clicking run or pressing Shift+Enter) will list all files under the input directory\n",
    "\n",
    "import os\n",
    "for dirname, _, filenames in os.walk('/kaggle/input'):\n",
    "    for filename in filenames:\n",
    "        print(os.path.join(dirname, filename))\n",
    "\n",
    "# You can write up to 20GB to the current directory (/kaggle/working/) that gets preserved as output when you create a version using \"Save & Run All\" \n",
    "# You can also write temporary files to /kaggle/temp/, but they won't be saved outside of the current session"
   ]
  },
  {
   "cell_type": "code",
   "execution_count": 2,
   "id": "5da47fd6",
   "metadata": {
    "execution": {
     "iopub.execute_input": "2024-06-15T14:35:43.641599Z",
     "iopub.status.busy": "2024-06-15T14:35:43.640983Z",
     "iopub.status.idle": "2024-06-15T14:35:47.878055Z",
     "shell.execute_reply": "2024-06-15T14:35:47.876572Z"
    },
    "papermill": {
     "duration": 4.246152,
     "end_time": "2024-06-15T14:35:47.881333",
     "exception": false,
     "start_time": "2024-06-15T14:35:43.635181",
     "status": "completed"
    },
    "tags": []
   },
   "outputs": [],
   "source": [
    "import json\n",
    "\n",
    "import torch\n",
    "import torch.nn.functional as F\n",
    "\n",
    "from tqdm import tqdm"
   ]
  },
  {
   "cell_type": "code",
   "execution_count": 3,
   "id": "281176ea",
   "metadata": {
    "execution": {
     "iopub.execute_input": "2024-06-15T14:35:47.891567Z",
     "iopub.status.busy": "2024-06-15T14:35:47.891004Z",
     "iopub.status.idle": "2024-06-15T14:35:47.898715Z",
     "shell.execute_reply": "2024-06-15T14:35:47.897205Z"
    },
    "papermill": {
     "duration": 0.01638,
     "end_time": "2024-06-15T14:35:47.901885",
     "exception": false,
     "start_time": "2024-06-15T14:35:47.885505",
     "status": "completed"
    },
    "tags": []
   },
   "outputs": [],
   "source": [
    "# Zero width space\n",
    "ZWSP = chr(0x200B)\n",
    "# Zero width joiner\n",
    "ZWJ = chr(0x200D)\n",
    "# Zero width non-joiner\n",
    "ZWNJ = chr(0x200C)\n",
    "# Zero width word joiner\n",
    "ZWWJ = chr(0x2060)\n",
    "# Zero width no-break space\n",
    "ZWNBSP = chr(0xFEFF)"
   ]
  },
  {
   "cell_type": "code",
   "execution_count": 4,
   "id": "fd5fabfa",
   "metadata": {
    "execution": {
     "iopub.execute_input": "2024-06-15T14:35:47.913224Z",
     "iopub.status.busy": "2024-06-15T14:35:47.911601Z",
     "iopub.status.idle": "2024-06-15T14:35:47.920805Z",
     "shell.execute_reply": "2024-06-15T14:35:47.919239Z"
    },
    "papermill": {
     "duration": 0.017744,
     "end_time": "2024-06-15T14:35:47.923762",
     "exception": false,
     "start_time": "2024-06-15T14:35:47.906018",
     "status": "completed"
    },
    "tags": []
   },
   "outputs": [],
   "source": [
    "def find_invisible_chars(text):\n",
    "    \"\"\"\n",
    "    Finds the positions of invisible characters in the text.\n",
    "\n",
    "    Args:\n",
    "      text: The text to check for invisible characters.\n",
    "\n",
    "    Returns:\n",
    "      A list of indices where invisible characters are found.\n",
    "    \"\"\"\n",
    "    invisible_chars = [ZWSP, ZWJ, ZWNJ, ZWWJ, ZWNBSP]\n",
    "    invisible_positions = []\n",
    "    for i, char in enumerate(text):\n",
    "        if char in invisible_chars:\n",
    "            invisible_positions.append(i)\n",
    "    return invisible_positions\n",
    "\n",
    "# text = f\"This is a sample text with {ZWSP} an{ZWJ}s invisible {ZWNJ} character.\"\n",
    "# invisible_positions = find_invisible_chars(text)\n",
    "\n",
    "# if invisible_positions:\n",
    "#     print(\"Invisible characters found at positions:\", invisible_positions)\n",
    "# else:\n",
    "#     print(\"No invisible characters found in the text.\")\n"
   ]
  },
  {
   "cell_type": "code",
   "execution_count": 5,
   "id": "1da11f32",
   "metadata": {
    "execution": {
     "iopub.execute_input": "2024-06-15T14:35:47.933793Z",
     "iopub.status.busy": "2024-06-15T14:35:47.933232Z",
     "iopub.status.idle": "2024-06-15T14:35:47.944150Z",
     "shell.execute_reply": "2024-06-15T14:35:47.942761Z"
    },
    "papermill": {
     "duration": 0.019352,
     "end_time": "2024-06-15T14:35:47.947045",
     "exception": false,
     "start_time": "2024-06-15T14:35:47.927693",
     "status": "completed"
    },
    "tags": []
   },
   "outputs": [
    {
     "name": "stdout",
     "output_type": "stream",
     "text": [
      "Invisible characters found at positions: [27, 31, 44]\n",
      "Removing Invisible Characters...\n",
      "No invisible characters found in the text.\n"
     ]
    }
   ],
   "source": [
    "def replace_invisible_chars(text):\n",
    "    \"\"\"\n",
    "    Finds the positions of invisible characters in the text and replaces them.\n",
    "\n",
    "    Args:\n",
    "      text: The text to check for invisible characters.\n",
    "\n",
    "    Returns:\n",
    "      A list of indices where invisible characters are found.\n",
    "    \"\"\"\n",
    "    invisible_chars = [ZWSP, ZWJ, ZWNJ, ZWWJ, ZWNBSP]\n",
    "    cleaned_text = text\n",
    "    for char in invisible_chars:\n",
    "        # Create a new string with replacements\n",
    "        cleaned_text = cleaned_text.replace(char, \"\")\n",
    "    return cleaned_text\n",
    "\n",
    "text = f\"This is a sample text with {ZWSP} an{ZWJ}s invisible {ZWNJ} character.\"\n",
    "invisible_positions = find_invisible_chars(text)\n",
    "\n",
    "if invisible_positions:\n",
    "    print(\"Invisible characters found at positions:\", invisible_positions)\n",
    "else:\n",
    "    print(\"No invisible characters found in the text.\")\n",
    "print(\"Removing Invisible Characters...\")\n",
    "altered_text = replace_invisible_chars(text)\n",
    "invisible_positions = find_invisible_chars(altered_text)\n",
    "\n",
    "if invisible_positions:\n",
    "    print(\"Invisible characters found at positions:\", invisible_positions)\n",
    "else:\n",
    "    print(\"No invisible characters found in the text.\")\n"
   ]
  },
  {
   "cell_type": "code",
   "execution_count": null,
   "id": "5fec329c",
   "metadata": {
    "papermill": {
     "duration": 0.003892,
     "end_time": "2024-06-15T14:35:47.954760",
     "exception": false,
     "start_time": "2024-06-15T14:35:47.950868",
     "status": "completed"
    },
    "tags": []
   },
   "outputs": [],
   "source": []
  },
  {
   "cell_type": "code",
   "execution_count": 6,
   "id": "e9d58ff4",
   "metadata": {
    "execution": {
     "iopub.execute_input": "2024-06-15T14:35:47.964709Z",
     "iopub.status.busy": "2024-06-15T14:35:47.964192Z",
     "iopub.status.idle": "2024-06-15T14:35:48.118436Z",
     "shell.execute_reply": "2024-06-15T14:35:48.116156Z"
    },
    "papermill": {
     "duration": 0.164074,
     "end_time": "2024-06-15T14:35:48.122698",
     "exception": false,
     "start_time": "2024-06-15T14:35:47.958624",
     "status": "completed"
    },
    "tags": []
   },
   "outputs": [
    {
     "name": "stderr",
     "output_type": "stream",
     "text": [
      "100%|██████████| 1000/1000 [00:00<00:00, 75727.23it/s]"
     ]
    },
    {
     "name": "stdout",
     "output_type": "stream",
     "text": [
      "Recovering original data complete! Original data saved to recovered_ZW_data.csv\n"
     ]
    },
    {
     "name": "stderr",
     "output_type": "stream",
     "text": [
      "\n"
     ]
    }
   ],
   "source": [
    "# Read data from CSV\n",
    "data = pd.read_csv(\"/kaggle/input/zero-width-attack/attacked_text.csv\")\n",
    "# print(data)\n",
    "\n",
    "# Initialize empty list to store recovered text\n",
    "Counteract_ZW_text = []\n",
    "\n",
    "# Loop through the data using tqdm for progress bar\n",
    "for text in tqdm(data[\"Attacked Text\"].tolist()):\n",
    "    # Perform replace_invisible_chars and append to list\n",
    "    counteract = replace_invisible_chars(text)\n",
    "    Counteract_ZW_text.append(counteract)\n",
    "\n",
    "# Create a new dataframe with original and recovered text\n",
    "df = pd.DataFrame({\"Original Text\": data[\"Original Text\"], \"Recovered Text\": Counteract_ZW_text})\n",
    "\n",
    "# Save dataframe as CSV file\n",
    "df.to_csv(\"recovered_ZW_data.csv\", index=False)\n",
    "\n",
    "print(\"Recovering original data complete! Original data saved to recovered_ZW_data.csv\")"
   ]
  }
 ],
 "metadata": {
  "kaggle": {
   "accelerator": "none",
   "dataSources": [
    {
     "datasetId": 4897502,
     "sourceId": 8253362,
     "sourceType": "datasetVersion"
    },
    {
     "sourceId": 174342869,
     "sourceType": "kernelVersion"
    }
   ],
   "dockerImageVersionId": 30732,
   "isGpuEnabled": false,
   "isInternetEnabled": true,
   "language": "python",
   "sourceType": "notebook"
  },
  "kernelspec": {
   "display_name": "Python 3",
   "language": "python",
   "name": "python3"
  },
  "language_info": {
   "codemirror_mode": {
    "name": "ipython",
    "version": 3
   },
   "file_extension": ".py",
   "mimetype": "text/x-python",
   "name": "python",
   "nbconvert_exporter": "python",
   "pygments_lexer": "ipython3",
   "version": "3.10.13"
  },
  "papermill": {
   "default_parameters": {},
   "duration": 10.298479,
   "end_time": "2024-06-15T14:35:49.253884",
   "environment_variables": {},
   "exception": null,
   "input_path": "__notebook__.ipynb",
   "output_path": "__notebook__.ipynb",
   "parameters": {},
   "start_time": "2024-06-15T14:35:38.955405",
   "version": "2.5.0"
  }
 },
 "nbformat": 4,
 "nbformat_minor": 5
}
