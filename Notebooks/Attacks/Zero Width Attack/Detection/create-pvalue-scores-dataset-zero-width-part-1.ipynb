{
 "cells": [
  {
   "cell_type": "code",
   "execution_count": 1,
   "id": "6b8f174b",
   "metadata": {
    "_cell_guid": "b1076dfc-b9ad-4769-8c92-a6c4dae69d19",
    "_uuid": "8f2839f25d086af736a60e9eeb907d3b93b6e0e5",
    "execution": {
     "iopub.execute_input": "2024-04-26T18:04:41.496716Z",
     "iopub.status.busy": "2024-04-26T18:04:41.496341Z",
     "iopub.status.idle": "2024-04-26T18:04:42.218644Z",
     "shell.execute_reply": "2024-04-26T18:04:42.217779Z"
    },
    "papermill": {
     "duration": 0.730219,
     "end_time": "2024-04-26T18:04:42.220884",
     "exception": false,
     "start_time": "2024-04-26T18:04:41.490665",
     "status": "completed"
    },
    "tags": []
   },
   "outputs": [
    {
     "name": "stdout",
     "output_type": "stream",
     "text": [
      "/kaggle/input/zero-width/attacked_text.csv\n",
      "/kaggle/input/watermarked-and-unwatermarked-text-truncated/data_trunk.csv\n"
     ]
    }
   ],
   "source": [
    "# This Python 3 environment comes with many helpful analytics libraries installed\n",
    "# It is defined by the kaggle/python Docker image: https://github.com/kaggle/docker-python\n",
    "# For example, here's several helpful packages to load\n",
    "\n",
    "import numpy as np # linear algebra\n",
    "import pandas as pd # data processing, CSV file I/O (e.g. pd.read_csv)\n",
    "\n",
    "# Input data files are available in the read-only \"../input/\" directory\n",
    "# For example, running this (by clicking run or pressing Shift+Enter) will list all files under the input directory\n",
    "\n",
    "import os\n",
    "for dirname, _, filenames in os.walk('/kaggle/input'):\n",
    "    for filename in filenames:\n",
    "        print(os.path.join(dirname, filename))\n",
    "\n",
    "# You can write up to 20GB to the current directory (/kaggle/working/) that gets preserved as output when you create a version using \"Save & Run All\" \n",
    "# You can also write temporary files to /kaggle/temp/, but they won't be saved outside of the current session"
   ]
  },
  {
   "cell_type": "code",
   "execution_count": 2,
   "id": "43925064",
   "metadata": {
    "execution": {
     "iopub.execute_input": "2024-04-26T18:04:42.229831Z",
     "iopub.status.busy": "2024-04-26T18:04:42.229421Z",
     "iopub.status.idle": "2024-04-26T18:04:45.067278Z",
     "shell.execute_reply": "2024-04-26T18:04:45.066285Z"
    },
    "papermill": {
     "duration": 2.844878,
     "end_time": "2024-04-26T18:04:45.069762",
     "exception": false,
     "start_time": "2024-04-26T18:04:42.224884",
     "status": "completed"
    },
    "tags": []
   },
   "outputs": [
    {
     "name": "stdout",
     "output_type": "stream",
     "text": [
      "Cloning into 'watermark'...\r\n",
      "remote: Enumerating objects: 80, done.\u001b[K\r\n",
      "remote: Counting objects: 100% (80/80), done.\u001b[K\r\n",
      "remote: Compressing objects: 100% (65/65), done.\u001b[K\r\n",
      "remote: Total 80 (delta 25), reused 67 (delta 14), pack-reused 0\u001b[K\r\n",
      "Unpacking objects: 100% (80/80), 264.81 KiB | 5.52 MiB/s, done.\r\n"
     ]
    }
   ],
   "source": [
    "!git clone https://github.com/jthickstun/watermark.git"
   ]
  },
  {
   "cell_type": "code",
   "execution_count": 3,
   "id": "d3e40fae",
   "metadata": {
    "execution": {
     "iopub.execute_input": "2024-04-26T18:04:45.080398Z",
     "iopub.status.busy": "2024-04-26T18:04:45.079498Z",
     "iopub.status.idle": "2024-04-26T18:04:45.084518Z",
     "shell.execute_reply": "2024-04-26T18:04:45.083686Z"
    },
    "papermill": {
     "duration": 0.012196,
     "end_time": "2024-04-26T18:04:45.086386",
     "exception": false,
     "start_time": "2024-04-26T18:04:45.074190",
     "status": "completed"
    },
    "tags": []
   },
   "outputs": [],
   "source": [
    "import os\n",
    "os.chdir(\"/kaggle/working/watermark/demo\")"
   ]
  },
  {
   "cell_type": "code",
   "execution_count": 4,
   "id": "aa07b35d",
   "metadata": {
    "execution": {
     "iopub.execute_input": "2024-04-26T18:04:45.096424Z",
     "iopub.status.busy": "2024-04-26T18:04:45.096101Z",
     "iopub.status.idle": "2024-04-26T18:04:58.187150Z",
     "shell.execute_reply": "2024-04-26T18:04:58.186319Z"
    },
    "papermill": {
     "duration": 13.098565,
     "end_time": "2024-04-26T18:04:58.189425",
     "exception": false,
     "start_time": "2024-04-26T18:04:45.090860",
     "status": "completed"
    },
    "tags": []
   },
   "outputs": [
    {
     "name": "stderr",
     "output_type": "stream",
     "text": [
      "In file included from /opt/conda/lib/python3.10/site-packages/numpy/core/include/numpy/ndarraytypes.h:1929,\n",
      "                 from /opt/conda/lib/python3.10/site-packages/numpy/core/include/numpy/ndarrayobject.h:12,\n",
      "                 from /opt/conda/lib/python3.10/site-packages/numpy/core/include/numpy/arrayobject.h:5,\n",
      "                 from /root/.pyxbld/temp.linux-x86_64-cpython-310/kaggle/working/watermark/demo/levenshtein.c:1205:\n",
      "/opt/conda/lib/python3.10/site-packages/numpy/core/include/numpy/npy_1_7_deprecated_api.h:17:2: warning: #warning \"Using deprecated NumPy API, disable it with \" \"#define NPY_NO_DEPRECATED_API NPY_1_7_API_VERSION\" [-Wcpp]\n",
      "   17 | #warning \"Using deprecated NumPy API, disable it with \" \\\n",
      "      |  ^~~~~~~\n"
     ]
    }
   ],
   "source": [
    "import os, sys, argparse, time\n",
    "\n",
    "import numpy as np\n",
    "from transformers import AutoTokenizer\n",
    "from mersenne import mersenne_rng\n",
    "\n",
    "import pyximport\n",
    "pyximport.install(reload_support=True, language_level=sys.version_info[0],\n",
    "                  setup_args={'include_dirs':np.get_include()})\n",
    "from levenshtein import levenshtein\n",
    "\n",
    "def permutation_test(tokens,key,n,k,vocab_size,n_runs=100):\n",
    "    rng = mersenne_rng(key)\n",
    "    xi = np.array([rng.rand() for _ in range(n*vocab_size)], dtype=np.float32).reshape(n,vocab_size)\n",
    "    test_result = detect(tokens,n,k,xi)\n",
    "\n",
    "    p_val = 0\n",
    "    for run in range(n_runs):\n",
    "        xi_alternative = np.random.rand(n, vocab_size).astype(np.float32)\n",
    "        null_result = detect(tokens,n,k,xi_alternative)\n",
    "\n",
    "        # assuming lower test values indicate presence of watermark\n",
    "        p_val += null_result <= test_result\n",
    "\n",
    "    return (p_val+1.0)/(n_runs+1.0)\n",
    "\n",
    "\n",
    "def detect(tokens,n,k,xi,gamma=0.0):\n",
    "    m = len(tokens)\n",
    "    n = len(xi)\n",
    "\n",
    "    A = np.empty((m-(k-1),n))\n",
    "    for i in range(m-(k-1)):\n",
    "        for j in range(n):\n",
    "            A[i][j] = levenshtein(tokens[i:i+k],xi[(j+np.arange(k))%n],gamma)\n",
    "\n",
    "    return np.min(A)\n"
   ]
  },
  {
   "cell_type": "code",
   "execution_count": 5,
   "id": "6152200b",
   "metadata": {
    "execution": {
     "iopub.execute_input": "2024-04-26T18:04:58.199650Z",
     "iopub.status.busy": "2024-04-26T18:04:58.199233Z",
     "iopub.status.idle": "2024-04-26T23:04:10.436226Z",
     "shell.execute_reply": "2024-04-26T23:04:10.434885Z"
    },
    "papermill": {
     "duration": 17952.244278,
     "end_time": "2024-04-26T23:04:10.438262",
     "exception": false,
     "start_time": "2024-04-26T18:04:58.193984",
     "status": "completed"
    },
    "tags": []
   },
   "outputs": [
    {
     "data": {
      "application/vnd.jupyter.widget-view+json": {
       "model_id": "25a158c03666473193772743dc58abb6",
       "version_major": 2,
       "version_minor": 0
      },
      "text/plain": [
       "tokenizer_config.json:   0%|          | 0.00/685 [00:00<?, ?B/s]"
      ]
     },
     "metadata": {},
     "output_type": "display_data"
    },
    {
     "data": {
      "application/vnd.jupyter.widget-view+json": {
       "model_id": "0ed721bacf8045e7a6a10063b8730089",
       "version_major": 2,
       "version_minor": 0
      },
      "text/plain": [
       "config.json:   0%|          | 0.00/644 [00:00<?, ?B/s]"
      ]
     },
     "metadata": {},
     "output_type": "display_data"
    },
    {
     "data": {
      "application/vnd.jupyter.widget-view+json": {
       "model_id": "ab81dc9abd0a478886fe79e2e83c47a9",
       "version_major": 2,
       "version_minor": 0
      },
      "text/plain": [
       "vocab.json:   0%|          | 0.00/899k [00:00<?, ?B/s]"
      ]
     },
     "metadata": {},
     "output_type": "display_data"
    },
    {
     "data": {
      "application/vnd.jupyter.widget-view+json": {
       "model_id": "9c5ba7f5b3f443cb9ef530ce0f9b65c2",
       "version_major": 2,
       "version_minor": 0
      },
      "text/plain": [
       "merges.txt:   0%|          | 0.00/456k [00:00<?, ?B/s]"
      ]
     },
     "metadata": {},
     "output_type": "display_data"
    },
    {
     "data": {
      "application/vnd.jupyter.widget-view+json": {
       "model_id": "ab842330fb434688bfa7443dd461bf39",
       "version_major": 2,
       "version_minor": 0
      },
      "text/plain": [
       "special_tokens_map.json:   0%|          | 0.00/441 [00:00<?, ?B/s]"
      ]
     },
     "metadata": {},
     "output_type": "display_data"
    },
    {
     "name": "stderr",
     "output_type": "stream",
     "text": [
      "  3%|▎         | 1/35 [07:47<4:24:46, 467.26s/it]"
     ]
    },
    {
     "name": "stdout",
     "output_type": "stream",
     "text": [
      "Row 1 - p-value: 0.1881, label: unwatermarked (elapsed time: 467.23s)\n"
     ]
    },
    {
     "name": "stderr",
     "output_type": "stream",
     "text": [
      "  6%|▌         | 2/35 [17:52<5:01:43, 548.60s/it]"
     ]
    },
    {
     "name": "stdout",
     "output_type": "stream",
     "text": [
      "Row 2 - p-value: 0.5842, label: unwatermarked (elapsed time: 605.53s)\n"
     ]
    },
    {
     "name": "stderr",
     "output_type": "stream",
     "text": [
      "  9%|▊         | 3/35 [27:51<5:04:44, 571.39s/it]"
     ]
    },
    {
     "name": "stdout",
     "output_type": "stream",
     "text": [
      "Row 3 - p-value: 0.0990, label: unwatermarked (elapsed time: 598.52s)\n"
     ]
    },
    {
     "name": "stderr",
     "output_type": "stream",
     "text": [
      " 11%|█▏        | 4/35 [36:35<4:45:40, 552.91s/it]"
     ]
    },
    {
     "name": "stdout",
     "output_type": "stream",
     "text": [
      "Row 4 - p-value: 0.4851, label: unwatermarked (elapsed time: 524.58s)\n"
     ]
    },
    {
     "name": "stderr",
     "output_type": "stream",
     "text": [
      " 14%|█▍        | 5/35 [45:42<4:35:19, 550.66s/it]"
     ]
    },
    {
     "name": "stdout",
     "output_type": "stream",
     "text": [
      "Row 5 - p-value: 0.6931, label: unwatermarked (elapsed time: 546.67s)\n"
     ]
    },
    {
     "name": "stderr",
     "output_type": "stream",
     "text": [
      " 17%|█▋        | 6/35 [53:16<4:10:19, 517.90s/it]"
     ]
    },
    {
     "name": "stdout",
     "output_type": "stream",
     "text": [
      "Row 6 - p-value: 0.2574, label: unwatermarked (elapsed time: 454.30s)\n"
     ]
    },
    {
     "name": "stderr",
     "output_type": "stream",
     "text": [
      " 20%|██        | 7/35 [1:01:09<3:54:48, 503.14s/it]"
     ]
    },
    {
     "name": "stdout",
     "output_type": "stream",
     "text": [
      "Row 7 - p-value: 0.1782, label: unwatermarked (elapsed time: 472.76s)\n"
     ]
    },
    {
     "name": "stderr",
     "output_type": "stream",
     "text": [
      " 23%|██▎       | 8/35 [1:08:55<3:41:03, 491.25s/it]"
     ]
    },
    {
     "name": "stdout",
     "output_type": "stream",
     "text": [
      "Row 8 - p-value: 0.2475, label: unwatermarked (elapsed time: 465.77s)\n"
     ]
    },
    {
     "name": "stderr",
     "output_type": "stream",
     "text": [
      " 26%|██▌       | 9/35 [1:17:16<3:34:10, 494.25s/it]"
     ]
    },
    {
     "name": "stdout",
     "output_type": "stream",
     "text": [
      "Row 9 - p-value: 0.0099, label: watermarked (elapsed time: 500.84s)\n"
     ]
    },
    {
     "name": "stderr",
     "output_type": "stream",
     "text": [
      " 29%|██▊       | 10/35 [1:24:39<3:19:23, 478.55s/it]"
     ]
    },
    {
     "name": "stdout",
     "output_type": "stream",
     "text": [
      "Row 10 - p-value: 0.0099, label: watermarked (elapsed time: 443.38s)\n"
     ]
    },
    {
     "name": "stderr",
     "output_type": "stream",
     "text": [
      " 31%|███▏      | 11/35 [1:34:34<3:25:38, 514.11s/it]"
     ]
    },
    {
     "name": "stdout",
     "output_type": "stream",
     "text": [
      "Row 11 - p-value: 0.2574, label: unwatermarked (elapsed time: 594.76s)\n"
     ]
    },
    {
     "name": "stderr",
     "output_type": "stream",
     "text": [
      " 34%|███▍      | 12/35 [1:44:14<3:24:47, 534.24s/it]"
     ]
    },
    {
     "name": "stdout",
     "output_type": "stream",
     "text": [
      "Row 12 - p-value: 0.2871, label: unwatermarked (elapsed time: 580.28s)\n"
     ]
    },
    {
     "name": "stderr",
     "output_type": "stream",
     "text": [
      " 37%|███▋      | 13/35 [1:53:06<3:15:39, 533.61s/it]"
     ]
    },
    {
     "name": "stdout",
     "output_type": "stream",
     "text": [
      "Row 13 - p-value: 0.1287, label: unwatermarked (elapsed time: 532.15s)\n"
     ]
    },
    {
     "name": "stderr",
     "output_type": "stream",
     "text": [
      " 40%|████      | 14/35 [2:02:21<3:08:56, 539.83s/it]"
     ]
    },
    {
     "name": "stdout",
     "output_type": "stream",
     "text": [
      "Row 14 - p-value: 0.4158, label: unwatermarked (elapsed time: 554.19s)\n"
     ]
    },
    {
     "name": "stderr",
     "output_type": "stream",
     "text": [
      " 43%|████▎     | 15/35 [2:11:25<3:00:24, 541.24s/it]"
     ]
    },
    {
     "name": "stdout",
     "output_type": "stream",
     "text": [
      "Row 15 - p-value: 0.2574, label: unwatermarked (elapsed time: 544.49s)\n"
     ]
    },
    {
     "name": "stderr",
     "output_type": "stream",
     "text": [
      " 46%|████▌     | 16/35 [2:20:31<2:51:52, 542.74s/it]"
     ]
    },
    {
     "name": "stdout",
     "output_type": "stream",
     "text": [
      "Row 16 - p-value: 0.5347, label: unwatermarked (elapsed time: 546.24s)\n"
     ]
    },
    {
     "name": "stderr",
     "output_type": "stream",
     "text": [
      " 49%|████▊     | 17/35 [2:28:39<2:37:53, 526.33s/it]"
     ]
    },
    {
     "name": "stdout",
     "output_type": "stream",
     "text": [
      "Row 17 - p-value: 0.0198, label: unwatermarked (elapsed time: 488.14s)\n"
     ]
    },
    {
     "name": "stderr",
     "output_type": "stream",
     "text": [
      " 51%|█████▏    | 18/35 [2:36:41<2:25:20, 512.95s/it]"
     ]
    },
    {
     "name": "stdout",
     "output_type": "stream",
     "text": [
      "Row 18 - p-value: 0.0693, label: unwatermarked (elapsed time: 481.82s)\n"
     ]
    },
    {
     "name": "stderr",
     "output_type": "stream",
     "text": [
      " 54%|█████▍    | 19/35 [2:46:20<2:22:01, 532.61s/it]"
     ]
    },
    {
     "name": "stdout",
     "output_type": "stream",
     "text": [
      "Row 19 - p-value: 0.6139, label: unwatermarked (elapsed time: 578.40s)\n"
     ]
    },
    {
     "name": "stderr",
     "output_type": "stream",
     "text": [
      " 57%|█████▋    | 20/35 [2:56:24<2:18:33, 554.21s/it]"
     ]
    },
    {
     "name": "stdout",
     "output_type": "stream",
     "text": [
      "Row 20 - p-value: 0.1485, label: unwatermarked (elapsed time: 604.54s)\n"
     ]
    },
    {
     "name": "stderr",
     "output_type": "stream",
     "text": [
      " 60%|██████    | 21/35 [3:03:20<1:59:39, 512.81s/it]"
     ]
    },
    {
     "name": "stdout",
     "output_type": "stream",
     "text": [
      "Row 21 - p-value: 0.2376, label: unwatermarked (elapsed time: 416.28s)\n"
     ]
    },
    {
     "name": "stderr",
     "output_type": "stream",
     "text": [
      " 63%|██████▎   | 22/35 [3:11:14<1:48:32, 500.95s/it]"
     ]
    },
    {
     "name": "stdout",
     "output_type": "stream",
     "text": [
      "Row 22 - p-value: 0.1683, label: unwatermarked (elapsed time: 473.28s)\n"
     ]
    },
    {
     "name": "stderr",
     "output_type": "stream",
     "text": [
      " 66%|██████▌   | 23/35 [3:19:53<1:41:16, 506.37s/it]"
     ]
    },
    {
     "name": "stdout",
     "output_type": "stream",
     "text": [
      "Row 23 - p-value: 0.1089, label: unwatermarked (elapsed time: 519.01s)\n"
     ]
    },
    {
     "name": "stderr",
     "output_type": "stream",
     "text": [
      " 69%|██████▊   | 24/35 [3:28:55<1:34:47, 517.07s/it]"
     ]
    },
    {
     "name": "stdout",
     "output_type": "stream",
     "text": [
      "Row 24 - p-value: 0.5050, label: unwatermarked (elapsed time: 542.04s)\n"
     ]
    },
    {
     "name": "stderr",
     "output_type": "stream",
     "text": [
      " 71%|███████▏  | 25/35 [3:36:35<1:23:21, 500.12s/it]"
     ]
    },
    {
     "name": "stdout",
     "output_type": "stream",
     "text": [
      "Row 25 - p-value: 0.0099, label: watermarked (elapsed time: 460.56s)\n"
     ]
    },
    {
     "name": "stderr",
     "output_type": "stream",
     "text": [
      " 74%|███████▍  | 26/35 [3:45:21<1:16:09, 507.69s/it]"
     ]
    },
    {
     "name": "stdout",
     "output_type": "stream",
     "text": [
      "Row 26 - p-value: 0.1188, label: unwatermarked (elapsed time: 525.36s)\n"
     ]
    },
    {
     "name": "stderr",
     "output_type": "stream",
     "text": [
      " 77%|███████▋  | 27/35 [3:52:52<1:05:24, 490.61s/it]"
     ]
    },
    {
     "name": "stdout",
     "output_type": "stream",
     "text": [
      "Row 27 - p-value: 0.0495, label: unwatermarked (elapsed time: 450.74s)\n"
     ]
    },
    {
     "name": "stderr",
     "output_type": "stream",
     "text": [
      " 80%|████████  | 28/35 [4:01:08<57:25, 492.27s/it]  "
     ]
    },
    {
     "name": "stdout",
     "output_type": "stream",
     "text": [
      "Row 28 - p-value: 0.3960, label: unwatermarked (elapsed time: 496.13s)\n"
     ]
    },
    {
     "name": "stderr",
     "output_type": "stream",
     "text": [
      " 83%|████████▎ | 29/35 [4:09:11<48:56, 489.47s/it]"
     ]
    },
    {
     "name": "stdout",
     "output_type": "stream",
     "text": [
      "Row 29 - p-value: 0.3960, label: unwatermarked (elapsed time: 482.95s)\n"
     ]
    },
    {
     "name": "stderr",
     "output_type": "stream",
     "text": [
      " 86%|████████▌ | 30/35 [4:17:05<40:24, 484.95s/it]"
     ]
    },
    {
     "name": "stdout",
     "output_type": "stream",
     "text": [
      "Row 30 - p-value: 0.2673, label: unwatermarked (elapsed time: 474.39s)\n"
     ]
    },
    {
     "name": "stderr",
     "output_type": "stream",
     "text": [
      " 89%|████████▊ | 31/35 [4:27:09<34:42, 520.60s/it]"
     ]
    },
    {
     "name": "stdout",
     "output_type": "stream",
     "text": [
      "Row 31 - p-value: 0.3762, label: unwatermarked (elapsed time: 603.79s)\n"
     ]
    },
    {
     "name": "stderr",
     "output_type": "stream",
     "text": [
      " 91%|█████████▏| 32/35 [4:34:14<24:36, 492.11s/it]"
     ]
    },
    {
     "name": "stdout",
     "output_type": "stream",
     "text": [
      "Row 32 - p-value: 0.0099, label: watermarked (elapsed time: 425.64s)\n"
     ]
    },
    {
     "name": "stderr",
     "output_type": "stream",
     "text": [
      " 94%|█████████▍| 33/35 [4:42:04<16:10, 485.41s/it]"
     ]
    },
    {
     "name": "stdout",
     "output_type": "stream",
     "text": [
      "Row 33 - p-value: 0.3861, label: unwatermarked (elapsed time: 469.76s)\n"
     ]
    },
    {
     "name": "stderr",
     "output_type": "stream",
     "text": [
      " 97%|█████████▋| 34/35 [4:49:52<08:00, 480.06s/it]"
     ]
    },
    {
     "name": "stdout",
     "output_type": "stream",
     "text": [
      "Row 34 - p-value: 0.1287, label: unwatermarked (elapsed time: 467.59s)\n"
     ]
    },
    {
     "name": "stderr",
     "output_type": "stream",
     "text": [
      "100%|██████████| 35/35 [4:59:08<00:00, 512.81s/it]"
     ]
    },
    {
     "name": "stdout",
     "output_type": "stream",
     "text": [
      "Row 35 - p-value: 0.4554, label: unwatermarked (elapsed time: 556.06s)\n"
     ]
    },
    {
     "name": "stderr",
     "output_type": "stream",
     "text": [
      "\n"
     ]
    }
   ],
   "source": [
    "from tqdm import tqdm\n",
    "import pandas as pd\n",
    "\n",
    "def main():\n",
    "    # Read data from CSV using pandas\n",
    "    data = pd.read_csv(\"/kaggle/input/zero-width/attacked_text.csv\")\n",
    "    # Combine filtered data\n",
    "    split_point1 = int(len(data) / 3)\n",
    "    split_point2 = split_point1 * 2\n",
    "    split_point3 = 100\n",
    "    part1 = data.iloc[:35] # First part\n",
    "    part2 = data.iloc[35:69]  # Second part\n",
    "    part3 = data.iloc[69:100]  # Third part (might be slightly bigger)\n",
    "    # Load pre-trained tokenizer (replace with your desired tokenizer)\n",
    "    tokenizer = AutoTokenizer.from_pretrained(\"facebook/opt-350m\")\n",
    "\n",
    "    # Progress bar with tqdm\n",
    "    results = []\n",
    "    for index, row in tqdm(part1.iterrows(), total=len(part1)):\n",
    "        text = row[\"Attacked Text\"]  # Assuming \"Attacked Text\" is the column containing text data\n",
    "        actual_label = \"watermarked\" # Assuming \"label\" is the column containing actual label\n",
    "\n",
    "        # Tokenize the text\n",
    "        tokens = tokenizer.encode(text, return_tensors='pt', truncation=True, max_length=2048).numpy()[0]\n",
    "\n",
    "        t0 = time.time()\n",
    "        pval = permutation_test(tokens, 42, 256, len(tokens), len(tokenizer))\n",
    "        label = \"watermarked\" if pval <= 0.01 else \"unwatermarked\"\n",
    "        results.append({\"text\": text, \"p-value\": pval, \"label\": label, \"actual_label\": actual_label})\n",
    "        print(f\"Row {index+1} - p-value: {pval:.4f}, label: {label} (elapsed time: {time.time()-t0:.2f}s)\")\n",
    "\n",
    "    # Create a pandas DataFrame from the results\n",
    "    df_results = pd.DataFrame(results)\n",
    "#     df_results.head(2)\n",
    "    # Save the DataFrame (optional)\n",
    "    df_results.to_csv(\"permutation_test_results_zerowidth.csv\", index=False)\n",
    "if __name__ == '__main__':\n",
    "    main()"
   ]
  },
  {
   "cell_type": "code",
   "execution_count": 6,
   "id": "5a66d47e",
   "metadata": {
    "execution": {
     "iopub.execute_input": "2024-04-26T23:04:10.461508Z",
     "iopub.status.busy": "2024-04-26T23:04:10.461214Z",
     "iopub.status.idle": "2024-04-26T23:04:11.623255Z",
     "shell.execute_reply": "2024-04-26T23:04:11.622461Z"
    },
    "papermill": {
     "duration": 1.176545,
     "end_time": "2024-04-26T23:04:11.625497",
     "exception": false,
     "start_time": "2024-04-26T23:04:10.448952",
     "status": "completed"
    },
    "tags": []
   },
   "outputs": [],
   "source": [
    "# This Python 3 environment comes with many helpful analytics libraries installed\n",
    "# It is defined by the kaggle/python Docker image: https://github.com/kaggle/docker-python\n",
    "# For example, here's several helpful packages to load\n",
    "\n",
    "import numpy as np # linear algebra\n",
    "import pandas as pd # data processing, CSV file I/O (e.g. pd.read_csv)\n",
    "from sklearn.metrics import confusion_matrix\n",
    "import seaborn as sns\n",
    "import matplotlib.pyplot as plt\n",
    "from sklearn.metrics import accuracy_score\n",
    "from sklearn.metrics import f1_score\n",
    "from sklearn.metrics import precision_score\n",
    "from sklearn.metrics import recall_score\n",
    "# Input data files are available in the read-only \"../input/\" directory\n",
    "# For example, running this (by clicking run or pressing Shift+Enter) will list all files under the input directory\n",
    "\n",
    "import os\n",
    "\n",
    "# You can write up to 20GB to the current directory (/kaggle/working/) that gets preserved as output when you create a version using \"Save & Run All\" \n",
    "# You can also write temporary files to /kaggle/temp/, but they won't be saved outside of the current session"
   ]
  },
  {
   "cell_type": "code",
   "execution_count": 7,
   "id": "a729a1e5",
   "metadata": {
    "execution": {
     "iopub.execute_input": "2024-04-26T23:04:11.648661Z",
     "iopub.status.busy": "2024-04-26T23:04:11.648347Z",
     "iopub.status.idle": "2024-04-26T23:04:12.008442Z",
     "shell.execute_reply": "2024-04-26T23:04:12.007539Z"
    },
    "papermill": {
     "duration": 0.374637,
     "end_time": "2024-04-26T23:04:12.011140",
     "exception": false,
     "start_time": "2024-04-26T23:04:11.636503",
     "status": "completed"
    },
    "tags": []
   },
   "outputs": [
    {
     "name": "stderr",
     "output_type": "stream",
     "text": [
      "/opt/conda/lib/python3.10/site-packages/sklearn/metrics/_classification.py:1344: UndefinedMetricWarning: Recall is ill-defined and being set to 0.0 in labels with no true samples. Use `zero_division` parameter to control this behavior.\n",
      "  _warn_prf(average, modifier, msg_start, len(result))\n"
     ]
    },
    {
     "data": {
      "image/png": "[encoded data removed]",
      "text/plain": [
       "<Figure size 800x600 with 2 Axes>"
      ]
     },
     "metadata": {},
     "output_type": "display_data"
    },
    {
     "name": "stdout",
     "output_type": "stream",
     "text": [
      "\n",
      "Classification Metrics:\n",
      "Accuracy: 11.4286\n",
      "F1-score: 20.5128\n",
      "Precision: 100.0000\n",
      "Recall: 11.4286\n"
     ]
    }
   ],
   "source": [
    "def evaluate_classification(file_path):\n",
    "\n",
    "    # Evaluates a classification model using various metrics, reading data from a CSV file and creates a confusion matrix heatmap using seaborn.\n",
    "\n",
    "    # Read the CSV file assuming 'label' and 'actual_label' columns are present\n",
    "    df = pd.read_csv(file_path)\n",
    "\n",
    "    # Extract true labels (assuming 'actual_label' column)\n",
    "    y_true = df['actual_label'].tolist()\n",
    "\n",
    "    # Extract predicted labels (assuming 'label' column)\n",
    "    y_pred = df['label'].tolist()\n",
    "\n",
    "    # Create the confusion matrix\n",
    "    cm = confusion_matrix(y_true, y_pred)\n",
    "\n",
    "    # Calculate accuracy\n",
    "    accuracy = accuracy_score(y_true, y_pred)\n",
    "\n",
    "    # Calculate F1-score\n",
    "    f1 = f1_score(y_true, y_pred, average='weighted')\n",
    "\n",
    "    # Calculate precision\n",
    "    precision = precision_score(y_true, y_pred, average='weighted')\n",
    "\n",
    "    # Calculate recall\n",
    "    recall = recall_score(y_true, y_pred, average='weighted')\n",
    "      # Define custom labels for the confusion matrix\n",
    "\n",
    "    # Create a confusion matrix heatmap using seaborn\n",
    "    plt.figure(figsize=(8, 6))\n",
    "    ax = sns.heatmap(cm, annot=True, cmap='Blues', fmt='d',annot_kws={'fontsize': 25})\n",
    "    ax.set_xlabel('Predicted Label')\n",
    "    ax.set_ylabel('True Label')\n",
    "    ax.set_title('Confusion Matrix (Watermarked)')\n",
    "    plt.xticks([0.5, 1.5], ['Predicted Unwatermarked', 'Predicted Watermarked'])\n",
    "    plt.yticks([0.5, 1.5], ['Actual Unwatermarked', 'Actual Watermarked'])    \n",
    "    plt.tight_layout()\n",
    "    plt.show()\n",
    "    return cm, accuracy, f1, precision, recall\n",
    "\n",
    "# Specify the file path (assuming you're using Kaggle)\n",
    "file_path = \"/kaggle/working/watermark/demo/permutation_test_results_zerowidth.csv\"\n",
    "\n",
    "# Evaluate the classification\n",
    "cm, accuracy, f1, precision, recall = evaluate_classification(file_path)\n",
    "\n",
    "# Print classification metrics (same as before)\n",
    "print(\"\\nClassification Metrics:\")\n",
    "print(f\"Accuracy: {accuracy * 100:.4f}\")\n",
    "print(f\"F1-score: {f1 * 100:.4f}\")\n",
    "print(f\"Precision: {precision * 100:.4f}\")\n",
    "print(f\"Recall: {recall * 100:.4f}\")\n"
   ]
  },
  {
   "cell_type": "code",
   "execution_count": 8,
   "id": "8e0f8e10",
   "metadata": {
    "execution": {
     "iopub.execute_input": "2024-04-26T23:04:12.035491Z",
     "iopub.status.busy": "2024-04-26T23:04:12.035211Z",
     "iopub.status.idle": "2024-04-26T23:04:12.049576Z",
     "shell.execute_reply": "2024-04-26T23:04:12.048567Z"
    },
    "papermill": {
     "duration": 0.028712,
     "end_time": "2024-04-26T23:04:12.051527",
     "exception": false,
     "start_time": "2024-04-26T23:04:12.022815",
     "status": "completed"
    },
    "tags": []
   },
   "outputs": [
    {
     "name": "stdout",
     "output_type": "stream",
     "text": [
      "Average absolute difference for misclassified watermarked images: 0.2027\n"
     ]
    }
   ],
   "source": [
    "def evaluate_misclassifications(file_path):\n",
    "    # Evaluates the average absolute difference between misclassified p-values and the threshold (0.1) for watermarked images.\n",
    "    # Read the CSV file into a Pandas DataFrame\n",
    "    df = pd.read_csv(file_path)\n",
    "\n",
    "    # Filter for misclassified watermarked images\n",
    "    misclassified_watermarked = df[(df['label'] != df['actual_label']) & (df['actual_label'] == 'watermarked')]\n",
    "\n",
    "    # Check if there are any misclassified watermarked images\n",
    "    if len(misclassified_watermarked) == 0:\n",
    "        print(\"No misclassified watermarked images found.\")\n",
    "        return None\n",
    "\n",
    "    # Calculate absolute difference between misclassified p-values and the threshold (0.1)\n",
    "    abs_diff = np.abs(misclassified_watermarked['p-value'] - 0.1)\n",
    "\n",
    "    # Calculate average absolute difference\n",
    "    average_diff = np.mean(abs_diff)\n",
    "\n",
    "    return average_diff\n",
    "\n",
    "# Specify the file path\n",
    "file_path = \"/kaggle/working/watermark/demo/permutation_test_results_zerowidth.csv\"\n",
    "\n",
    "# Evaluate misclassifications\n",
    "average_diff = evaluate_misclassifications(file_path)\n",
    "\n",
    "if average_diff is not None:\n",
    "    print(f\"Average absolute difference for misclassified watermarked images: {average_diff:.4f}\")\n"
   ]
  },
  {
   "cell_type": "code",
   "execution_count": 9,
   "id": "910718a2",
   "metadata": {
    "execution": {
     "iopub.execute_input": "2024-04-26T23:04:12.075711Z",
     "iopub.status.busy": "2024-04-26T23:04:12.075416Z",
     "iopub.status.idle": "2024-04-26T23:04:12.100907Z",
     "shell.execute_reply": "2024-04-26T23:04:12.100055Z"
    },
    "papermill": {
     "duration": 0.039921,
     "end_time": "2024-04-26T23:04:12.102887",
     "exception": false,
     "start_time": "2024-04-26T23:04:12.062966",
     "status": "completed"
    },
    "tags": []
   },
   "outputs": [
    {
     "data": {
      "text/html": [
       "<div>\n",
       "<style scoped>\n",
       "    .dataframe tbody tr th:only-of-type {\n",
       "        vertical-align: middle;\n",
       "    }\n",
       "\n",
       "    .dataframe tbody tr th {\n",
       "        vertical-align: top;\n",
       "    }\n",
       "\n",
       "    .dataframe thead th {\n",
       "        text-align: right;\n",
       "    }\n",
       "</style>\n",
       "<table border=\"1\" class=\"dataframe\">\n",
       "  <thead>\n",
       "    <tr style=\"text-align: right;\">\n",
       "      <th></th>\n",
       "      <th>text</th>\n",
       "      <th>p-value</th>\n",
       "      <th>label</th>\n",
       "      <th>actual_label</th>\n",
       "    </tr>\n",
       "  </thead>\n",
       "  <tbody>\n",
       "    <tr>\n",
       "      <th>0</th>\n",
       "      <td>Some c‌omp‌an​ies ‌f‌ai‌led to pay t​heir work...</td>\n",
       "      <td>0.188119</td>\n",
       "      <td>unwatermarked</td>\n",
       "      <td>watermarked</td>\n",
       "    </tr>\n",
       "    <tr>\n",
       "      <th>32</th>\n",
       "      <td>‍Elect​‌ions are do‍ne‍ on spec​‍i​‍fic da‌te​...</td>\n",
       "      <td>0.386139</td>\n",
       "      <td>unwatermarked</td>\n",
       "      <td>watermarked</td>\n",
       "    </tr>\n",
       "    <tr>\n",
       "      <th>30</th>\n",
       "      <td>Te‌‌acher ac​commodation f‍‌acilitat​ion ​e​ns...</td>\n",
       "      <td>0.376238</td>\n",
       "      <td>unwatermarked</td>\n",
       "      <td>watermarked</td>\n",
       "    </tr>\n",
       "    <tr>\n",
       "      <th>29</th>\n",
       "      <td>There should be ju​st‌ifiable‍ re‍asons for em...</td>\n",
       "      <td>0.267327</td>\n",
       "      <td>unwatermarked</td>\n",
       "      <td>watermarked</td>\n",
       "    </tr>\n",
       "    <tr>\n",
       "      <th>28</th>\n",
       "      <td>Aim to l‍ive pea​‍ceful‍ly with every‍one ‍in​...</td>\n",
       "      <td>0.396040</td>\n",
       "      <td>unwatermarked</td>\n",
       "      <td>watermarked</td>\n",
       "    </tr>\n",
       "    <tr>\n",
       "      <th>27</th>\n",
       "      <td>Th​i‍s‌ e​lection is goi‍ng to be very inter‌e...</td>\n",
       "      <td>0.396040</td>\n",
       "      <td>unwatermarked</td>\n",
       "      <td>watermarked</td>\n",
       "    </tr>\n",
       "    <tr>\n",
       "      <th>26</th>\n",
       "      <td>‍Ther​e ar‌e a lo‍t ‌of c‍ars com‍ing inside t...</td>\n",
       "      <td>0.049505</td>\n",
       "      <td>unwatermarked</td>\n",
       "      <td>watermarked</td>\n",
       "    </tr>\n",
       "    <tr>\n",
       "      <th>25</th>\n",
       "      <td>O​ur m‍a‌th​ema​tics teacher​ ​inspired ​us to...</td>\n",
       "      <td>0.118812</td>\n",
       "      <td>unwatermarked</td>\n",
       "      <td>watermarked</td>\n",
       "    </tr>\n",
       "    <tr>\n",
       "      <th>23</th>\n",
       "      <td>Ch​urch ‌leaders ​‍have ​met‍ th​e m‌iniste‌r ...</td>\n",
       "      <td>0.504950</td>\n",
       "      <td>unwatermarked</td>\n",
       "      <td>watermarked</td>\n",
       "    </tr>\n",
       "    <tr>\n",
       "      <th>22</th>\n",
       "      <td>Mothers are ‍gr​ateful for the ‌re​nov‌at​‌​io...</td>\n",
       "      <td>0.108911</td>\n",
       "      <td>unwatermarked</td>\n",
       "      <td>watermarked</td>\n",
       "    </tr>\n",
       "    <tr>\n",
       "      <th>21</th>\n",
       "      <td>​Some‍ ‍citi‌zens​ do no​t like‌ to p‍a‍y‌ tax...</td>\n",
       "      <td>0.168317</td>\n",
       "      <td>unwatermarked</td>\n",
       "      <td>watermarked</td>\n",
       "    </tr>\n",
       "    <tr>\n",
       "      <th>20</th>\n",
       "      <td>Women nowaday‌‍s ​a​re grea​tly ‍partici‍patin...</td>\n",
       "      <td>0.237624</td>\n",
       "      <td>unwatermarked</td>\n",
       "      <td>watermarked</td>\n",
       "    </tr>\n",
       "    <tr>\n",
       "      <th>19</th>\n",
       "      <td>‍H​o​spital‌s‍ are advised to s‌tart record d‍...</td>\n",
       "      <td>0.148515</td>\n",
       "      <td>unwatermarked</td>\n",
       "      <td>watermarked</td>\n",
       "    </tr>\n",
       "    <tr>\n",
       "      <th>18</th>\n",
       "      <td>Intervention‌‌s have been put in​​ place to ad...</td>\n",
       "      <td>0.613861</td>\n",
       "      <td>unwatermarked</td>\n",
       "      <td>watermarked</td>\n",
       "    </tr>\n",
       "    <tr>\n",
       "      <th>33</th>\n",
       "      <td>An em‌ployee can not ​rejo​ice up‍o​n terminat...</td>\n",
       "      <td>0.128713</td>\n",
       "      <td>unwatermarked</td>\n",
       "      <td>watermarked</td>\n",
       "    </tr>\n",
       "    <tr>\n",
       "      <th>17</th>\n",
       "      <td>​He asked us to go to t‍​he​ ‍polli‍‍ng pl‍ac‌...</td>\n",
       "      <td>0.069307</td>\n",
       "      <td>unwatermarked</td>\n",
       "      <td>watermarked</td>\n",
       "    </tr>\n",
       "    <tr>\n",
       "      <th>15</th>\n",
       "      <td>H‌ow​​ many mot‌orcycles w‌ill​ be dist‌r‌‌ibu...</td>\n",
       "      <td>0.534653</td>\n",
       "      <td>unwatermarked</td>\n",
       "      <td>watermarked</td>\n",
       "    </tr>\n",
       "    <tr>\n",
       "      <th>14</th>\n",
       "      <td>‌How ‌​many cows are ‌they gi‍ving o​ut?\\nRes‌...</td>\n",
       "      <td>0.257426</td>\n",
       "      <td>unwatermarked</td>\n",
       "      <td>watermarked</td>\n",
       "    </tr>\n",
       "    <tr>\n",
       "      <th>13</th>\n",
       "      <td>With ​my n‍e‍w car, I can ‍easily a​void a‌ll ...</td>\n",
       "      <td>0.415842</td>\n",
       "      <td>unwatermarked</td>\n",
       "      <td>watermarked</td>\n",
       "    </tr>\n",
       "    <tr>\n",
       "      <th>12</th>\n",
       "      <td>Th‍e‌‍‌ ​new medi‌‍cal fa​cility h‌as re‍​ache...</td>\n",
       "      <td>0.128713</td>\n",
       "      <td>unwatermarked</td>\n",
       "      <td>watermarked</td>\n",
       "    </tr>\n",
       "    <tr>\n",
       "      <th>11</th>\n",
       "      <td>It ha​s now beco‍‌me us‍ual for‌ po‍l‍itici‌an...</td>\n",
       "      <td>0.287129</td>\n",
       "      <td>unwatermarked</td>\n",
       "      <td>watermarked</td>\n",
       "    </tr>\n",
       "    <tr>\n",
       "      <th>10</th>\n",
       "      <td>Several initia‍ti​ves are being d​one to enh‌a...</td>\n",
       "      <td>0.257426</td>\n",
       "      <td>unwatermarked</td>\n",
       "      <td>watermarked</td>\n",
       "    </tr>\n",
       "    <tr>\n",
       "      <th>7</th>\n",
       "      <td>H​ow do ​‌y‌ou acc‌ess ma​r‍ket informat‌ion‌ ...</td>\n",
       "      <td>0.247525</td>\n",
       "      <td>unwatermarked</td>\n",
       "      <td>watermarked</td>\n",
       "    </tr>\n",
       "    <tr>\n",
       "      <th>6</th>\n",
       "      <td>Elect‍ions ha‍‌ve to always be ‌‌free and ‌f​a...</td>\n",
       "      <td>0.178218</td>\n",
       "      <td>unwatermarked</td>\n",
       "      <td>watermarked</td>\n",
       "    </tr>\n",
       "    <tr>\n",
       "      <th>5</th>\n",
       "      <td>T‌he widow ​takes ​‍‍ha‍​lf of ‌​the dec‍eased...</td>\n",
       "      <td>0.257426</td>\n",
       "      <td>unwatermarked</td>\n",
       "      <td>watermarked</td>\n",
       "    </tr>\n",
       "    <tr>\n",
       "      <th>4</th>\n",
       "      <td>The government has t‍‍he power t‌o ‍​influence...</td>\n",
       "      <td>0.693069</td>\n",
       "      <td>unwatermarked</td>\n",
       "      <td>watermarked</td>\n",
       "    </tr>\n",
       "    <tr>\n",
       "      <th>3</th>\n",
       "      <td>B‌odaboda ‍riders th‌rou‌gh their asso​ciation...</td>\n",
       "      <td>0.485149</td>\n",
       "      <td>unwatermarked</td>\n",
       "      <td>watermarked</td>\n",
       "    </tr>\n",
       "    <tr>\n",
       "      <th>2</th>\n",
       "      <td>‍Leaders ha​ve taken this issue to bigg‌er ‍of...</td>\n",
       "      <td>0.099010</td>\n",
       "      <td>unwatermarked</td>\n",
       "      <td>watermarked</td>\n",
       "    </tr>\n",
       "    <tr>\n",
       "      <th>1</th>\n",
       "      <td>Pneu​‌monia​​ can b​e caused by viru‌s‌e​s‍‍​,...</td>\n",
       "      <td>0.584158</td>\n",
       "      <td>unwatermarked</td>\n",
       "      <td>watermarked</td>\n",
       "    </tr>\n",
       "    <tr>\n",
       "      <th>16</th>\n",
       "      <td>​‌Th‌ey n‌eed t‍o b‍e ​‍motiva‌​ted​‌ really h...</td>\n",
       "      <td>0.019802</td>\n",
       "      <td>unwatermarked</td>\n",
       "      <td>watermarked</td>\n",
       "    </tr>\n",
       "    <tr>\n",
       "      <th>34</th>\n",
       "      <td>Te‍na‍nts ​need‍ t‌o endeavour‍ to pa​y ‌​thei...</td>\n",
       "      <td>0.455446</td>\n",
       "      <td>unwatermarked</td>\n",
       "      <td>watermarked</td>\n",
       "    </tr>\n",
       "  </tbody>\n",
       "</table>\n",
       "</div>"
      ],
      "text/plain": [
       "                                                 text   p-value  \\\n",
       "0   Some c‌omp‌an​ies ‌f‌ai‌led to pay t​heir work...  0.188119   \n",
       "32  ‍Elect​‌ions are do‍ne‍ on spec​‍i​‍fic da‌te​...  0.386139   \n",
       "30  Te‌‌acher ac​commodation f‍‌acilitat​ion ​e​ns...  0.376238   \n",
       "29  There should be ju​st‌ifiable‍ re‍asons for em...  0.267327   \n",
       "28  Aim to l‍ive pea​‍ceful‍ly with every‍one ‍in​...  0.396040   \n",
       "27  Th​i‍s‌ e​lection is goi‍ng to be very inter‌e...  0.396040   \n",
       "26  ‍Ther​e ar‌e a lo‍t ‌of c‍ars com‍ing inside t...  0.049505   \n",
       "25  O​ur m‍a‌th​ema​tics teacher​ ​inspired ​us to...  0.118812   \n",
       "23  Ch​urch ‌leaders ​‍have ​met‍ th​e m‌iniste‌r ...  0.504950   \n",
       "22  Mothers are ‍gr​ateful for the ‌re​nov‌at​‌​io...  0.108911   \n",
       "21  ​Some‍ ‍citi‌zens​ do no​t like‌ to p‍a‍y‌ tax...  0.168317   \n",
       "20  Women nowaday‌‍s ​a​re grea​tly ‍partici‍patin...  0.237624   \n",
       "19  ‍H​o​spital‌s‍ are advised to s‌tart record d‍...  0.148515   \n",
       "18  Intervention‌‌s have been put in​​ place to ad...  0.613861   \n",
       "33  An em‌ployee can not ​rejo​ice up‍o​n terminat...  0.128713   \n",
       "17  ​He asked us to go to t‍​he​ ‍polli‍‍ng pl‍ac‌...  0.069307   \n",
       "15  H‌ow​​ many mot‌orcycles w‌ill​ be dist‌r‌‌ibu...  0.534653   \n",
       "14  ‌How ‌​many cows are ‌they gi‍ving o​ut?\\nRes‌...  0.257426   \n",
       "13  With ​my n‍e‍w car, I can ‍easily a​void a‌ll ...  0.415842   \n",
       "12  Th‍e‌‍‌ ​new medi‌‍cal fa​cility h‌as re‍​ache...  0.128713   \n",
       "11  It ha​s now beco‍‌me us‍ual for‌ po‍l‍itici‌an...  0.287129   \n",
       "10  Several initia‍ti​ves are being d​one to enh‌a...  0.257426   \n",
       "7   H​ow do ​‌y‌ou acc‌ess ma​r‍ket informat‌ion‌ ...  0.247525   \n",
       "6   Elect‍ions ha‍‌ve to always be ‌‌free and ‌f​a...  0.178218   \n",
       "5   T‌he widow ​takes ​‍‍ha‍​lf of ‌​the dec‍eased...  0.257426   \n",
       "4   The government has t‍‍he power t‌o ‍​influence...  0.693069   \n",
       "3   B‌odaboda ‍riders th‌rou‌gh their asso​ciation...  0.485149   \n",
       "2   ‍Leaders ha​ve taken this issue to bigg‌er ‍of...  0.099010   \n",
       "1   Pneu​‌monia​​ can b​e caused by viru‌s‌e​s‍‍​,...  0.584158   \n",
       "16  ​‌Th‌ey n‌eed t‍o b‍e ​‍motiva‌​ted​‌ really h...  0.019802   \n",
       "34  Te‍na‍nts ​need‍ t‌o endeavour‍ to pa​y ‌​thei...  0.455446   \n",
       "\n",
       "            label actual_label  \n",
       "0   unwatermarked  watermarked  \n",
       "32  unwatermarked  watermarked  \n",
       "30  unwatermarked  watermarked  \n",
       "29  unwatermarked  watermarked  \n",
       "28  unwatermarked  watermarked  \n",
       "27  unwatermarked  watermarked  \n",
       "26  unwatermarked  watermarked  \n",
       "25  unwatermarked  watermarked  \n",
       "23  unwatermarked  watermarked  \n",
       "22  unwatermarked  watermarked  \n",
       "21  unwatermarked  watermarked  \n",
       "20  unwatermarked  watermarked  \n",
       "19  unwatermarked  watermarked  \n",
       "18  unwatermarked  watermarked  \n",
       "33  unwatermarked  watermarked  \n",
       "17  unwatermarked  watermarked  \n",
       "15  unwatermarked  watermarked  \n",
       "14  unwatermarked  watermarked  \n",
       "13  unwatermarked  watermarked  \n",
       "12  unwatermarked  watermarked  \n",
       "11  unwatermarked  watermarked  \n",
       "10  unwatermarked  watermarked  \n",
       "7   unwatermarked  watermarked  \n",
       "6   unwatermarked  watermarked  \n",
       "5   unwatermarked  watermarked  \n",
       "4   unwatermarked  watermarked  \n",
       "3   unwatermarked  watermarked  \n",
       "2   unwatermarked  watermarked  \n",
       "1   unwatermarked  watermarked  \n",
       "16  unwatermarked  watermarked  \n",
       "34  unwatermarked  watermarked  "
      ]
     },
     "execution_count": 9,
     "metadata": {},
     "output_type": "execute_result"
    }
   ],
   "source": [
    "def get_incorrect_samples(file_path):\n",
    "   \n",
    "    # Extracts all samples from a CSV file where 'label' and 'actual_label' differ.\n",
    "    # Read the CSV file into a Pandas DataFrame\n",
    "    df = pd.read_csv(file_path)\n",
    "\n",
    "    # Filter for rows where label doesn't equal actual_label\n",
    "    incorrect_samples = df[df['label'] != df['actual_label']]\n",
    "    incorrect_samples = incorrect_samples.sort_values(by='actual_label')\n",
    "\n",
    "    return incorrect_samples\n",
    "\n",
    "file_path = \"/kaggle/working/watermark/demo/permutation_test_results_zerowidth.csv\"\n",
    "incorrect_df = get_incorrect_samples(file_path)\n",
    "\n",
    "\n",
    "incorrect_df.head(len(incorrect_df))"
   ]
  },
  {
   "cell_type": "code",
   "execution_count": null,
   "id": "7fd9c19b",
   "metadata": {
    "papermill": {
     "duration": 0.011714,
     "end_time": "2024-04-26T23:04:12.127207",
     "exception": false,
     "start_time": "2024-04-26T23:04:12.115493",
     "status": "completed"
    },
    "tags": []
   },
   "outputs": [],
   "source": []
  }
 ],
 "metadata": {
  "kaggle": {
   "accelerator": "gpu",
   "dataSources": [
    {
     "datasetId": 4779182,
     "sourceId": 8094561,
     "sourceType": "datasetVersion"
    },
    {
     "datasetId": 4886815,
     "sourceId": 8238648,
     "sourceType": "datasetVersion"
    }
   ],
   "isGpuEnabled": true,
   "isInternetEnabled": true,
   "language": "python",
   "sourceType": "notebook"
  },
  "kernelspec": {
   "display_name": "Python 3",
   "language": "python",
   "name": "python3"
  },
  "language_info": {
   "codemirror_mode": {
    "name": "ipython",
    "version": 3
   },
   "file_extension": ".py",
   "mimetype": "text/x-python",
   "name": "python",
   "nbconvert_exporter": "python",
   "pygments_lexer": "ipython3",
   "version": "3.10.13"
  },
  "papermill": {
   "default_parameters": {},
   "duration": 17975.690841,
   "end_time": "2024-04-26T23:04:14.383240",
   "environment_variables": {},
   "exception": null,
   "input_path": "__notebook__.ipynb",
   "output_path": "__notebook__.ipynb",
   "parameters": {},
   "start_time": "2024-04-26T18:04:38.692399",
   "version": "2.5.0"
  },
  "widgets": {
   "application/vnd.jupyter.widget-state+json": {
    "state": {
     "05813af7bfef48cf8683ed9ab6030535": {
      "model_module": "@jupyter-widgets/controls",
      "model_module_version": "1.5.0",
      "model_name": "HTMLModel",
      "state": {
       "_dom_classes": [],
       "_model_module": "@jupyter-widgets/controls",
       "_model_module_version": "1.5.0",
       "_model_name": "HTMLModel",
       "_view_count": null,
       "_view_module": "@jupyter-widgets/controls",
       "_view_module_version": "1.5.0",
       "_view_name": "HTMLView",
       "description": "",
       "description_tooltip": null,
       "layout": "IPY_MODEL_b1bf7704034c417fb8f478e9eee32bd3",
       "placeholder": "​",
       "style": "IPY_MODEL_0af76845388b4d06a6cf73e6e3e21fae",
       "value": " 456k/456k [00:00&lt;00:00, 773kB/s]"
      }
     },
     "0af76845388b4d06a6cf73e6e3e21fae": {
      "model_module": "@jupyter-widgets/controls",
      "model_module_version": "1.5.0",
      "model_name": "DescriptionStyleModel",
      "state": {
       "_model_module": "@jupyter-widgets/controls",
       "_model_module_version": "1.5.0",
       "_model_name": "DescriptionStyleModel",
       "_view_count": null,
       "_view_module": "@jupyter-widgets/base",
       "_view_module_version": "1.2.0",
       "_view_name": "StyleView",
       "description_width": ""
      }
     },
     "0bb3de4b3a504484a7e9b8002fe2a161": {
      "model_module": "@jupyter-widgets/controls",
      "model_module_version": "1.5.0",
      "model_name": "FloatProgressModel",
      "state": {
       "_dom_classes": [],
       "_model_module": "@jupyter-widgets/controls",
       "_model_module_version": "1.5.0",
       "_model_name": "FloatProgressModel",
       "_view_count": null,
       "_view_module": "@jupyter-widgets/controls",
       "_view_module_version": "1.5.0",
       "_view_name": "ProgressView",
       "bar_style": "success",
       "description": "",
       "description_tooltip": null,
       "layout": "IPY_MODEL_2dd1916a80ab40c9a2763c03699d77a2",
       "max": 685.0,
       "min": 0.0,
       "orientation": "horizontal",
       "style": "IPY_MODEL_849f2cfccc1b499e8796a0bd548ad4a6",
       "value": 685.0
      }
     },
     "0d02277195214e8484c845dad6996640": {
      "model_module": "@jupyter-widgets/controls",
      "model_module_version": "1.5.0",
      "model_name": "HTMLModel",
      "state": {
       "_dom_classes": [],
       "_model_module": "@jupyter-widgets/controls",
       "_model_module_version": "1.5.0",
       "_model_name": "HTMLModel",
       "_view_count": null,
       "_view_module": "@jupyter-widgets/controls",
       "_view_module_version": "1.5.0",
       "_view_name": "HTMLView",
       "description": "",
       "description_tooltip": null,
       "layout": "IPY_MODEL_e0614698c0b14238bfd9cdd110cfedf5",
       "placeholder": "​",
       "style": "IPY_MODEL_d299c274a8b2429e8c7e439dea5a7158",
       "value": "config.json: 100%"
      }
     },
     "0ea618fc37de4531b938b1647be02632": {
      "model_module": "@jupyter-widgets/controls",
      "model_module_version": "1.5.0",
      "model_name": "DescriptionStyleModel",
      "state": {
       "_model_module": "@jupyter-widgets/controls",
       "_model_module_version": "1.5.0",
       "_model_name": "DescriptionStyleModel",
       "_view_count": null,
       "_view_module": "@jupyter-widgets/base",
       "_view_module_version": "1.2.0",
       "_view_name": "StyleView",
       "description_width": ""
      }
     },
     "0ed721bacf8045e7a6a10063b8730089": {
      "model_module": "@jupyter-widgets/controls",
      "model_module_version": "1.5.0",
      "model_name": "HBoxModel",
      "state": {
       "_dom_classes": [],
       "_model_module": "@jupyter-widgets/controls",
       "_model_module_version": "1.5.0",
       "_model_name": "HBoxModel",
       "_view_count": null,
       "_view_module": "@jupyter-widgets/controls",
       "_view_module_version": "1.5.0",
       "_view_name": "HBoxView",
       "box_style": "",
       "children": [
        "IPY_MODEL_0d02277195214e8484c845dad6996640",
        "IPY_MODEL_1848ef3fdc4744ffbdc685757600ebd4",
        "IPY_MODEL_56a6c582510d4529b795400477413c47"
       ],
       "layout": "IPY_MODEL_7422d6b9bafd4745a460908c5cc58ba9"
      }
     },
     "1848ef3fdc4744ffbdc685757600ebd4": {
      "model_module": "@jupyter-widgets/controls",
      "model_module_version": "1.5.0",
      "model_name": "FloatProgressModel",
      "state": {
       "_dom_classes": [],
       "_model_module": "@jupyter-widgets/controls",
       "_model_module_version": "1.5.0",
       "_model_name": "FloatProgressModel",
       "_view_count": null,
       "_view_module": "@jupyter-widgets/controls",
       "_view_module_version": "1.5.0",
       "_view_name": "ProgressView",
       "bar_style": "success",
       "description": "",
       "description_tooltip": null,
       "layout": "IPY_MODEL_7a24a5c5de7848f3b77ffdbdd53f3feb",
       "max": 644.0,
       "min": 0.0,
       "orientation": "horizontal",
       "style": "IPY_MODEL_7c7aa0ea84b34e428147301fff3163c6",
       "value": 644.0
      }
     },
     "25a158c03666473193772743dc58abb6": {
      "model_module": "@jupyter-widgets/controls",
      "model_module_version": "1.5.0",
      "model_name": "HBoxModel",
      "state": {
       "_dom_classes": [],
       "_model_module": "@jupyter-widgets/controls",
       "_model_module_version": "1.5.0",
       "_model_name": "HBoxModel",
       "_view_count": null,
       "_view_module": "@jupyter-widgets/controls",
       "_view_module_version": "1.5.0",
       "_view_name": "HBoxView",
       "box_style": "",
       "children": [
        "IPY_MODEL_60dfbc5f28e2464caa89456b13d17f03",
        "IPY_MODEL_0bb3de4b3a504484a7e9b8002fe2a161",
        "IPY_MODEL_c8ada734af4d424493c6960484897aed"
       ],
       "layout": "IPY_MODEL_34a63199094e43959ea4b143e1ae42f9"
      }
     },
     "2dd1916a80ab40c9a2763c03699d77a2": {
      "model_module": "@jupyter-widgets/base",
      "model_module_version": "1.2.0",
      "model_name": "LayoutModel",
      "state": {
       "_model_module": "@jupyter-widgets/base",
       "_model_module_version": "1.2.0",
       "_model_name": "LayoutModel",
       "_view_count": null,
       "_view_module": "@jupyter-widgets/base",
       "_view_module_version": "1.2.0",
       "_view_name": "LayoutView",
       "align_content": null,
       "align_items": null,
       "align_self": null,
       "border": null,
       "bottom": null,
       "display": null,
       "flex": null,
       "flex_flow": null,
       "grid_area": null,
       "grid_auto_columns": null,
       "grid_auto_flow": null,
       "grid_auto_rows": null,
       "grid_column": null,
       "grid_gap": null,
       "grid_row": null,
       "grid_template_areas": null,
       "grid_template_columns": null,
       "grid_template_rows": null,
       "height": null,
       "justify_content": null,
       "justify_items": null,
       "left": null,
       "margin": null,
       "max_height": null,
       "max_width": null,
       "min_height": null,
       "min_width": null,
       "object_fit": null,
       "object_position": null,
       "order": null,
       "overflow": null,
       "overflow_x": null,
       "overflow_y": null,
       "padding": null,
       "right": null,
       "top": null,
       "visibility": null,
       "width": null
      }
     },
     "2f47877b7cb643c699cb26a96f1f5180": {
      "model_module": "@jupyter-widgets/controls",
      "model_module_version": "1.5.0",
      "model_name": "DescriptionStyleModel",
      "state": {
       "_model_module": "@jupyter-widgets/controls",
       "_model_module_version": "1.5.0",
       "_model_name": "DescriptionStyleModel",
       "_view_count": null,
       "_view_module": "@jupyter-widgets/base",
       "_view_module_version": "1.2.0",
       "_view_name": "StyleView",
       "description_width": ""
      }
     },
     "34a63199094e43959ea4b143e1ae42f9": {
      "model_module": "@jupyter-widgets/base",
      "model_module_version": "1.2.0",
      "model_name": "LayoutModel",
      "state": {
       "_model_module": "@jupyter-widgets/base",
       "_model_module_version": "1.2.0",
       "_model_name": "LayoutModel",
       "_view_count": null,
       "_view_module": "@jupyter-widgets/base",
       "_view_module_version": "1.2.0",
       "_view_name": "LayoutView",
       "align_content": null,
       "align_items": null,
       "align_self": null,
       "border": null,
       "bottom": null,
       "display": null,
       "flex": null,
       "flex_flow": null,
       "grid_area": null,
       "grid_auto_columns": null,
       "grid_auto_flow": null,
       "grid_auto_rows": null,
       "grid_column": null,
       "grid_gap": null,
       "grid_row": null,
       "grid_template_areas": null,
       "grid_template_columns": null,
       "grid_template_rows": null,
       "height": null,
       "justify_content": null,
       "justify_items": null,
       "left": null,
       "margin": null,
       "max_height": null,
       "max_width": null,
       "min_height": null,
       "min_width": null,
       "object_fit": null,
       "object_position": null,
       "order": null,
       "overflow": null,
       "overflow_x": null,
       "overflow_y": null,
       "padding": null,
       "right": null,
       "top": null,
       "visibility": null,
       "width": null
      }
     },
     "3f20b933872043a6ba02edef40940790": {
      "model_module": "@jupyter-widgets/base",
      "model_module_version": "1.2.0",
      "model_name": "LayoutModel",
      "state": {
       "_model_module": "@jupyter-widgets/base",
       "_model_module_version": "1.2.0",
       "_model_name": "LayoutModel",
       "_view_count": null,
       "_view_module": "@jupyter-widgets/base",
       "_view_module_version": "1.2.0",
       "_view_name": "LayoutView",
       "align_content": null,
       "align_items": null,
       "align_self": null,
       "border": null,
       "bottom": null,
       "display": null,
       "flex": null,
       "flex_flow": null,
       "grid_area": null,
       "grid_auto_columns": null,
       "grid_auto_flow": null,
       "grid_auto_rows": null,
       "grid_column": null,
       "grid_gap": null,
       "grid_row": null,
       "grid_template_areas": null,
       "grid_template_columns": null,
       "grid_template_rows": null,
       "height": null,
       "justify_content": null,
       "justify_items": null,
       "left": null,
       "margin": null,
       "max_height": null,
       "max_width": null,
       "min_height": null,
       "min_width": null,
       "object_fit": null,
       "object_position": null,
       "order": null,
       "overflow": null,
       "overflow_x": null,
       "overflow_y": null,
       "padding": null,
       "right": null,
       "top": null,
       "visibility": null,
       "width": null
      }
     },
     "56a6c582510d4529b795400477413c47": {
      "model_module": "@jupyter-widgets/controls",
      "model_module_version": "1.5.0",
      "model_name": "HTMLModel",
      "state": {
       "_dom_classes": [],
       "_model_module": "@jupyter-widgets/controls",
       "_model_module_version": "1.5.0",
       "_model_name": "HTMLModel",
       "_view_count": null,
       "_view_module": "@jupyter-widgets/controls",
       "_view_module_version": "1.5.0",
       "_view_name": "HTMLView",
       "description": "",
       "description_tooltip": null,
       "layout": "IPY_MODEL_5daebecab0f346b595b5e7b2e54ab199",
       "placeholder": "​",
       "style": "IPY_MODEL_6d8821c444574e6b9d502084be534ad1",
       "value": " 644/644 [00:00&lt;00:00, 58.5kB/s]"
      }
     },
     "5a8375cc22ce4ead8b40eacd8f44d893": {
      "model_module": "@jupyter-widgets/base",
      "model_module_version": "1.2.0",
      "model_name": "LayoutModel",
      "state": {
       "_model_module": "@jupyter-widgets/base",
       "_model_module_version": "1.2.0",
       "_model_name": "LayoutModel",
       "_view_count": null,
       "_view_module": "@jupyter-widgets/base",
       "_view_module_version": "1.2.0",
       "_view_name": "LayoutView",
       "align_content": null,
       "align_items": null,
       "align_self": null,
       "border": null,
       "bottom": null,
       "display": null,
       "flex": null,
       "flex_flow": null,
       "grid_area": null,
       "grid_auto_columns": null,
       "grid_auto_flow": null,
       "grid_auto_rows": null,
       "grid_column": null,
       "grid_gap": null,
       "grid_row": null,
       "grid_template_areas": null,
       "grid_template_columns": null,
       "grid_template_rows": null,
       "height": null,
       "justify_content": null,
       "justify_items": null,
       "left": null,
       "margin": null,
       "max_height": null,
       "max_width": null,
       "min_height": null,
       "min_width": null,
       "object_fit": null,
       "object_position": null,
       "order": null,
       "overflow": null,
       "overflow_x": null,
       "overflow_y": null,
       "padding": null,
       "right": null,
       "top": null,
       "visibility": null,
       "width": null
      }
     },
     "5daebecab0f346b595b5e7b2e54ab199": {
      "model_module": "@jupyter-widgets/base",
      "model_module_version": "1.2.0",
      "model_name": "LayoutModel",
      "state": {
       "_model_module": "@jupyter-widgets/base",
       "_model_module_version": "1.2.0",
       "_model_name": "LayoutModel",
       "_view_count": null,
       "_view_module": "@jupyter-widgets/base",
       "_view_module_version": "1.2.0",
       "_view_name": "LayoutView",
       "align_content": null,
       "align_items": null,
       "align_self": null,
       "border": null,
       "bottom": null,
       "display": null,
       "flex": null,
       "flex_flow": null,
       "grid_area": null,
       "grid_auto_columns": null,
       "grid_auto_flow": null,
       "grid_auto_rows": null,
       "grid_column": null,
       "grid_gap": null,
       "grid_row": null,
       "grid_template_areas": null,
       "grid_template_columns": null,
       "grid_template_rows": null,
       "height": null,
       "justify_content": null,
       "justify_items": null,
       "left": null,
       "margin": null,
       "max_height": null,
       "max_width": null,
       "min_height": null,
       "min_width": null,
       "object_fit": null,
       "object_position": null,
       "order": null,
       "overflow": null,
       "overflow_x": null,
       "overflow_y": null,
       "padding": null,
       "right": null,
       "top": null,
       "visibility": null,
       "width": null
      }
     },
     "5f399d3bb29e4807827a430478396385": {
      "model_module": "@jupyter-widgets/base",
      "model_module_version": "1.2.0",
      "model_name": "LayoutModel",
      "state": {
       "_model_module": "@jupyter-widgets/base",
       "_model_module_version": "1.2.0",
       "_model_name": "LayoutModel",
       "_view_count": null,
       "_view_module": "@jupyter-widgets/base",
       "_view_module_version": "1.2.0",
       "_view_name": "LayoutView",
       "align_content": null,
       "align_items": null,
       "align_self": null,
       "border": null,
       "bottom": null,
       "display": null,
       "flex": null,
       "flex_flow": null,
       "grid_area": null,
       "grid_auto_columns": null,
       "grid_auto_flow": null,
       "grid_auto_rows": null,
       "grid_column": null,
       "grid_gap": null,
       "grid_row": null,
       "grid_template_areas": null,
       "grid_template_columns": null,
       "grid_template_rows": null,
       "height": null,
       "justify_content": null,
       "justify_items": null,
       "left": null,
       "margin": null,
       "max_height": null,
       "max_width": null,
       "min_height": null,
       "min_width": null,
       "object_fit": null,
       "object_position": null,
       "order": null,
       "overflow": null,
       "overflow_x": null,
       "overflow_y": null,
       "padding": null,
       "right": null,
       "top": null,
       "visibility": null,
       "width": null
      }
     },
     "60dfbc5f28e2464caa89456b13d17f03": {
      "model_module": "@jupyter-widgets/controls",
      "model_module_version": "1.5.0",
      "model_name": "HTMLModel",
      "state": {
       "_dom_classes": [],
       "_model_module": "@jupyter-widgets/controls",
       "_model_module_version": "1.5.0",
       "_model_name": "HTMLModel",
       "_view_count": null,
       "_view_module": "@jupyter-widgets/controls",
       "_view_module_version": "1.5.0",
       "_view_name": "HTMLView",
       "description": "",
       "description_tooltip": null,
       "layout": "IPY_MODEL_9df2a036d23e4ceb86239d667d7dc8ef",
       "placeholder": "​",
       "style": "IPY_MODEL_2f47877b7cb643c699cb26a96f1f5180",
       "value": "tokenizer_config.json: 100%"
      }
     },
     "68a284e9dbb84696b461db657b3b697b": {
      "model_module": "@jupyter-widgets/controls",
      "model_module_version": "1.5.0",
      "model_name": "ProgressStyleModel",
      "state": {
       "_model_module": "@jupyter-widgets/controls",
       "_model_module_version": "1.5.0",
       "_model_name": "ProgressStyleModel",
       "_view_count": null,
       "_view_module": "@jupyter-widgets/base",
       "_view_module_version": "1.2.0",
       "_view_name": "StyleView",
       "bar_color": null,
       "description_width": ""
      }
     },
     "6bf072d1ac404807a068bd453d274813": {
      "model_module": "@jupyter-widgets/controls",
      "model_module_version": "1.5.0",
      "model_name": "DescriptionStyleModel",
      "state": {
       "_model_module": "@jupyter-widgets/controls",
       "_model_module_version": "1.5.0",
       "_model_name": "DescriptionStyleModel",
       "_view_count": null,
       "_view_module": "@jupyter-widgets/base",
       "_view_module_version": "1.2.0",
       "_view_name": "StyleView",
       "description_width": ""
      }
     },
     "6c90299858294227b7a5f735ef304df1": {
      "model_module": "@jupyter-widgets/controls",
      "model_module_version": "1.5.0",
      "model_name": "FloatProgressModel",
      "state": {
       "_dom_classes": [],
       "_model_module": "@jupyter-widgets/controls",
       "_model_module_version": "1.5.0",
       "_model_name": "FloatProgressModel",
       "_view_count": null,
       "_view_module": "@jupyter-widgets/controls",
       "_view_module_version": "1.5.0",
       "_view_name": "ProgressView",
       "bar_style": "success",
       "description": "",
       "description_tooltip": null,
       "layout": "IPY_MODEL_3f20b933872043a6ba02edef40940790",
       "max": 898822.0,
       "min": 0.0,
       "orientation": "horizontal",
       "style": "IPY_MODEL_c5f77d1d9e064da188ea6e87cc96020e",
       "value": 898822.0
      }
     },
     "6d8821c444574e6b9d502084be534ad1": {
      "model_module": "@jupyter-widgets/controls",
      "model_module_version": "1.5.0",
      "model_name": "DescriptionStyleModel",
      "state": {
       "_model_module": "@jupyter-widgets/controls",
       "_model_module_version": "1.5.0",
       "_model_name": "DescriptionStyleModel",
       "_view_count": null,
       "_view_module": "@jupyter-widgets/base",
       "_view_module_version": "1.2.0",
       "_view_name": "StyleView",
       "description_width": ""
      }
     },
     "7422d6b9bafd4745a460908c5cc58ba9": {
      "model_module": "@jupyter-widgets/base",
      "model_module_version": "1.2.0",
      "model_name": "LayoutModel",
      "state": {
       "_model_module": "@jupyter-widgets/base",
       "_model_module_version": "1.2.0",
       "_model_name": "LayoutModel",
       "_view_count": null,
       "_view_module": "@jupyter-widgets/base",
       "_view_module_version": "1.2.0",
       "_view_name": "LayoutView",
       "align_content": null,
       "align_items": null,
       "align_self": null,
       "border": null,
       "bottom": null,
       "display": null,
       "flex": null,
       "flex_flow": null,
       "grid_area": null,
       "grid_auto_columns": null,
       "grid_auto_flow": null,
       "grid_auto_rows": null,
       "grid_column": null,
       "grid_gap": null,
       "grid_row": null,
       "grid_template_areas": null,
       "grid_template_columns": null,
       "grid_template_rows": null,
       "height": null,
       "justify_content": null,
       "justify_items": null,
       "left": null,
       "margin": null,
       "max_height": null,
       "max_width": null,
       "min_height": null,
       "min_width": null,
       "object_fit": null,
       "object_position": null,
       "order": null,
       "overflow": null,
       "overflow_x": null,
       "overflow_y": null,
       "padding": null,
       "right": null,
       "top": null,
       "visibility": null,
       "width": null
      }
     },
     "7927dbec704a448296ea92e9e63e86cd": {
      "model_module": "@jupyter-widgets/controls",
      "model_module_version": "1.5.0",
      "model_name": "DescriptionStyleModel",
      "state": {
       "_model_module": "@jupyter-widgets/controls",
       "_model_module_version": "1.5.0",
       "_model_name": "DescriptionStyleModel",
       "_view_count": null,
       "_view_module": "@jupyter-widgets/base",
       "_view_module_version": "1.2.0",
       "_view_name": "StyleView",
       "description_width": ""
      }
     },
     "7a24a5c5de7848f3b77ffdbdd53f3feb": {
      "model_module": "@jupyter-widgets/base",
      "model_module_version": "1.2.0",
      "model_name": "LayoutModel",
      "state": {
       "_model_module": "@jupyter-widgets/base",
       "_model_module_version": "1.2.0",
       "_model_name": "LayoutModel",
       "_view_count": null,
       "_view_module": "@jupyter-widgets/base",
       "_view_module_version": "1.2.0",
       "_view_name": "LayoutView",
       "align_content": null,
       "align_items": null,
       "align_self": null,
       "border": null,
       "bottom": null,
       "display": null,
       "flex": null,
       "flex_flow": null,
       "grid_area": null,
       "grid_auto_columns": null,
       "grid_auto_flow": null,
       "grid_auto_rows": null,
       "grid_column": null,
       "grid_gap": null,
       "grid_row": null,
       "grid_template_areas": null,
       "grid_template_columns": null,
       "grid_template_rows": null,
       "height": null,
       "justify_content": null,
       "justify_items": null,
       "left": null,
       "margin": null,
       "max_height": null,
       "max_width": null,
       "min_height": null,
       "min_width": null,
       "object_fit": null,
       "object_position": null,
       "order": null,
       "overflow": null,
       "overflow_x": null,
       "overflow_y": null,
       "padding": null,
       "right": null,
       "top": null,
       "visibility": null,
       "width": null
      }
     },
     "7c7aa0ea84b34e428147301fff3163c6": {
      "model_module": "@jupyter-widgets/controls",
      "model_module_version": "1.5.0",
      "model_name": "ProgressStyleModel",
      "state": {
       "_model_module": "@jupyter-widgets/controls",
       "_model_module_version": "1.5.0",
       "_model_name": "ProgressStyleModel",
       "_view_count": null,
       "_view_module": "@jupyter-widgets/base",
       "_view_module_version": "1.2.0",
       "_view_name": "StyleView",
       "bar_color": null,
       "description_width": ""
      }
     },
     "846452d127ee4b1096a9cc4cf510b749": {
      "model_module": "@jupyter-widgets/base",
      "model_module_version": "1.2.0",
      "model_name": "LayoutModel",
      "state": {
       "_model_module": "@jupyter-widgets/base",
       "_model_module_version": "1.2.0",
       "_model_name": "LayoutModel",
       "_view_count": null,
       "_view_module": "@jupyter-widgets/base",
       "_view_module_version": "1.2.0",
       "_view_name": "LayoutView",
       "align_content": null,
       "align_items": null,
       "align_self": null,
       "border": null,
       "bottom": null,
       "display": null,
       "flex": null,
       "flex_flow": null,
       "grid_area": null,
       "grid_auto_columns": null,
       "grid_auto_flow": null,
       "grid_auto_rows": null,
       "grid_column": null,
       "grid_gap": null,
       "grid_row": null,
       "grid_template_areas": null,
       "grid_template_columns": null,
       "grid_template_rows": null,
       "height": null,
       "justify_content": null,
       "justify_items": null,
       "left": null,
       "margin": null,
       "max_height": null,
       "max_width": null,
       "min_height": null,
       "min_width": null,
       "object_fit": null,
       "object_position": null,
       "order": null,
       "overflow": null,
       "overflow_x": null,
       "overflow_y": null,
       "padding": null,
       "right": null,
       "top": null,
       "visibility": null,
       "width": null
      }
     },
     "849f2cfccc1b499e8796a0bd548ad4a6": {
      "model_module": "@jupyter-widgets/controls",
      "model_module_version": "1.5.0",
      "model_name": "ProgressStyleModel",
      "state": {
       "_model_module": "@jupyter-widgets/controls",
       "_model_module_version": "1.5.0",
       "_model_name": "ProgressStyleModel",
       "_view_count": null,
       "_view_module": "@jupyter-widgets/base",
       "_view_module_version": "1.2.0",
       "_view_name": "StyleView",
       "bar_color": null,
       "description_width": ""
      }
     },
     "84ed62a47658492fb8db60fbbc982ff5": {
      "model_module": "@jupyter-widgets/controls",
      "model_module_version": "1.5.0",
      "model_name": "HTMLModel",
      "state": {
       "_dom_classes": [],
       "_model_module": "@jupyter-widgets/controls",
       "_model_module_version": "1.5.0",
       "_model_name": "HTMLModel",
       "_view_count": null,
       "_view_module": "@jupyter-widgets/controls",
       "_view_module_version": "1.5.0",
       "_view_name": "HTMLView",
       "description": "",
       "description_tooltip": null,
       "layout": "IPY_MODEL_cd7d706a12df4d748e2fa403a6cf6e84",
       "placeholder": "​",
       "style": "IPY_MODEL_d149b2e5e7c04c33ab7f2a3d63208c60",
       "value": "vocab.json: 100%"
      }
     },
     "85244de63d0f4adbb7e36f13547cac8d": {
      "model_module": "@jupyter-widgets/controls",
      "model_module_version": "1.5.0",
      "model_name": "HTMLModel",
      "state": {
       "_dom_classes": [],
       "_model_module": "@jupyter-widgets/controls",
       "_model_module_version": "1.5.0",
       "_model_name": "HTMLModel",
       "_view_count": null,
       "_view_module": "@jupyter-widgets/controls",
       "_view_module_version": "1.5.0",
       "_view_name": "HTMLView",
       "description": "",
       "description_tooltip": null,
       "layout": "IPY_MODEL_ec95e474ea314e1cb93470d5ee0291d1",
       "placeholder": "​",
       "style": "IPY_MODEL_f9040b1d40e045789aca36f275ce773a",
       "value": "special_tokens_map.json: 100%"
      }
     },
     "8fbec1f2ebc44850b8f9b7f1526b8f8b": {
      "model_module": "@jupyter-widgets/controls",
      "model_module_version": "1.5.0",
      "model_name": "ProgressStyleModel",
      "state": {
       "_model_module": "@jupyter-widgets/controls",
       "_model_module_version": "1.5.0",
       "_model_name": "ProgressStyleModel",
       "_view_count": null,
       "_view_module": "@jupyter-widgets/base",
       "_view_module_version": "1.2.0",
       "_view_name": "StyleView",
       "bar_color": null,
       "description_width": ""
      }
     },
     "9c5ba7f5b3f443cb9ef530ce0f9b65c2": {
      "model_module": "@jupyter-widgets/controls",
      "model_module_version": "1.5.0",
      "model_name": "HBoxModel",
      "state": {
       "_dom_classes": [],
       "_model_module": "@jupyter-widgets/controls",
       "_model_module_version": "1.5.0",
       "_model_name": "HBoxModel",
       "_view_count": null,
       "_view_module": "@jupyter-widgets/controls",
       "_view_module_version": "1.5.0",
       "_view_name": "HBoxView",
       "box_style": "",
       "children": [
        "IPY_MODEL_de258727af7a4ed0b62f7e00a30631e1",
        "IPY_MODEL_a3251720bcdf4075b6c4694e6149f945",
        "IPY_MODEL_05813af7bfef48cf8683ed9ab6030535"
       ],
       "layout": "IPY_MODEL_5f399d3bb29e4807827a430478396385"
      }
     },
     "9df2a036d23e4ceb86239d667d7dc8ef": {
      "model_module": "@jupyter-widgets/base",
      "model_module_version": "1.2.0",
      "model_name": "LayoutModel",
      "state": {
       "_model_module": "@jupyter-widgets/base",
       "_model_module_version": "1.2.0",
       "_model_name": "LayoutModel",
       "_view_count": null,
       "_view_module": "@jupyter-widgets/base",
       "_view_module_version": "1.2.0",
       "_view_name": "LayoutView",
       "align_content": null,
       "align_items": null,
       "align_self": null,
       "border": null,
       "bottom": null,
       "display": null,
       "flex": null,
       "flex_flow": null,
       "grid_area": null,
       "grid_auto_columns": null,
       "grid_auto_flow": null,
       "grid_auto_rows": null,
       "grid_column": null,
       "grid_gap": null,
       "grid_row": null,
       "grid_template_areas": null,
       "grid_template_columns": null,
       "grid_template_rows": null,
       "height": null,
       "justify_content": null,
       "justify_items": null,
       "left": null,
       "margin": null,
       "max_height": null,
       "max_width": null,
       "min_height": null,
       "min_width": null,
       "object_fit": null,
       "object_position": null,
       "order": null,
       "overflow": null,
       "overflow_x": null,
       "overflow_y": null,
       "padding": null,
       "right": null,
       "top": null,
       "visibility": null,
       "width": null
      }
     },
     "a3251720bcdf4075b6c4694e6149f945": {
      "model_module": "@jupyter-widgets/controls",
      "model_module_version": "1.5.0",
      "model_name": "FloatProgressModel",
      "state": {
       "_dom_classes": [],
       "_model_module": "@jupyter-widgets/controls",
       "_model_module_version": "1.5.0",
       "_model_name": "FloatProgressModel",
       "_view_count": null,
       "_view_module": "@jupyter-widgets/controls",
       "_view_module_version": "1.5.0",
       "_view_name": "ProgressView",
       "bar_style": "success",
       "description": "",
       "description_tooltip": null,
       "layout": "IPY_MODEL_cb02af15f68a4961b53fdc28a46e1e3b",
       "max": 456318.0,
       "min": 0.0,
       "orientation": "horizontal",
       "style": "IPY_MODEL_8fbec1f2ebc44850b8f9b7f1526b8f8b",
       "value": 456318.0
      }
     },
     "a5352efd6c814e6a8a72ba0eda0662a3": {
      "model_module": "@jupyter-widgets/controls",
      "model_module_version": "1.5.0",
      "model_name": "HTMLModel",
      "state": {
       "_dom_classes": [],
       "_model_module": "@jupyter-widgets/controls",
       "_model_module_version": "1.5.0",
       "_model_name": "HTMLModel",
       "_view_count": null,
       "_view_module": "@jupyter-widgets/controls",
       "_view_module_version": "1.5.0",
       "_view_name": "HTMLView",
       "description": "",
       "description_tooltip": null,
       "layout": "IPY_MODEL_e541b314ec2245d5bb6a440652e30f6b",
       "placeholder": "​",
       "style": "IPY_MODEL_ba17c5055cdb4f7c858d4166189d9851",
       "value": " 441/441 [00:00&lt;00:00, 36.9kB/s]"
      }
     },
     "ab81dc9abd0a478886fe79e2e83c47a9": {
      "model_module": "@jupyter-widgets/controls",
      "model_module_version": "1.5.0",
      "model_name": "HBoxModel",
      "state": {
       "_dom_classes": [],
       "_model_module": "@jupyter-widgets/controls",
       "_model_module_version": "1.5.0",
       "_model_name": "HBoxModel",
       "_view_count": null,
       "_view_module": "@jupyter-widgets/controls",
       "_view_module_version": "1.5.0",
       "_view_name": "HBoxView",
       "box_style": "",
       "children": [
        "IPY_MODEL_84ed62a47658492fb8db60fbbc982ff5",
        "IPY_MODEL_6c90299858294227b7a5f735ef304df1",
        "IPY_MODEL_ba9ad011c0004ca596aced074bb983e3"
       ],
       "layout": "IPY_MODEL_846452d127ee4b1096a9cc4cf510b749"
      }
     },
     "ab842330fb434688bfa7443dd461bf39": {
      "model_module": "@jupyter-widgets/controls",
      "model_module_version": "1.5.0",
      "model_name": "HBoxModel",
      "state": {
       "_dom_classes": [],
       "_model_module": "@jupyter-widgets/controls",
       "_model_module_version": "1.5.0",
       "_model_name": "HBoxModel",
       "_view_count": null,
       "_view_module": "@jupyter-widgets/controls",
       "_view_module_version": "1.5.0",
       "_view_name": "HBoxView",
       "box_style": "",
       "children": [
        "IPY_MODEL_85244de63d0f4adbb7e36f13547cac8d",
        "IPY_MODEL_faec806dcbf34a84ada5fa5573a1902d",
        "IPY_MODEL_a5352efd6c814e6a8a72ba0eda0662a3"
       ],
       "layout": "IPY_MODEL_fb6fca2796e04638b84b042a9f5c91fb"
      }
     },
     "ad27ceeaff554e31882d45d97eab2d06": {
      "model_module": "@jupyter-widgets/base",
      "model_module_version": "1.2.0",
      "model_name": "LayoutModel",
      "state": {
       "_model_module": "@jupyter-widgets/base",
       "_model_module_version": "1.2.0",
       "_model_name": "LayoutModel",
       "_view_count": null,
       "_view_module": "@jupyter-widgets/base",
       "_view_module_version": "1.2.0",
       "_view_name": "LayoutView",
       "align_content": null,
       "align_items": null,
       "align_self": null,
       "border": null,
       "bottom": null,
       "display": null,
       "flex": null,
       "flex_flow": null,
       "grid_area": null,
       "grid_auto_columns": null,
       "grid_auto_flow": null,
       "grid_auto_rows": null,
       "grid_column": null,
       "grid_gap": null,
       "grid_row": null,
       "grid_template_areas": null,
       "grid_template_columns": null,
       "grid_template_rows": null,
       "height": null,
       "justify_content": null,
       "justify_items": null,
       "left": null,
       "margin": null,
       "max_height": null,
       "max_width": null,
       "min_height": null,
       "min_width": null,
       "object_fit": null,
       "object_position": null,
       "order": null,
       "overflow": null,
       "overflow_x": null,
       "overflow_y": null,
       "padding": null,
       "right": null,
       "top": null,
       "visibility": null,
       "width": null
      }
     },
     "b1bf7704034c417fb8f478e9eee32bd3": {
      "model_module": "@jupyter-widgets/base",
      "model_module_version": "1.2.0",
      "model_name": "LayoutModel",
      "state": {
       "_model_module": "@jupyter-widgets/base",
       "_model_module_version": "1.2.0",
       "_model_name": "LayoutModel",
       "_view_count": null,
       "_view_module": "@jupyter-widgets/base",
       "_view_module_version": "1.2.0",
       "_view_name": "LayoutView",
       "align_content": null,
       "align_items": null,
       "align_self": null,
       "border": null,
       "bottom": null,
       "display": null,
       "flex": null,
       "flex_flow": null,
       "grid_area": null,
       "grid_auto_columns": null,
       "grid_auto_flow": null,
       "grid_auto_rows": null,
       "grid_column": null,
       "grid_gap": null,
       "grid_row": null,
       "grid_template_areas": null,
       "grid_template_columns": null,
       "grid_template_rows": null,
       "height": null,
       "justify_content": null,
       "justify_items": null,
       "left": null,
       "margin": null,
       "max_height": null,
       "max_width": null,
       "min_height": null,
       "min_width": null,
       "object_fit": null,
       "object_position": null,
       "order": null,
       "overflow": null,
       "overflow_x": null,
       "overflow_y": null,
       "padding": null,
       "right": null,
       "top": null,
       "visibility": null,
       "width": null
      }
     },
     "ba17c5055cdb4f7c858d4166189d9851": {
      "model_module": "@jupyter-widgets/controls",
      "model_module_version": "1.5.0",
      "model_name": "DescriptionStyleModel",
      "state": {
       "_model_module": "@jupyter-widgets/controls",
       "_model_module_version": "1.5.0",
       "_model_name": "DescriptionStyleModel",
       "_view_count": null,
       "_view_module": "@jupyter-widgets/base",
       "_view_module_version": "1.2.0",
       "_view_name": "StyleView",
       "description_width": ""
      }
     },
     "ba9ad011c0004ca596aced074bb983e3": {
      "model_module": "@jupyter-widgets/controls",
      "model_module_version": "1.5.0",
      "model_name": "HTMLModel",
      "state": {
       "_dom_classes": [],
       "_model_module": "@jupyter-widgets/controls",
       "_model_module_version": "1.5.0",
       "_model_name": "HTMLModel",
       "_view_count": null,
       "_view_module": "@jupyter-widgets/controls",
       "_view_module_version": "1.5.0",
       "_view_name": "HTMLView",
       "description": "",
       "description_tooltip": null,
       "layout": "IPY_MODEL_5a8375cc22ce4ead8b40eacd8f44d893",
       "placeholder": "​",
       "style": "IPY_MODEL_7927dbec704a448296ea92e9e63e86cd",
       "value": " 899k/899k [00:00&lt;00:00, 4.53MB/s]"
      }
     },
     "c5f77d1d9e064da188ea6e87cc96020e": {
      "model_module": "@jupyter-widgets/controls",
      "model_module_version": "1.5.0",
      "model_name": "ProgressStyleModel",
      "state": {
       "_model_module": "@jupyter-widgets/controls",
       "_model_module_version": "1.5.0",
       "_model_name": "ProgressStyleModel",
       "_view_count": null,
       "_view_module": "@jupyter-widgets/base",
       "_view_module_version": "1.2.0",
       "_view_name": "StyleView",
       "bar_color": null,
       "description_width": ""
      }
     },
     "c8ada734af4d424493c6960484897aed": {
      "model_module": "@jupyter-widgets/controls",
      "model_module_version": "1.5.0",
      "model_name": "HTMLModel",
      "state": {
       "_dom_classes": [],
       "_model_module": "@jupyter-widgets/controls",
       "_model_module_version": "1.5.0",
       "_model_name": "HTMLModel",
       "_view_count": null,
       "_view_module": "@jupyter-widgets/controls",
       "_view_module_version": "1.5.0",
       "_view_name": "HTMLView",
       "description": "",
       "description_tooltip": null,
       "layout": "IPY_MODEL_f84ab7f68a434399b7a51b9305936923",
       "placeholder": "​",
       "style": "IPY_MODEL_6bf072d1ac404807a068bd453d274813",
       "value": " 685/685 [00:00&lt;00:00, 60.4kB/s]"
      }
     },
     "cb02af15f68a4961b53fdc28a46e1e3b": {
      "model_module": "@jupyter-widgets/base",
      "model_module_version": "1.2.0",
      "model_name": "LayoutModel",
      "state": {
       "_model_module": "@jupyter-widgets/base",
       "_model_module_version": "1.2.0",
       "_model_name": "LayoutModel",
       "_view_count": null,
       "_view_module": "@jupyter-widgets/base",
       "_view_module_version": "1.2.0",
       "_view_name": "LayoutView",
       "align_content": null,
       "align_items": null,
       "align_self": null,
       "border": null,
       "bottom": null,
       "display": null,
       "flex": null,
       "flex_flow": null,
       "grid_area": null,
       "grid_auto_columns": null,
       "grid_auto_flow": null,
       "grid_auto_rows": null,
       "grid_column": null,
       "grid_gap": null,
       "grid_row": null,
       "grid_template_areas": null,
       "grid_template_columns": null,
       "grid_template_rows": null,
       "height": null,
       "justify_content": null,
       "justify_items": null,
       "left": null,
       "margin": null,
       "max_height": null,
       "max_width": null,
       "min_height": null,
       "min_width": null,
       "object_fit": null,
       "object_position": null,
       "order": null,
       "overflow": null,
       "overflow_x": null,
       "overflow_y": null,
       "padding": null,
       "right": null,
       "top": null,
       "visibility": null,
       "width": null
      }
     },
     "cd7d706a12df4d748e2fa403a6cf6e84": {
      "model_module": "@jupyter-widgets/base",
      "model_module_version": "1.2.0",
      "model_name": "LayoutModel",
      "state": {
       "_model_module": "@jupyter-widgets/base",
       "_model_module_version": "1.2.0",
       "_model_name": "LayoutModel",
       "_view_count": null,
       "_view_module": "@jupyter-widgets/base",
       "_view_module_version": "1.2.0",
       "_view_name": "LayoutView",
       "align_content": null,
       "align_items": null,
       "align_self": null,
       "border": null,
       "bottom": null,
       "display": null,
       "flex": null,
       "flex_flow": null,
       "grid_area": null,
       "grid_auto_columns": null,
       "grid_auto_flow": null,
       "grid_auto_rows": null,
       "grid_column": null,
       "grid_gap": null,
       "grid_row": null,
       "grid_template_areas": null,
       "grid_template_columns": null,
       "grid_template_rows": null,
       "height": null,
       "justify_content": null,
       "justify_items": null,
       "left": null,
       "margin": null,
       "max_height": null,
       "max_width": null,
       "min_height": null,
       "min_width": null,
       "object_fit": null,
       "object_position": null,
       "order": null,
       "overflow": null,
       "overflow_x": null,
       "overflow_y": null,
       "padding": null,
       "right": null,
       "top": null,
       "visibility": null,
       "width": null
      }
     },
     "d149b2e5e7c04c33ab7f2a3d63208c60": {
      "model_module": "@jupyter-widgets/controls",
      "model_module_version": "1.5.0",
      "model_name": "DescriptionStyleModel",
      "state": {
       "_model_module": "@jupyter-widgets/controls",
       "_model_module_version": "1.5.0",
       "_model_name": "DescriptionStyleModel",
       "_view_count": null,
       "_view_module": "@jupyter-widgets/base",
       "_view_module_version": "1.2.0",
       "_view_name": "StyleView",
       "description_width": ""
      }
     },
     "d299c274a8b2429e8c7e439dea5a7158": {
      "model_module": "@jupyter-widgets/controls",
      "model_module_version": "1.5.0",
      "model_name": "DescriptionStyleModel",
      "state": {
       "_model_module": "@jupyter-widgets/controls",
       "_model_module_version": "1.5.0",
       "_model_name": "DescriptionStyleModel",
       "_view_count": null,
       "_view_module": "@jupyter-widgets/base",
       "_view_module_version": "1.2.0",
       "_view_name": "StyleView",
       "description_width": ""
      }
     },
     "de258727af7a4ed0b62f7e00a30631e1": {
      "model_module": "@jupyter-widgets/controls",
      "model_module_version": "1.5.0",
      "model_name": "HTMLModel",
      "state": {
       "_dom_classes": [],
       "_model_module": "@jupyter-widgets/controls",
       "_model_module_version": "1.5.0",
       "_model_name": "HTMLModel",
       "_view_count": null,
       "_view_module": "@jupyter-widgets/controls",
       "_view_module_version": "1.5.0",
       "_view_name": "HTMLView",
       "description": "",
       "description_tooltip": null,
       "layout": "IPY_MODEL_e5eddd7d20ff48cd8679151cf19bc8e9",
       "placeholder": "​",
       "style": "IPY_MODEL_0ea618fc37de4531b938b1647be02632",
       "value": "merges.txt: 100%"
      }
     },
     "e0614698c0b14238bfd9cdd110cfedf5": {
      "model_module": "@jupyter-widgets/base",
      "model_module_version": "1.2.0",
      "model_name": "LayoutModel",
      "state": {
       "_model_module": "@jupyter-widgets/base",
       "_model_module_version": "1.2.0",
       "_model_name": "LayoutModel",
       "_view_count": null,
       "_view_module": "@jupyter-widgets/base",
       "_view_module_version": "1.2.0",
       "_view_name": "LayoutView",
       "align_content": null,
       "align_items": null,
       "align_self": null,
       "border": null,
       "bottom": null,
       "display": null,
       "flex": null,
       "flex_flow": null,
       "grid_area": null,
       "grid_auto_columns": null,
       "grid_auto_flow": null,
       "grid_auto_rows": null,
       "grid_column": null,
       "grid_gap": null,
       "grid_row": null,
       "grid_template_areas": null,
       "grid_template_columns": null,
       "grid_template_rows": null,
       "height": null,
       "justify_content": null,
       "justify_items": null,
       "left": null,
       "margin": null,
       "max_height": null,
       "max_width": null,
       "min_height": null,
       "min_width": null,
       "object_fit": null,
       "object_position": null,
       "order": null,
       "overflow": null,
       "overflow_x": null,
       "overflow_y": null,
       "padding": null,
       "right": null,
       "top": null,
       "visibility": null,
       "width": null
      }
     },
     "e541b314ec2245d5bb6a440652e30f6b": {
      "model_module": "@jupyter-widgets/base",
      "model_module_version": "1.2.0",
      "model_name": "LayoutModel",
      "state": {
       "_model_module": "@jupyter-widgets/base",
       "_model_module_version": "1.2.0",
       "_model_name": "LayoutModel",
       "_view_count": null,
       "_view_module": "@jupyter-widgets/base",
       "_view_module_version": "1.2.0",
       "_view_name": "LayoutView",
       "align_content": null,
       "align_items": null,
       "align_self": null,
       "border": null,
       "bottom": null,
       "display": null,
       "flex": null,
       "flex_flow": null,
       "grid_area": null,
       "grid_auto_columns": null,
       "grid_auto_flow": null,
       "grid_auto_rows": null,
       "grid_column": null,
       "grid_gap": null,
       "grid_row": null,
       "grid_template_areas": null,
       "grid_template_columns": null,
       "grid_template_rows": null,
       "height": null,
       "justify_content": null,
       "justify_items": null,
       "left": null,
       "margin": null,
       "max_height": null,
       "max_width": null,
       "min_height": null,
       "min_width": null,
       "object_fit": null,
       "object_position": null,
       "order": null,
       "overflow": null,
       "overflow_x": null,
       "overflow_y": null,
       "padding": null,
       "right": null,
       "top": null,
       "visibility": null,
       "width": null
      }
     },
     "e5eddd7d20ff48cd8679151cf19bc8e9": {
      "model_module": "@jupyter-widgets/base",
      "model_module_version": "1.2.0",
      "model_name": "LayoutModel",
      "state": {
       "_model_module": "@jupyter-widgets/base",
       "_model_module_version": "1.2.0",
       "_model_name": "LayoutModel",
       "_view_count": null,
       "_view_module": "@jupyter-widgets/base",
       "_view_module_version": "1.2.0",
       "_view_name": "LayoutView",
       "align_content": null,
       "align_items": null,
       "align_self": null,
       "border": null,
       "bottom": null,
       "display": null,
       "flex": null,
       "flex_flow": null,
       "grid_area": null,
       "grid_auto_columns": null,
       "grid_auto_flow": null,
       "grid_auto_rows": null,
       "grid_column": null,
       "grid_gap": null,
       "grid_row": null,
       "grid_template_areas": null,
       "grid_template_columns": null,
       "grid_template_rows": null,
       "height": null,
       "justify_content": null,
       "justify_items": null,
       "left": null,
       "margin": null,
       "max_height": null,
       "max_width": null,
       "min_height": null,
       "min_width": null,
       "object_fit": null,
       "object_position": null,
       "order": null,
       "overflow": null,
       "overflow_x": null,
       "overflow_y": null,
       "padding": null,
       "right": null,
       "top": null,
       "visibility": null,
       "width": null
      }
     },
     "ec95e474ea314e1cb93470d5ee0291d1": {
      "model_module": "@jupyter-widgets/base",
      "model_module_version": "1.2.0",
      "model_name": "LayoutModel",
      "state": {
       "_model_module": "@jupyter-widgets/base",
       "_model_module_version": "1.2.0",
       "_model_name": "LayoutModel",
       "_view_count": null,
       "_view_module": "@jupyter-widgets/base",
       "_view_module_version": "1.2.0",
       "_view_name": "LayoutView",
       "align_content": null,
       "align_items": null,
       "align_self": null,
       "border": null,
       "bottom": null,
       "display": null,
       "flex": null,
       "flex_flow": null,
       "grid_area": null,
       "grid_auto_columns": null,
       "grid_auto_flow": null,
       "grid_auto_rows": null,
       "grid_column": null,
       "grid_gap": null,
       "grid_row": null,
       "grid_template_areas": null,
       "grid_template_columns": null,
       "grid_template_rows": null,
       "height": null,
       "justify_content": null,
       "justify_items": null,
       "left": null,
       "margin": null,
       "max_height": null,
       "max_width": null,
       "min_height": null,
       "min_width": null,
       "object_fit": null,
       "object_position": null,
       "order": null,
       "overflow": null,
       "overflow_x": null,
       "overflow_y": null,
       "padding": null,
       "right": null,
       "top": null,
       "visibility": null,
       "width": null
      }
     },
     "f84ab7f68a434399b7a51b9305936923": {
      "model_module": "@jupyter-widgets/base",
      "model_module_version": "1.2.0",
      "model_name": "LayoutModel",
      "state": {
       "_model_module": "@jupyter-widgets/base",
       "_model_module_version": "1.2.0",
       "_model_name": "LayoutModel",
       "_view_count": null,
       "_view_module": "@jupyter-widgets/base",
       "_view_module_version": "1.2.0",
       "_view_name": "LayoutView",
       "align_content": null,
       "align_items": null,
       "align_self": null,
       "border": null,
       "bottom": null,
       "display": null,
       "flex": null,
       "flex_flow": null,
       "grid_area": null,
       "grid_auto_columns": null,
       "grid_auto_flow": null,
       "grid_auto_rows": null,
       "grid_column": null,
       "grid_gap": null,
       "grid_row": null,
       "grid_template_areas": null,
       "grid_template_columns": null,
       "grid_template_rows": null,
       "height": null,
       "justify_content": null,
       "justify_items": null,
       "left": null,
       "margin": null,
       "max_height": null,
       "max_width": null,
       "min_height": null,
       "min_width": null,
       "object_fit": null,
       "object_position": null,
       "order": null,
       "overflow": null,
       "overflow_x": null,
       "overflow_y": null,
       "padding": null,
       "right": null,
       "top": null,
       "visibility": null,
       "width": null
      }
     },
     "f9040b1d40e045789aca36f275ce773a": {
      "model_module": "@jupyter-widgets/controls",
      "model_module_version": "1.5.0",
      "model_name": "DescriptionStyleModel",
      "state": {
       "_model_module": "@jupyter-widgets/controls",
       "_model_module_version": "1.5.0",
       "_model_name": "DescriptionStyleModel",
       "_view_count": null,
       "_view_module": "@jupyter-widgets/base",
       "_view_module_version": "1.2.0",
       "_view_name": "StyleView",
       "description_width": ""
      }
     },
     "faec806dcbf34a84ada5fa5573a1902d": {
      "model_module": "@jupyter-widgets/controls",
      "model_module_version": "1.5.0",
      "model_name": "FloatProgressModel",
      "state": {
       "_dom_classes": [],
       "_model_module": "@jupyter-widgets/controls",
       "_model_module_version": "1.5.0",
       "_model_name": "FloatProgressModel",
       "_view_count": null,
       "_view_module": "@jupyter-widgets/controls",
       "_view_module_version": "1.5.0",
       "_view_name": "ProgressView",
       "bar_style": "success",
       "description": "",
       "description_tooltip": null,
       "layout": "IPY_MODEL_ad27ceeaff554e31882d45d97eab2d06",
       "max": 441.0,
       "min": 0.0,
       "orientation": "horizontal",
       "style": "IPY_MODEL_68a284e9dbb84696b461db657b3b697b",
       "value": 441.0
      }
     },
     "fb6fca2796e04638b84b042a9f5c91fb": {
      "model_module": "@jupyter-widgets/base",
      "model_module_version": "1.2.0",
      "model_name": "LayoutModel",
      "state": {
       "_model_module": "@jupyter-widgets/base",
       "_model_module_version": "1.2.0",
       "_model_name": "LayoutModel",
       "_view_count": null,
       "_view_module": "@jupyter-widgets/base",
       "_view_module_version": "1.2.0",
       "_view_name": "LayoutView",
       "align_content": null,
       "align_items": null,
       "align_self": null,
       "border": null,
       "bottom": null,
       "display": null,
       "flex": null,
       "flex_flow": null,
       "grid_area": null,
       "grid_auto_columns": null,
       "grid_auto_flow": null,
       "grid_auto_rows": null,
       "grid_column": null,
       "grid_gap": null,
       "grid_row": null,
       "grid_template_areas": null,
       "grid_template_columns": null,
       "grid_template_rows": null,
       "height": null,
       "justify_content": null,
       "justify_items": null,
       "left": null,
       "margin": null,
       "max_height": null,
       "max_width": null,
       "min_height": null,
       "min_width": null,
       "object_fit": null,
       "object_position": null,
       "order": null,
       "overflow": null,
       "overflow_x": null,
       "overflow_y": null,
       "padding": null,
       "right": null,
       "top": null,
       "visibility": null,
       "width": null
      }
     }
    },
    "version_major": 2,
    "version_minor": 0
   }
  }
 },
 "nbformat": 4,
 "nbformat_minor": 5
}
