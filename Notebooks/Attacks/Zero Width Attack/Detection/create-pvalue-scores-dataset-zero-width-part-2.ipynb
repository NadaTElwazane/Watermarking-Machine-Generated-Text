{
 "cells": [
  {
   "cell_type": "code",
   "execution_count": null,
   "id": "6d9a7496",
   "metadata": {
    "papermill": {
     "duration": 0.004,
     "end_time": "2024-04-26T18:05:57.442142",
     "exception": false,
     "start_time": "2024-04-26T18:05:57.438142",
     "status": "completed"
    },
    "tags": []
   },
   "outputs": [],
   "source": []
  },
  {
   "cell_type": "code",
   "execution_count": 1,
   "id": "869fd872",
   "metadata": {
    "_cell_guid": "b1076dfc-b9ad-4769-8c92-a6c4dae69d19",
    "_uuid": "8f2839f25d086af736a60e9eeb907d3b93b6e0e5",
    "execution": {
     "iopub.execute_input": "2024-04-26T18:05:57.454385Z",
     "iopub.status.busy": "2024-04-26T18:05:57.453872Z",
     "iopub.status.idle": "2024-04-26T18:05:58.378964Z",
     "shell.execute_reply": "2024-04-26T18:05:58.376831Z"
    },
    "papermill": {
     "duration": 0.935773,
     "end_time": "2024-04-26T18:05:58.381740",
     "exception": false,
     "start_time": "2024-04-26T18:05:57.445967",
     "status": "completed"
    },
    "tags": []
   },
   "outputs": [
    {
     "name": "stdout",
     "output_type": "stream",
     "text": [
      "/kaggle/input/attacked-text/attacked_text.csv\n",
      "/kaggle/input/watermarked-and-unwatermarked-text-truncated/data_trunk.csv\n"
     ]
    }
   ],
   "source": [
    "# This Python 3 environment comes with many helpful analytics libraries installed\n",
    "# It is defined by the kaggle/python Docker image: https://github.com/kaggle/docker-python\n",
    "# For example, here's several helpful packages to load\n",
    "\n",
    "import numpy as np # linear algebra\n",
    "import pandas as pd # data processing, CSV file I/O (e.g. pd.read_csv)\n",
    "\n",
    "# Input data files are available in the read-only \"../input/\" directory\n",
    "# For example, running this (by clicking run or pressing Shift+Enter) will list all files under the input directory\n",
    "\n",
    "import os\n",
    "for dirname, _, filenames in os.walk('/kaggle/input'):\n",
    "    for filename in filenames:\n",
    "        print(os.path.join(dirname, filename))\n",
    "\n",
    "# You can write up to 20GB to the current directory (/kaggle/working/) that gets preserved as output when you create a version using \"Save & Run All\" \n",
    "# You can also write temporary files to /kaggle/temp/, but they won't be saved outside of the current session"
   ]
  },
  {
   "cell_type": "code",
   "execution_count": 2,
   "id": "3f147e41",
   "metadata": {
    "execution": {
     "iopub.execute_input": "2024-04-26T18:05:58.391954Z",
     "iopub.status.busy": "2024-04-26T18:05:58.391461Z",
     "iopub.status.idle": "2024-04-26T18:06:00.008231Z",
     "shell.execute_reply": "2024-04-26T18:06:00.006721Z"
    },
    "papermill": {
     "duration": 1.625044,
     "end_time": "2024-04-26T18:06:00.010884",
     "exception": false,
     "start_time": "2024-04-26T18:05:58.385840",
     "status": "completed"
    },
    "tags": []
   },
   "outputs": [
    {
     "name": "stdout",
     "output_type": "stream",
     "text": [
      "Cloning into 'watermark'...\r\n",
      "remote: Enumerating objects: 80, done.\u001b[K\r\n",
      "remote: Counting objects: 100% (80/80), done.\u001b[K\r\n",
      "remote: Compressing objects: 100% (65/65), done.\u001b[K\r\n",
      "remote: Total 80 (delta 25), reused 67 (delta 14), pack-reused 0\u001b[K\r\n",
      "Unpacking objects: 100% (80/80), 264.81 KiB | 3.44 MiB/s, done.\r\n"
     ]
    }
   ],
   "source": [
    "!git clone https://github.com/jthickstun/watermark.git"
   ]
  },
  {
   "cell_type": "code",
   "execution_count": 3,
   "id": "f28c4cd4",
   "metadata": {
    "execution": {
     "iopub.execute_input": "2024-04-26T18:06:00.021940Z",
     "iopub.status.busy": "2024-04-26T18:06:00.021529Z",
     "iopub.status.idle": "2024-04-26T18:06:00.027263Z",
     "shell.execute_reply": "2024-04-26T18:06:00.025893Z"
    },
    "papermill": {
     "duration": 0.014126,
     "end_time": "2024-04-26T18:06:00.029573",
     "exception": false,
     "start_time": "2024-04-26T18:06:00.015447",
     "status": "completed"
    },
    "tags": []
   },
   "outputs": [],
   "source": [
    "import os\n",
    "os.chdir(\"/kaggle/working/watermark/demo\")"
   ]
  },
  {
   "cell_type": "code",
   "execution_count": 4,
   "id": "7fcb5e20",
   "metadata": {
    "execution": {
     "iopub.execute_input": "2024-04-26T18:06:00.040605Z",
     "iopub.status.busy": "2024-04-26T18:06:00.040223Z",
     "iopub.status.idle": "2024-04-26T18:06:14.900624Z",
     "shell.execute_reply": "2024-04-26T18:06:14.899264Z"
    },
    "papermill": {
     "duration": 14.869278,
     "end_time": "2024-04-26T18:06:14.903451",
     "exception": false,
     "start_time": "2024-04-26T18:06:00.034173",
     "status": "completed"
    },
    "tags": []
   },
   "outputs": [
    {
     "name": "stderr",
     "output_type": "stream",
     "text": [
      "In file included from /opt/conda/lib/python3.10/site-packages/numpy/core/include/numpy/ndarraytypes.h:1929,\n",
      "                 from /opt/conda/lib/python3.10/site-packages/numpy/core/include/numpy/ndarrayobject.h:12,\n",
      "                 from /opt/conda/lib/python3.10/site-packages/numpy/core/include/numpy/arrayobject.h:5,\n",
      "                 from /root/.pyxbld/temp.linux-x86_64-cpython-310/kaggle/working/watermark/demo/levenshtein.c:1205:\n",
      "/opt/conda/lib/python3.10/site-packages/numpy/core/include/numpy/npy_1_7_deprecated_api.h:17:2: warning: #warning \"Using deprecated NumPy API, disable it with \" \"#define NPY_NO_DEPRECATED_API NPY_1_7_API_VERSION\" [-Wcpp]\n",
      "   17 | #warning \"Using deprecated NumPy API, disable it with \" \\\n",
      "      |  ^~~~~~~\n"
     ]
    }
   ],
   "source": [
    "import os, sys, argparse, time\n",
    "\n",
    "import numpy as np\n",
    "from transformers import AutoTokenizer\n",
    "from mersenne import mersenne_rng\n",
    "\n",
    "import pyximport\n",
    "pyximport.install(reload_support=True, language_level=sys.version_info[0],\n",
    "                  setup_args={'include_dirs':np.get_include()})\n",
    "from levenshtein import levenshtein\n",
    "\n",
    "def permutation_test(tokens,key,n,k,vocab_size,n_runs=100):\n",
    "    rng = mersenne_rng(key)\n",
    "    xi = np.array([rng.rand() for _ in range(n*vocab_size)], dtype=np.float32).reshape(n,vocab_size)\n",
    "    test_result = detect(tokens,n,k,xi)\n",
    "\n",
    "    p_val = 0\n",
    "    for run in range(n_runs):\n",
    "        xi_alternative = np.random.rand(n, vocab_size).astype(np.float32)\n",
    "        null_result = detect(tokens,n,k,xi_alternative)\n",
    "\n",
    "        # assuming lower test values indicate presence of watermark\n",
    "        p_val += null_result <= test_result\n",
    "\n",
    "    return (p_val+1.0)/(n_runs+1.0)\n",
    "\n",
    "\n",
    "def detect(tokens,n,k,xi,gamma=0.0):\n",
    "    m = len(tokens)\n",
    "    n = len(xi)\n",
    "\n",
    "    A = np.empty((m-(k-1),n))\n",
    "    for i in range(m-(k-1)):\n",
    "        for j in range(n):\n",
    "            A[i][j] = levenshtein(tokens[i:i+k],xi[(j+np.arange(k))%n],gamma)\n",
    "\n",
    "    return np.min(A)\n"
   ]
  },
  {
   "cell_type": "code",
   "execution_count": 5,
   "id": "181e5cd1",
   "metadata": {
    "execution": {
     "iopub.execute_input": "2024-04-26T18:06:14.915175Z",
     "iopub.status.busy": "2024-04-26T18:06:14.914518Z",
     "iopub.status.idle": "2024-04-26T23:55:54.294829Z",
     "shell.execute_reply": "2024-04-26T23:55:54.293438Z"
    },
    "papermill": {
     "duration": 20979.390036,
     "end_time": "2024-04-26T23:55:54.298078",
     "exception": false,
     "start_time": "2024-04-26T18:06:14.908042",
     "status": "completed"
    },
    "tags": []
   },
   "outputs": [
    {
     "data": {
      "application/vnd.jupyter.widget-view+json": {
       "model_id": "41e91c0d304c47108840d6e8e2416e0c",
       "version_major": 2,
       "version_minor": 0
      },
      "text/plain": [
       "tokenizer_config.json:   0%|          | 0.00/685 [00:00<?, ?B/s]"
      ]
     },
     "metadata": {},
     "output_type": "display_data"
    },
    {
     "data": {
      "application/vnd.jupyter.widget-view+json": {
       "model_id": "968df6e736bb4f21af5ae6d0ff41e1b6",
       "version_major": 2,
       "version_minor": 0
      },
      "text/plain": [
       "config.json:   0%|          | 0.00/644 [00:00<?, ?B/s]"
      ]
     },
     "metadata": {},
     "output_type": "display_data"
    },
    {
     "data": {
      "application/vnd.jupyter.widget-view+json": {
       "model_id": "bf2e6fd9bd124add8111fc9ed578d157",
       "version_major": 2,
       "version_minor": 0
      },
      "text/plain": [
       "vocab.json:   0%|          | 0.00/899k [00:00<?, ?B/s]"
      ]
     },
     "metadata": {},
     "output_type": "display_data"
    },
    {
     "data": {
      "application/vnd.jupyter.widget-view+json": {
       "model_id": "0b3656bb47074cb2bf2ac30625ead35f",
       "version_major": 2,
       "version_minor": 0
      },
      "text/plain": [
       "merges.txt:   0%|          | 0.00/456k [00:00<?, ?B/s]"
      ]
     },
     "metadata": {},
     "output_type": "display_data"
    },
    {
     "data": {
      "application/vnd.jupyter.widget-view+json": {
       "model_id": "65eeda5ded014748bc6adacf636ce8bd",
       "version_major": 2,
       "version_minor": 0
      },
      "text/plain": [
       "special_tokens_map.json:   0%|          | 0.00/441 [00:00<?, ?B/s]"
      ]
     },
     "metadata": {},
     "output_type": "display_data"
    },
    {
     "name": "stderr",
     "output_type": "stream",
     "text": [
      "  3%|▎         | 1/34 [09:02<4:58:20, 542.43s/it]"
     ]
    },
    {
     "name": "stdout",
     "output_type": "stream",
     "text": [
      "Row 36 - p-value: 0.0198, label: unwatermarked (elapsed time: 542.39s)\n"
     ]
    },
    {
     "name": "stderr",
     "output_type": "stream",
     "text": [
      "  6%|▌         | 2/34 [17:44<4:42:49, 530.29s/it]"
     ]
    },
    {
     "name": "stdout",
     "output_type": "stream",
     "text": [
      "Row 37 - p-value: 0.3069, label: unwatermarked (elapsed time: 521.80s)\n"
     ]
    },
    {
     "name": "stderr",
     "output_type": "stream",
     "text": [
      "  9%|▉         | 3/34 [26:44<4:36:17, 534.76s/it]"
     ]
    },
    {
     "name": "stdout",
     "output_type": "stream",
     "text": [
      "Row 38 - p-value: 0.2475, label: unwatermarked (elapsed time: 540.06s)\n"
     ]
    },
    {
     "name": "stderr",
     "output_type": "stream",
     "text": [
      " 12%|█▏        | 4/34 [37:21<4:47:35, 575.17s/it]"
     ]
    },
    {
     "name": "stdout",
     "output_type": "stream",
     "text": [
      "Row 39 - p-value: 0.0891, label: unwatermarked (elapsed time: 637.11s)\n"
     ]
    },
    {
     "name": "stderr",
     "output_type": "stream",
     "text": [
      " 15%|█▍        | 5/34 [46:23<4:32:18, 563.38s/it]"
     ]
    },
    {
     "name": "stdout",
     "output_type": "stream",
     "text": [
      "Row 40 - p-value: 0.1782, label: unwatermarked (elapsed time: 542.48s)\n"
     ]
    },
    {
     "name": "stderr",
     "output_type": "stream",
     "text": [
      " 18%|█▊        | 6/34 [55:59<4:24:48, 567.43s/it]"
     ]
    },
    {
     "name": "stdout",
     "output_type": "stream",
     "text": [
      "Row 41 - p-value: 0.2772, label: unwatermarked (elapsed time: 575.29s)\n"
     ]
    },
    {
     "name": "stderr",
     "output_type": "stream",
     "text": [
      " 21%|██        | 7/34 [1:06:44<4:26:43, 592.73s/it]"
     ]
    },
    {
     "name": "stdout",
     "output_type": "stream",
     "text": [
      "Row 42 - p-value: 0.1980, label: unwatermarked (elapsed time: 644.82s)\n"
     ]
    },
    {
     "name": "stderr",
     "output_type": "stream",
     "text": [
      " 24%|██▎       | 8/34 [1:15:44<4:09:34, 575.95s/it]"
     ]
    },
    {
     "name": "stdout",
     "output_type": "stream",
     "text": [
      "Row 43 - p-value: 0.1089, label: unwatermarked (elapsed time: 540.01s)\n"
     ]
    },
    {
     "name": "stderr",
     "output_type": "stream",
     "text": [
      " 26%|██▋       | 9/34 [1:25:05<3:58:05, 571.43s/it]"
     ]
    },
    {
     "name": "stdout",
     "output_type": "stream",
     "text": [
      "Row 44 - p-value: 0.3069, label: unwatermarked (elapsed time: 561.50s)\n"
     ]
    },
    {
     "name": "stderr",
     "output_type": "stream",
     "text": [
      " 29%|██▉       | 10/34 [1:34:03<3:44:25, 561.08s/it]"
     ]
    },
    {
     "name": "stdout",
     "output_type": "stream",
     "text": [
      "Row 45 - p-value: 0.0990, label: unwatermarked (elapsed time: 537.90s)\n"
     ]
    },
    {
     "name": "stderr",
     "output_type": "stream",
     "text": [
      " 32%|███▏      | 11/34 [1:45:10<3:47:31, 593.52s/it]"
     ]
    },
    {
     "name": "stdout",
     "output_type": "stream",
     "text": [
      "Row 46 - p-value: 0.1980, label: unwatermarked (elapsed time: 667.07s)\n"
     ]
    },
    {
     "name": "stderr",
     "output_type": "stream",
     "text": [
      " 35%|███▌      | 12/34 [1:54:37<3:34:42, 585.56s/it]"
     ]
    },
    {
     "name": "stdout",
     "output_type": "stream",
     "text": [
      "Row 47 - p-value: 0.2970, label: unwatermarked (elapsed time: 567.36s)\n"
     ]
    },
    {
     "name": "stderr",
     "output_type": "stream",
     "text": [
      " 38%|███▊      | 13/34 [2:03:13<3:17:34, 564.49s/it]"
     ]
    },
    {
     "name": "stdout",
     "output_type": "stream",
     "text": [
      "Row 48 - p-value: 0.0198, label: unwatermarked (elapsed time: 515.98s)\n"
     ]
    },
    {
     "name": "stderr",
     "output_type": "stream",
     "text": [
      " 41%|████      | 14/34 [2:14:26<3:19:05, 597.28s/it]"
     ]
    },
    {
     "name": "stdout",
     "output_type": "stream",
     "text": [
      "Row 49 - p-value: 0.0495, label: unwatermarked (elapsed time: 673.04s)\n"
     ]
    },
    {
     "name": "stderr",
     "output_type": "stream",
     "text": [
      " 44%|████▍     | 15/34 [2:23:55<3:06:26, 588.77s/it]"
     ]
    },
    {
     "name": "stdout",
     "output_type": "stream",
     "text": [
      "Row 50 - p-value: 0.1188, label: unwatermarked (elapsed time: 569.04s)\n"
     ]
    },
    {
     "name": "stderr",
     "output_type": "stream",
     "text": [
      " 47%|████▋     | 16/34 [2:34:20<2:59:50, 599.47s/it]"
     ]
    },
    {
     "name": "stdout",
     "output_type": "stream",
     "text": [
      "Row 51 - p-value: 0.6733, label: unwatermarked (elapsed time: 624.31s)\n"
     ]
    },
    {
     "name": "stderr",
     "output_type": "stream",
     "text": [
      " 50%|█████     | 17/34 [2:43:36<2:46:12, 586.61s/it]"
     ]
    },
    {
     "name": "stdout",
     "output_type": "stream",
     "text": [
      "Row 52 - p-value: 0.0099, label: watermarked (elapsed time: 556.71s)\n"
     ]
    },
    {
     "name": "stderr",
     "output_type": "stream",
     "text": [
      " 53%|█████▎    | 18/34 [2:55:10<2:45:01, 618.87s/it]"
     ]
    },
    {
     "name": "stdout",
     "output_type": "stream",
     "text": [
      "Row 53 - p-value: 0.2574, label: unwatermarked (elapsed time: 693.96s)\n"
     ]
    },
    {
     "name": "stderr",
     "output_type": "stream",
     "text": [
      " 56%|█████▌    | 19/34 [3:05:48<2:36:07, 624.51s/it]"
     ]
    },
    {
     "name": "stdout",
     "output_type": "stream",
     "text": [
      "Row 54 - p-value: 0.3465, label: unwatermarked (elapsed time: 637.64s)\n"
     ]
    },
    {
     "name": "stderr",
     "output_type": "stream",
     "text": [
      " 59%|█████▉    | 20/34 [3:15:17<2:21:48, 607.75s/it]"
     ]
    },
    {
     "name": "stdout",
     "output_type": "stream",
     "text": [
      "Row 55 - p-value: 0.0297, label: unwatermarked (elapsed time: 568.69s)\n"
     ]
    },
    {
     "name": "stderr",
     "output_type": "stream",
     "text": [
      " 62%|██████▏   | 21/34 [3:26:19<2:15:14, 624.19s/it]"
     ]
    },
    {
     "name": "stdout",
     "output_type": "stream",
     "text": [
      "Row 56 - p-value: 0.4851, label: unwatermarked (elapsed time: 662.51s)\n"
     ]
    },
    {
     "name": "stderr",
     "output_type": "stream",
     "text": [
      " 65%|██████▍   | 22/34 [3:36:53<2:05:24, 627.00s/it]"
     ]
    },
    {
     "name": "stdout",
     "output_type": "stream",
     "text": [
      "Row 57 - p-value: 0.5347, label: unwatermarked (elapsed time: 633.56s)\n"
     ]
    },
    {
     "name": "stderr",
     "output_type": "stream",
     "text": [
      " 68%|██████▊   | 23/34 [3:47:13<1:54:35, 625.03s/it]"
     ]
    },
    {
     "name": "stdout",
     "output_type": "stream",
     "text": [
      "Row 58 - p-value: 0.0198, label: unwatermarked (elapsed time: 620.44s)\n"
     ]
    },
    {
     "name": "stderr",
     "output_type": "stream",
     "text": [
      " 71%|███████   | 24/34 [3:57:54<1:44:57, 629.74s/it]"
     ]
    },
    {
     "name": "stdout",
     "output_type": "stream",
     "text": [
      "Row 59 - p-value: 0.1188, label: unwatermarked (elapsed time: 640.70s)\n"
     ]
    },
    {
     "name": "stderr",
     "output_type": "stream",
     "text": [
      " 74%|███████▎  | 25/34 [4:10:28<1:40:02, 666.91s/it]"
     ]
    },
    {
     "name": "stdout",
     "output_type": "stream",
     "text": [
      "Row 60 - p-value: 0.7426, label: unwatermarked (elapsed time: 753.63s)\n"
     ]
    },
    {
     "name": "stderr",
     "output_type": "stream",
     "text": [
      " 76%|███████▋  | 26/34 [4:20:12<1:25:38, 642.25s/it]"
     ]
    },
    {
     "name": "stdout",
     "output_type": "stream",
     "text": [
      "Row 61 - p-value: 0.1881, label: unwatermarked (elapsed time: 584.72s)\n"
     ]
    },
    {
     "name": "stderr",
     "output_type": "stream",
     "text": [
      " 79%|███████▉  | 27/34 [4:32:15<1:17:43, 666.25s/it]"
     ]
    },
    {
     "name": "stdout",
     "output_type": "stream",
     "text": [
      "Row 62 - p-value: 0.1584, label: unwatermarked (elapsed time: 722.23s)\n"
     ]
    },
    {
     "name": "stderr",
     "output_type": "stream",
     "text": [
      " 82%|████████▏ | 28/34 [4:43:49<1:07:28, 674.71s/it]"
     ]
    },
    {
     "name": "stdout",
     "output_type": "stream",
     "text": [
      "Row 63 - p-value: 0.0495, label: unwatermarked (elapsed time: 694.44s)\n"
     ]
    },
    {
     "name": "stderr",
     "output_type": "stream",
     "text": [
      " 85%|████████▌ | 29/34 [4:55:21<56:39, 679.90s/it]  "
     ]
    },
    {
     "name": "stdout",
     "output_type": "stream",
     "text": [
      "Row 64 - p-value: 0.3267, label: unwatermarked (elapsed time: 692.02s)\n"
     ]
    },
    {
     "name": "stderr",
     "output_type": "stream",
     "text": [
      " 88%|████████▊ | 30/34 [5:06:14<44:47, 671.80s/it]"
     ]
    },
    {
     "name": "stdout",
     "output_type": "stream",
     "text": [
      "Row 65 - p-value: 0.0693, label: unwatermarked (elapsed time: 652.88s)\n"
     ]
    },
    {
     "name": "stderr",
     "output_type": "stream",
     "text": [
      " 91%|█████████ | 31/34 [5:16:46<32:59, 659.76s/it]"
     ]
    },
    {
     "name": "stdout",
     "output_type": "stream",
     "text": [
      "Row 66 - p-value: 0.1584, label: unwatermarked (elapsed time: 631.67s)\n"
     ]
    },
    {
     "name": "stderr",
     "output_type": "stream",
     "text": [
      " 94%|█████████▍| 32/34 [5:27:28<21:49, 654.59s/it]"
     ]
    },
    {
     "name": "stdout",
     "output_type": "stream",
     "text": [
      "Row 67 - p-value: 0.0693, label: unwatermarked (elapsed time: 642.51s)\n"
     ]
    },
    {
     "name": "stderr",
     "output_type": "stream",
     "text": [
      " 97%|█████████▋| 33/34 [5:39:46<11:19, 679.46s/it]"
     ]
    },
    {
     "name": "stdout",
     "output_type": "stream",
     "text": [
      "Row 68 - p-value: 0.4950, label: unwatermarked (elapsed time: 737.49s)\n"
     ]
    },
    {
     "name": "stderr",
     "output_type": "stream",
     "text": [
      "100%|██████████| 34/34 [5:49:38<00:00, 617.01s/it]"
     ]
    },
    {
     "name": "stdout",
     "output_type": "stream",
     "text": [
      "Row 69 - p-value: 0.0198, label: unwatermarked (elapsed time: 592.05s)\n"
     ]
    },
    {
     "name": "stderr",
     "output_type": "stream",
     "text": [
      "\n"
     ]
    }
   ],
   "source": [
    "from tqdm import tqdm\n",
    "import pandas as pd\n",
    "\n",
    "def main():\n",
    "    # Read data from CSV using pandas\n",
    "    data = pd.read_csv(\"/kaggle/input/attacked-text/attacked_text.csv\")\n",
    "    # Combine filtered data\n",
    "    split_point1 = int(len(data) / 3)\n",
    "    split_point2 = split_point1 * 2\n",
    "    split_point3 = 100\n",
    "    part1 = data.iloc[:35] # First part\n",
    "    part2 = data.iloc[35:69]  # Second part\n",
    "    part3 = data.iloc[69:100]  # Third part (might be slightly bigger)\n",
    "    # Load pre-trained tokenizer (replace with your desired tokenizer)\n",
    "    tokenizer = AutoTokenizer.from_pretrained(\"facebook/opt-350m\")\n",
    "\n",
    "    # Progress bar with tqdm\n",
    "    results = []\n",
    "    for index, row in tqdm(part2.iterrows(), total=len(part2)):\n",
    "        text = row[\"Attacked Text\"]  # Assuming \"Attacked Text\" is the column containing text data\n",
    "        actual_label = \"watermarked\" # Assuming \"label\" is the column containing actual label\n",
    "\n",
    "        # Tokenize the text\n",
    "        tokens = tokenizer.encode(text, return_tensors='pt', truncation=True, max_length=2048).numpy()[0]\n",
    "\n",
    "        t0 = time.time()\n",
    "        pval = permutation_test(tokens, 42, 256, len(tokens), len(tokenizer))\n",
    "        label = \"watermarked\" if pval <= 0.01 else \"unwatermarked\"\n",
    "        results.append({\"text\": text, \"p-value\": pval, \"label\": label, \"actual_label\": actual_label})\n",
    "        print(f\"Row {index+1} - p-value: {pval:.4f}, label: {label} (elapsed time: {time.time()-t0:.2f}s)\")\n",
    "\n",
    "    # Create a pandas DataFrame from the results\n",
    "    df_results = pd.DataFrame(results)\n",
    "#     df_results.head(2)\n",
    "    # Save the DataFrame (optional)\n",
    "    df_results.to_csv(\"permutation_test_results_zerowidth.csv\", index=False)\n",
    "if __name__ == '__main__':\n",
    "    main()"
   ]
  },
  {
   "cell_type": "code",
   "execution_count": 6,
   "id": "cb042c2e",
   "metadata": {
    "execution": {
     "iopub.execute_input": "2024-04-26T23:55:54.322222Z",
     "iopub.status.busy": "2024-04-26T23:55:54.321174Z",
     "iopub.status.idle": "2024-04-26T23:55:55.953116Z",
     "shell.execute_reply": "2024-04-26T23:55:55.951723Z"
    },
    "papermill": {
     "duration": 1.647535,
     "end_time": "2024-04-26T23:55:55.955854",
     "exception": false,
     "start_time": "2024-04-26T23:55:54.308319",
     "status": "completed"
    },
    "tags": []
   },
   "outputs": [],
   "source": [
    "# This Python 3 environment comes with many helpful analytics libraries installed\n",
    "# It is defined by the kaggle/python Docker image: https://github.com/kaggle/docker-python\n",
    "# For example, here's several helpful packages to load\n",
    "\n",
    "import numpy as np # linear algebra\n",
    "import pandas as pd # data processing, CSV file I/O (e.g. pd.read_csv)\n",
    "from sklearn.metrics import confusion_matrix\n",
    "import seaborn as sns\n",
    "import matplotlib.pyplot as plt\n",
    "from sklearn.metrics import accuracy_score\n",
    "from sklearn.metrics import f1_score\n",
    "from sklearn.metrics import precision_score\n",
    "from sklearn.metrics import recall_score\n",
    "# Input data files are available in the read-only \"../input/\" directory\n",
    "# For example, running this (by clicking run or pressing Shift+Enter) will list all files under the input directory\n",
    "\n",
    "import os\n",
    "\n",
    "# You can write up to 20GB to the current directory (/kaggle/working/) that gets preserved as output when you create a version using \"Save & Run All\" \n",
    "# You can also write temporary files to /kaggle/temp/, but they won't be saved outside of the current session"
   ]
  },
  {
   "cell_type": "code",
   "execution_count": 7,
   "id": "805ca994",
   "metadata": {
    "execution": {
     "iopub.execute_input": "2024-04-26T23:55:55.979652Z",
     "iopub.status.busy": "2024-04-26T23:55:55.979221Z",
     "iopub.status.idle": "2024-04-26T23:55:56.362494Z",
     "shell.execute_reply": "2024-04-26T23:55:56.361222Z"
    },
    "papermill": {
     "duration": 0.399017,
     "end_time": "2024-04-26T23:55:56.365174",
     "exception": false,
     "start_time": "2024-04-26T23:55:55.966157",
     "status": "completed"
    },
    "tags": []
   },
   "outputs": [
    {
     "name": "stderr",
     "output_type": "stream",
     "text": [
      "/opt/conda/lib/python3.10/site-packages/sklearn/metrics/_classification.py:1344: UndefinedMetricWarning: Recall is ill-defined and being set to 0.0 in labels with no true samples. Use `zero_division` parameter to control this behavior.\n",
      "  _warn_prf(average, modifier, msg_start, len(result))\n"
     ]
    },
    {
     "data": {
      "image/png": "[encoded data removed]",
      "text/plain": [
       "<Figure size 800x600 with 2 Axes>"
      ]
     },
     "metadata": {},
     "output_type": "display_data"
    },
    {
     "name": "stdout",
     "output_type": "stream",
     "text": [
      "\n",
      "Classification Metrics:\n",
      "Accuracy: 2.9412\n",
      "F1-score: 5.7143\n",
      "Precision: 100.0000\n",
      "Recall: 2.9412\n"
     ]
    }
   ],
   "source": [
    "def evaluate_classification(file_path):\n",
    "\n",
    "    # Evaluates a classification model using various metrics, reading data from a CSV file and creates a confusion matrix heatmap using seaborn.\n",
    "\n",
    "    # Read the CSV file assuming 'label' and 'actual_label' columns are present\n",
    "    df = pd.read_csv(file_path)\n",
    "\n",
    "    # Extract true labels (assuming 'actual_label' column)\n",
    "    y_true = df['actual_label'].tolist()\n",
    "\n",
    "    # Extract predicted labels (assuming 'label' column)\n",
    "    y_pred = df['label'].tolist()\n",
    "\n",
    "    # Create the confusion matrix\n",
    "    cm = confusion_matrix(y_true, y_pred)\n",
    "\n",
    "    # Calculate accuracy\n",
    "    accuracy = accuracy_score(y_true, y_pred)\n",
    "\n",
    "    # Calculate F1-score\n",
    "    f1 = f1_score(y_true, y_pred, average='weighted')\n",
    "\n",
    "    # Calculate precision\n",
    "    precision = precision_score(y_true, y_pred, average='weighted')\n",
    "\n",
    "    # Calculate recall\n",
    "    recall = recall_score(y_true, y_pred, average='weighted')\n",
    "      # Define custom labels for the confusion matrix\n",
    "\n",
    "    # Create a confusion matrix heatmap using seaborn\n",
    "    plt.figure(figsize=(8, 6))\n",
    "    ax = sns.heatmap(cm, annot=True, cmap='Blues', fmt='d',annot_kws={'fontsize': 25})\n",
    "    ax.set_xlabel('Predicted Label')\n",
    "    ax.set_ylabel('True Label')\n",
    "    ax.set_title('Confusion Matrix (Watermarked)')\n",
    "    plt.xticks([0.5, 1.5], ['Predicted Unwatermarked', 'Predicted Watermarked'])\n",
    "    plt.yticks([0.5, 1.5], ['Actual Unwatermarked', 'Actual Watermarked'])    \n",
    "    plt.tight_layout()\n",
    "    plt.show()\n",
    "    return cm, accuracy, f1, precision, recall\n",
    "\n",
    "# Specify the file path (assuming you're using Kaggle)\n",
    "file_path = \"/kaggle/working/watermark/demo/permutation_test_results_zerowidth.csv\"\n",
    "\n",
    "# Evaluate the classification\n",
    "cm, accuracy, f1, precision, recall = evaluate_classification(file_path)\n",
    "\n",
    "# Print classification metrics (same as before)\n",
    "print(\"\\nClassification Metrics:\")\n",
    "print(f\"Accuracy: {accuracy * 100:.4f}\")\n",
    "print(f\"F1-score: {f1 * 100:.4f}\")\n",
    "print(f\"Precision: {precision * 100:.4f}\")\n",
    "print(f\"Recall: {recall * 100:.4f}\")\n"
   ]
  },
  {
   "cell_type": "code",
   "execution_count": 8,
   "id": "8ee1bffd",
   "metadata": {
    "execution": {
     "iopub.execute_input": "2024-04-26T23:55:56.388121Z",
     "iopub.status.busy": "2024-04-26T23:55:56.387703Z",
     "iopub.status.idle": "2024-04-26T23:55:56.405313Z",
     "shell.execute_reply": "2024-04-26T23:55:56.404091Z"
    },
    "papermill": {
     "duration": 0.032027,
     "end_time": "2024-04-26T23:55:56.407621",
     "exception": false,
     "start_time": "2024-04-26T23:55:56.375594",
     "status": "completed"
    },
    "tags": []
   },
   "outputs": [
    {
     "name": "stdout",
     "output_type": "stream",
     "text": [
      "Average absolute difference for misclassified watermarked images: 0.1542\n"
     ]
    }
   ],
   "source": [
    "def evaluate_misclassifications(file_path):\n",
    "    # Evaluates the average absolute difference between misclassified p-values and the threshold (0.1) for watermarked images.\n",
    "    # Read the CSV file into a Pandas DataFrame\n",
    "    df = pd.read_csv(file_path)\n",
    "\n",
    "    # Filter for misclassified watermarked images\n",
    "    misclassified_watermarked = df[(df['label'] != df['actual_label']) & (df['actual_label'] == 'watermarked')]\n",
    "\n",
    "    # Check if there are any misclassified watermarked images\n",
    "    if len(misclassified_watermarked) == 0:\n",
    "        print(\"No misclassified watermarked images found.\")\n",
    "        return None\n",
    "\n",
    "    # Calculate absolute difference between misclassified p-values and the threshold (0.1)\n",
    "    abs_diff = np.abs(misclassified_watermarked['p-value'] - 0.1)\n",
    "\n",
    "    # Calculate average absolute difference\n",
    "    average_diff = np.mean(abs_diff)\n",
    "\n",
    "    return average_diff\n",
    "\n",
    "# Specify the file path\n",
    "file_path = \"/kaggle/working/watermark/demo/permutation_test_results_zerowidth.csv\"\n",
    "\n",
    "# Evaluate misclassifications\n",
    "average_diff = evaluate_misclassifications(file_path)\n",
    "\n",
    "if average_diff is not None:\n",
    "    print(f\"Average absolute difference for misclassified watermarked images: {average_diff:.4f}\")\n"
   ]
  },
  {
   "cell_type": "code",
   "execution_count": 9,
   "id": "8cf82605",
   "metadata": {
    "execution": {
     "iopub.execute_input": "2024-04-26T23:55:56.431342Z",
     "iopub.status.busy": "2024-04-26T23:55:56.430569Z",
     "iopub.status.idle": "2024-04-26T23:55:56.457894Z",
     "shell.execute_reply": "2024-04-26T23:55:56.456668Z"
    },
    "papermill": {
     "duration": 0.042254,
     "end_time": "2024-04-26T23:55:56.460383",
     "exception": false,
     "start_time": "2024-04-26T23:55:56.418129",
     "status": "completed"
    },
    "tags": []
   },
   "outputs": [
    {
     "data": {
      "text/html": [
       "<div>\n",
       "<style scoped>\n",
       "    .dataframe tbody tr th:only-of-type {\n",
       "        vertical-align: middle;\n",
       "    }\n",
       "\n",
       "    .dataframe tbody tr th {\n",
       "        vertical-align: top;\n",
       "    }\n",
       "\n",
       "    .dataframe thead th {\n",
       "        text-align: right;\n",
       "    }\n",
       "</style>\n",
       "<table border=\"1\" class=\"dataframe\">\n",
       "  <thead>\n",
       "    <tr style=\"text-align: right;\">\n",
       "      <th></th>\n",
       "      <th>text</th>\n",
       "      <th>p-value</th>\n",
       "      <th>label</th>\n",
       "      <th>actual_label</th>\n",
       "    </tr>\n",
       "  </thead>\n",
       "  <tbody>\n",
       "    <tr>\n",
       "      <th>0</th>\n",
       "      <td>The president'‌s la‍wyer has ‍die​‌d a‌​t a ve...</td>\n",
       "      <td>0.019802</td>\n",
       "      <td>unwatermarked</td>\n",
       "      <td>watermarked</td>\n",
       "    </tr>\n",
       "    <tr>\n",
       "      <th>31</th>\n",
       "      <td>Th‍e finances we​re f‌or s‌erv​ic‍e​ prov‌isio...</td>\n",
       "      <td>0.069307</td>\n",
       "      <td>unwatermarked</td>\n",
       "      <td>watermarked</td>\n",
       "    </tr>\n",
       "    <tr>\n",
       "      <th>30</th>\n",
       "      <td>Anthrax‍ is more commo​n in animal‍s‍ than‌‍ p...</td>\n",
       "      <td>0.158416</td>\n",
       "      <td>unwatermarked</td>\n",
       "      <td>watermarked</td>\n",
       "    </tr>\n",
       "    <tr>\n",
       "      <th>29</th>\n",
       "      <td>You‍ should fil​e a suit agai​ns‍t ‍that compa...</td>\n",
       "      <td>0.069307</td>\n",
       "      <td>unwatermarked</td>\n",
       "      <td>watermarked</td>\n",
       "    </tr>\n",
       "    <tr>\n",
       "      <th>28</th>\n",
       "      <td>Gover​nme‌nt h​‍as‌ decided‌ ​to incr‍e‍ase‌​ ...</td>\n",
       "      <td>0.326733</td>\n",
       "      <td>unwatermarked</td>\n",
       "      <td>watermarked</td>\n",
       "    </tr>\n",
       "    <tr>\n",
       "      <th>27</th>\n",
       "      <td>Vo​te​ rigging ‍should b​e condemned in the co...</td>\n",
       "      <td>0.049505</td>\n",
       "      <td>unwatermarked</td>\n",
       "      <td>watermarked</td>\n",
       "    </tr>\n",
       "    <tr>\n",
       "      <th>26</th>\n",
       "      <td>‌Some‌ p‍eople‍ s​t​eal b‌​ecause ‍​they ​do n...</td>\n",
       "      <td>0.158416</td>\n",
       "      <td>unwatermarked</td>\n",
       "      <td>watermarked</td>\n",
       "    </tr>\n",
       "    <tr>\n",
       "      <th>25</th>\n",
       "      <td>Some​ of the disease​​d ​leaves hav​e‌ dr‌ied‌...</td>\n",
       "      <td>0.188119</td>\n",
       "      <td>unwatermarked</td>\n",
       "      <td>watermarked</td>\n",
       "    </tr>\n",
       "    <tr>\n",
       "      <th>24</th>\n",
       "      <td>Many ch​ildr‌en f‌ail​ to comp​lete school‍ be...</td>\n",
       "      <td>0.742574</td>\n",
       "      <td>unwatermarked</td>\n",
       "      <td>watermarked</td>\n",
       "    </tr>\n",
       "    <tr>\n",
       "      <th>23</th>\n",
       "      <td>‍I​t'‍s two days‌ to‌ ‍the 1st National H‌e‍‌a...</td>\n",
       "      <td>0.118812</td>\n",
       "      <td>unwatermarked</td>\n",
       "      <td>watermarked</td>\n",
       "    </tr>\n",
       "    <tr>\n",
       "      <th>22</th>\n",
       "      <td>Data collect‍ion can only be done aft​er cons‍...</td>\n",
       "      <td>0.019802</td>\n",
       "      <td>unwatermarked</td>\n",
       "      <td>watermarked</td>\n",
       "    </tr>\n",
       "    <tr>\n",
       "      <th>21</th>\n",
       "      <td>P‍o‌lice are patro‍lling‍ the area. There is​ ...</td>\n",
       "      <td>0.534653</td>\n",
       "      <td>unwatermarked</td>\n",
       "      <td>watermarked</td>\n",
       "    </tr>\n",
       "    <tr>\n",
       "      <th>20</th>\n",
       "      <td>W​e‌ need more judges to​ wor​k on ‌the ver‌y ...</td>\n",
       "      <td>0.485149</td>\n",
       "      <td>unwatermarked</td>\n",
       "      <td>watermarked</td>\n",
       "    </tr>\n",
       "    <tr>\n",
       "      <th>19</th>\n",
       "      <td>The​ fina‌nces sho‌uld ‌‌be ref‍und​‌​‌‍ed; no...</td>\n",
       "      <td>0.029703</td>\n",
       "      <td>unwatermarked</td>\n",
       "      <td>watermarked</td>\n",
       "    </tr>\n",
       "    <tr>\n",
       "      <th>18</th>\n",
       "      <td>‍You can only ​find out if ​​you ‍h​‍a​ve cor‌...</td>\n",
       "      <td>0.346535</td>\n",
       "      <td>unwatermarked</td>\n",
       "      <td>watermarked</td>\n",
       "    </tr>\n",
       "    <tr>\n",
       "      <th>32</th>\n",
       "      <td>Alway​s ​mov‌e with your Nati​‍o‍nal ‍Ide​ntit...</td>\n",
       "      <td>0.495050</td>\n",
       "      <td>unwatermarked</td>\n",
       "      <td>watermarked</td>\n",
       "    </tr>\n",
       "    <tr>\n",
       "      <th>17</th>\n",
       "      <td>The m‍edical ‍‍bo​dy se‌eks to unders​tand h‌​...</td>\n",
       "      <td>0.257426</td>\n",
       "      <td>unwatermarked</td>\n",
       "      <td>watermarked</td>\n",
       "    </tr>\n",
       "    <tr>\n",
       "      <th>14</th>\n",
       "      <td>He ​g‍i​​‍ves more‍ en‍ergy ‍‌t‌o the ‍pupil​s...</td>\n",
       "      <td>0.118812</td>\n",
       "      <td>unwatermarked</td>\n",
       "      <td>watermarked</td>\n",
       "    </tr>\n",
       "    <tr>\n",
       "      <th>13</th>\n",
       "      <td>F‌armers‌ should be se‍nsitiz​ed ‍a‌​b‌‍‌out‍ ...</td>\n",
       "      <td>0.049505</td>\n",
       "      <td>unwatermarked</td>\n",
       "      <td>watermarked</td>\n",
       "    </tr>\n",
       "    <tr>\n",
       "      <th>12</th>\n",
       "      <td>Some promi‌se‍‌s ‌are ne‌ver fulfilled.‍ Amazi...</td>\n",
       "      <td>0.019802</td>\n",
       "      <td>unwatermarked</td>\n",
       "      <td>watermarked</td>\n",
       "    </tr>\n",
       "    <tr>\n",
       "      <th>11</th>\n",
       "      <td>Polit‌icians should ‌never di​str‍i‌but​e food...</td>\n",
       "      <td>0.297030</td>\n",
       "      <td>unwatermarked</td>\n",
       "      <td>watermarked</td>\n",
       "    </tr>\n",
       "    <tr>\n",
       "      <th>10</th>\n",
       "      <td>The ​co​ronavirus‍ toll-free line has b​een re...</td>\n",
       "      <td>0.198020</td>\n",
       "      <td>unwatermarked</td>\n",
       "      <td>watermarked</td>\n",
       "    </tr>\n",
       "    <tr>\n",
       "      <th>9</th>\n",
       "      <td>This‍ co‌urt case i​s​ t‍aki‍ng lon‌‌ger than ...</td>\n",
       "      <td>0.099010</td>\n",
       "      <td>unwatermarked</td>\n",
       "      <td>watermarked</td>\n",
       "    </tr>\n",
       "    <tr>\n",
       "      <th>8</th>\n",
       "      <td>Health check-ups are ‍a nec​e‍ssity. Staying h...</td>\n",
       "      <td>0.306931</td>\n",
       "      <td>unwatermarked</td>\n",
       "      <td>watermarked</td>\n",
       "    </tr>\n",
       "    <tr>\n",
       "      <th>7</th>\n",
       "      <td>It is ​alwa‌y​s good t​o​ have a role model.De...</td>\n",
       "      <td>0.108911</td>\n",
       "      <td>unwatermarked</td>\n",
       "      <td>watermarked</td>\n",
       "    </tr>\n",
       "    <tr>\n",
       "      <th>6</th>\n",
       "      <td>The plaintiff w‍asn​'‌t satisf‍ie‌d with the c...</td>\n",
       "      <td>0.198020</td>\n",
       "      <td>unwatermarked</td>\n",
       "      <td>watermarked</td>\n",
       "    </tr>\n",
       "    <tr>\n",
       "      <th>5</th>\n",
       "      <td>People now‍ pre​‌fe​r b‌uy‌ing ​mea​t f‍rom‍ t...</td>\n",
       "      <td>0.277228</td>\n",
       "      <td>unwatermarked</td>\n",
       "      <td>watermarked</td>\n",
       "    </tr>\n",
       "    <tr>\n",
       "      <th>4</th>\n",
       "      <td>The‌y use a new ‍vehi‌cle‍ ‌for kidnapping. Th...</td>\n",
       "      <td>0.178218</td>\n",
       "      <td>unwatermarked</td>\n",
       "      <td>watermarked</td>\n",
       "    </tr>\n",
       "    <tr>\n",
       "      <th>3</th>\n",
       "      <td>Foo‌d securit​​‌y is ke​y‌ to a be​tter econ‍o...</td>\n",
       "      <td>0.089109</td>\n",
       "      <td>unwatermarked</td>\n",
       "      <td>watermarked</td>\n",
       "    </tr>\n",
       "    <tr>\n",
       "      <th>2</th>\n",
       "      <td>A susp‌‌ect​ed coronavirus cas‍e from Masak‌‍a...</td>\n",
       "      <td>0.247525</td>\n",
       "      <td>unwatermarked</td>\n",
       "      <td>watermarked</td>\n",
       "    </tr>\n",
       "    <tr>\n",
       "      <th>1</th>\n",
       "      <td>I​t's t‌‍rue​ ​that​ a‍nyo‍ne can ​run uno​pp​...</td>\n",
       "      <td>0.306931</td>\n",
       "      <td>unwatermarked</td>\n",
       "      <td>watermarked</td>\n",
       "    </tr>\n",
       "    <tr>\n",
       "      <th>15</th>\n",
       "      <td>I need​ ​​‍to​​ f​ind a j‍ob before the ‌ye‌​‌...</td>\n",
       "      <td>0.673267</td>\n",
       "      <td>unwatermarked</td>\n",
       "      <td>watermarked</td>\n",
       "    </tr>\n",
       "    <tr>\n",
       "      <th>33</th>\n",
       "      <td>‌Cas‍sava stems are a​lway​s needed for​ pl​an...</td>\n",
       "      <td>0.019802</td>\n",
       "      <td>unwatermarked</td>\n",
       "      <td>watermarked</td>\n",
       "    </tr>\n",
       "  </tbody>\n",
       "</table>\n",
       "</div>"
      ],
      "text/plain": [
       "                                                 text   p-value  \\\n",
       "0   The president'‌s la‍wyer has ‍die​‌d a‌​t a ve...  0.019802   \n",
       "31  Th‍e finances we​re f‌or s‌erv​ic‍e​ prov‌isio...  0.069307   \n",
       "30  Anthrax‍ is more commo​n in animal‍s‍ than‌‍ p...  0.158416   \n",
       "29  You‍ should fil​e a suit agai​ns‍t ‍that compa...  0.069307   \n",
       "28  Gover​nme‌nt h​‍as‌ decided‌ ​to incr‍e‍ase‌​ ...  0.326733   \n",
       "27  Vo​te​ rigging ‍should b​e condemned in the co...  0.049505   \n",
       "26  ‌Some‌ p‍eople‍ s​t​eal b‌​ecause ‍​they ​do n...  0.158416   \n",
       "25  Some​ of the disease​​d ​leaves hav​e‌ dr‌ied‌...  0.188119   \n",
       "24  Many ch​ildr‌en f‌ail​ to comp​lete school‍ be...  0.742574   \n",
       "23  ‍I​t'‍s two days‌ to‌ ‍the 1st National H‌e‍‌a...  0.118812   \n",
       "22  Data collect‍ion can only be done aft​er cons‍...  0.019802   \n",
       "21  P‍o‌lice are patro‍lling‍ the area. There is​ ...  0.534653   \n",
       "20  W​e‌ need more judges to​ wor​k on ‌the ver‌y ...  0.485149   \n",
       "19  The​ fina‌nces sho‌uld ‌‌be ref‍und​‌​‌‍ed; no...  0.029703   \n",
       "18  ‍You can only ​find out if ​​you ‍h​‍a​ve cor‌...  0.346535   \n",
       "32  Alway​s ​mov‌e with your Nati​‍o‍nal ‍Ide​ntit...  0.495050   \n",
       "17  The m‍edical ‍‍bo​dy se‌eks to unders​tand h‌​...  0.257426   \n",
       "14  He ​g‍i​​‍ves more‍ en‍ergy ‍‌t‌o the ‍pupil​s...  0.118812   \n",
       "13  F‌armers‌ should be se‍nsitiz​ed ‍a‌​b‌‍‌out‍ ...  0.049505   \n",
       "12  Some promi‌se‍‌s ‌are ne‌ver fulfilled.‍ Amazi...  0.019802   \n",
       "11  Polit‌icians should ‌never di​str‍i‌but​e food...  0.297030   \n",
       "10  The ​co​ronavirus‍ toll-free line has b​een re...  0.198020   \n",
       "9   This‍ co‌urt case i​s​ t‍aki‍ng lon‌‌ger than ...  0.099010   \n",
       "8   Health check-ups are ‍a nec​e‍ssity. Staying h...  0.306931   \n",
       "7   It is ​alwa‌y​s good t​o​ have a role model.De...  0.108911   \n",
       "6   The plaintiff w‍asn​'‌t satisf‍ie‌d with the c...  0.198020   \n",
       "5   People now‍ pre​‌fe​r b‌uy‌ing ​mea​t f‍rom‍ t...  0.277228   \n",
       "4   The‌y use a new ‍vehi‌cle‍ ‌for kidnapping. Th...  0.178218   \n",
       "3   Foo‌d securit​​‌y is ke​y‌ to a be​tter econ‍o...  0.089109   \n",
       "2   A susp‌‌ect​ed coronavirus cas‍e from Masak‌‍a...  0.247525   \n",
       "1   I​t's t‌‍rue​ ​that​ a‍nyo‍ne can ​run uno​pp​...  0.306931   \n",
       "15  I need​ ​​‍to​​ f​ind a j‍ob before the ‌ye‌​‌...  0.673267   \n",
       "33  ‌Cas‍sava stems are a​lway​s needed for​ pl​an...  0.019802   \n",
       "\n",
       "            label actual_label  \n",
       "0   unwatermarked  watermarked  \n",
       "31  unwatermarked  watermarked  \n",
       "30  unwatermarked  watermarked  \n",
       "29  unwatermarked  watermarked  \n",
       "28  unwatermarked  watermarked  \n",
       "27  unwatermarked  watermarked  \n",
       "26  unwatermarked  watermarked  \n",
       "25  unwatermarked  watermarked  \n",
       "24  unwatermarked  watermarked  \n",
       "23  unwatermarked  watermarked  \n",
       "22  unwatermarked  watermarked  \n",
       "21  unwatermarked  watermarked  \n",
       "20  unwatermarked  watermarked  \n",
       "19  unwatermarked  watermarked  \n",
       "18  unwatermarked  watermarked  \n",
       "32  unwatermarked  watermarked  \n",
       "17  unwatermarked  watermarked  \n",
       "14  unwatermarked  watermarked  \n",
       "13  unwatermarked  watermarked  \n",
       "12  unwatermarked  watermarked  \n",
       "11  unwatermarked  watermarked  \n",
       "10  unwatermarked  watermarked  \n",
       "9   unwatermarked  watermarked  \n",
       "8   unwatermarked  watermarked  \n",
       "7   unwatermarked  watermarked  \n",
       "6   unwatermarked  watermarked  \n",
       "5   unwatermarked  watermarked  \n",
       "4   unwatermarked  watermarked  \n",
       "3   unwatermarked  watermarked  \n",
       "2   unwatermarked  watermarked  \n",
       "1   unwatermarked  watermarked  \n",
       "15  unwatermarked  watermarked  \n",
       "33  unwatermarked  watermarked  "
      ]
     },
     "execution_count": 9,
     "metadata": {},
     "output_type": "execute_result"
    }
   ],
   "source": [
    "def get_incorrect_samples(file_path):\n",
    "   \n",
    "    # Extracts all samples from a CSV file where 'label' and 'actual_label' differ.\n",
    "    # Read the CSV file into a Pandas DataFrame\n",
    "    df = pd.read_csv(file_path)\n",
    "\n",
    "    # Filter for rows where label doesn't equal actual_label\n",
    "    incorrect_samples = df[df['label'] != df['actual_label']]\n",
    "    incorrect_samples = incorrect_samples.sort_values(by='actual_label')\n",
    "\n",
    "    return incorrect_samples\n",
    "\n",
    "file_path = \"/kaggle/working/watermark/demo/permutation_test_results_zerowidth.csv\"\n",
    "incorrect_df = get_incorrect_samples(file_path)\n",
    "\n",
    "\n",
    "incorrect_df.head(len(incorrect_df))"
   ]
  },
  {
   "cell_type": "code",
   "execution_count": null,
   "id": "b7c43ab0",
   "metadata": {
    "papermill": {
     "duration": 0.010769,
     "end_time": "2024-04-26T23:55:56.482793",
     "exception": false,
     "start_time": "2024-04-26T23:55:56.472024",
     "status": "completed"
    },
    "tags": []
   },
   "outputs": [],
   "source": []
  }
 ],
 "metadata": {
  "kaggle": {
   "accelerator": "none",
   "dataSources": [
    {
     "datasetId": 4779182,
     "sourceId": 8094561,
     "sourceType": "datasetVersion"
    },
    {
     "datasetId": 4886815,
     "sourceId": 8238648,
     "sourceType": "datasetVersion"
    },
    {
     "datasetId": 4887378,
     "sourceId": 8239195,
     "sourceType": "datasetVersion"
    }
   ],
   "dockerImageVersionId": 30698,
   "isGpuEnabled": false,
   "isInternetEnabled": true,
   "language": "python",
   "sourceType": "notebook"
  },
  "kernelspec": {
   "display_name": "Python 3",
   "language": "python",
   "name": "python3"
  },
  "language_info": {
   "codemirror_mode": {
    "name": "ipython",
    "version": 3
   },
   "file_extension": ".py",
   "mimetype": "text/x-python",
   "name": "python",
   "nbconvert_exporter": "python",
   "pygments_lexer": "ipython3",
   "version": "3.10.13"
  },
  "papermill": {
   "default_parameters": {},
   "duration": 21003.952525,
   "end_time": "2024-04-26T23:55:58.558738",
   "environment_variables": {},
   "exception": null,
   "input_path": "__notebook__.ipynb",
   "output_path": "__notebook__.ipynb",
   "parameters": {},
   "start_time": "2024-04-26T18:05:54.606213",
   "version": "2.5.0"
  },
  "widgets": {
   "application/vnd.jupyter.widget-state+json": {
    "state": {
     "0b3656bb47074cb2bf2ac30625ead35f": {
      "model_module": "@jupyter-widgets/controls",
      "model_module_version": "1.5.0",
      "model_name": "HBoxModel",
      "state": {
       "_dom_classes": [],
       "_model_module": "@jupyter-widgets/controls",
       "_model_module_version": "1.5.0",
       "_model_name": "HBoxModel",
       "_view_count": null,
       "_view_module": "@jupyter-widgets/controls",
       "_view_module_version": "1.5.0",
       "_view_name": "HBoxView",
       "box_style": "",
       "children": [
        "IPY_MODEL_2f1ca95615504df3ba4b1887f949c130",
        "IPY_MODEL_38ba9535c6cf40e895407ea06ac45050",
        "IPY_MODEL_6cc9ef05c93144f29b4662ae77d725ae"
       ],
       "layout": "IPY_MODEL_fdd660c23ecc41f485c62826cf2f2dae"
      }
     },
     "0dc630959a4c404db14be31ebb81bbc7": {
      "model_module": "@jupyter-widgets/controls",
      "model_module_version": "1.5.0",
      "model_name": "HTMLModel",
      "state": {
       "_dom_classes": [],
       "_model_module": "@jupyter-widgets/controls",
       "_model_module_version": "1.5.0",
       "_model_name": "HTMLModel",
       "_view_count": null,
       "_view_module": "@jupyter-widgets/controls",
       "_view_module_version": "1.5.0",
       "_view_name": "HTMLView",
       "description": "",
       "description_tooltip": null,
       "layout": "IPY_MODEL_ed5498cb27a947cab44e3c96b96cf95f",
       "placeholder": "​",
       "style": "IPY_MODEL_5e2cba19e24240f78423b8d25775149d",
       "value": "special_tokens_map.json: 100%"
      }
     },
     "14c0c6f2d81448d58a51e4fcc2761f37": {
      "model_module": "@jupyter-widgets/controls",
      "model_module_version": "1.5.0",
      "model_name": "ProgressStyleModel",
      "state": {
       "_model_module": "@jupyter-widgets/controls",
       "_model_module_version": "1.5.0",
       "_model_name": "ProgressStyleModel",
       "_view_count": null,
       "_view_module": "@jupyter-widgets/base",
       "_view_module_version": "1.2.0",
       "_view_name": "StyleView",
       "bar_color": null,
       "description_width": ""
      }
     },
     "22421680b2c445ef94e60ca340c425a1": {
      "model_module": "@jupyter-widgets/base",
      "model_module_version": "1.2.0",
      "model_name": "LayoutModel",
      "state": {
       "_model_module": "@jupyter-widgets/base",
       "_model_module_version": "1.2.0",
       "_model_name": "LayoutModel",
       "_view_count": null,
       "_view_module": "@jupyter-widgets/base",
       "_view_module_version": "1.2.0",
       "_view_name": "LayoutView",
       "align_content": null,
       "align_items": null,
       "align_self": null,
       "border": null,
       "bottom": null,
       "display": null,
       "flex": null,
       "flex_flow": null,
       "grid_area": null,
       "grid_auto_columns": null,
       "grid_auto_flow": null,
       "grid_auto_rows": null,
       "grid_column": null,
       "grid_gap": null,
       "grid_row": null,
       "grid_template_areas": null,
       "grid_template_columns": null,
       "grid_template_rows": null,
       "height": null,
       "justify_content": null,
       "justify_items": null,
       "left": null,
       "margin": null,
       "max_height": null,
       "max_width": null,
       "min_height": null,
       "min_width": null,
       "object_fit": null,
       "object_position": null,
       "order": null,
       "overflow": null,
       "overflow_x": null,
       "overflow_y": null,
       "padding": null,
       "right": null,
       "top": null,
       "visibility": null,
       "width": null
      }
     },
     "2d66bdb3e39b4d2ea153b2b92abf353c": {
      "model_module": "@jupyter-widgets/controls",
      "model_module_version": "1.5.0",
      "model_name": "HTMLModel",
      "state": {
       "_dom_classes": [],
       "_model_module": "@jupyter-widgets/controls",
       "_model_module_version": "1.5.0",
       "_model_name": "HTMLModel",
       "_view_count": null,
       "_view_module": "@jupyter-widgets/controls",
       "_view_module_version": "1.5.0",
       "_view_name": "HTMLView",
       "description": "",
       "description_tooltip": null,
       "layout": "IPY_MODEL_6e4345b9e631462a9dd6d129f6f8971a",
       "placeholder": "​",
       "style": "IPY_MODEL_94c3f94b0d864b29814d52bead8c53ca",
       "value": "tokenizer_config.json: 100%"
      }
     },
     "2f1ca95615504df3ba4b1887f949c130": {
      "model_module": "@jupyter-widgets/controls",
      "model_module_version": "1.5.0",
      "model_name": "HTMLModel",
      "state": {
       "_dom_classes": [],
       "_model_module": "@jupyter-widgets/controls",
       "_model_module_version": "1.5.0",
       "_model_name": "HTMLModel",
       "_view_count": null,
       "_view_module": "@jupyter-widgets/controls",
       "_view_module_version": "1.5.0",
       "_view_name": "HTMLView",
       "description": "",
       "description_tooltip": null,
       "layout": "IPY_MODEL_7036875400824e9aa73084e7542c8da1",
       "placeholder": "​",
       "style": "IPY_MODEL_98fee2a7c8de45978571721104f75ab1",
       "value": "merges.txt: 100%"
      }
     },
     "38ba9535c6cf40e895407ea06ac45050": {
      "model_module": "@jupyter-widgets/controls",
      "model_module_version": "1.5.0",
      "model_name": "FloatProgressModel",
      "state": {
       "_dom_classes": [],
       "_model_module": "@jupyter-widgets/controls",
       "_model_module_version": "1.5.0",
       "_model_name": "FloatProgressModel",
       "_view_count": null,
       "_view_module": "@jupyter-widgets/controls",
       "_view_module_version": "1.5.0",
       "_view_name": "ProgressView",
       "bar_style": "success",
       "description": "",
       "description_tooltip": null,
       "layout": "IPY_MODEL_fffcce96a1c448f4a045b53779db69cc",
       "max": 456318.0,
       "min": 0.0,
       "orientation": "horizontal",
       "style": "IPY_MODEL_dab91331442143a389a4a30b9054dcc2",
       "value": 456318.0
      }
     },
     "3cae3dae2b9245f89b29a35a96620b2a": {
      "model_module": "@jupyter-widgets/controls",
      "model_module_version": "1.5.0",
      "model_name": "DescriptionStyleModel",
      "state": {
       "_model_module": "@jupyter-widgets/controls",
       "_model_module_version": "1.5.0",
       "_model_name": "DescriptionStyleModel",
       "_view_count": null,
       "_view_module": "@jupyter-widgets/base",
       "_view_module_version": "1.2.0",
       "_view_name": "StyleView",
       "description_width": ""
      }
     },
     "3e2262f98dd449efba71f92e3884db7d": {
      "model_module": "@jupyter-widgets/base",
      "model_module_version": "1.2.0",
      "model_name": "LayoutModel",
      "state": {
       "_model_module": "@jupyter-widgets/base",
       "_model_module_version": "1.2.0",
       "_model_name": "LayoutModel",
       "_view_count": null,
       "_view_module": "@jupyter-widgets/base",
       "_view_module_version": "1.2.0",
       "_view_name": "LayoutView",
       "align_content": null,
       "align_items": null,
       "align_self": null,
       "border": null,
       "bottom": null,
       "display": null,
       "flex": null,
       "flex_flow": null,
       "grid_area": null,
       "grid_auto_columns": null,
       "grid_auto_flow": null,
       "grid_auto_rows": null,
       "grid_column": null,
       "grid_gap": null,
       "grid_row": null,
       "grid_template_areas": null,
       "grid_template_columns": null,
       "grid_template_rows": null,
       "height": null,
       "justify_content": null,
       "justify_items": null,
       "left": null,
       "margin": null,
       "max_height": null,
       "max_width": null,
       "min_height": null,
       "min_width": null,
       "object_fit": null,
       "object_position": null,
       "order": null,
       "overflow": null,
       "overflow_x": null,
       "overflow_y": null,
       "padding": null,
       "right": null,
       "top": null,
       "visibility": null,
       "width": null
      }
     },
     "4167cf8bfe5f4ff19253f00862dd992e": {
      "model_module": "@jupyter-widgets/base",
      "model_module_version": "1.2.0",
      "model_name": "LayoutModel",
      "state": {
       "_model_module": "@jupyter-widgets/base",
       "_model_module_version": "1.2.0",
       "_model_name": "LayoutModel",
       "_view_count": null,
       "_view_module": "@jupyter-widgets/base",
       "_view_module_version": "1.2.0",
       "_view_name": "LayoutView",
       "align_content": null,
       "align_items": null,
       "align_self": null,
       "border": null,
       "bottom": null,
       "display": null,
       "flex": null,
       "flex_flow": null,
       "grid_area": null,
       "grid_auto_columns": null,
       "grid_auto_flow": null,
       "grid_auto_rows": null,
       "grid_column": null,
       "grid_gap": null,
       "grid_row": null,
       "grid_template_areas": null,
       "grid_template_columns": null,
       "grid_template_rows": null,
       "height": null,
       "justify_content": null,
       "justify_items": null,
       "left": null,
       "margin": null,
       "max_height": null,
       "max_width": null,
       "min_height": null,
       "min_width": null,
       "object_fit": null,
       "object_position": null,
       "order": null,
       "overflow": null,
       "overflow_x": null,
       "overflow_y": null,
       "padding": null,
       "right": null,
       "top": null,
       "visibility": null,
       "width": null
      }
     },
     "41e91c0d304c47108840d6e8e2416e0c": {
      "model_module": "@jupyter-widgets/controls",
      "model_module_version": "1.5.0",
      "model_name": "HBoxModel",
      "state": {
       "_dom_classes": [],
       "_model_module": "@jupyter-widgets/controls",
       "_model_module_version": "1.5.0",
       "_model_name": "HBoxModel",
       "_view_count": null,
       "_view_module": "@jupyter-widgets/controls",
       "_view_module_version": "1.5.0",
       "_view_name": "HBoxView",
       "box_style": "",
       "children": [
        "IPY_MODEL_2d66bdb3e39b4d2ea153b2b92abf353c",
        "IPY_MODEL_f18bfa83ca924bb2be0a5379ee5e3118",
        "IPY_MODEL_61439cd0777f4c8f998b1027c023dbda"
       ],
       "layout": "IPY_MODEL_44a8fe81aa904ddb9fa26459156d6c8a"
      }
     },
     "44a8fe81aa904ddb9fa26459156d6c8a": {
      "model_module": "@jupyter-widgets/base",
      "model_module_version": "1.2.0",
      "model_name": "LayoutModel",
      "state": {
       "_model_module": "@jupyter-widgets/base",
       "_model_module_version": "1.2.0",
       "_model_name": "LayoutModel",
       "_view_count": null,
       "_view_module": "@jupyter-widgets/base",
       "_view_module_version": "1.2.0",
       "_view_name": "LayoutView",
       "align_content": null,
       "align_items": null,
       "align_self": null,
       "border": null,
       "bottom": null,
       "display": null,
       "flex": null,
       "flex_flow": null,
       "grid_area": null,
       "grid_auto_columns": null,
       "grid_auto_flow": null,
       "grid_auto_rows": null,
       "grid_column": null,
       "grid_gap": null,
       "grid_row": null,
       "grid_template_areas": null,
       "grid_template_columns": null,
       "grid_template_rows": null,
       "height": null,
       "justify_content": null,
       "justify_items": null,
       "left": null,
       "margin": null,
       "max_height": null,
       "max_width": null,
       "min_height": null,
       "min_width": null,
       "object_fit": null,
       "object_position": null,
       "order": null,
       "overflow": null,
       "overflow_x": null,
       "overflow_y": null,
       "padding": null,
       "right": null,
       "top": null,
       "visibility": null,
       "width": null
      }
     },
     "47ec5726ce5f430fac373e7437a7fb88": {
      "model_module": "@jupyter-widgets/controls",
      "model_module_version": "1.5.0",
      "model_name": "FloatProgressModel",
      "state": {
       "_dom_classes": [],
       "_model_module": "@jupyter-widgets/controls",
       "_model_module_version": "1.5.0",
       "_model_name": "FloatProgressModel",
       "_view_count": null,
       "_view_module": "@jupyter-widgets/controls",
       "_view_module_version": "1.5.0",
       "_view_name": "ProgressView",
       "bar_style": "success",
       "description": "",
       "description_tooltip": null,
       "layout": "IPY_MODEL_61128e5e685045b0ade50a88f2c07c82",
       "max": 898822.0,
       "min": 0.0,
       "orientation": "horizontal",
       "style": "IPY_MODEL_9e66ca6ddc8e4247ade29a08fe216b22",
       "value": 898822.0
      }
     },
     "49c420de56bc44dcb7b92536610ec5fe": {
      "model_module": "@jupyter-widgets/controls",
      "model_module_version": "1.5.0",
      "model_name": "HTMLModel",
      "state": {
       "_dom_classes": [],
       "_model_module": "@jupyter-widgets/controls",
       "_model_module_version": "1.5.0",
       "_model_name": "HTMLModel",
       "_view_count": null,
       "_view_module": "@jupyter-widgets/controls",
       "_view_module_version": "1.5.0",
       "_view_name": "HTMLView",
       "description": "",
       "description_tooltip": null,
       "layout": "IPY_MODEL_8ec74001f50a403ba4a2b99c3e10c660",
       "placeholder": "​",
       "style": "IPY_MODEL_9ee176198d384f948d3f74c8d2e260a1",
       "value": " 644/644 [00:00&lt;00:00, 36.1kB/s]"
      }
     },
     "53754fff441c42049bb682d47d1f348f": {
      "model_module": "@jupyter-widgets/controls",
      "model_module_version": "1.5.0",
      "model_name": "DescriptionStyleModel",
      "state": {
       "_model_module": "@jupyter-widgets/controls",
       "_model_module_version": "1.5.0",
       "_model_name": "DescriptionStyleModel",
       "_view_count": null,
       "_view_module": "@jupyter-widgets/base",
       "_view_module_version": "1.2.0",
       "_view_name": "StyleView",
       "description_width": ""
      }
     },
     "54d0de6ec62d46e4a2df96e443dacb24": {
      "model_module": "@jupyter-widgets/base",
      "model_module_version": "1.2.0",
      "model_name": "LayoutModel",
      "state": {
       "_model_module": "@jupyter-widgets/base",
       "_model_module_version": "1.2.0",
       "_model_name": "LayoutModel",
       "_view_count": null,
       "_view_module": "@jupyter-widgets/base",
       "_view_module_version": "1.2.0",
       "_view_name": "LayoutView",
       "align_content": null,
       "align_items": null,
       "align_self": null,
       "border": null,
       "bottom": null,
       "display": null,
       "flex": null,
       "flex_flow": null,
       "grid_area": null,
       "grid_auto_columns": null,
       "grid_auto_flow": null,
       "grid_auto_rows": null,
       "grid_column": null,
       "grid_gap": null,
       "grid_row": null,
       "grid_template_areas": null,
       "grid_template_columns": null,
       "grid_template_rows": null,
       "height": null,
       "justify_content": null,
       "justify_items": null,
       "left": null,
       "margin": null,
       "max_height": null,
       "max_width": null,
       "min_height": null,
       "min_width": null,
       "object_fit": null,
       "object_position": null,
       "order": null,
       "overflow": null,
       "overflow_x": null,
       "overflow_y": null,
       "padding": null,
       "right": null,
       "top": null,
       "visibility": null,
       "width": null
      }
     },
     "5d7738476fa34835b9591facf5b9e77b": {
      "model_module": "@jupyter-widgets/controls",
      "model_module_version": "1.5.0",
      "model_name": "DescriptionStyleModel",
      "state": {
       "_model_module": "@jupyter-widgets/controls",
       "_model_module_version": "1.5.0",
       "_model_name": "DescriptionStyleModel",
       "_view_count": null,
       "_view_module": "@jupyter-widgets/base",
       "_view_module_version": "1.2.0",
       "_view_name": "StyleView",
       "description_width": ""
      }
     },
     "5e2cba19e24240f78423b8d25775149d": {
      "model_module": "@jupyter-widgets/controls",
      "model_module_version": "1.5.0",
      "model_name": "DescriptionStyleModel",
      "state": {
       "_model_module": "@jupyter-widgets/controls",
       "_model_module_version": "1.5.0",
       "_model_name": "DescriptionStyleModel",
       "_view_count": null,
       "_view_module": "@jupyter-widgets/base",
       "_view_module_version": "1.2.0",
       "_view_name": "StyleView",
       "description_width": ""
      }
     },
     "61128e5e685045b0ade50a88f2c07c82": {
      "model_module": "@jupyter-widgets/base",
      "model_module_version": "1.2.0",
      "model_name": "LayoutModel",
      "state": {
       "_model_module": "@jupyter-widgets/base",
       "_model_module_version": "1.2.0",
       "_model_name": "LayoutModel",
       "_view_count": null,
       "_view_module": "@jupyter-widgets/base",
       "_view_module_version": "1.2.0",
       "_view_name": "LayoutView",
       "align_content": null,
       "align_items": null,
       "align_self": null,
       "border": null,
       "bottom": null,
       "display": null,
       "flex": null,
       "flex_flow": null,
       "grid_area": null,
       "grid_auto_columns": null,
       "grid_auto_flow": null,
       "grid_auto_rows": null,
       "grid_column": null,
       "grid_gap": null,
       "grid_row": null,
       "grid_template_areas": null,
       "grid_template_columns": null,
       "grid_template_rows": null,
       "height": null,
       "justify_content": null,
       "justify_items": null,
       "left": null,
       "margin": null,
       "max_height": null,
       "max_width": null,
       "min_height": null,
       "min_width": null,
       "object_fit": null,
       "object_position": null,
       "order": null,
       "overflow": null,
       "overflow_x": null,
       "overflow_y": null,
       "padding": null,
       "right": null,
       "top": null,
       "visibility": null,
       "width": null
      }
     },
     "61439cd0777f4c8f998b1027c023dbda": {
      "model_module": "@jupyter-widgets/controls",
      "model_module_version": "1.5.0",
      "model_name": "HTMLModel",
      "state": {
       "_dom_classes": [],
       "_model_module": "@jupyter-widgets/controls",
       "_model_module_version": "1.5.0",
       "_model_name": "HTMLModel",
       "_view_count": null,
       "_view_module": "@jupyter-widgets/controls",
       "_view_module_version": "1.5.0",
       "_view_name": "HTMLView",
       "description": "",
       "description_tooltip": null,
       "layout": "IPY_MODEL_a04d26d94e654d8584f6d4a3ff4db5ae",
       "placeholder": "​",
       "style": "IPY_MODEL_5d7738476fa34835b9591facf5b9e77b",
       "value": " 685/685 [00:00&lt;00:00, 44.6kB/s]"
      }
     },
     "65eeda5ded014748bc6adacf636ce8bd": {
      "model_module": "@jupyter-widgets/controls",
      "model_module_version": "1.5.0",
      "model_name": "HBoxModel",
      "state": {
       "_dom_classes": [],
       "_model_module": "@jupyter-widgets/controls",
       "_model_module_version": "1.5.0",
       "_model_name": "HBoxModel",
       "_view_count": null,
       "_view_module": "@jupyter-widgets/controls",
       "_view_module_version": "1.5.0",
       "_view_name": "HBoxView",
       "box_style": "",
       "children": [
        "IPY_MODEL_0dc630959a4c404db14be31ebb81bbc7",
        "IPY_MODEL_f826bec403bc4138b0f3b00d5b45b744",
        "IPY_MODEL_d4b2be17c7f54884b465e8a6c5650494"
       ],
       "layout": "IPY_MODEL_22421680b2c445ef94e60ca340c425a1"
      }
     },
     "67573e0e61e0495286abbf9e134965c1": {
      "model_module": "@jupyter-widgets/controls",
      "model_module_version": "1.5.0",
      "model_name": "HTMLModel",
      "state": {
       "_dom_classes": [],
       "_model_module": "@jupyter-widgets/controls",
       "_model_module_version": "1.5.0",
       "_model_name": "HTMLModel",
       "_view_count": null,
       "_view_module": "@jupyter-widgets/controls",
       "_view_module_version": "1.5.0",
       "_view_name": "HTMLView",
       "description": "",
       "description_tooltip": null,
       "layout": "IPY_MODEL_4167cf8bfe5f4ff19253f00862dd992e",
       "placeholder": "​",
       "style": "IPY_MODEL_3cae3dae2b9245f89b29a35a96620b2a",
       "value": " 899k/899k [00:00&lt;00:00, 11.8MB/s]"
      }
     },
     "6cc9ef05c93144f29b4662ae77d725ae": {
      "model_module": "@jupyter-widgets/controls",
      "model_module_version": "1.5.0",
      "model_name": "HTMLModel",
      "state": {
       "_dom_classes": [],
       "_model_module": "@jupyter-widgets/controls",
       "_model_module_version": "1.5.0",
       "_model_name": "HTMLModel",
       "_view_count": null,
       "_view_module": "@jupyter-widgets/controls",
       "_view_module_version": "1.5.0",
       "_view_name": "HTMLView",
       "description": "",
       "description_tooltip": null,
       "layout": "IPY_MODEL_b8b55f435c044d06bec9c9271cdac70d",
       "placeholder": "​",
       "style": "IPY_MODEL_eca9bd15b72048bb92d2568ad0252648",
       "value": " 456k/456k [00:00&lt;00:00, 29.9MB/s]"
      }
     },
     "6e4345b9e631462a9dd6d129f6f8971a": {
      "model_module": "@jupyter-widgets/base",
      "model_module_version": "1.2.0",
      "model_name": "LayoutModel",
      "state": {
       "_model_module": "@jupyter-widgets/base",
       "_model_module_version": "1.2.0",
       "_model_name": "LayoutModel",
       "_view_count": null,
       "_view_module": "@jupyter-widgets/base",
       "_view_module_version": "1.2.0",
       "_view_name": "LayoutView",
       "align_content": null,
       "align_items": null,
       "align_self": null,
       "border": null,
       "bottom": null,
       "display": null,
       "flex": null,
       "flex_flow": null,
       "grid_area": null,
       "grid_auto_columns": null,
       "grid_auto_flow": null,
       "grid_auto_rows": null,
       "grid_column": null,
       "grid_gap": null,
       "grid_row": null,
       "grid_template_areas": null,
       "grid_template_columns": null,
       "grid_template_rows": null,
       "height": null,
       "justify_content": null,
       "justify_items": null,
       "left": null,
       "margin": null,
       "max_height": null,
       "max_width": null,
       "min_height": null,
       "min_width": null,
       "object_fit": null,
       "object_position": null,
       "order": null,
       "overflow": null,
       "overflow_x": null,
       "overflow_y": null,
       "padding": null,
       "right": null,
       "top": null,
       "visibility": null,
       "width": null
      }
     },
     "7036875400824e9aa73084e7542c8da1": {
      "model_module": "@jupyter-widgets/base",
      "model_module_version": "1.2.0",
      "model_name": "LayoutModel",
      "state": {
       "_model_module": "@jupyter-widgets/base",
       "_model_module_version": "1.2.0",
       "_model_name": "LayoutModel",
       "_view_count": null,
       "_view_module": "@jupyter-widgets/base",
       "_view_module_version": "1.2.0",
       "_view_name": "LayoutView",
       "align_content": null,
       "align_items": null,
       "align_self": null,
       "border": null,
       "bottom": null,
       "display": null,
       "flex": null,
       "flex_flow": null,
       "grid_area": null,
       "grid_auto_columns": null,
       "grid_auto_flow": null,
       "grid_auto_rows": null,
       "grid_column": null,
       "grid_gap": null,
       "grid_row": null,
       "grid_template_areas": null,
       "grid_template_columns": null,
       "grid_template_rows": null,
       "height": null,
       "justify_content": null,
       "justify_items": null,
       "left": null,
       "margin": null,
       "max_height": null,
       "max_width": null,
       "min_height": null,
       "min_width": null,
       "object_fit": null,
       "object_position": null,
       "order": null,
       "overflow": null,
       "overflow_x": null,
       "overflow_y": null,
       "padding": null,
       "right": null,
       "top": null,
       "visibility": null,
       "width": null
      }
     },
     "838267440e4940d3a50e09a7f434cbaf": {
      "model_module": "@jupyter-widgets/base",
      "model_module_version": "1.2.0",
      "model_name": "LayoutModel",
      "state": {
       "_model_module": "@jupyter-widgets/base",
       "_model_module_version": "1.2.0",
       "_model_name": "LayoutModel",
       "_view_count": null,
       "_view_module": "@jupyter-widgets/base",
       "_view_module_version": "1.2.0",
       "_view_name": "LayoutView",
       "align_content": null,
       "align_items": null,
       "align_self": null,
       "border": null,
       "bottom": null,
       "display": null,
       "flex": null,
       "flex_flow": null,
       "grid_area": null,
       "grid_auto_columns": null,
       "grid_auto_flow": null,
       "grid_auto_rows": null,
       "grid_column": null,
       "grid_gap": null,
       "grid_row": null,
       "grid_template_areas": null,
       "grid_template_columns": null,
       "grid_template_rows": null,
       "height": null,
       "justify_content": null,
       "justify_items": null,
       "left": null,
       "margin": null,
       "max_height": null,
       "max_width": null,
       "min_height": null,
       "min_width": null,
       "object_fit": null,
       "object_position": null,
       "order": null,
       "overflow": null,
       "overflow_x": null,
       "overflow_y": null,
       "padding": null,
       "right": null,
       "top": null,
       "visibility": null,
       "width": null
      }
     },
     "8ec74001f50a403ba4a2b99c3e10c660": {
      "model_module": "@jupyter-widgets/base",
      "model_module_version": "1.2.0",
      "model_name": "LayoutModel",
      "state": {
       "_model_module": "@jupyter-widgets/base",
       "_model_module_version": "1.2.0",
       "_model_name": "LayoutModel",
       "_view_count": null,
       "_view_module": "@jupyter-widgets/base",
       "_view_module_version": "1.2.0",
       "_view_name": "LayoutView",
       "align_content": null,
       "align_items": null,
       "align_self": null,
       "border": null,
       "bottom": null,
       "display": null,
       "flex": null,
       "flex_flow": null,
       "grid_area": null,
       "grid_auto_columns": null,
       "grid_auto_flow": null,
       "grid_auto_rows": null,
       "grid_column": null,
       "grid_gap": null,
       "grid_row": null,
       "grid_template_areas": null,
       "grid_template_columns": null,
       "grid_template_rows": null,
       "height": null,
       "justify_content": null,
       "justify_items": null,
       "left": null,
       "margin": null,
       "max_height": null,
       "max_width": null,
       "min_height": null,
       "min_width": null,
       "object_fit": null,
       "object_position": null,
       "order": null,
       "overflow": null,
       "overflow_x": null,
       "overflow_y": null,
       "padding": null,
       "right": null,
       "top": null,
       "visibility": null,
       "width": null
      }
     },
     "94c3f94b0d864b29814d52bead8c53ca": {
      "model_module": "@jupyter-widgets/controls",
      "model_module_version": "1.5.0",
      "model_name": "DescriptionStyleModel",
      "state": {
       "_model_module": "@jupyter-widgets/controls",
       "_model_module_version": "1.5.0",
       "_model_name": "DescriptionStyleModel",
       "_view_count": null,
       "_view_module": "@jupyter-widgets/base",
       "_view_module_version": "1.2.0",
       "_view_name": "StyleView",
       "description_width": ""
      }
     },
     "95b3cc0da0994829a6f2618c4d2a3c60": {
      "model_module": "@jupyter-widgets/base",
      "model_module_version": "1.2.0",
      "model_name": "LayoutModel",
      "state": {
       "_model_module": "@jupyter-widgets/base",
       "_model_module_version": "1.2.0",
       "_model_name": "LayoutModel",
       "_view_count": null,
       "_view_module": "@jupyter-widgets/base",
       "_view_module_version": "1.2.0",
       "_view_name": "LayoutView",
       "align_content": null,
       "align_items": null,
       "align_self": null,
       "border": null,
       "bottom": null,
       "display": null,
       "flex": null,
       "flex_flow": null,
       "grid_area": null,
       "grid_auto_columns": null,
       "grid_auto_flow": null,
       "grid_auto_rows": null,
       "grid_column": null,
       "grid_gap": null,
       "grid_row": null,
       "grid_template_areas": null,
       "grid_template_columns": null,
       "grid_template_rows": null,
       "height": null,
       "justify_content": null,
       "justify_items": null,
       "left": null,
       "margin": null,
       "max_height": null,
       "max_width": null,
       "min_height": null,
       "min_width": null,
       "object_fit": null,
       "object_position": null,
       "order": null,
       "overflow": null,
       "overflow_x": null,
       "overflow_y": null,
       "padding": null,
       "right": null,
       "top": null,
       "visibility": null,
       "width": null
      }
     },
     "968df6e736bb4f21af5ae6d0ff41e1b6": {
      "model_module": "@jupyter-widgets/controls",
      "model_module_version": "1.5.0",
      "model_name": "HBoxModel",
      "state": {
       "_dom_classes": [],
       "_model_module": "@jupyter-widgets/controls",
       "_model_module_version": "1.5.0",
       "_model_name": "HBoxModel",
       "_view_count": null,
       "_view_module": "@jupyter-widgets/controls",
       "_view_module_version": "1.5.0",
       "_view_name": "HBoxView",
       "box_style": "",
       "children": [
        "IPY_MODEL_ec454771db41423f95d5f624c99cbbe4",
        "IPY_MODEL_f149f39100064debb1ab412625715a38",
        "IPY_MODEL_49c420de56bc44dcb7b92536610ec5fe"
       ],
       "layout": "IPY_MODEL_838267440e4940d3a50e09a7f434cbaf"
      }
     },
     "98fee2a7c8de45978571721104f75ab1": {
      "model_module": "@jupyter-widgets/controls",
      "model_module_version": "1.5.0",
      "model_name": "DescriptionStyleModel",
      "state": {
       "_model_module": "@jupyter-widgets/controls",
       "_model_module_version": "1.5.0",
       "_model_name": "DescriptionStyleModel",
       "_view_count": null,
       "_view_module": "@jupyter-widgets/base",
       "_view_module_version": "1.2.0",
       "_view_name": "StyleView",
       "description_width": ""
      }
     },
     "9e66ca6ddc8e4247ade29a08fe216b22": {
      "model_module": "@jupyter-widgets/controls",
      "model_module_version": "1.5.0",
      "model_name": "ProgressStyleModel",
      "state": {
       "_model_module": "@jupyter-widgets/controls",
       "_model_module_version": "1.5.0",
       "_model_name": "ProgressStyleModel",
       "_view_count": null,
       "_view_module": "@jupyter-widgets/base",
       "_view_module_version": "1.2.0",
       "_view_name": "StyleView",
       "bar_color": null,
       "description_width": ""
      }
     },
     "9ee176198d384f948d3f74c8d2e260a1": {
      "model_module": "@jupyter-widgets/controls",
      "model_module_version": "1.5.0",
      "model_name": "DescriptionStyleModel",
      "state": {
       "_model_module": "@jupyter-widgets/controls",
       "_model_module_version": "1.5.0",
       "_model_name": "DescriptionStyleModel",
       "_view_count": null,
       "_view_module": "@jupyter-widgets/base",
       "_view_module_version": "1.2.0",
       "_view_name": "StyleView",
       "description_width": ""
      }
     },
     "a04d26d94e654d8584f6d4a3ff4db5ae": {
      "model_module": "@jupyter-widgets/base",
      "model_module_version": "1.2.0",
      "model_name": "LayoutModel",
      "state": {
       "_model_module": "@jupyter-widgets/base",
       "_model_module_version": "1.2.0",
       "_model_name": "LayoutModel",
       "_view_count": null,
       "_view_module": "@jupyter-widgets/base",
       "_view_module_version": "1.2.0",
       "_view_name": "LayoutView",
       "align_content": null,
       "align_items": null,
       "align_self": null,
       "border": null,
       "bottom": null,
       "display": null,
       "flex": null,
       "flex_flow": null,
       "grid_area": null,
       "grid_auto_columns": null,
       "grid_auto_flow": null,
       "grid_auto_rows": null,
       "grid_column": null,
       "grid_gap": null,
       "grid_row": null,
       "grid_template_areas": null,
       "grid_template_columns": null,
       "grid_template_rows": null,
       "height": null,
       "justify_content": null,
       "justify_items": null,
       "left": null,
       "margin": null,
       "max_height": null,
       "max_width": null,
       "min_height": null,
       "min_width": null,
       "object_fit": null,
       "object_position": null,
       "order": null,
       "overflow": null,
       "overflow_x": null,
       "overflow_y": null,
       "padding": null,
       "right": null,
       "top": null,
       "visibility": null,
       "width": null
      }
     },
     "aa820a466d5a498085e3bb1eb7345eac": {
      "model_module": "@jupyter-widgets/base",
      "model_module_version": "1.2.0",
      "model_name": "LayoutModel",
      "state": {
       "_model_module": "@jupyter-widgets/base",
       "_model_module_version": "1.2.0",
       "_model_name": "LayoutModel",
       "_view_count": null,
       "_view_module": "@jupyter-widgets/base",
       "_view_module_version": "1.2.0",
       "_view_name": "LayoutView",
       "align_content": null,
       "align_items": null,
       "align_self": null,
       "border": null,
       "bottom": null,
       "display": null,
       "flex": null,
       "flex_flow": null,
       "grid_area": null,
       "grid_auto_columns": null,
       "grid_auto_flow": null,
       "grid_auto_rows": null,
       "grid_column": null,
       "grid_gap": null,
       "grid_row": null,
       "grid_template_areas": null,
       "grid_template_columns": null,
       "grid_template_rows": null,
       "height": null,
       "justify_content": null,
       "justify_items": null,
       "left": null,
       "margin": null,
       "max_height": null,
       "max_width": null,
       "min_height": null,
       "min_width": null,
       "object_fit": null,
       "object_position": null,
       "order": null,
       "overflow": null,
       "overflow_x": null,
       "overflow_y": null,
       "padding": null,
       "right": null,
       "top": null,
       "visibility": null,
       "width": null
      }
     },
     "ae5349e019b748a69229486add381d3b": {
      "model_module": "@jupyter-widgets/controls",
      "model_module_version": "1.5.0",
      "model_name": "ProgressStyleModel",
      "state": {
       "_model_module": "@jupyter-widgets/controls",
       "_model_module_version": "1.5.0",
       "_model_name": "ProgressStyleModel",
       "_view_count": null,
       "_view_module": "@jupyter-widgets/base",
       "_view_module_version": "1.2.0",
       "_view_name": "StyleView",
       "bar_color": null,
       "description_width": ""
      }
     },
     "b8b55f435c044d06bec9c9271cdac70d": {
      "model_module": "@jupyter-widgets/base",
      "model_module_version": "1.2.0",
      "model_name": "LayoutModel",
      "state": {
       "_model_module": "@jupyter-widgets/base",
       "_model_module_version": "1.2.0",
       "_model_name": "LayoutModel",
       "_view_count": null,
       "_view_module": "@jupyter-widgets/base",
       "_view_module_version": "1.2.0",
       "_view_name": "LayoutView",
       "align_content": null,
       "align_items": null,
       "align_self": null,
       "border": null,
       "bottom": null,
       "display": null,
       "flex": null,
       "flex_flow": null,
       "grid_area": null,
       "grid_auto_columns": null,
       "grid_auto_flow": null,
       "grid_auto_rows": null,
       "grid_column": null,
       "grid_gap": null,
       "grid_row": null,
       "grid_template_areas": null,
       "grid_template_columns": null,
       "grid_template_rows": null,
       "height": null,
       "justify_content": null,
       "justify_items": null,
       "left": null,
       "margin": null,
       "max_height": null,
       "max_width": null,
       "min_height": null,
       "min_width": null,
       "object_fit": null,
       "object_position": null,
       "order": null,
       "overflow": null,
       "overflow_x": null,
       "overflow_y": null,
       "padding": null,
       "right": null,
       "top": null,
       "visibility": null,
       "width": null
      }
     },
     "b9bba55fc99e4d2c873fdfdb76439cd7": {
      "model_module": "@jupyter-widgets/base",
      "model_module_version": "1.2.0",
      "model_name": "LayoutModel",
      "state": {
       "_model_module": "@jupyter-widgets/base",
       "_model_module_version": "1.2.0",
       "_model_name": "LayoutModel",
       "_view_count": null,
       "_view_module": "@jupyter-widgets/base",
       "_view_module_version": "1.2.0",
       "_view_name": "LayoutView",
       "align_content": null,
       "align_items": null,
       "align_self": null,
       "border": null,
       "bottom": null,
       "display": null,
       "flex": null,
       "flex_flow": null,
       "grid_area": null,
       "grid_auto_columns": null,
       "grid_auto_flow": null,
       "grid_auto_rows": null,
       "grid_column": null,
       "grid_gap": null,
       "grid_row": null,
       "grid_template_areas": null,
       "grid_template_columns": null,
       "grid_template_rows": null,
       "height": null,
       "justify_content": null,
       "justify_items": null,
       "left": null,
       "margin": null,
       "max_height": null,
       "max_width": null,
       "min_height": null,
       "min_width": null,
       "object_fit": null,
       "object_position": null,
       "order": null,
       "overflow": null,
       "overflow_x": null,
       "overflow_y": null,
       "padding": null,
       "right": null,
       "top": null,
       "visibility": null,
       "width": null
      }
     },
     "bf2e6fd9bd124add8111fc9ed578d157": {
      "model_module": "@jupyter-widgets/controls",
      "model_module_version": "1.5.0",
      "model_name": "HBoxModel",
      "state": {
       "_dom_classes": [],
       "_model_module": "@jupyter-widgets/controls",
       "_model_module_version": "1.5.0",
       "_model_name": "HBoxModel",
       "_view_count": null,
       "_view_module": "@jupyter-widgets/controls",
       "_view_module_version": "1.5.0",
       "_view_name": "HBoxView",
       "box_style": "",
       "children": [
        "IPY_MODEL_dcc8bf476ff44bf189c27415c00d5e4d",
        "IPY_MODEL_47ec5726ce5f430fac373e7437a7fb88",
        "IPY_MODEL_67573e0e61e0495286abbf9e134965c1"
       ],
       "layout": "IPY_MODEL_54d0de6ec62d46e4a2df96e443dacb24"
      }
     },
     "c1e6ed956c5a41c1a29107a90cb5780c": {
      "model_module": "@jupyter-widgets/controls",
      "model_module_version": "1.5.0",
      "model_name": "ProgressStyleModel",
      "state": {
       "_model_module": "@jupyter-widgets/controls",
       "_model_module_version": "1.5.0",
       "_model_name": "ProgressStyleModel",
       "_view_count": null,
       "_view_module": "@jupyter-widgets/base",
       "_view_module_version": "1.2.0",
       "_view_name": "StyleView",
       "bar_color": null,
       "description_width": ""
      }
     },
     "d4b2be17c7f54884b465e8a6c5650494": {
      "model_module": "@jupyter-widgets/controls",
      "model_module_version": "1.5.0",
      "model_name": "HTMLModel",
      "state": {
       "_dom_classes": [],
       "_model_module": "@jupyter-widgets/controls",
       "_model_module_version": "1.5.0",
       "_model_name": "HTMLModel",
       "_view_count": null,
       "_view_module": "@jupyter-widgets/controls",
       "_view_module_version": "1.5.0",
       "_view_name": "HTMLView",
       "description": "",
       "description_tooltip": null,
       "layout": "IPY_MODEL_ea43570239d74eacb85af9e05f309a1d",
       "placeholder": "​",
       "style": "IPY_MODEL_d8469ec7fa9a4b6f846e69335da9961d",
       "value": " 441/441 [00:00&lt;00:00, 30.9kB/s]"
      }
     },
     "d62396e3b39242d6a8bf8a86ad5623e2": {
      "model_module": "@jupyter-widgets/controls",
      "model_module_version": "1.5.0",
      "model_name": "DescriptionStyleModel",
      "state": {
       "_model_module": "@jupyter-widgets/controls",
       "_model_module_version": "1.5.0",
       "_model_name": "DescriptionStyleModel",
       "_view_count": null,
       "_view_module": "@jupyter-widgets/base",
       "_view_module_version": "1.2.0",
       "_view_name": "StyleView",
       "description_width": ""
      }
     },
     "d8469ec7fa9a4b6f846e69335da9961d": {
      "model_module": "@jupyter-widgets/controls",
      "model_module_version": "1.5.0",
      "model_name": "DescriptionStyleModel",
      "state": {
       "_model_module": "@jupyter-widgets/controls",
       "_model_module_version": "1.5.0",
       "_model_name": "DescriptionStyleModel",
       "_view_count": null,
       "_view_module": "@jupyter-widgets/base",
       "_view_module_version": "1.2.0",
       "_view_name": "StyleView",
       "description_width": ""
      }
     },
     "dab91331442143a389a4a30b9054dcc2": {
      "model_module": "@jupyter-widgets/controls",
      "model_module_version": "1.5.0",
      "model_name": "ProgressStyleModel",
      "state": {
       "_model_module": "@jupyter-widgets/controls",
       "_model_module_version": "1.5.0",
       "_model_name": "ProgressStyleModel",
       "_view_count": null,
       "_view_module": "@jupyter-widgets/base",
       "_view_module_version": "1.2.0",
       "_view_name": "StyleView",
       "bar_color": null,
       "description_width": ""
      }
     },
     "dcc8bf476ff44bf189c27415c00d5e4d": {
      "model_module": "@jupyter-widgets/controls",
      "model_module_version": "1.5.0",
      "model_name": "HTMLModel",
      "state": {
       "_dom_classes": [],
       "_model_module": "@jupyter-widgets/controls",
       "_model_module_version": "1.5.0",
       "_model_name": "HTMLModel",
       "_view_count": null,
       "_view_module": "@jupyter-widgets/controls",
       "_view_module_version": "1.5.0",
       "_view_name": "HTMLView",
       "description": "",
       "description_tooltip": null,
       "layout": "IPY_MODEL_aa820a466d5a498085e3bb1eb7345eac",
       "placeholder": "​",
       "style": "IPY_MODEL_d62396e3b39242d6a8bf8a86ad5623e2",
       "value": "vocab.json: 100%"
      }
     },
     "e9ba35a8b3bb4013ab1f35e92e4f3d14": {
      "model_module": "@jupyter-widgets/base",
      "model_module_version": "1.2.0",
      "model_name": "LayoutModel",
      "state": {
       "_model_module": "@jupyter-widgets/base",
       "_model_module_version": "1.2.0",
       "_model_name": "LayoutModel",
       "_view_count": null,
       "_view_module": "@jupyter-widgets/base",
       "_view_module_version": "1.2.0",
       "_view_name": "LayoutView",
       "align_content": null,
       "align_items": null,
       "align_self": null,
       "border": null,
       "bottom": null,
       "display": null,
       "flex": null,
       "flex_flow": null,
       "grid_area": null,
       "grid_auto_columns": null,
       "grid_auto_flow": null,
       "grid_auto_rows": null,
       "grid_column": null,
       "grid_gap": null,
       "grid_row": null,
       "grid_template_areas": null,
       "grid_template_columns": null,
       "grid_template_rows": null,
       "height": null,
       "justify_content": null,
       "justify_items": null,
       "left": null,
       "margin": null,
       "max_height": null,
       "max_width": null,
       "min_height": null,
       "min_width": null,
       "object_fit": null,
       "object_position": null,
       "order": null,
       "overflow": null,
       "overflow_x": null,
       "overflow_y": null,
       "padding": null,
       "right": null,
       "top": null,
       "visibility": null,
       "width": null
      }
     },
     "ea43570239d74eacb85af9e05f309a1d": {
      "model_module": "@jupyter-widgets/base",
      "model_module_version": "1.2.0",
      "model_name": "LayoutModel",
      "state": {
       "_model_module": "@jupyter-widgets/base",
       "_model_module_version": "1.2.0",
       "_model_name": "LayoutModel",
       "_view_count": null,
       "_view_module": "@jupyter-widgets/base",
       "_view_module_version": "1.2.0",
       "_view_name": "LayoutView",
       "align_content": null,
       "align_items": null,
       "align_self": null,
       "border": null,
       "bottom": null,
       "display": null,
       "flex": null,
       "flex_flow": null,
       "grid_area": null,
       "grid_auto_columns": null,
       "grid_auto_flow": null,
       "grid_auto_rows": null,
       "grid_column": null,
       "grid_gap": null,
       "grid_row": null,
       "grid_template_areas": null,
       "grid_template_columns": null,
       "grid_template_rows": null,
       "height": null,
       "justify_content": null,
       "justify_items": null,
       "left": null,
       "margin": null,
       "max_height": null,
       "max_width": null,
       "min_height": null,
       "min_width": null,
       "object_fit": null,
       "object_position": null,
       "order": null,
       "overflow": null,
       "overflow_x": null,
       "overflow_y": null,
       "padding": null,
       "right": null,
       "top": null,
       "visibility": null,
       "width": null
      }
     },
     "ec454771db41423f95d5f624c99cbbe4": {
      "model_module": "@jupyter-widgets/controls",
      "model_module_version": "1.5.0",
      "model_name": "HTMLModel",
      "state": {
       "_dom_classes": [],
       "_model_module": "@jupyter-widgets/controls",
       "_model_module_version": "1.5.0",
       "_model_name": "HTMLModel",
       "_view_count": null,
       "_view_module": "@jupyter-widgets/controls",
       "_view_module_version": "1.5.0",
       "_view_name": "HTMLView",
       "description": "",
       "description_tooltip": null,
       "layout": "IPY_MODEL_3e2262f98dd449efba71f92e3884db7d",
       "placeholder": "​",
       "style": "IPY_MODEL_53754fff441c42049bb682d47d1f348f",
       "value": "config.json: 100%"
      }
     },
     "eca9bd15b72048bb92d2568ad0252648": {
      "model_module": "@jupyter-widgets/controls",
      "model_module_version": "1.5.0",
      "model_name": "DescriptionStyleModel",
      "state": {
       "_model_module": "@jupyter-widgets/controls",
       "_model_module_version": "1.5.0",
       "_model_name": "DescriptionStyleModel",
       "_view_count": null,
       "_view_module": "@jupyter-widgets/base",
       "_view_module_version": "1.2.0",
       "_view_name": "StyleView",
       "description_width": ""
      }
     },
     "ed5498cb27a947cab44e3c96b96cf95f": {
      "model_module": "@jupyter-widgets/base",
      "model_module_version": "1.2.0",
      "model_name": "LayoutModel",
      "state": {
       "_model_module": "@jupyter-widgets/base",
       "_model_module_version": "1.2.0",
       "_model_name": "LayoutModel",
       "_view_count": null,
       "_view_module": "@jupyter-widgets/base",
       "_view_module_version": "1.2.0",
       "_view_name": "LayoutView",
       "align_content": null,
       "align_items": null,
       "align_self": null,
       "border": null,
       "bottom": null,
       "display": null,
       "flex": null,
       "flex_flow": null,
       "grid_area": null,
       "grid_auto_columns": null,
       "grid_auto_flow": null,
       "grid_auto_rows": null,
       "grid_column": null,
       "grid_gap": null,
       "grid_row": null,
       "grid_template_areas": null,
       "grid_template_columns": null,
       "grid_template_rows": null,
       "height": null,
       "justify_content": null,
       "justify_items": null,
       "left": null,
       "margin": null,
       "max_height": null,
       "max_width": null,
       "min_height": null,
       "min_width": null,
       "object_fit": null,
       "object_position": null,
       "order": null,
       "overflow": null,
       "overflow_x": null,
       "overflow_y": null,
       "padding": null,
       "right": null,
       "top": null,
       "visibility": null,
       "width": null
      }
     },
     "f149f39100064debb1ab412625715a38": {
      "model_module": "@jupyter-widgets/controls",
      "model_module_version": "1.5.0",
      "model_name": "FloatProgressModel",
      "state": {
       "_dom_classes": [],
       "_model_module": "@jupyter-widgets/controls",
       "_model_module_version": "1.5.0",
       "_model_name": "FloatProgressModel",
       "_view_count": null,
       "_view_module": "@jupyter-widgets/controls",
       "_view_module_version": "1.5.0",
       "_view_name": "ProgressView",
       "bar_style": "success",
       "description": "",
       "description_tooltip": null,
       "layout": "IPY_MODEL_b9bba55fc99e4d2c873fdfdb76439cd7",
       "max": 644.0,
       "min": 0.0,
       "orientation": "horizontal",
       "style": "IPY_MODEL_c1e6ed956c5a41c1a29107a90cb5780c",
       "value": 644.0
      }
     },
     "f18bfa83ca924bb2be0a5379ee5e3118": {
      "model_module": "@jupyter-widgets/controls",
      "model_module_version": "1.5.0",
      "model_name": "FloatProgressModel",
      "state": {
       "_dom_classes": [],
       "_model_module": "@jupyter-widgets/controls",
       "_model_module_version": "1.5.0",
       "_model_name": "FloatProgressModel",
       "_view_count": null,
       "_view_module": "@jupyter-widgets/controls",
       "_view_module_version": "1.5.0",
       "_view_name": "ProgressView",
       "bar_style": "success",
       "description": "",
       "description_tooltip": null,
       "layout": "IPY_MODEL_95b3cc0da0994829a6f2618c4d2a3c60",
       "max": 685.0,
       "min": 0.0,
       "orientation": "horizontal",
       "style": "IPY_MODEL_ae5349e019b748a69229486add381d3b",
       "value": 685.0
      }
     },
     "f826bec403bc4138b0f3b00d5b45b744": {
      "model_module": "@jupyter-widgets/controls",
      "model_module_version": "1.5.0",
      "model_name": "FloatProgressModel",
      "state": {
       "_dom_classes": [],
       "_model_module": "@jupyter-widgets/controls",
       "_model_module_version": "1.5.0",
       "_model_name": "FloatProgressModel",
       "_view_count": null,
       "_view_module": "@jupyter-widgets/controls",
       "_view_module_version": "1.5.0",
       "_view_name": "ProgressView",
       "bar_style": "success",
       "description": "",
       "description_tooltip": null,
       "layout": "IPY_MODEL_e9ba35a8b3bb4013ab1f35e92e4f3d14",
       "max": 441.0,
       "min": 0.0,
       "orientation": "horizontal",
       "style": "IPY_MODEL_14c0c6f2d81448d58a51e4fcc2761f37",
       "value": 441.0
      }
     },
     "fdd660c23ecc41f485c62826cf2f2dae": {
      "model_module": "@jupyter-widgets/base",
      "model_module_version": "1.2.0",
      "model_name": "LayoutModel",
      "state": {
       "_model_module": "@jupyter-widgets/base",
       "_model_module_version": "1.2.0",
       "_model_name": "LayoutModel",
       "_view_count": null,
       "_view_module": "@jupyter-widgets/base",
       "_view_module_version": "1.2.0",
       "_view_name": "LayoutView",
       "align_content": null,
       "align_items": null,
       "align_self": null,
       "border": null,
       "bottom": null,
       "display": null,
       "flex": null,
       "flex_flow": null,
       "grid_area": null,
       "grid_auto_columns": null,
       "grid_auto_flow": null,
       "grid_auto_rows": null,
       "grid_column": null,
       "grid_gap": null,
       "grid_row": null,
       "grid_template_areas": null,
       "grid_template_columns": null,
       "grid_template_rows": null,
       "height": null,
       "justify_content": null,
       "justify_items": null,
       "left": null,
       "margin": null,
       "max_height": null,
       "max_width": null,
       "min_height": null,
       "min_width": null,
       "object_fit": null,
       "object_position": null,
       "order": null,
       "overflow": null,
       "overflow_x": null,
       "overflow_y": null,
       "padding": null,
       "right": null,
       "top": null,
       "visibility": null,
       "width": null
      }
     },
     "fffcce96a1c448f4a045b53779db69cc": {
      "model_module": "@jupyter-widgets/base",
      "model_module_version": "1.2.0",
      "model_name": "LayoutModel",
      "state": {
       "_model_module": "@jupyter-widgets/base",
       "_model_module_version": "1.2.0",
       "_model_name": "LayoutModel",
       "_view_count": null,
       "_view_module": "@jupyter-widgets/base",
       "_view_module_version": "1.2.0",
       "_view_name": "LayoutView",
       "align_content": null,
       "align_items": null,
       "align_self": null,
       "border": null,
       "bottom": null,
       "display": null,
       "flex": null,
       "flex_flow": null,
       "grid_area": null,
       "grid_auto_columns": null,
       "grid_auto_flow": null,
       "grid_auto_rows": null,
       "grid_column": null,
       "grid_gap": null,
       "grid_row": null,
       "grid_template_areas": null,
       "grid_template_columns": null,
       "grid_template_rows": null,
       "height": null,
       "justify_content": null,
       "justify_items": null,
       "left": null,
       "margin": null,
       "max_height": null,
       "max_width": null,
       "min_height": null,
       "min_width": null,
       "object_fit": null,
       "object_position": null,
       "order": null,
       "overflow": null,
       "overflow_x": null,
       "overflow_y": null,
       "padding": null,
       "right": null,
       "top": null,
       "visibility": null,
       "width": null
      }
     }
    },
    "version_major": 2,
    "version_minor": 0
   }
  }
 },
 "nbformat": 4,
 "nbformat_minor": 5
}
