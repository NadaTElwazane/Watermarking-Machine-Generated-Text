{
 "cells": [
  {
   "cell_type": "code",
   "execution_count": 1,
   "id": "4cc50a35",
   "metadata": {
    "_cell_guid": "b1076dfc-b9ad-4769-8c92-a6c4dae69d19",
    "_uuid": "8f2839f25d086af736a60e9eeb907d3b93b6e0e5",
    "execution": {
     "iopub.execute_input": "2024-05-14T19:46:58.911430Z",
     "iopub.status.busy": "2024-05-14T19:46:58.910704Z",
     "iopub.status.idle": "2024-05-14T19:46:59.878763Z",
     "shell.execute_reply": "2024-05-14T19:46:59.877594Z"
    },
    "papermill": {
     "duration": 0.974841,
     "end_time": "2024-05-14T19:46:59.881332",
     "exception": false,
     "start_time": "2024-05-14T19:46:58.906491",
     "status": "completed"
    },
    "tags": []
   },
   "outputs": [
    {
     "name": "stdout",
     "output_type": "stream",
     "text": [
      "/kaggle/input/watermarked-and-unwatermarked-text-truncated/data_trunk.csv\n"
     ]
    }
   ],
   "source": [
    "# This Python 3 environment comes with many helpful analytics libraries installed\n",
    "# It is defined by the kaggle/python Docker image: https://github.com/kaggle/docker-python\n",
    "# For example, here's several helpful packages to load\n",
    "\n",
    "import numpy as np # linear algebra\n",
    "import pandas as pd # data processing, CSV file I/O (e.g. pd.read_csv)\n",
    "\n",
    "# Input data files are available in the read-only \"../input/\" directory\n",
    "# For example, running this (by clicking run or pressing Shift+Enter) will list all files under the input directory\n",
    "\n",
    "import os\n",
    "for dirname, _, filenames in os.walk('/kaggle/input'):\n",
    "    for filename in filenames:\n",
    "        print(os.path.join(dirname, filename))\n",
    "\n",
    "# You can write up to 20GB to the current directory (/kaggle/working/) that gets preserved as output when you create a version using \"Save & Run All\" \n",
    "# You can also write temporary files to /kaggle/temp/, but they won't be saved outside of the current session"
   ]
  },
  {
   "cell_type": "code",
   "execution_count": 2,
   "id": "94358b43",
   "metadata": {
    "execution": {
     "iopub.execute_input": "2024-05-14T19:46:59.888209Z",
     "iopub.status.busy": "2024-05-14T19:46:59.887684Z",
     "iopub.status.idle": "2024-05-14T19:46:59.895682Z",
     "shell.execute_reply": "2024-05-14T19:46:59.894507Z"
    },
    "papermill": {
     "duration": 0.013732,
     "end_time": "2024-05-14T19:46:59.897704",
     "exception": false,
     "start_time": "2024-05-14T19:46:59.883972",
     "status": "completed"
    },
    "tags": []
   },
   "outputs": [],
   "source": [
    "import random\n",
    "\n",
    "def introduce_errors(text):\n",
    "    \"\"\"Introduces spelling mistakes into a sentence.\n",
    "\n",
    "    Args:\n",
    "      text: The sentence to introduce spelling mistakes into.\n",
    "\n",
    "    Returns:\n",
    "      The sentence with spelling mistakes introduced.\n",
    "    \"\"\"\n",
    "    words = text.split()\n",
    "    for i in range(len(words)):\n",
    "        word = words[i]\n",
    "        if len(word) > 3 and random.random() < 0.7:\n",
    "            # Randomly choose between removing a character or transposing characters\n",
    "            if random.random() < 0.5:\n",
    "                # Remove a character\n",
    "                del_index = random.randint(1, len(word) - 2)\n",
    "                words[i] = word[:del_index] + word[del_index + 1:]\n",
    "            else:\n",
    "                # Transpose characters\n",
    "                transpose_index = random.randint(0, len(word) - 2)\n",
    "                words[i] = word[:transpose_index] + word[transpose_index + 1] + word[transpose_index] + word[transpose_index + 2:]\n",
    "    return ' '.join(words)\n",
    "\n",
    "# Example usage\n"
   ]
  },
  {
   "cell_type": "code",
   "execution_count": 3,
   "id": "d47fefc2",
   "metadata": {
    "execution": {
     "iopub.execute_input": "2024-05-14T19:46:59.904317Z",
     "iopub.status.busy": "2024-05-14T19:46:59.903342Z",
     "iopub.status.idle": "2024-05-14T19:46:59.908840Z",
     "shell.execute_reply": "2024-05-14T19:46:59.907777Z"
    },
    "papermill": {
     "duration": 0.011225,
     "end_time": "2024-05-14T19:46:59.911243",
     "exception": false,
     "start_time": "2024-05-14T19:46:59.900018",
     "status": "completed"
    },
    "tags": []
   },
   "outputs": [
    {
     "name": "stdout",
     "output_type": "stream",
     "text": [
      "Thsi is an eaxmple senetnce.\n"
     ]
    }
   ],
   "source": [
    "text = \"This is an example sentence.\"\n",
    "mistaken_text = introduce_errors(text)\n",
    "print(mistaken_text)\n"
   ]
  },
  {
   "cell_type": "code",
   "execution_count": 4,
   "id": "af2bde43",
   "metadata": {
    "execution": {
     "iopub.execute_input": "2024-05-14T19:46:59.917764Z",
     "iopub.status.busy": "2024-05-14T19:46:59.917352Z",
     "iopub.status.idle": "2024-05-14T19:47:00.091038Z",
     "shell.execute_reply": "2024-05-14T19:47:00.089763Z"
    },
    "papermill": {
     "duration": 0.180028,
     "end_time": "2024-05-14T19:47:00.093675",
     "exception": false,
     "start_time": "2024-05-14T19:46:59.913647",
     "status": "completed"
    },
    "tags": []
   },
   "outputs": [
    {
     "name": "stderr",
     "output_type": "stream",
     "text": [
      "100%|██████████| 1000/1000 [00:00<00:00, 13306.51it/s]"
     ]
    },
    {
     "name": "stdout",
     "output_type": "stream",
     "text": [
      "Paraphrasing complete! Modified data saved to mispelled_text.csv\n"
     ]
    },
    {
     "name": "stderr",
     "output_type": "stream",
     "text": [
      "\n"
     ]
    }
   ],
   "source": [
    "import pandas as pd\n",
    "\n",
    "# Read data from CSV\n",
    "original_data = pd.read_csv(\"/kaggle/input/watermarked-and-unwatermarked-text-truncated/data_trunk.csv\")\n",
    "\n",
    "# Filter for watermarked \"Generated text\" with a limit of 1000 rows\n",
    "watermarked_data = original_data[original_data[\"label\"] == \"watermarked\"][[\"Generated Text\"]]\n",
    "\n",
    "# Initialize empty list to store modified text\n",
    "modified_text = []\n",
    "\n",
    "# Loop through the data using tqdm for progress bar\n",
    "from tqdm import tqdm  # Import tqdm for progress bar\n",
    "\n",
    "for text in tqdm(watermarked_data[\"Generated Text\"].tolist()):\n",
    "  # Introduce errors using the function and append to list\n",
    "  modified_text.append(introduce_errors(text))\n",
    "\n",
    "# Create a new dataframe with original and modified text\n",
    "df = pd.DataFrame({\"Original Text\": watermarked_data[\"Generated Text\"], \"Modified Text\": modified_text})\n",
    "\n",
    "# Save dataframe as CSV file\n",
    "df.to_csv(\"mispelled_text.csv\", index=False)\n",
    "\n",
    "print(\"Paraphrasing complete! Modified data saved to mispelled_text.csv\")\n"
   ]
  }
 ],
 "metadata": {
  "kaggle": {
   "accelerator": "none",
   "dataSources": [
    {
     "datasetId": 4779182,
     "sourceId": 8094561,
     "sourceType": "datasetVersion"
    }
   ],
   "dockerImageVersionId": 30698,
   "isGpuEnabled": false,
   "isInternetEnabled": true,
   "language": "python",
   "sourceType": "notebook"
  },
  "kernelspec": {
   "display_name": "Python 3",
   "language": "python",
   "name": "python3"
  },
  "language_info": {
   "codemirror_mode": {
    "name": "ipython",
    "version": 3
   },
   "file_extension": ".py",
   "mimetype": "text/x-python",
   "name": "python",
   "nbconvert_exporter": "python",
   "pygments_lexer": "ipython3",
   "version": "3.10.13"
  },
  "papermill": {
   "default_parameters": {},
   "duration": 4.683887,
   "end_time": "2024-05-14T19:47:00.616665",
   "environment_variables": {},
   "exception": null,
   "input_path": "__notebook__.ipynb",
   "output_path": "__notebook__.ipynb",
   "parameters": {},
   "start_time": "2024-05-14T19:46:55.932778",
   "version": "2.5.0"
  }
 },
 "nbformat": 4,
 "nbformat_minor": 5
}
