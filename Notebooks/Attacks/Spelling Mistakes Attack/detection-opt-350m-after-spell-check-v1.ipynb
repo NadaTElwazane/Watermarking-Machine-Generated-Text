{
 "cells": [
  {
   "cell_type": "code",
   "execution_count": 1,
   "id": "dfbf17b5",
   "metadata": {
    "_cell_guid": "b1076dfc-b9ad-4769-8c92-a6c4dae69d19",
    "_uuid": "8f2839f25d086af736a60e9eeb907d3b93b6e0e5",
    "execution": {
     "iopub.execute_input": "2024-05-20T12:47:05.241826Z",
     "iopub.status.busy": "2024-05-20T12:47:05.241493Z",
     "iopub.status.idle": "2024-05-20T12:47:05.986198Z",
     "shell.execute_reply": "2024-05-20T12:47:05.985239Z"
    },
    "papermill": {
     "duration": 0.752375,
     "end_time": "2024-05-20T12:47:05.988342",
     "exception": false,
     "start_time": "2024-05-20T12:47:05.235967",
     "status": "completed"
    },
    "tags": []
   },
   "outputs": [
    {
     "name": "stdout",
     "output_type": "stream",
     "text": [
      "/kaggle/input/bidi-reordered-dataset/bidi_reordered_attacked.csv\n",
      "/kaggle/input/spellcheck-watermarked/corrected_text.csv\n",
      "/kaggle/input/watermarked-and-unwatermarked-text-truncated/data_trunk.csv\n",
      "/kaggle/input/zero-width/attacked_text.csv\n",
      "/kaggle/input/spelling-mistakes-dataset/mispelled_text.csv\n"
     ]
    }
   ],
   "source": [
    "# This Python 3 environment comes with many helpful analytics libraries installed\n",
    "# It is defined by the kaggle/python Docker image: https://github.com/kaggle/docker-python\n",
    "# For example, here's several helpful packages to load\n",
    "\n",
    "import numpy as np # linear algebra\n",
    "import pandas as pd # data processing, CSV file I/O (e.g. pd.read_csv)\n",
    "\n",
    "# Input data files are available in the read-only \"../input/\" directory\n",
    "# For example, running this (by clicking run or pressing Shift+Enter) will list all files under the input directory\n",
    "\n",
    "import os\n",
    "for dirname, _, filenames in os.walk('/kaggle/input'):\n",
    "    for filename in filenames:\n",
    "        print(os.path.join(dirname, filename))\n",
    "\n",
    "# You can write up to 20GB to the current directory (/kaggle/working/) that gets preserved as output when you create a version using \"Save & Run All\" \n",
    "# You can also write temporary files to /kaggle/temp/, but they won't be saved outside of the current session"
   ]
  },
  {
   "cell_type": "code",
   "execution_count": 2,
   "id": "9d3a8e85",
   "metadata": {
    "execution": {
     "iopub.execute_input": "2024-05-20T12:47:05.998186Z",
     "iopub.status.busy": "2024-05-20T12:47:05.997448Z",
     "iopub.status.idle": "2024-05-20T12:47:07.595261Z",
     "shell.execute_reply": "2024-05-20T12:47:07.594191Z"
    },
    "papermill": {
     "duration": 1.605124,
     "end_time": "2024-05-20T12:47:07.597810",
     "exception": false,
     "start_time": "2024-05-20T12:47:05.992686",
     "status": "completed"
    },
    "tags": []
   },
   "outputs": [
    {
     "name": "stdout",
     "output_type": "stream",
     "text": [
      "Cloning into 'watermark'...\r\n",
      "remote: Enumerating objects: 80, done.\u001b[K\r\n",
      "remote: Counting objects: 100% (80/80), done.\u001b[K\r\n",
      "remote: Compressing objects: 100% (65/65), done.\u001b[K\r\n",
      "remote: Total 80 (delta 25), reused 67 (delta 14), pack-reused 0\u001b[K\r\n",
      "Unpacking objects: 100% (80/80), 264.81 KiB | 4.90 MiB/s, done.\r\n"
     ]
    }
   ],
   "source": [
    "!git clone https://github.com/jthickstun/watermark.git"
   ]
  },
  {
   "cell_type": "code",
   "execution_count": 3,
   "id": "d5a8e20e",
   "metadata": {
    "execution": {
     "iopub.execute_input": "2024-05-20T12:47:07.608723Z",
     "iopub.status.busy": "2024-05-20T12:47:07.608395Z",
     "iopub.status.idle": "2024-05-20T12:47:07.612780Z",
     "shell.execute_reply": "2024-05-20T12:47:07.611954Z"
    },
    "papermill": {
     "duration": 0.012003,
     "end_time": "2024-05-20T12:47:07.614701",
     "exception": false,
     "start_time": "2024-05-20T12:47:07.602698",
     "status": "completed"
    },
    "tags": []
   },
   "outputs": [],
   "source": [
    "import os\n",
    "os.chdir(\"/kaggle/working/watermark/demo\")"
   ]
  },
  {
   "cell_type": "code",
   "execution_count": 4,
   "id": "846160be",
   "metadata": {
    "execution": {
     "iopub.execute_input": "2024-05-20T12:47:07.624205Z",
     "iopub.status.busy": "2024-05-20T12:47:07.623929Z",
     "iopub.status.idle": "2024-05-20T12:47:21.140603Z",
     "shell.execute_reply": "2024-05-20T12:47:21.139541Z"
    },
    "papermill": {
     "duration": 13.524076,
     "end_time": "2024-05-20T12:47:21.142962",
     "exception": false,
     "start_time": "2024-05-20T12:47:07.618886",
     "status": "completed"
    },
    "tags": []
   },
   "outputs": [
    {
     "name": "stderr",
     "output_type": "stream",
     "text": [
      "In file included from /opt/conda/lib/python3.10/site-packages/numpy/core/include/numpy/ndarraytypes.h:1929,\n",
      "                 from /opt/conda/lib/python3.10/site-packages/numpy/core/include/numpy/ndarrayobject.h:12,\n",
      "                 from /opt/conda/lib/python3.10/site-packages/numpy/core/include/numpy/arrayobject.h:5,\n",
      "                 from /root/.pyxbld/temp.linux-x86_64-cpython-310/kaggle/working/watermark/demo/levenshtein.c:1205:\n",
      "/opt/conda/lib/python3.10/site-packages/numpy/core/include/numpy/npy_1_7_deprecated_api.h:17:2: warning: #warning \"Using deprecated NumPy API, disable it with \" \"#define NPY_NO_DEPRECATED_API NPY_1_7_API_VERSION\" [-Wcpp]\n",
      "   17 | #warning \"Using deprecated NumPy API, disable it with \" \\\n",
      "      |  ^~~~~~~\n"
     ]
    }
   ],
   "source": [
    "import os, sys, argparse, time\n",
    "\n",
    "import numpy as np\n",
    "from transformers import AutoTokenizer\n",
    "from mersenne import mersenne_rng\n",
    "\n",
    "import pyximport\n",
    "pyximport.install(reload_support=True, language_level=sys.version_info[0],\n",
    "                  setup_args={'include_dirs':np.get_include()})\n",
    "from levenshtein import levenshtein\n",
    "\n",
    "def permutation_test(tokens,key,n,k,vocab_size,n_runs=100):\n",
    "    rng = mersenne_rng(key)\n",
    "    xi = np.array([rng.rand() for _ in range(n*vocab_size)], dtype=np.float32).reshape(n,vocab_size)\n",
    "    test_result = detect(tokens,n,k,xi)\n",
    "\n",
    "    p_val = 0\n",
    "    for run in range(n_runs):\n",
    "        xi_alternative = np.random.rand(n, vocab_size).astype(np.float32)\n",
    "        null_result = detect(tokens,n,k,xi_alternative)\n",
    "\n",
    "        # assuming lower test values indicate presence of watermark\n",
    "        p_val += null_result <= test_result\n",
    "\n",
    "    return (p_val+1.0)/(n_runs+1.0)\n",
    "\n",
    "\n",
    "def detect(tokens,n,k,xi,gamma=0.0):\n",
    "    m = len(tokens)\n",
    "    n = len(xi)\n",
    "\n",
    "    A = np.empty((m-(k-1),n))\n",
    "    for i in range(m-(k-1)):\n",
    "        for j in range(n):\n",
    "            A[i][j] = levenshtein(tokens[i:i+k],xi[(j+np.arange(k))%n],gamma)\n",
    "\n",
    "    return np.min(A)\n"
   ]
  },
  {
   "cell_type": "code",
   "execution_count": 5,
   "id": "6d24060c",
   "metadata": {
    "execution": {
     "iopub.execute_input": "2024-05-20T12:47:21.153472Z",
     "iopub.status.busy": "2024-05-20T12:47:21.153033Z",
     "iopub.status.idle": "2024-05-20T15:24:33.248866Z",
     "shell.execute_reply": "2024-05-20T15:24:33.247862Z"
    },
    "papermill": {
     "duration": 9432.10479,
     "end_time": "2024-05-20T15:24:33.252507",
     "exception": false,
     "start_time": "2024-05-20T12:47:21.147717",
     "status": "completed"
    },
    "tags": []
   },
   "outputs": [
    {
     "data": {
      "application/vnd.jupyter.widget-view+json": {
       "model_id": "e875286eb70b4a048917ebc9f49958e1",
       "version_major": 2,
       "version_minor": 0
      },
      "text/plain": [
       "tokenizer_config.json:   0%|          | 0.00/685 [00:00<?, ?B/s]"
      ]
     },
     "metadata": {},
     "output_type": "display_data"
    },
    {
     "data": {
      "application/vnd.jupyter.widget-view+json": {
       "model_id": "73a505a4d73b4ca7812ef0468dba1486",
       "version_major": 2,
       "version_minor": 0
      },
      "text/plain": [
       "config.json:   0%|          | 0.00/644 [00:00<?, ?B/s]"
      ]
     },
     "metadata": {},
     "output_type": "display_data"
    },
    {
     "data": {
      "application/vnd.jupyter.widget-view+json": {
       "model_id": "403d95cb004043c8adebe70f66e350c7",
       "version_major": 2,
       "version_minor": 0
      },
      "text/plain": [
       "vocab.json:   0%|          | 0.00/899k [00:00<?, ?B/s]"
      ]
     },
     "metadata": {},
     "output_type": "display_data"
    },
    {
     "data": {
      "application/vnd.jupyter.widget-view+json": {
       "model_id": "4f3b366330da48159529047dba374901",
       "version_major": 2,
       "version_minor": 0
      },
      "text/plain": [
       "merges.txt:   0%|          | 0.00/456k [00:00<?, ?B/s]"
      ]
     },
     "metadata": {},
     "output_type": "display_data"
    },
    {
     "data": {
      "application/vnd.jupyter.widget-view+json": {
       "model_id": "ec8150409cca4b8aa3f875167374bd6c",
       "version_major": 2,
       "version_minor": 0
      },
      "text/plain": [
       "special_tokens_map.json:   0%|          | 0.00/441 [00:00<?, ?B/s]"
      ]
     },
     "metadata": {},
     "output_type": "display_data"
    },
    {
     "name": "stderr",
     "output_type": "stream",
     "text": [
      "  1%|          | 1/100 [01:17<2:07:52, 77.50s/it]"
     ]
    },
    {
     "name": "stdout",
     "output_type": "stream",
     "text": [
      "Row 1 - p-value: 0.0099, label: watermarked (elapsed time: 77.48s)\n"
     ]
    },
    {
     "name": "stderr",
     "output_type": "stream",
     "text": [
      "  2%|▏         | 2/100 [02:49<2:20:53, 86.26s/it]"
     ]
    },
    {
     "name": "stdout",
     "output_type": "stream",
     "text": [
      "Row 2 - p-value: 0.0099, label: watermarked (elapsed time: 92.39s)\n"
     ]
    },
    {
     "name": "stderr",
     "output_type": "stream",
     "text": [
      "  3%|▎         | 3/100 [04:09<2:14:26, 83.16s/it]"
     ]
    },
    {
     "name": "stdout",
     "output_type": "stream",
     "text": [
      "Row 3 - p-value: 0.0099, label: watermarked (elapsed time: 79.46s)\n"
     ]
    },
    {
     "name": "stderr",
     "output_type": "stream",
     "text": [
      "  4%|▍         | 4/100 [05:45<2:21:21, 88.35s/it]"
     ]
    },
    {
     "name": "stdout",
     "output_type": "stream",
     "text": [
      "Row 4 - p-value: 0.0099, label: watermarked (elapsed time: 96.32s)\n"
     ]
    },
    {
     "name": "stderr",
     "output_type": "stream",
     "text": [
      "  5%|▌         | 5/100 [07:45<2:37:44, 99.63s/it]"
     ]
    },
    {
     "name": "stdout",
     "output_type": "stream",
     "text": [
      "Row 5 - p-value: 0.0198, label: unwatermarked (elapsed time: 119.61s)\n"
     ]
    },
    {
     "name": "stderr",
     "output_type": "stream",
     "text": [
      "  6%|▌         | 6/100 [09:12<2:29:29, 95.42s/it]"
     ]
    },
    {
     "name": "stdout",
     "output_type": "stream",
     "text": [
      "Row 6 - p-value: 0.0198, label: unwatermarked (elapsed time: 87.26s)\n"
     ]
    },
    {
     "name": "stderr",
     "output_type": "stream",
     "text": [
      "  7%|▋         | 7/100 [10:34<2:21:18, 91.16s/it]"
     ]
    },
    {
     "name": "stdout",
     "output_type": "stream",
     "text": [
      "Row 7 - p-value: 0.0297, label: unwatermarked (elapsed time: 82.39s)\n"
     ]
    },
    {
     "name": "stderr",
     "output_type": "stream",
     "text": [
      "  8%|▊         | 8/100 [11:50<2:12:17, 86.28s/it]"
     ]
    },
    {
     "name": "stdout",
     "output_type": "stream",
     "text": [
      "Row 8 - p-value: 0.3366, label: unwatermarked (elapsed time: 75.81s)\n"
     ]
    },
    {
     "name": "stderr",
     "output_type": "stream",
     "text": [
      "  9%|▉         | 9/100 [13:16<2:10:44, 86.21s/it]"
     ]
    },
    {
     "name": "stdout",
     "output_type": "stream",
     "text": [
      "Row 9 - p-value: 0.6535, label: unwatermarked (elapsed time: 86.06s)\n"
     ]
    },
    {
     "name": "stderr",
     "output_type": "stream",
     "text": [
      " 10%|█         | 10/100 [14:32<2:04:18, 82.88s/it]"
     ]
    },
    {
     "name": "stdout",
     "output_type": "stream",
     "text": [
      "Row 10 - p-value: 0.0693, label: unwatermarked (elapsed time: 75.41s)\n"
     ]
    },
    {
     "name": "stderr",
     "output_type": "stream",
     "text": [
      " 11%|█         | 11/100 [16:26<2:17:19, 92.58s/it]"
     ]
    },
    {
     "name": "stdout",
     "output_type": "stream",
     "text": [
      "Row 11 - p-value: 0.0099, label: watermarked (elapsed time: 114.59s)\n"
     ]
    },
    {
     "name": "stderr",
     "output_type": "stream",
     "text": [
      " 12%|█▏        | 12/100 [18:00<2:16:05, 92.79s/it]"
     ]
    },
    {
     "name": "stdout",
     "output_type": "stream",
     "text": [
      "Row 12 - p-value: 0.0099, label: watermarked (elapsed time: 93.26s)\n"
     ]
    },
    {
     "name": "stderr",
     "output_type": "stream",
     "text": [
      " 13%|█▎        | 13/100 [19:35<2:15:36, 93.52s/it]"
     ]
    },
    {
     "name": "stdout",
     "output_type": "stream",
     "text": [
      "Row 13 - p-value: 0.0099, label: watermarked (elapsed time: 95.20s)\n"
     ]
    },
    {
     "name": "stderr",
     "output_type": "stream",
     "text": [
      " 14%|█▍        | 14/100 [20:49<2:05:28, 87.54s/it]"
     ]
    },
    {
     "name": "stdout",
     "output_type": "stream",
     "text": [
      "Row 14 - p-value: 0.0099, label: watermarked (elapsed time: 73.72s)\n"
     ]
    },
    {
     "name": "stderr",
     "output_type": "stream",
     "text": [
      " 15%|█▌        | 15/100 [22:25<2:07:53, 90.28s/it]"
     ]
    },
    {
     "name": "stdout",
     "output_type": "stream",
     "text": [
      "Row 15 - p-value: 0.0099, label: watermarked (elapsed time: 96.61s)\n"
     ]
    },
    {
     "name": "stderr",
     "output_type": "stream",
     "text": [
      " 16%|█▌        | 16/100 [24:56<2:31:55, 108.52s/it]"
     ]
    },
    {
     "name": "stdout",
     "output_type": "stream",
     "text": [
      "Row 16 - p-value: 0.0099, label: watermarked (elapsed time: 150.87s)\n"
     ]
    },
    {
     "name": "stderr",
     "output_type": "stream",
     "text": [
      " 17%|█▋        | 17/100 [26:16<2:18:06, 99.84s/it] "
     ]
    },
    {
     "name": "stdout",
     "output_type": "stream",
     "text": [
      "Row 17 - p-value: 0.0099, label: watermarked (elapsed time: 79.66s)\n"
     ]
    },
    {
     "name": "stderr",
     "output_type": "stream",
     "text": [
      " 18%|█▊        | 18/100 [27:57<2:16:55, 100.19s/it]"
     ]
    },
    {
     "name": "stdout",
     "output_type": "stream",
     "text": [
      "Row 18 - p-value: 0.5248, label: unwatermarked (elapsed time: 101.01s)\n"
     ]
    },
    {
     "name": "stderr",
     "output_type": "stream",
     "text": [
      " 19%|█▉        | 19/100 [29:13<2:05:34, 93.02s/it] "
     ]
    },
    {
     "name": "stdout",
     "output_type": "stream",
     "text": [
      "Row 19 - p-value: 0.0099, label: watermarked (elapsed time: 76.30s)\n"
     ]
    },
    {
     "name": "stderr",
     "output_type": "stream",
     "text": [
      " 20%|██        | 20/100 [30:32<1:58:20, 88.76s/it]"
     ]
    },
    {
     "name": "stdout",
     "output_type": "stream",
     "text": [
      "Row 20 - p-value: 0.4752, label: unwatermarked (elapsed time: 78.84s)\n"
     ]
    },
    {
     "name": "stderr",
     "output_type": "stream",
     "text": [
      " 21%|██        | 21/100 [32:07<1:59:20, 90.63s/it]"
     ]
    },
    {
     "name": "stdout",
     "output_type": "stream",
     "text": [
      "Row 21 - p-value: 0.0693, label: unwatermarked (elapsed time: 94.99s)\n"
     ]
    },
    {
     "name": "stderr",
     "output_type": "stream",
     "text": [
      " 22%|██▏       | 22/100 [34:26<2:16:45, 105.20s/it]"
     ]
    },
    {
     "name": "stdout",
     "output_type": "stream",
     "text": [
      "Row 22 - p-value: 0.0099, label: watermarked (elapsed time: 139.16s)\n"
     ]
    },
    {
     "name": "stderr",
     "output_type": "stream",
     "text": [
      " 23%|██▎       | 23/100 [35:48<2:05:53, 98.09s/it] "
     ]
    },
    {
     "name": "stdout",
     "output_type": "stream",
     "text": [
      "Row 23 - p-value: 0.2772, label: unwatermarked (elapsed time: 81.52s)\n"
     ]
    },
    {
     "name": "stderr",
     "output_type": "stream",
     "text": [
      " 24%|██▍       | 24/100 [38:12<2:21:46, 111.93s/it]"
     ]
    },
    {
     "name": "stdout",
     "output_type": "stream",
     "text": [
      "Row 24 - p-value: 0.0099, label: watermarked (elapsed time: 144.20s)\n"
     ]
    },
    {
     "name": "stderr",
     "output_type": "stream",
     "text": [
      " 25%|██▌       | 25/100 [39:25<2:05:32, 100.43s/it]"
     ]
    },
    {
     "name": "stdout",
     "output_type": "stream",
     "text": [
      "Row 25 - p-value: 0.7525, label: unwatermarked (elapsed time: 73.59s)\n"
     ]
    },
    {
     "name": "stderr",
     "output_type": "stream",
     "text": [
      " 26%|██▌       | 26/100 [41:29<2:12:25, 107.37s/it]"
     ]
    },
    {
     "name": "stdout",
     "output_type": "stream",
     "text": [
      "Row 26 - p-value: 0.0099, label: watermarked (elapsed time: 123.56s)\n"
     ]
    },
    {
     "name": "stderr",
     "output_type": "stream",
     "text": [
      " 27%|██▋       | 27/100 [43:21<2:12:24, 108.82s/it]"
     ]
    },
    {
     "name": "stdout",
     "output_type": "stream",
     "text": [
      "Row 27 - p-value: 0.0099, label: watermarked (elapsed time: 112.21s)\n"
     ]
    },
    {
     "name": "stderr",
     "output_type": "stream",
     "text": [
      " 28%|██▊       | 28/100 [44:37<1:58:35, 98.82s/it] "
     ]
    },
    {
     "name": "stdout",
     "output_type": "stream",
     "text": [
      "Row 28 - p-value: 0.0099, label: watermarked (elapsed time: 75.49s)\n"
     ]
    },
    {
     "name": "stderr",
     "output_type": "stream",
     "text": [
      " 29%|██▉       | 29/100 [45:48<1:47:14, 90.63s/it]"
     ]
    },
    {
     "name": "stdout",
     "output_type": "stream",
     "text": [
      "Row 29 - p-value: 0.0891, label: unwatermarked (elapsed time: 71.52s)\n"
     ]
    },
    {
     "name": "stderr",
     "output_type": "stream",
     "text": [
      " 30%|███       | 30/100 [47:26<1:48:15, 92.80s/it]"
     ]
    },
    {
     "name": "stdout",
     "output_type": "stream",
     "text": [
      "Row 30 - p-value: 0.0099, label: watermarked (elapsed time: 97.85s)\n"
     ]
    },
    {
     "name": "stderr",
     "output_type": "stream",
     "text": [
      " 31%|███       | 31/100 [48:44<1:41:31, 88.28s/it]"
     ]
    },
    {
     "name": "stdout",
     "output_type": "stream",
     "text": [
      "Row 31 - p-value: 0.0198, label: unwatermarked (elapsed time: 77.74s)\n"
     ]
    },
    {
     "name": "stderr",
     "output_type": "stream",
     "text": [
      " 32%|███▏      | 32/100 [50:39<1:49:05, 96.26s/it]"
     ]
    },
    {
     "name": "stdout",
     "output_type": "stream",
     "text": [
      "Row 32 - p-value: 0.0198, label: unwatermarked (elapsed time: 114.88s)\n"
     ]
    },
    {
     "name": "stderr",
     "output_type": "stream",
     "text": [
      " 33%|███▎      | 33/100 [52:04<1:43:54, 93.06s/it]"
     ]
    },
    {
     "name": "stdout",
     "output_type": "stream",
     "text": [
      "Row 33 - p-value: 0.0099, label: watermarked (elapsed time: 85.58s)\n"
     ]
    },
    {
     "name": "stderr",
     "output_type": "stream",
     "text": [
      " 34%|███▍      | 34/100 [53:11<1:33:44, 85.22s/it]"
     ]
    },
    {
     "name": "stdout",
     "output_type": "stream",
     "text": [
      "Row 34 - p-value: 0.2970, label: unwatermarked (elapsed time: 66.93s)\n"
     ]
    },
    {
     "name": "stderr",
     "output_type": "stream",
     "text": [
      " 35%|███▌      | 35/100 [55:07<1:42:14, 94.38s/it]"
     ]
    },
    {
     "name": "stdout",
     "output_type": "stream",
     "text": [
      "Row 35 - p-value: 0.0099, label: watermarked (elapsed time: 115.76s)\n"
     ]
    },
    {
     "name": "stderr",
     "output_type": "stream",
     "text": [
      " 36%|███▌      | 36/100 [57:22<1:53:40, 106.57s/it]"
     ]
    },
    {
     "name": "stdout",
     "output_type": "stream",
     "text": [
      "Row 36 - p-value: 0.0099, label: watermarked (elapsed time: 135.01s)\n"
     ]
    },
    {
     "name": "stderr",
     "output_type": "stream",
     "text": [
      " 37%|███▋      | 37/100 [58:41<1:43:14, 98.32s/it] "
     ]
    },
    {
     "name": "stdout",
     "output_type": "stream",
     "text": [
      "Row 37 - p-value: 0.1980, label: unwatermarked (elapsed time: 79.06s)\n"
     ]
    },
    {
     "name": "stderr",
     "output_type": "stream",
     "text": [
      " 38%|███▊      | 38/100 [1:00:32<1:45:32, 102.13s/it]"
     ]
    },
    {
     "name": "stdout",
     "output_type": "stream",
     "text": [
      "Row 38 - p-value: 0.0099, label: watermarked (elapsed time: 111.02s)\n"
     ]
    },
    {
     "name": "stderr",
     "output_type": "stream",
     "text": [
      " 39%|███▉      | 39/100 [1:02:33<1:49:39, 107.85s/it]"
     ]
    },
    {
     "name": "stdout",
     "output_type": "stream",
     "text": [
      "Row 39 - p-value: 0.0099, label: watermarked (elapsed time: 121.20s)\n"
     ]
    },
    {
     "name": "stderr",
     "output_type": "stream",
     "text": [
      " 40%|████      | 40/100 [1:04:59<1:59:11, 119.19s/it]"
     ]
    },
    {
     "name": "stdout",
     "output_type": "stream",
     "text": [
      "Row 40 - p-value: 0.0099, label: watermarked (elapsed time: 145.63s)\n"
     ]
    },
    {
     "name": "stderr",
     "output_type": "stream",
     "text": [
      " 41%|████      | 41/100 [1:06:07<1:42:14, 103.98s/it]"
     ]
    },
    {
     "name": "stdout",
     "output_type": "stream",
     "text": [
      "Row 41 - p-value: 0.7030, label: unwatermarked (elapsed time: 68.49s)\n"
     ]
    },
    {
     "name": "stderr",
     "output_type": "stream",
     "text": [
      " 42%|████▏     | 42/100 [1:07:39<1:36:48, 100.15s/it]"
     ]
    },
    {
     "name": "stdout",
     "output_type": "stream",
     "text": [
      "Row 42 - p-value: 0.0693, label: unwatermarked (elapsed time: 91.21s)\n"
     ]
    },
    {
     "name": "stderr",
     "output_type": "stream",
     "text": [
      " 43%|████▎     | 43/100 [1:09:05<1:31:08, 95.94s/it] "
     ]
    },
    {
     "name": "stdout",
     "output_type": "stream",
     "text": [
      "Row 43 - p-value: 0.0099, label: watermarked (elapsed time: 86.12s)\n"
     ]
    },
    {
     "name": "stderr",
     "output_type": "stream",
     "text": [
      " 44%|████▍     | 44/100 [1:10:25<1:25:12, 91.30s/it]"
     ]
    },
    {
     "name": "stdout",
     "output_type": "stream",
     "text": [
      "Row 44 - p-value: 0.0792, label: unwatermarked (elapsed time: 80.46s)\n"
     ]
    },
    {
     "name": "stderr",
     "output_type": "stream",
     "text": [
      " 45%|████▌     | 45/100 [1:11:35<1:17:52, 84.95s/it]"
     ]
    },
    {
     "name": "stdout",
     "output_type": "stream",
     "text": [
      "Row 45 - p-value: 0.0198, label: unwatermarked (elapsed time: 70.15s)\n"
     ]
    },
    {
     "name": "stderr",
     "output_type": "stream",
     "text": [
      " 46%|████▌     | 46/100 [1:13:00<1:16:31, 85.03s/it]"
     ]
    },
    {
     "name": "stdout",
     "output_type": "stream",
     "text": [
      "Row 46 - p-value: 0.0495, label: unwatermarked (elapsed time: 85.20s)\n"
     ]
    },
    {
     "name": "stderr",
     "output_type": "stream",
     "text": [
      " 47%|████▋     | 47/100 [1:14:45<1:20:24, 91.02s/it]"
     ]
    },
    {
     "name": "stdout",
     "output_type": "stream",
     "text": [
      "Row 47 - p-value: 0.0297, label: unwatermarked (elapsed time: 105.01s)\n"
     ]
    },
    {
     "name": "stderr",
     "output_type": "stream",
     "text": [
      " 48%|████▊     | 48/100 [1:16:49<1:27:22, 100.81s/it]"
     ]
    },
    {
     "name": "stdout",
     "output_type": "stream",
     "text": [
      "Row 48 - p-value: 0.0198, label: unwatermarked (elapsed time: 123.65s)\n"
     ]
    },
    {
     "name": "stderr",
     "output_type": "stream",
     "text": [
      " 49%|████▉     | 49/100 [1:18:16<1:22:11, 96.69s/it] "
     ]
    },
    {
     "name": "stdout",
     "output_type": "stream",
     "text": [
      "Row 49 - p-value: 0.0198, label: unwatermarked (elapsed time: 87.08s)\n"
     ]
    },
    {
     "name": "stderr",
     "output_type": "stream",
     "text": [
      " 50%|█████     | 50/100 [1:20:11<1:25:10, 102.21s/it]"
     ]
    },
    {
     "name": "stdout",
     "output_type": "stream",
     "text": [
      "Row 50 - p-value: 0.0099, label: watermarked (elapsed time: 115.07s)\n"
     ]
    },
    {
     "name": "stderr",
     "output_type": "stream",
     "text": [
      " 51%|█████     | 51/100 [1:22:31<1:32:42, 113.53s/it]"
     ]
    },
    {
     "name": "stdout",
     "output_type": "stream",
     "text": [
      "Row 51 - p-value: 0.0198, label: unwatermarked (elapsed time: 139.93s)\n"
     ]
    },
    {
     "name": "stderr",
     "output_type": "stream",
     "text": [
      " 52%|█████▏    | 52/100 [1:23:52<1:22:52, 103.60s/it]"
     ]
    },
    {
     "name": "stdout",
     "output_type": "stream",
     "text": [
      "Row 52 - p-value: 0.0099, label: watermarked (elapsed time: 80.45s)\n"
     ]
    },
    {
     "name": "stderr",
     "output_type": "stream",
     "text": [
      " 53%|█████▎    | 53/100 [1:25:45<1:23:23, 106.46s/it]"
     ]
    },
    {
     "name": "stdout",
     "output_type": "stream",
     "text": [
      "Row 53 - p-value: 0.0099, label: watermarked (elapsed time: 113.13s)\n"
     ]
    },
    {
     "name": "stderr",
     "output_type": "stream",
     "text": [
      " 54%|█████▍    | 54/100 [1:27:39<1:23:26, 108.83s/it]"
     ]
    },
    {
     "name": "stdout",
     "output_type": "stream",
     "text": [
      "Row 54 - p-value: 0.1881, label: unwatermarked (elapsed time: 114.35s)\n"
     ]
    },
    {
     "name": "stderr",
     "output_type": "stream",
     "text": [
      " 55%|█████▌    | 55/100 [1:28:54<1:14:00, 98.67s/it] "
     ]
    },
    {
     "name": "stdout",
     "output_type": "stream",
     "text": [
      "Row 55 - p-value: 0.0396, label: unwatermarked (elapsed time: 74.97s)\n"
     ]
    },
    {
     "name": "stderr",
     "output_type": "stream",
     "text": [
      " 56%|█████▌    | 56/100 [1:30:21<1:09:50, 95.24s/it]"
     ]
    },
    {
     "name": "stdout",
     "output_type": "stream",
     "text": [
      "Row 56 - p-value: 0.0594, label: unwatermarked (elapsed time: 87.23s)\n"
     ]
    },
    {
     "name": "stderr",
     "output_type": "stream",
     "text": [
      " 57%|█████▋    | 57/100 [1:31:50<1:06:54, 93.36s/it]"
     ]
    },
    {
     "name": "stdout",
     "output_type": "stream",
     "text": [
      "Row 57 - p-value: 0.5347, label: unwatermarked (elapsed time: 88.99s)\n"
     ]
    },
    {
     "name": "stderr",
     "output_type": "stream",
     "text": [
      " 58%|█████▊    | 58/100 [1:33:29<1:06:25, 94.89s/it]"
     ]
    },
    {
     "name": "stdout",
     "output_type": "stream",
     "text": [
      "Row 58 - p-value: 0.0099, label: watermarked (elapsed time: 98.44s)\n"
     ]
    },
    {
     "name": "stderr",
     "output_type": "stream",
     "text": [
      " 59%|█████▉    | 59/100 [1:35:10<1:06:06, 96.73s/it]"
     ]
    },
    {
     "name": "stdout",
     "output_type": "stream",
     "text": [
      "Row 59 - p-value: 0.0099, label: watermarked (elapsed time: 101.03s)\n"
     ]
    },
    {
     "name": "stderr",
     "output_type": "stream",
     "text": [
      " 60%|██████    | 60/100 [1:36:39<1:03:01, 94.53s/it]"
     ]
    },
    {
     "name": "stdout",
     "output_type": "stream",
     "text": [
      "Row 60 - p-value: 0.0099, label: watermarked (elapsed time: 89.38s)\n"
     ]
    },
    {
     "name": "stderr",
     "output_type": "stream",
     "text": [
      " 61%|██████    | 61/100 [1:38:16<1:01:58, 95.33s/it]"
     ]
    },
    {
     "name": "stdout",
     "output_type": "stream",
     "text": [
      "Row 61 - p-value: 0.0099, label: watermarked (elapsed time: 97.21s)\n"
     ]
    },
    {
     "name": "stderr",
     "output_type": "stream",
     "text": [
      " 62%|██████▏   | 62/100 [1:40:16<1:04:53, 102.47s/it]"
     ]
    },
    {
     "name": "stdout",
     "output_type": "stream",
     "text": [
      "Row 62 - p-value: 0.0099, label: watermarked (elapsed time: 119.13s)\n"
     ]
    },
    {
     "name": "stderr",
     "output_type": "stream",
     "text": [
      " 63%|██████▎   | 63/100 [1:41:30<57:55, 93.93s/it]   "
     ]
    },
    {
     "name": "stdout",
     "output_type": "stream",
     "text": [
      "Row 63 - p-value: 0.8515, label: unwatermarked (elapsed time: 73.98s)\n"
     ]
    },
    {
     "name": "stderr",
     "output_type": "stream",
     "text": [
      " 64%|██████▍   | 64/100 [1:43:25<1:00:11, 100.31s/it]"
     ]
    },
    {
     "name": "stdout",
     "output_type": "stream",
     "text": [
      "Row 64 - p-value: 0.0099, label: watermarked (elapsed time: 115.19s)\n"
     ]
    },
    {
     "name": "stderr",
     "output_type": "stream",
     "text": [
      " 65%|██████▌   | 65/100 [1:44:39<53:58, 92.53s/it]   "
     ]
    },
    {
     "name": "stdout",
     "output_type": "stream",
     "text": [
      "Row 65 - p-value: 0.0099, label: watermarked (elapsed time: 74.38s)\n"
     ]
    },
    {
     "name": "stderr",
     "output_type": "stream",
     "text": [
      " 66%|██████▌   | 66/100 [1:46:27<54:59, 97.05s/it]"
     ]
    },
    {
     "name": "stdout",
     "output_type": "stream",
     "text": [
      "Row 66 - p-value: 0.0099, label: watermarked (elapsed time: 107.61s)\n"
     ]
    },
    {
     "name": "stderr",
     "output_type": "stream",
     "text": [
      " 67%|██████▋   | 67/100 [1:48:06<53:46, 97.77s/it]"
     ]
    },
    {
     "name": "stdout",
     "output_type": "stream",
     "text": [
      "Row 67 - p-value: 0.0099, label: watermarked (elapsed time: 99.43s)\n"
     ]
    },
    {
     "name": "stderr",
     "output_type": "stream",
     "text": [
      " 68%|██████▊   | 68/100 [1:49:13<47:15, 88.60s/it]"
     ]
    },
    {
     "name": "stdout",
     "output_type": "stream",
     "text": [
      "Row 68 - p-value: 0.0198, label: unwatermarked (elapsed time: 67.19s)\n"
     ]
    },
    {
     "name": "stderr",
     "output_type": "stream",
     "text": [
      " 69%|██████▉   | 69/100 [1:50:39<45:18, 87.70s/it]"
     ]
    },
    {
     "name": "stdout",
     "output_type": "stream",
     "text": [
      "Row 69 - p-value: 0.0297, label: unwatermarked (elapsed time: 85.62s)\n"
     ]
    },
    {
     "name": "stderr",
     "output_type": "stream",
     "text": [
      " 70%|███████   | 70/100 [1:52:06<43:45, 87.52s/it]"
     ]
    },
    {
     "name": "stdout",
     "output_type": "stream",
     "text": [
      "Row 70 - p-value: 0.0099, label: watermarked (elapsed time: 87.09s)\n"
     ]
    },
    {
     "name": "stderr",
     "output_type": "stream",
     "text": [
      " 71%|███████   | 71/100 [1:53:21<40:31, 83.83s/it]"
     ]
    },
    {
     "name": "stdout",
     "output_type": "stream",
     "text": [
      "Row 71 - p-value: 0.0099, label: watermarked (elapsed time: 75.21s)\n"
     ]
    },
    {
     "name": "stderr",
     "output_type": "stream",
     "text": [
      " 72%|███████▏  | 72/100 [1:54:40<38:24, 82.31s/it]"
     ]
    },
    {
     "name": "stdout",
     "output_type": "stream",
     "text": [
      "Row 72 - p-value: 0.2970, label: unwatermarked (elapsed time: 78.78s)\n"
     ]
    },
    {
     "name": "stderr",
     "output_type": "stream",
     "text": [
      " 73%|███████▎  | 73/100 [1:56:11<38:15, 85.02s/it]"
     ]
    },
    {
     "name": "stdout",
     "output_type": "stream",
     "text": [
      "Row 73 - p-value: 0.0198, label: unwatermarked (elapsed time: 91.35s)\n"
     ]
    },
    {
     "name": "stderr",
     "output_type": "stream",
     "text": [
      " 74%|███████▍  | 74/100 [1:57:38<37:03, 85.52s/it]"
     ]
    },
    {
     "name": "stdout",
     "output_type": "stream",
     "text": [
      "Row 74 - p-value: 0.0099, label: watermarked (elapsed time: 86.69s)\n"
     ]
    },
    {
     "name": "stderr",
     "output_type": "stream",
     "text": [
      " 75%|███████▌  | 75/100 [1:59:24<38:09, 91.60s/it]"
     ]
    },
    {
     "name": "stdout",
     "output_type": "stream",
     "text": [
      "Row 75 - p-value: 0.0099, label: watermarked (elapsed time: 105.77s)\n"
     ]
    },
    {
     "name": "stderr",
     "output_type": "stream",
     "text": [
      " 76%|███████▌  | 76/100 [2:01:17<39:15, 98.13s/it]"
     ]
    },
    {
     "name": "stdout",
     "output_type": "stream",
     "text": [
      "Row 76 - p-value: 0.0099, label: watermarked (elapsed time: 113.38s)\n"
     ]
    },
    {
     "name": "stderr",
     "output_type": "stream",
     "text": [
      " 77%|███████▋  | 77/100 [2:02:28<34:27, 89.89s/it]"
     ]
    },
    {
     "name": "stdout",
     "output_type": "stream",
     "text": [
      "Row 77 - p-value: 0.1980, label: unwatermarked (elapsed time: 70.64s)\n"
     ]
    },
    {
     "name": "stderr",
     "output_type": "stream",
     "text": [
      " 78%|███████▊  | 78/100 [2:03:46<31:36, 86.22s/it]"
     ]
    },
    {
     "name": "stdout",
     "output_type": "stream",
     "text": [
      "Row 78 - p-value: 0.0099, label: watermarked (elapsed time: 77.68s)\n"
     ]
    },
    {
     "name": "stderr",
     "output_type": "stream",
     "text": [
      " 79%|███████▉  | 79/100 [2:04:59<28:52, 82.52s/it]"
     ]
    },
    {
     "name": "stdout",
     "output_type": "stream",
     "text": [
      "Row 79 - p-value: 0.1980, label: unwatermarked (elapsed time: 73.88s)\n"
     ]
    },
    {
     "name": "stderr",
     "output_type": "stream",
     "text": [
      " 80%|████████  | 80/100 [2:06:22<27:30, 82.54s/it]"
     ]
    },
    {
     "name": "stdout",
     "output_type": "stream",
     "text": [
      "Row 80 - p-value: 0.1782, label: unwatermarked (elapsed time: 82.57s)\n"
     ]
    },
    {
     "name": "stderr",
     "output_type": "stream",
     "text": [
      " 81%|████████  | 81/100 [2:07:39<25:35, 80.81s/it]"
     ]
    },
    {
     "name": "stdout",
     "output_type": "stream",
     "text": [
      "Row 81 - p-value: 0.0099, label: watermarked (elapsed time: 76.79s)\n"
     ]
    },
    {
     "name": "stderr",
     "output_type": "stream",
     "text": [
      " 82%|████████▏ | 82/100 [2:08:47<23:07, 77.06s/it]"
     ]
    },
    {
     "name": "stdout",
     "output_type": "stream",
     "text": [
      "Row 82 - p-value: 0.4554, label: unwatermarked (elapsed time: 68.30s)\n"
     ]
    },
    {
     "name": "stderr",
     "output_type": "stream",
     "text": [
      " 83%|████████▎ | 83/100 [2:11:03<26:47, 94.56s/it]"
     ]
    },
    {
     "name": "stdout",
     "output_type": "stream",
     "text": [
      "Row 83 - p-value: 0.0099, label: watermarked (elapsed time: 135.39s)\n"
     ]
    },
    {
     "name": "stderr",
     "output_type": "stream",
     "text": [
      " 84%|████████▍ | 84/100 [2:12:17<23:34, 88.43s/it]"
     ]
    },
    {
     "name": "stdout",
     "output_type": "stream",
     "text": [
      "Row 84 - p-value: 0.0099, label: watermarked (elapsed time: 74.11s)\n"
     ]
    },
    {
     "name": "stderr",
     "output_type": "stream",
     "text": [
      " 85%|████████▌ | 85/100 [2:13:56<22:57, 91.82s/it]"
     ]
    },
    {
     "name": "stdout",
     "output_type": "stream",
     "text": [
      "Row 85 - p-value: 0.0099, label: watermarked (elapsed time: 99.74s)\n"
     ]
    },
    {
     "name": "stderr",
     "output_type": "stream",
     "text": [
      " 86%|████████▌ | 86/100 [2:15:11<20:12, 86.62s/it]"
     ]
    },
    {
     "name": "stdout",
     "output_type": "stream",
     "text": [
      "Row 86 - p-value: 0.6832, label: unwatermarked (elapsed time: 74.49s)\n"
     ]
    },
    {
     "name": "stderr",
     "output_type": "stream",
     "text": [
      " 87%|████████▋ | 87/100 [2:16:32<18:23, 84.88s/it]"
     ]
    },
    {
     "name": "stdout",
     "output_type": "stream",
     "text": [
      "Row 87 - p-value: 0.0792, label: unwatermarked (elapsed time: 80.82s)\n"
     ]
    },
    {
     "name": "stderr",
     "output_type": "stream",
     "text": [
      " 88%|████████▊ | 88/100 [2:18:33<19:08, 95.70s/it]"
     ]
    },
    {
     "name": "stdout",
     "output_type": "stream",
     "text": [
      "Row 88 - p-value: 0.0099, label: watermarked (elapsed time: 120.94s)\n"
     ]
    },
    {
     "name": "stderr",
     "output_type": "stream",
     "text": [
      " 89%|████████▉ | 89/100 [2:19:59<17:02, 92.93s/it]"
     ]
    },
    {
     "name": "stdout",
     "output_type": "stream",
     "text": [
      "Row 89 - p-value: 0.1287, label: unwatermarked (elapsed time: 86.46s)\n"
     ]
    },
    {
     "name": "stderr",
     "output_type": "stream",
     "text": [
      " 90%|█████████ | 90/100 [2:21:15<14:39, 87.97s/it]"
     ]
    },
    {
     "name": "stdout",
     "output_type": "stream",
     "text": [
      "Row 90 - p-value: 0.0099, label: watermarked (elapsed time: 76.41s)\n"
     ]
    },
    {
     "name": "stderr",
     "output_type": "stream",
     "text": [
      " 91%|█████████ | 91/100 [2:22:25<12:21, 82.38s/it]"
     ]
    },
    {
     "name": "stdout",
     "output_type": "stream",
     "text": [
      "Row 91 - p-value: 0.2277, label: unwatermarked (elapsed time: 69.32s)\n"
     ]
    },
    {
     "name": "stderr",
     "output_type": "stream",
     "text": [
      " 92%|█████████▏| 92/100 [2:24:13<12:00, 90.01s/it]"
     ]
    },
    {
     "name": "stdout",
     "output_type": "stream",
     "text": [
      "Row 92 - p-value: 0.0198, label: unwatermarked (elapsed time: 107.82s)\n"
     ]
    },
    {
     "name": "stderr",
     "output_type": "stream",
     "text": [
      " 93%|█████████▎| 93/100 [2:25:30<10:03, 86.25s/it]"
     ]
    },
    {
     "name": "stdout",
     "output_type": "stream",
     "text": [
      "Row 93 - p-value: 0.0099, label: watermarked (elapsed time: 77.45s)\n"
     ]
    },
    {
     "name": "stderr",
     "output_type": "stream",
     "text": [
      " 94%|█████████▍| 94/100 [2:26:47<08:21, 83.57s/it]"
     ]
    },
    {
     "name": "stdout",
     "output_type": "stream",
     "text": [
      "Row 94 - p-value: 0.0099, label: watermarked (elapsed time: 77.34s)\n"
     ]
    },
    {
     "name": "stderr",
     "output_type": "stream",
     "text": [
      " 95%|█████████▌| 95/100 [2:29:07<08:22, 100.52s/it]"
     ]
    },
    {
     "name": "stdout",
     "output_type": "stream",
     "text": [
      "Row 95 - p-value: 0.0099, label: watermarked (elapsed time: 140.05s)\n"
     ]
    },
    {
     "name": "stderr",
     "output_type": "stream",
     "text": [
      " 96%|█████████▌| 96/100 [2:30:57<06:52, 103.18s/it]"
     ]
    },
    {
     "name": "stdout",
     "output_type": "stream",
     "text": [
      "Row 96 - p-value: 0.0099, label: watermarked (elapsed time: 109.38s)\n"
     ]
    },
    {
     "name": "stderr",
     "output_type": "stream",
     "text": [
      " 97%|█████████▋| 97/100 [2:33:19<05:45, 115.00s/it]"
     ]
    },
    {
     "name": "stdout",
     "output_type": "stream",
     "text": [
      "Row 97 - p-value: 0.0099, label: watermarked (elapsed time: 142.58s)\n"
     ]
    },
    {
     "name": "stderr",
     "output_type": "stream",
     "text": [
      " 98%|█████████▊| 98/100 [2:34:38<03:28, 104.16s/it]"
     ]
    },
    {
     "name": "stdout",
     "output_type": "stream",
     "text": [
      "Row 98 - p-value: 0.8416, label: unwatermarked (elapsed time: 78.86s)\n"
     ]
    },
    {
     "name": "stderr",
     "output_type": "stream",
     "text": [
      " 99%|█████████▉| 99/100 [2:35:56<01:36, 96.22s/it] "
     ]
    },
    {
     "name": "stdout",
     "output_type": "stream",
     "text": [
      "Row 99 - p-value: 0.5149, label: unwatermarked (elapsed time: 77.70s)\n"
     ]
    },
    {
     "name": "stderr",
     "output_type": "stream",
     "text": [
      "100%|██████████| 100/100 [2:37:10<00:00, 94.30s/it]"
     ]
    },
    {
     "name": "stdout",
     "output_type": "stream",
     "text": [
      "Row 100 - p-value: 0.0792, label: unwatermarked (elapsed time: 73.93s)\n"
     ]
    },
    {
     "name": "stderr",
     "output_type": "stream",
     "text": [
      "\n"
     ]
    }
   ],
   "source": [
    "from tqdm import tqdm\n",
    "import pandas as pd\n",
    "\n",
    "def main():\n",
    "    # Read data from CSV using pandas\n",
    "    data = pd.read_csv(\"/kaggle/input/spellcheck-watermarked/corrected_text.csv\")\n",
    "    # Combine filtered data\n",
    "    split_point1 = int(len(data) / 3)\n",
    "    split_point2 = split_point1 * 2\n",
    "    split_point3 = 100\n",
    "    part1 = data.iloc[:100] # First part\n",
    "    part2 = data.iloc[35:69]  # Second part\n",
    "    part3 = data.iloc[69:100]  # Third part (might be slightly bigger)\n",
    "    # Load pre-trained tokenizer (replace with your desired tokenizer)\n",
    "    tokenizer = AutoTokenizer.from_pretrained(\"facebook/opt-350m\")\n",
    "\n",
    "    # Progress bar with tqdm\n",
    "    results = []\n",
    "    for index, row in tqdm(part1.iterrows(), total=len(part1)):\n",
    "        text = row[\"Corrected Text\"]  # Assuming \"Attacked Text\" is the column containing text data\n",
    "        actual_label = \"watermarked\" # Assuming \"label\" is the column containing actual label\n",
    "\n",
    "        # Tokenize the text\n",
    "        tokens = tokenizer.encode(text, return_tensors='pt', truncation=True, max_length=2048).numpy()[0]\n",
    "\n",
    "        t0 = time.time()\n",
    "        pval = permutation_test(tokens, 42, 256, len(tokens), len(tokenizer))\n",
    "        label = \"watermarked\" if pval <= 0.01 else \"unwatermarked\"\n",
    "        results.append({\"text\": text, \"p-value\": pval, \"label\": label, \"actual_label\": actual_label})\n",
    "        print(f\"Row {index+1} - p-value: {pval:.4f}, label: {label} (elapsed time: {time.time()-t0:.2f}s)\")\n",
    "\n",
    "    # Create a pandas DataFrame from the results\n",
    "    df_results = pd.DataFrame(results)\n",
    "#     df_results.head(2)\n",
    "    # Save the DataFrame (optional)\n",
    "    df_results.to_csv(\"permutation_test_results_spellcheck.csv\", index=False)\n",
    "if __name__ == '__main__':\n",
    "    main()"
   ]
  },
  {
   "cell_type": "code",
   "execution_count": 6,
   "id": "b16c7cf9",
   "metadata": {
    "execution": {
     "iopub.execute_input": "2024-05-20T15:24:33.295421Z",
     "iopub.status.busy": "2024-05-20T15:24:33.294684Z",
     "iopub.status.idle": "2024-05-20T15:24:34.454485Z",
     "shell.execute_reply": "2024-05-20T15:24:34.453677Z"
    },
    "papermill": {
     "duration": 1.183623,
     "end_time": "2024-05-20T15:24:34.456756",
     "exception": false,
     "start_time": "2024-05-20T15:24:33.273133",
     "status": "completed"
    },
    "tags": []
   },
   "outputs": [],
   "source": [
    "# This Python 3 environment comes with many helpful analytics libraries installed\n",
    "# It is defined by the kaggle/python Docker image: https://github.com/kaggle/docker-python\n",
    "# For example, here's several helpful packages to load\n",
    "\n",
    "import numpy as np # linear algebra\n",
    "import pandas as pd # data processing, CSV file I/O (e.g. pd.read_csv)\n",
    "from sklearn.metrics import confusion_matrix\n",
    "import seaborn as sns\n",
    "import matplotlib.pyplot as plt\n",
    "from sklearn.metrics import accuracy_score\n",
    "from sklearn.metrics import f1_score\n",
    "from sklearn.metrics import precision_score\n",
    "from sklearn.metrics import recall_score\n",
    "# Input data files are available in the read-only \"../input/\" directory\n",
    "# For example, running this (by clicking run or pressing Shift+Enter) will list all files under the input directory\n",
    "\n",
    "import os\n",
    "\n",
    "# You can write up to 20GB to the current directory (/kaggle/working/) that gets preserved as output when you create a version using \"Save & Run All\" \n",
    "# You can also write temporary files to /kaggle/temp/, but they won't be saved outside of the current session"
   ]
  },
  {
   "cell_type": "code",
   "execution_count": 7,
   "id": "03b301a1",
   "metadata": {
    "execution": {
     "iopub.execute_input": "2024-05-20T15:24:34.501300Z",
     "iopub.status.busy": "2024-05-20T15:24:34.500982Z",
     "iopub.status.idle": "2024-05-20T15:24:34.851903Z",
     "shell.execute_reply": "2024-05-20T15:24:34.851014Z"
    },
    "papermill": {
     "duration": 0.374849,
     "end_time": "2024-05-20T15:24:34.854064",
     "exception": false,
     "start_time": "2024-05-20T15:24:34.479215",
     "status": "completed"
    },
    "tags": []
   },
   "outputs": [
    {
     "name": "stderr",
     "output_type": "stream",
     "text": [
      "/opt/conda/lib/python3.10/site-packages/sklearn/metrics/_classification.py:1344: UndefinedMetricWarning: Recall is ill-defined and being set to 0.0 in labels with no true samples. Use `zero_division` parameter to control this behavior.\n",
      "  _warn_prf(average, modifier, msg_start, len(result))\n"
     ]
    },
    {
     "data": {
      "image/png": "[encoded data removed]",
      "text/plain": [
       "<Figure size 800x600 with 2 Axes>"
      ]
     },
     "metadata": {},
     "output_type": "display_data"
    },
    {
     "name": "stdout",
     "output_type": "stream",
     "text": [
      "\n",
      "Classification Metrics:\n",
      "Accuracy: 54.0000\n",
      "F1-score: 70.1299\n",
      "Precision: 100.0000\n",
      "Recall: 54.0000\n"
     ]
    }
   ],
   "source": [
    "def evaluate_classification(file_path):\n",
    "\n",
    "    # Evaluates a classification model using various metrics, reading data from a CSV file and creates a confusion matrix heatmap using seaborn.\n",
    "\n",
    "    # Read the CSV file assuming 'label' and 'actual_label' columns are present\n",
    "    df = pd.read_csv(file_path)\n",
    "\n",
    "    # Extract true labels (assuming 'actual_label' column)\n",
    "    y_true = df['actual_label'].tolist()\n",
    "\n",
    "    # Extract predicted labels (assuming 'label' column)\n",
    "    y_pred = df['label'].tolist()\n",
    "\n",
    "    # Create the confusion matrix\n",
    "    cm = confusion_matrix(y_true, y_pred)\n",
    "\n",
    "    # Calculate accuracy\n",
    "    accuracy = accuracy_score(y_true, y_pred)\n",
    "\n",
    "    # Calculate F1-score\n",
    "    f1 = f1_score(y_true, y_pred, average='weighted')\n",
    "\n",
    "    # Calculate precision\n",
    "    precision = precision_score(y_true, y_pred, average='weighted')\n",
    "\n",
    "    # Calculate recall\n",
    "    recall = recall_score(y_true, y_pred, average='weighted')\n",
    "      # Define custom labels for the confusion matrix\n",
    "\n",
    "    # Create a confusion matrix heatmap using seaborn\n",
    "    plt.figure(figsize=(8, 6))\n",
    "    ax = sns.heatmap(cm, annot=True, cmap='Blues', fmt='d',annot_kws={'fontsize': 25})\n",
    "    ax.set_xlabel('Predicted Label')\n",
    "    ax.set_ylabel('True Label')\n",
    "    ax.set_title('Confusion Matrix (Watermarked)')\n",
    "    plt.xticks([0.5, 1.5], ['Predicted Unwatermarked', 'Predicted Watermarked'])\n",
    "    plt.yticks([0.5, 1.5], ['Actual Unwatermarked', 'Actual Watermarked'])    \n",
    "    plt.tight_layout()\n",
    "    plt.show()\n",
    "    return cm, accuracy, f1, precision, recall\n",
    "\n",
    "# Specify the file path (assuming you're using Kaggle)\n",
    "file_path = \"/kaggle/working/watermark/demo/permutation_test_results_spellcheck.csv\"\n",
    "\n",
    "# Evaluate the classification\n",
    "cm, accuracy, f1, precision, recall = evaluate_classification(file_path)\n",
    "\n",
    "# Print classification metrics (same as before)\n",
    "print(\"\\nClassification Metrics:\")\n",
    "print(f\"Accuracy: {accuracy * 100:.4f}\")\n",
    "print(f\"F1-score: {f1 * 100:.4f}\")\n",
    "print(f\"Precision: {precision * 100:.4f}\")\n",
    "print(f\"Recall: {recall * 100:.4f}\")\n"
   ]
  },
  {
   "cell_type": "code",
   "execution_count": 8,
   "id": "90185e83",
   "metadata": {
    "execution": {
     "iopub.execute_input": "2024-05-20T15:24:34.899287Z",
     "iopub.status.busy": "2024-05-20T15:24:34.898952Z",
     "iopub.status.idle": "2024-05-20T15:24:34.915208Z",
     "shell.execute_reply": "2024-05-20T15:24:34.914168Z"
    },
    "papermill": {
     "duration": 0.041167,
     "end_time": "2024-05-20T15:24:34.917205",
     "exception": false,
     "start_time": "2024-05-20T15:24:34.876038",
     "status": "completed"
    },
    "tags": []
   },
   "outputs": [
    {
     "name": "stdout",
     "output_type": "stream",
     "text": [
      "Average absolute difference for misclassified watermarked images: 0.1897\n"
     ]
    }
   ],
   "source": [
    "def evaluate_misclassifications(file_path):\n",
    "    # Evaluates the average absolute difference between misclassified p-values and the threshold (0.1) for watermarked images.\n",
    "    # Read the CSV file into a Pandas DataFrame\n",
    "    df = pd.read_csv(file_path)\n",
    "\n",
    "    # Filter for misclassified watermarked images\n",
    "    misclassified_watermarked = df[(df['label'] != df['actual_label']) & (df['actual_label'] == 'watermarked')]\n",
    "\n",
    "    # Check if there are any misclassified watermarked images\n",
    "    if len(misclassified_watermarked) == 0:\n",
    "        print(\"No misclassified watermarked images found.\")\n",
    "        return None\n",
    "\n",
    "    # Calculate absolute difference between misclassified p-values and the threshold (0.1)\n",
    "    abs_diff = np.abs(misclassified_watermarked['p-value'] - 0.1)\n",
    "\n",
    "    # Calculate average absolute difference\n",
    "    average_diff = np.mean(abs_diff)\n",
    "\n",
    "    return average_diff\n",
    "\n",
    "# Specify the file path\n",
    "file_path = \"/kaggle/working/watermark/demo/permutation_test_results_spellcheck.csv\"\n",
    "\n",
    "# Evaluate misclassifications\n",
    "average_diff = evaluate_misclassifications(file_path)\n",
    "\n",
    "if average_diff is not None:\n",
    "    print(f\"Average absolute difference for misclassified watermarked images: {average_diff:.4f}\")\n"
   ]
  },
  {
   "cell_type": "code",
   "execution_count": 9,
   "id": "a23038e7",
   "metadata": {
    "execution": {
     "iopub.execute_input": "2024-05-20T15:24:34.961461Z",
     "iopub.status.busy": "2024-05-20T15:24:34.961138Z",
     "iopub.status.idle": "2024-05-20T15:24:34.987469Z",
     "shell.execute_reply": "2024-05-20T15:24:34.986540Z"
    },
    "papermill": {
     "duration": 0.050526,
     "end_time": "2024-05-20T15:24:34.989375",
     "exception": false,
     "start_time": "2024-05-20T15:24:34.938849",
     "status": "completed"
    },
    "tags": []
   },
   "outputs": [
    {
     "data": {
      "text/html": [
       "<div>\n",
       "<style scoped>\n",
       "    .dataframe tbody tr th:only-of-type {\n",
       "        vertical-align: middle;\n",
       "    }\n",
       "\n",
       "    .dataframe tbody tr th {\n",
       "        vertical-align: top;\n",
       "    }\n",
       "\n",
       "    .dataframe thead th {\n",
       "        text-align: right;\n",
       "    }\n",
       "</style>\n",
       "<table border=\"1\" class=\"dataframe\">\n",
       "  <thead>\n",
       "    <tr style=\"text-align: right;\">\n",
       "      <th></th>\n",
       "      <th>text</th>\n",
       "      <th>p-value</th>\n",
       "      <th>label</th>\n",
       "      <th>actual_label</th>\n",
       "    </tr>\n",
       "  </thead>\n",
       "  <tbody>\n",
       "    <tr>\n",
       "      <th>4</th>\n",
       "      <td>The government has the power to influence acti...</td>\n",
       "      <td>0.019802</td>\n",
       "      <td>unwatermarked</td>\n",
       "      <td>watermarked</td>\n",
       "    </tr>\n",
       "    <tr>\n",
       "      <th>53</th>\n",
       "      <td>You can only find out if you have coronavirus ...</td>\n",
       "      <td>0.188119</td>\n",
       "      <td>unwatermarked</td>\n",
       "      <td>watermarked</td>\n",
       "    </tr>\n",
       "    <tr>\n",
       "      <th>54</th>\n",
       "      <td>The finances should be refunded, but not accom...</td>\n",
       "      <td>0.039604</td>\n",
       "      <td>unwatermarked</td>\n",
       "      <td>watermarked</td>\n",
       "    </tr>\n",
       "    <tr>\n",
       "      <th>55</th>\n",
       "      <td>We need more judges to work on the very many p...</td>\n",
       "      <td>0.059406</td>\n",
       "      <td>unwatermarked</td>\n",
       "      <td>watermarked</td>\n",
       "    </tr>\n",
       "    <tr>\n",
       "      <th>56</th>\n",
       "      <td>Police are patrolling the area. If there is a ...</td>\n",
       "      <td>0.534653</td>\n",
       "      <td>unwatermarked</td>\n",
       "      <td>watermarked</td>\n",
       "    </tr>\n",
       "    <tr>\n",
       "      <th>62</th>\n",
       "      <td>The rigging should be condemned in the communi...</td>\n",
       "      <td>0.851485</td>\n",
       "      <td>unwatermarked</td>\n",
       "      <td>watermarked</td>\n",
       "    </tr>\n",
       "    <tr>\n",
       "      <th>67</th>\n",
       "      <td>Always move with your National identity and fo...</td>\n",
       "      <td>0.019802</td>\n",
       "      <td>unwatermarked</td>\n",
       "      <td>watermarked</td>\n",
       "    </tr>\n",
       "    <tr>\n",
       "      <th>68</th>\n",
       "      <td>Casava stems are always needed for panting. It...</td>\n",
       "      <td>0.029703</td>\n",
       "      <td>unwatermarked</td>\n",
       "      <td>watermarked</td>\n",
       "    </tr>\n",
       "    <tr>\n",
       "      <th>71</th>\n",
       "      <td>Farmers benefit a lot from being part of coope...</td>\n",
       "      <td>0.297030</td>\n",
       "      <td>unwatermarked</td>\n",
       "      <td>watermarked</td>\n",
       "    </tr>\n",
       "    <tr>\n",
       "      <th>72</th>\n",
       "      <td>It is unnecessary for one to dress excessively...</td>\n",
       "      <td>0.019802</td>\n",
       "      <td>unwatermarked</td>\n",
       "      <td>watermarked</td>\n",
       "    </tr>\n",
       "    <tr>\n",
       "      <th>76</th>\n",
       "      <td>A responsible parent is one that rightly guide...</td>\n",
       "      <td>0.198020</td>\n",
       "      <td>unwatermarked</td>\n",
       "      <td>watermarked</td>\n",
       "    </tr>\n",
       "    <tr>\n",
       "      <th>78</th>\n",
       "      <td>Police have delayed releasing a report from in...</td>\n",
       "      <td>0.198020</td>\n",
       "      <td>unwatermarked</td>\n",
       "      <td>watermarked</td>\n",
       "    </tr>\n",
       "    <tr>\n",
       "      <th>79</th>\n",
       "      <td>The status of the health sector will be discus...</td>\n",
       "      <td>0.178218</td>\n",
       "      <td>unwatermarked</td>\n",
       "      <td>watermarked</td>\n",
       "    </tr>\n",
       "    <tr>\n",
       "      <th>81</th>\n",
       "      <td>Who are the vulnerable people in the community...</td>\n",
       "      <td>0.455446</td>\n",
       "      <td>unwatermarked</td>\n",
       "      <td>watermarked</td>\n",
       "    </tr>\n",
       "    <tr>\n",
       "      <th>85</th>\n",
       "      <td>Disease outbreaks can be mitigated through com...</td>\n",
       "      <td>0.683168</td>\n",
       "      <td>unwatermarked</td>\n",
       "      <td>watermarked</td>\n",
       "    </tr>\n",
       "    <tr>\n",
       "      <th>86</th>\n",
       "      <td>Children below the age of eighteen are not eli...</td>\n",
       "      <td>0.079208</td>\n",
       "      <td>unwatermarked</td>\n",
       "      <td>watermarked</td>\n",
       "    </tr>\n",
       "    <tr>\n",
       "      <th>88</th>\n",
       "      <td>Teaches have been badly affected by the pandem...</td>\n",
       "      <td>0.128713</td>\n",
       "      <td>unwatermarked</td>\n",
       "      <td>watermarked</td>\n",
       "    </tr>\n",
       "    <tr>\n",
       "      <th>90</th>\n",
       "      <td>They have been able to control this pandemic f...</td>\n",
       "      <td>0.227723</td>\n",
       "      <td>unwatermarked</td>\n",
       "      <td>watermarked</td>\n",
       "    </tr>\n",
       "    <tr>\n",
       "      <th>91</th>\n",
       "      <td>Teenage pregnancy is a major interference to t...</td>\n",
       "      <td>0.019802</td>\n",
       "      <td>unwatermarked</td>\n",
       "      <td>watermarked</td>\n",
       "    </tr>\n",
       "    <tr>\n",
       "      <th>97</th>\n",
       "      <td>Pupis in rural areas are studying under trees....</td>\n",
       "      <td>0.841584</td>\n",
       "      <td>unwatermarked</td>\n",
       "      <td>watermarked</td>\n",
       "    </tr>\n",
       "    <tr>\n",
       "      <th>50</th>\n",
       "      <td>I need to find a job before the year end. I sp...</td>\n",
       "      <td>0.019802</td>\n",
       "      <td>unwatermarked</td>\n",
       "      <td>watermarked</td>\n",
       "    </tr>\n",
       "    <tr>\n",
       "      <th>48</th>\n",
       "      <td>Farers should be sensitized about agricultural...</td>\n",
       "      <td>0.019802</td>\n",
       "      <td>unwatermarked</td>\n",
       "      <td>watermarked</td>\n",
       "    </tr>\n",
       "    <tr>\n",
       "      <th>47</th>\n",
       "      <td>Some promises are never fulfilled. It's amazin...</td>\n",
       "      <td>0.019802</td>\n",
       "      <td>unwatermarked</td>\n",
       "      <td>watermarked</td>\n",
       "    </tr>\n",
       "    <tr>\n",
       "      <th>46</th>\n",
       "      <td>Politicians should never distribute food, but ...</td>\n",
       "      <td>0.029703</td>\n",
       "      <td>unwatermarked</td>\n",
       "      <td>watermarked</td>\n",
       "    </tr>\n",
       "    <tr>\n",
       "      <th>5</th>\n",
       "      <td>The widow takes half of the deceased's propert...</td>\n",
       "      <td>0.019802</td>\n",
       "      <td>unwatermarked</td>\n",
       "      <td>watermarked</td>\n",
       "    </tr>\n",
       "    <tr>\n",
       "      <th>6</th>\n",
       "      <td>Elections have to always be free and fair. I a...</td>\n",
       "      <td>0.029703</td>\n",
       "      <td>unwatermarked</td>\n",
       "      <td>watermarked</td>\n",
       "    </tr>\n",
       "    <tr>\n",
       "      <th>7</th>\n",
       "      <td>How do you access milk information for sweet p...</td>\n",
       "      <td>0.336634</td>\n",
       "      <td>unwatermarked</td>\n",
       "      <td>watermarked</td>\n",
       "    </tr>\n",
       "    <tr>\n",
       "      <th>8</th>\n",
       "      <td>Investigations are ongoing on the embezzlement...</td>\n",
       "      <td>0.653465</td>\n",
       "      <td>unwatermarked</td>\n",
       "      <td>watermarked</td>\n",
       "    </tr>\n",
       "    <tr>\n",
       "      <th>9</th>\n",
       "      <td>People affected with coronavirus have to be qu...</td>\n",
       "      <td>0.069307</td>\n",
       "      <td>unwatermarked</td>\n",
       "      <td>watermarked</td>\n",
       "    </tr>\n",
       "    <tr>\n",
       "      <th>17</th>\n",
       "      <td>He asked us to go to the polling place and act...</td>\n",
       "      <td>0.524752</td>\n",
       "      <td>unwatermarked</td>\n",
       "      <td>watermarked</td>\n",
       "    </tr>\n",
       "    <tr>\n",
       "      <th>19</th>\n",
       "      <td>Hospitals are advised to start record digitali...</td>\n",
       "      <td>0.475248</td>\n",
       "      <td>unwatermarked</td>\n",
       "      <td>watermarked</td>\n",
       "    </tr>\n",
       "    <tr>\n",
       "      <th>20</th>\n",
       "      <td>Women nowadays are generally participating in ...</td>\n",
       "      <td>0.069307</td>\n",
       "      <td>unwatermarked</td>\n",
       "      <td>watermarked</td>\n",
       "    </tr>\n",
       "    <tr>\n",
       "      <th>22</th>\n",
       "      <td>Others are grateful for the renovation of the ...</td>\n",
       "      <td>0.277228</td>\n",
       "      <td>unwatermarked</td>\n",
       "      <td>watermarked</td>\n",
       "    </tr>\n",
       "    <tr>\n",
       "      <th>98</th>\n",
       "      <td>She is the best teacher I have known since chi...</td>\n",
       "      <td>0.514851</td>\n",
       "      <td>unwatermarked</td>\n",
       "      <td>watermarked</td>\n",
       "    </tr>\n",
       "    <tr>\n",
       "      <th>24</th>\n",
       "      <td>How can the government increase the cattle pop...</td>\n",
       "      <td>0.752475</td>\n",
       "      <td>unwatermarked</td>\n",
       "      <td>watermarked</td>\n",
       "    </tr>\n",
       "    <tr>\n",
       "      <th>30</th>\n",
       "      <td>Other accommodation failure ensures teachers n...</td>\n",
       "      <td>0.019802</td>\n",
       "      <td>unwatermarked</td>\n",
       "      <td>watermarked</td>\n",
       "    </tr>\n",
       "    <tr>\n",
       "      <th>31</th>\n",
       "      <td>What are some of the challenges women face in ...</td>\n",
       "      <td>0.019802</td>\n",
       "      <td>unwatermarked</td>\n",
       "      <td>watermarked</td>\n",
       "    </tr>\n",
       "    <tr>\n",
       "      <th>33</th>\n",
       "      <td>An employee can not rejoice upon termination. ...</td>\n",
       "      <td>0.297030</td>\n",
       "      <td>unwatermarked</td>\n",
       "      <td>watermarked</td>\n",
       "    </tr>\n",
       "    <tr>\n",
       "      <th>36</th>\n",
       "      <td>It's true that anyone can run unopposed in pri...</td>\n",
       "      <td>0.198020</td>\n",
       "      <td>unwatermarked</td>\n",
       "      <td>watermarked</td>\n",
       "    </tr>\n",
       "    <tr>\n",
       "      <th>40</th>\n",
       "      <td>People now prefer buying meat from the city ab...</td>\n",
       "      <td>0.702970</td>\n",
       "      <td>unwatermarked</td>\n",
       "      <td>watermarked</td>\n",
       "    </tr>\n",
       "    <tr>\n",
       "      <th>41</th>\n",
       "      <td>The plaintiff wasn't satisfied with the court ...</td>\n",
       "      <td>0.069307</td>\n",
       "      <td>unwatermarked</td>\n",
       "      <td>watermarked</td>\n",
       "    </tr>\n",
       "    <tr>\n",
       "      <th>43</th>\n",
       "      <td>Health check-ups are a necessity. Stay- health...</td>\n",
       "      <td>0.079208</td>\n",
       "      <td>unwatermarked</td>\n",
       "      <td>watermarked</td>\n",
       "    </tr>\n",
       "    <tr>\n",
       "      <th>44</th>\n",
       "      <td>This court case is taking longer than we antic...</td>\n",
       "      <td>0.019802</td>\n",
       "      <td>unwatermarked</td>\n",
       "      <td>watermarked</td>\n",
       "    </tr>\n",
       "    <tr>\n",
       "      <th>45</th>\n",
       "      <td>The coronavirus toll-free line has been restor...</td>\n",
       "      <td>0.049505</td>\n",
       "      <td>unwatermarked</td>\n",
       "      <td>watermarked</td>\n",
       "    </tr>\n",
       "    <tr>\n",
       "      <th>28</th>\n",
       "      <td>Aim to lie peacefully with everyone in the com...</td>\n",
       "      <td>0.089109</td>\n",
       "      <td>unwatermarked</td>\n",
       "      <td>watermarked</td>\n",
       "    </tr>\n",
       "    <tr>\n",
       "      <th>99</th>\n",
       "      <td>Patiets need confirmation form doctors on what...</td>\n",
       "      <td>0.079208</td>\n",
       "      <td>unwatermarked</td>\n",
       "      <td>watermarked</td>\n",
       "    </tr>\n",
       "  </tbody>\n",
       "</table>\n",
       "</div>"
      ],
      "text/plain": [
       "                                                 text   p-value  \\\n",
       "4   The government has the power to influence acti...  0.019802   \n",
       "53  You can only find out if you have coronavirus ...  0.188119   \n",
       "54  The finances should be refunded, but not accom...  0.039604   \n",
       "55  We need more judges to work on the very many p...  0.059406   \n",
       "56  Police are patrolling the area. If there is a ...  0.534653   \n",
       "62  The rigging should be condemned in the communi...  0.851485   \n",
       "67  Always move with your National identity and fo...  0.019802   \n",
       "68  Casava stems are always needed for panting. It...  0.029703   \n",
       "71  Farmers benefit a lot from being part of coope...  0.297030   \n",
       "72  It is unnecessary for one to dress excessively...  0.019802   \n",
       "76  A responsible parent is one that rightly guide...  0.198020   \n",
       "78  Police have delayed releasing a report from in...  0.198020   \n",
       "79  The status of the health sector will be discus...  0.178218   \n",
       "81  Who are the vulnerable people in the community...  0.455446   \n",
       "85  Disease outbreaks can be mitigated through com...  0.683168   \n",
       "86  Children below the age of eighteen are not eli...  0.079208   \n",
       "88  Teaches have been badly affected by the pandem...  0.128713   \n",
       "90  They have been able to control this pandemic f...  0.227723   \n",
       "91  Teenage pregnancy is a major interference to t...  0.019802   \n",
       "97  Pupis in rural areas are studying under trees....  0.841584   \n",
       "50  I need to find a job before the year end. I sp...  0.019802   \n",
       "48  Farers should be sensitized about agricultural...  0.019802   \n",
       "47  Some promises are never fulfilled. It's amazin...  0.019802   \n",
       "46  Politicians should never distribute food, but ...  0.029703   \n",
       "5   The widow takes half of the deceased's propert...  0.019802   \n",
       "6   Elections have to always be free and fair. I a...  0.029703   \n",
       "7   How do you access milk information for sweet p...  0.336634   \n",
       "8   Investigations are ongoing on the embezzlement...  0.653465   \n",
       "9   People affected with coronavirus have to be qu...  0.069307   \n",
       "17  He asked us to go to the polling place and act...  0.524752   \n",
       "19  Hospitals are advised to start record digitali...  0.475248   \n",
       "20  Women nowadays are generally participating in ...  0.069307   \n",
       "22  Others are grateful for the renovation of the ...  0.277228   \n",
       "98  She is the best teacher I have known since chi...  0.514851   \n",
       "24  How can the government increase the cattle pop...  0.752475   \n",
       "30  Other accommodation failure ensures teachers n...  0.019802   \n",
       "31  What are some of the challenges women face in ...  0.019802   \n",
       "33  An employee can not rejoice upon termination. ...  0.297030   \n",
       "36  It's true that anyone can run unopposed in pri...  0.198020   \n",
       "40  People now prefer buying meat from the city ab...  0.702970   \n",
       "41  The plaintiff wasn't satisfied with the court ...  0.069307   \n",
       "43  Health check-ups are a necessity. Stay- health...  0.079208   \n",
       "44  This court case is taking longer than we antic...  0.019802   \n",
       "45  The coronavirus toll-free line has been restor...  0.049505   \n",
       "28  Aim to lie peacefully with everyone in the com...  0.089109   \n",
       "99  Patiets need confirmation form doctors on what...  0.079208   \n",
       "\n",
       "            label actual_label  \n",
       "4   unwatermarked  watermarked  \n",
       "53  unwatermarked  watermarked  \n",
       "54  unwatermarked  watermarked  \n",
       "55  unwatermarked  watermarked  \n",
       "56  unwatermarked  watermarked  \n",
       "62  unwatermarked  watermarked  \n",
       "67  unwatermarked  watermarked  \n",
       "68  unwatermarked  watermarked  \n",
       "71  unwatermarked  watermarked  \n",
       "72  unwatermarked  watermarked  \n",
       "76  unwatermarked  watermarked  \n",
       "78  unwatermarked  watermarked  \n",
       "79  unwatermarked  watermarked  \n",
       "81  unwatermarked  watermarked  \n",
       "85  unwatermarked  watermarked  \n",
       "86  unwatermarked  watermarked  \n",
       "88  unwatermarked  watermarked  \n",
       "90  unwatermarked  watermarked  \n",
       "91  unwatermarked  watermarked  \n",
       "97  unwatermarked  watermarked  \n",
       "50  unwatermarked  watermarked  \n",
       "48  unwatermarked  watermarked  \n",
       "47  unwatermarked  watermarked  \n",
       "46  unwatermarked  watermarked  \n",
       "5   unwatermarked  watermarked  \n",
       "6   unwatermarked  watermarked  \n",
       "7   unwatermarked  watermarked  \n",
       "8   unwatermarked  watermarked  \n",
       "9   unwatermarked  watermarked  \n",
       "17  unwatermarked  watermarked  \n",
       "19  unwatermarked  watermarked  \n",
       "20  unwatermarked  watermarked  \n",
       "22  unwatermarked  watermarked  \n",
       "98  unwatermarked  watermarked  \n",
       "24  unwatermarked  watermarked  \n",
       "30  unwatermarked  watermarked  \n",
       "31  unwatermarked  watermarked  \n",
       "33  unwatermarked  watermarked  \n",
       "36  unwatermarked  watermarked  \n",
       "40  unwatermarked  watermarked  \n",
       "41  unwatermarked  watermarked  \n",
       "43  unwatermarked  watermarked  \n",
       "44  unwatermarked  watermarked  \n",
       "45  unwatermarked  watermarked  \n",
       "28  unwatermarked  watermarked  \n",
       "99  unwatermarked  watermarked  "
      ]
     },
     "execution_count": 9,
     "metadata": {},
     "output_type": "execute_result"
    }
   ],
   "source": [
    "def get_incorrect_samples(file_path):\n",
    "   \n",
    "    # Extracts all samples from a CSV file where 'label' and 'actual_label' differ.\n",
    "    # Read the CSV file into a Pandas DataFrame\n",
    "    df = pd.read_csv(file_path)\n",
    "\n",
    "    # Filter for rows where label doesn't equal actual_label\n",
    "    incorrect_samples = df[df['label'] != df['actual_label']]\n",
    "    incorrect_samples = incorrect_samples.sort_values(by='actual_label')\n",
    "\n",
    "    return incorrect_samples\n",
    "\n",
    "file_path = \"/kaggle/working/watermark/demo/permutation_test_results_spellcheck.csv\"\n",
    "incorrect_df = get_incorrect_samples(file_path)\n",
    "\n",
    "\n",
    "incorrect_df.head(len(incorrect_df))"
   ]
  },
  {
   "cell_type": "code",
   "execution_count": null,
   "id": "adb4b9d5",
   "metadata": {
    "papermill": {
     "duration": 0.021634,
     "end_time": "2024-05-20T15:24:35.032931",
     "exception": false,
     "start_time": "2024-05-20T15:24:35.011297",
     "status": "completed"
    },
    "tags": []
   },
   "outputs": [],
   "source": []
  }
 ],
 "metadata": {
  "kaggle": {
   "accelerator": "none",
   "dataSources": [
    {
     "datasetId": 4779182,
     "sourceId": 8094561,
     "sourceType": "datasetVersion"
    },
    {
     "datasetId": 4886815,
     "sourceId": 8238648,
     "sourceType": "datasetVersion"
    },
    {
     "datasetId": 4961483,
     "sourceId": 8350798,
     "sourceType": "datasetVersion"
    },
    {
     "datasetId": 5008343,
     "sourceId": 8414321,
     "sourceType": "datasetVersion"
    },
    {
     "datasetId": 5037734,
     "sourceId": 8452941,
     "sourceType": "datasetVersion"
    }
   ],
   "dockerImageVersionId": 30698,
   "isGpuEnabled": false,
   "isInternetEnabled": true,
   "language": "python",
   "sourceType": "notebook"
  },
  "kernelspec": {
   "display_name": "Python 3",
   "language": "python",
   "name": "python3"
  },
  "language_info": {
   "codemirror_mode": {
    "name": "ipython",
    "version": 3
   },
   "file_extension": ".py",
   "mimetype": "text/x-python",
   "name": "python",
   "nbconvert_exporter": "python",
   "pygments_lexer": "ipython3",
   "version": "3.10.13"
  },
  "papermill": {
   "default_parameters": {},
   "duration": 9454.300982,
   "end_time": "2024-05-20T15:24:36.798145",
   "environment_variables": {},
   "exception": null,
   "input_path": "__notebook__.ipynb",
   "output_path": "__notebook__.ipynb",
   "parameters": {},
   "start_time": "2024-05-20T12:47:02.497163",
   "version": "2.5.0"
  },
  "widgets": {
   "application/vnd.jupyter.widget-state+json": {
    "state": {
     "00738fa02a6d45d7a92e3fcb9098b382": {
      "model_module": "@jupyter-widgets/controls",
      "model_module_version": "1.5.0",
      "model_name": "DescriptionStyleModel",
      "state": {
       "_model_module": "@jupyter-widgets/controls",
       "_model_module_version": "1.5.0",
       "_model_name": "DescriptionStyleModel",
       "_view_count": null,
       "_view_module": "@jupyter-widgets/base",
       "_view_module_version": "1.2.0",
       "_view_name": "StyleView",
       "description_width": ""
      }
     },
     "0da697c3b3dc4e98a6ce2a2fab14cb5c": {
      "model_module": "@jupyter-widgets/controls",
      "model_module_version": "1.5.0",
      "model_name": "DescriptionStyleModel",
      "state": {
       "_model_module": "@jupyter-widgets/controls",
       "_model_module_version": "1.5.0",
       "_model_name": "DescriptionStyleModel",
       "_view_count": null,
       "_view_module": "@jupyter-widgets/base",
       "_view_module_version": "1.2.0",
       "_view_name": "StyleView",
       "description_width": ""
      }
     },
     "18c6e3faddfd4e34a0f575f9980283d6": {
      "model_module": "@jupyter-widgets/controls",
      "model_module_version": "1.5.0",
      "model_name": "HTMLModel",
      "state": {
       "_dom_classes": [],
       "_model_module": "@jupyter-widgets/controls",
       "_model_module_version": "1.5.0",
       "_model_name": "HTMLModel",
       "_view_count": null,
       "_view_module": "@jupyter-widgets/controls",
       "_view_module_version": "1.5.0",
       "_view_name": "HTMLView",
       "description": "",
       "description_tooltip": null,
       "layout": "IPY_MODEL_ef548d58dd7c4139a896322f12ae89d9",
       "placeholder": "​",
       "style": "IPY_MODEL_94ab5ba421e741fea44f3081639cc2c1",
       "value": "merges.txt: 100%"
      }
     },
     "213aec2ccde74fcaae21389981ad37e8": {
      "model_module": "@jupyter-widgets/controls",
      "model_module_version": "1.5.0",
      "model_name": "HTMLModel",
      "state": {
       "_dom_classes": [],
       "_model_module": "@jupyter-widgets/controls",
       "_model_module_version": "1.5.0",
       "_model_name": "HTMLModel",
       "_view_count": null,
       "_view_module": "@jupyter-widgets/controls",
       "_view_module_version": "1.5.0",
       "_view_name": "HTMLView",
       "description": "",
       "description_tooltip": null,
       "layout": "IPY_MODEL_82c3a17680ea4e6a8accfda6b3ec7671",
       "placeholder": "​",
       "style": "IPY_MODEL_5a79100fcab24feca42d76d22f910c4e",
       "value": "vocab.json: 100%"
      }
     },
     "2e904ef4ba444200b13741abd7b48f63": {
      "model_module": "@jupyter-widgets/base",
      "model_module_version": "1.2.0",
      "model_name": "LayoutModel",
      "state": {
       "_model_module": "@jupyter-widgets/base",
       "_model_module_version": "1.2.0",
       "_model_name": "LayoutModel",
       "_view_count": null,
       "_view_module": "@jupyter-widgets/base",
       "_view_module_version": "1.2.0",
       "_view_name": "LayoutView",
       "align_content": null,
       "align_items": null,
       "align_self": null,
       "border": null,
       "bottom": null,
       "display": null,
       "flex": null,
       "flex_flow": null,
       "grid_area": null,
       "grid_auto_columns": null,
       "grid_auto_flow": null,
       "grid_auto_rows": null,
       "grid_column": null,
       "grid_gap": null,
       "grid_row": null,
       "grid_template_areas": null,
       "grid_template_columns": null,
       "grid_template_rows": null,
       "height": null,
       "justify_content": null,
       "justify_items": null,
       "left": null,
       "margin": null,
       "max_height": null,
       "max_width": null,
       "min_height": null,
       "min_width": null,
       "object_fit": null,
       "object_position": null,
       "order": null,
       "overflow": null,
       "overflow_x": null,
       "overflow_y": null,
       "padding": null,
       "right": null,
       "top": null,
       "visibility": null,
       "width": null
      }
     },
     "3deedc4fcd874d12806108b3d21d64ec": {
      "model_module": "@jupyter-widgets/base",
      "model_module_version": "1.2.0",
      "model_name": "LayoutModel",
      "state": {
       "_model_module": "@jupyter-widgets/base",
       "_model_module_version": "1.2.0",
       "_model_name": "LayoutModel",
       "_view_count": null,
       "_view_module": "@jupyter-widgets/base",
       "_view_module_version": "1.2.0",
       "_view_name": "LayoutView",
       "align_content": null,
       "align_items": null,
       "align_self": null,
       "border": null,
       "bottom": null,
       "display": null,
       "flex": null,
       "flex_flow": null,
       "grid_area": null,
       "grid_auto_columns": null,
       "grid_auto_flow": null,
       "grid_auto_rows": null,
       "grid_column": null,
       "grid_gap": null,
       "grid_row": null,
       "grid_template_areas": null,
       "grid_template_columns": null,
       "grid_template_rows": null,
       "height": null,
       "justify_content": null,
       "justify_items": null,
       "left": null,
       "margin": null,
       "max_height": null,
       "max_width": null,
       "min_height": null,
       "min_width": null,
       "object_fit": null,
       "object_position": null,
       "order": null,
       "overflow": null,
       "overflow_x": null,
       "overflow_y": null,
       "padding": null,
       "right": null,
       "top": null,
       "visibility": null,
       "width": null
      }
     },
     "403d95cb004043c8adebe70f66e350c7": {
      "model_module": "@jupyter-widgets/controls",
      "model_module_version": "1.5.0",
      "model_name": "HBoxModel",
      "state": {
       "_dom_classes": [],
       "_model_module": "@jupyter-widgets/controls",
       "_model_module_version": "1.5.0",
       "_model_name": "HBoxModel",
       "_view_count": null,
       "_view_module": "@jupyter-widgets/controls",
       "_view_module_version": "1.5.0",
       "_view_name": "HBoxView",
       "box_style": "",
       "children": [
        "IPY_MODEL_213aec2ccde74fcaae21389981ad37e8",
        "IPY_MODEL_9d59d9494d174c1381f81465eec65607",
        "IPY_MODEL_a2578d2628ea428a933a155332c484bf"
       ],
       "layout": "IPY_MODEL_aad0f42a27ef441cb132b0cce902a495"
      }
     },
     "412ab7e6a7b74743a4b4b99059238ddd": {
      "model_module": "@jupyter-widgets/base",
      "model_module_version": "1.2.0",
      "model_name": "LayoutModel",
      "state": {
       "_model_module": "@jupyter-widgets/base",
       "_model_module_version": "1.2.0",
       "_model_name": "LayoutModel",
       "_view_count": null,
       "_view_module": "@jupyter-widgets/base",
       "_view_module_version": "1.2.0",
       "_view_name": "LayoutView",
       "align_content": null,
       "align_items": null,
       "align_self": null,
       "border": null,
       "bottom": null,
       "display": null,
       "flex": null,
       "flex_flow": null,
       "grid_area": null,
       "grid_auto_columns": null,
       "grid_auto_flow": null,
       "grid_auto_rows": null,
       "grid_column": null,
       "grid_gap": null,
       "grid_row": null,
       "grid_template_areas": null,
       "grid_template_columns": null,
       "grid_template_rows": null,
       "height": null,
       "justify_content": null,
       "justify_items": null,
       "left": null,
       "margin": null,
       "max_height": null,
       "max_width": null,
       "min_height": null,
       "min_width": null,
       "object_fit": null,
       "object_position": null,
       "order": null,
       "overflow": null,
       "overflow_x": null,
       "overflow_y": null,
       "padding": null,
       "right": null,
       "top": null,
       "visibility": null,
       "width": null
      }
     },
     "45c81651d7fb4fdb8110605a07a58da2": {
      "model_module": "@jupyter-widgets/base",
      "model_module_version": "1.2.0",
      "model_name": "LayoutModel",
      "state": {
       "_model_module": "@jupyter-widgets/base",
       "_model_module_version": "1.2.0",
       "_model_name": "LayoutModel",
       "_view_count": null,
       "_view_module": "@jupyter-widgets/base",
       "_view_module_version": "1.2.0",
       "_view_name": "LayoutView",
       "align_content": null,
       "align_items": null,
       "align_self": null,
       "border": null,
       "bottom": null,
       "display": null,
       "flex": null,
       "flex_flow": null,
       "grid_area": null,
       "grid_auto_columns": null,
       "grid_auto_flow": null,
       "grid_auto_rows": null,
       "grid_column": null,
       "grid_gap": null,
       "grid_row": null,
       "grid_template_areas": null,
       "grid_template_columns": null,
       "grid_template_rows": null,
       "height": null,
       "justify_content": null,
       "justify_items": null,
       "left": null,
       "margin": null,
       "max_height": null,
       "max_width": null,
       "min_height": null,
       "min_width": null,
       "object_fit": null,
       "object_position": null,
       "order": null,
       "overflow": null,
       "overflow_x": null,
       "overflow_y": null,
       "padding": null,
       "right": null,
       "top": null,
       "visibility": null,
       "width": null
      }
     },
     "4f3b366330da48159529047dba374901": {
      "model_module": "@jupyter-widgets/controls",
      "model_module_version": "1.5.0",
      "model_name": "HBoxModel",
      "state": {
       "_dom_classes": [],
       "_model_module": "@jupyter-widgets/controls",
       "_model_module_version": "1.5.0",
       "_model_name": "HBoxModel",
       "_view_count": null,
       "_view_module": "@jupyter-widgets/controls",
       "_view_module_version": "1.5.0",
       "_view_name": "HBoxView",
       "box_style": "",
       "children": [
        "IPY_MODEL_18c6e3faddfd4e34a0f575f9980283d6",
        "IPY_MODEL_e01f358c6b1d4d02ab90742af452071b",
        "IPY_MODEL_6ee421209a3b433f8bbc9b42469f7b85"
       ],
       "layout": "IPY_MODEL_412ab7e6a7b74743a4b4b99059238ddd"
      }
     },
     "5a79100fcab24feca42d76d22f910c4e": {
      "model_module": "@jupyter-widgets/controls",
      "model_module_version": "1.5.0",
      "model_name": "DescriptionStyleModel",
      "state": {
       "_model_module": "@jupyter-widgets/controls",
       "_model_module_version": "1.5.0",
       "_model_name": "DescriptionStyleModel",
       "_view_count": null,
       "_view_module": "@jupyter-widgets/base",
       "_view_module_version": "1.2.0",
       "_view_name": "StyleView",
       "description_width": ""
      }
     },
     "5b87fa270f6f4c279c4e1bbc3c9e1c24": {
      "model_module": "@jupyter-widgets/base",
      "model_module_version": "1.2.0",
      "model_name": "LayoutModel",
      "state": {
       "_model_module": "@jupyter-widgets/base",
       "_model_module_version": "1.2.0",
       "_model_name": "LayoutModel",
       "_view_count": null,
       "_view_module": "@jupyter-widgets/base",
       "_view_module_version": "1.2.0",
       "_view_name": "LayoutView",
       "align_content": null,
       "align_items": null,
       "align_self": null,
       "border": null,
       "bottom": null,
       "display": null,
       "flex": null,
       "flex_flow": null,
       "grid_area": null,
       "grid_auto_columns": null,
       "grid_auto_flow": null,
       "grid_auto_rows": null,
       "grid_column": null,
       "grid_gap": null,
       "grid_row": null,
       "grid_template_areas": null,
       "grid_template_columns": null,
       "grid_template_rows": null,
       "height": null,
       "justify_content": null,
       "justify_items": null,
       "left": null,
       "margin": null,
       "max_height": null,
       "max_width": null,
       "min_height": null,
       "min_width": null,
       "object_fit": null,
       "object_position": null,
       "order": null,
       "overflow": null,
       "overflow_x": null,
       "overflow_y": null,
       "padding": null,
       "right": null,
       "top": null,
       "visibility": null,
       "width": null
      }
     },
     "5f26be8140b949a9a01f1cdeaf92ace6": {
      "model_module": "@jupyter-widgets/controls",
      "model_module_version": "1.5.0",
      "model_name": "FloatProgressModel",
      "state": {
       "_dom_classes": [],
       "_model_module": "@jupyter-widgets/controls",
       "_model_module_version": "1.5.0",
       "_model_name": "FloatProgressModel",
       "_view_count": null,
       "_view_module": "@jupyter-widgets/controls",
       "_view_module_version": "1.5.0",
       "_view_name": "ProgressView",
       "bar_style": "success",
       "description": "",
       "description_tooltip": null,
       "layout": "IPY_MODEL_3deedc4fcd874d12806108b3d21d64ec",
       "max": 644.0,
       "min": 0.0,
       "orientation": "horizontal",
       "style": "IPY_MODEL_7e8fe9f10ca54f19a245f4069391dcaf",
       "value": 644.0
      }
     },
     "642d87d5cab84eb0beaa003e584640b8": {
      "model_module": "@jupyter-widgets/base",
      "model_module_version": "1.2.0",
      "model_name": "LayoutModel",
      "state": {
       "_model_module": "@jupyter-widgets/base",
       "_model_module_version": "1.2.0",
       "_model_name": "LayoutModel",
       "_view_count": null,
       "_view_module": "@jupyter-widgets/base",
       "_view_module_version": "1.2.0",
       "_view_name": "LayoutView",
       "align_content": null,
       "align_items": null,
       "align_self": null,
       "border": null,
       "bottom": null,
       "display": null,
       "flex": null,
       "flex_flow": null,
       "grid_area": null,
       "grid_auto_columns": null,
       "grid_auto_flow": null,
       "grid_auto_rows": null,
       "grid_column": null,
       "grid_gap": null,
       "grid_row": null,
       "grid_template_areas": null,
       "grid_template_columns": null,
       "grid_template_rows": null,
       "height": null,
       "justify_content": null,
       "justify_items": null,
       "left": null,
       "margin": null,
       "max_height": null,
       "max_width": null,
       "min_height": null,
       "min_width": null,
       "object_fit": null,
       "object_position": null,
       "order": null,
       "overflow": null,
       "overflow_x": null,
       "overflow_y": null,
       "padding": null,
       "right": null,
       "top": null,
       "visibility": null,
       "width": null
      }
     },
     "649dd58a6ef44cb0ac9005d03336f774": {
      "model_module": "@jupyter-widgets/controls",
      "model_module_version": "1.5.0",
      "model_name": "HTMLModel",
      "state": {
       "_dom_classes": [],
       "_model_module": "@jupyter-widgets/controls",
       "_model_module_version": "1.5.0",
       "_model_name": "HTMLModel",
       "_view_count": null,
       "_view_module": "@jupyter-widgets/controls",
       "_view_module_version": "1.5.0",
       "_view_name": "HTMLView",
       "description": "",
       "description_tooltip": null,
       "layout": "IPY_MODEL_2e904ef4ba444200b13741abd7b48f63",
       "placeholder": "​",
       "style": "IPY_MODEL_bf5bfcb0b95d449bb90bf35486cea3f2",
       "value": " 441/441 [00:00&lt;00:00, 36.7kB/s]"
      }
     },
     "6ee421209a3b433f8bbc9b42469f7b85": {
      "model_module": "@jupyter-widgets/controls",
      "model_module_version": "1.5.0",
      "model_name": "HTMLModel",
      "state": {
       "_dom_classes": [],
       "_model_module": "@jupyter-widgets/controls",
       "_model_module_version": "1.5.0",
       "_model_name": "HTMLModel",
       "_view_count": null,
       "_view_module": "@jupyter-widgets/controls",
       "_view_module_version": "1.5.0",
       "_view_name": "HTMLView",
       "description": "",
       "description_tooltip": null,
       "layout": "IPY_MODEL_bc80784ec27d408691e502002d3cc8e2",
       "placeholder": "​",
       "style": "IPY_MODEL_e5f76c2133c64c6abbf8fedd49049a4b",
       "value": " 456k/456k [00:00&lt;00:00, 2.39MB/s]"
      }
     },
     "7204a565c8344e90b3f2dea8f80c4cab": {
      "model_module": "@jupyter-widgets/controls",
      "model_module_version": "1.5.0",
      "model_name": "HTMLModel",
      "state": {
       "_dom_classes": [],
       "_model_module": "@jupyter-widgets/controls",
       "_model_module_version": "1.5.0",
       "_model_name": "HTMLModel",
       "_view_count": null,
       "_view_module": "@jupyter-widgets/controls",
       "_view_module_version": "1.5.0",
       "_view_name": "HTMLView",
       "description": "",
       "description_tooltip": null,
       "layout": "IPY_MODEL_642d87d5cab84eb0beaa003e584640b8",
       "placeholder": "​",
       "style": "IPY_MODEL_f5aa25984310489a9d7f98da9aef6058",
       "value": "config.json: 100%"
      }
     },
     "73a505a4d73b4ca7812ef0468dba1486": {
      "model_module": "@jupyter-widgets/controls",
      "model_module_version": "1.5.0",
      "model_name": "HBoxModel",
      "state": {
       "_dom_classes": [],
       "_model_module": "@jupyter-widgets/controls",
       "_model_module_version": "1.5.0",
       "_model_name": "HBoxModel",
       "_view_count": null,
       "_view_module": "@jupyter-widgets/controls",
       "_view_module_version": "1.5.0",
       "_view_name": "HBoxView",
       "box_style": "",
       "children": [
        "IPY_MODEL_7204a565c8344e90b3f2dea8f80c4cab",
        "IPY_MODEL_5f26be8140b949a9a01f1cdeaf92ace6",
        "IPY_MODEL_b22fb64793f648f48ace7fb1e9869d34"
       ],
       "layout": "IPY_MODEL_85be000702f84072a8faba8f3e6b0dce"
      }
     },
     "7e8fe9f10ca54f19a245f4069391dcaf": {
      "model_module": "@jupyter-widgets/controls",
      "model_module_version": "1.5.0",
      "model_name": "ProgressStyleModel",
      "state": {
       "_model_module": "@jupyter-widgets/controls",
       "_model_module_version": "1.5.0",
       "_model_name": "ProgressStyleModel",
       "_view_count": null,
       "_view_module": "@jupyter-widgets/base",
       "_view_module_version": "1.2.0",
       "_view_name": "StyleView",
       "bar_color": null,
       "description_width": ""
      }
     },
     "808b36bc4de045a38836228a363a18bf": {
      "model_module": "@jupyter-widgets/controls",
      "model_module_version": "1.5.0",
      "model_name": "ProgressStyleModel",
      "state": {
       "_model_module": "@jupyter-widgets/controls",
       "_model_module_version": "1.5.0",
       "_model_name": "ProgressStyleModel",
       "_view_count": null,
       "_view_module": "@jupyter-widgets/base",
       "_view_module_version": "1.2.0",
       "_view_name": "StyleView",
       "bar_color": null,
       "description_width": ""
      }
     },
     "80bc12b55f6d42719448f98d3a64d7ad": {
      "model_module": "@jupyter-widgets/controls",
      "model_module_version": "1.5.0",
      "model_name": "DescriptionStyleModel",
      "state": {
       "_model_module": "@jupyter-widgets/controls",
       "_model_module_version": "1.5.0",
       "_model_name": "DescriptionStyleModel",
       "_view_count": null,
       "_view_module": "@jupyter-widgets/base",
       "_view_module_version": "1.2.0",
       "_view_name": "StyleView",
       "description_width": ""
      }
     },
     "82c3a17680ea4e6a8accfda6b3ec7671": {
      "model_module": "@jupyter-widgets/base",
      "model_module_version": "1.2.0",
      "model_name": "LayoutModel",
      "state": {
       "_model_module": "@jupyter-widgets/base",
       "_model_module_version": "1.2.0",
       "_model_name": "LayoutModel",
       "_view_count": null,
       "_view_module": "@jupyter-widgets/base",
       "_view_module_version": "1.2.0",
       "_view_name": "LayoutView",
       "align_content": null,
       "align_items": null,
       "align_self": null,
       "border": null,
       "bottom": null,
       "display": null,
       "flex": null,
       "flex_flow": null,
       "grid_area": null,
       "grid_auto_columns": null,
       "grid_auto_flow": null,
       "grid_auto_rows": null,
       "grid_column": null,
       "grid_gap": null,
       "grid_row": null,
       "grid_template_areas": null,
       "grid_template_columns": null,
       "grid_template_rows": null,
       "height": null,
       "justify_content": null,
       "justify_items": null,
       "left": null,
       "margin": null,
       "max_height": null,
       "max_width": null,
       "min_height": null,
       "min_width": null,
       "object_fit": null,
       "object_position": null,
       "order": null,
       "overflow": null,
       "overflow_x": null,
       "overflow_y": null,
       "padding": null,
       "right": null,
       "top": null,
       "visibility": null,
       "width": null
      }
     },
     "82fe138d19df4df2b47d0f3701930dea": {
      "model_module": "@jupyter-widgets/base",
      "model_module_version": "1.2.0",
      "model_name": "LayoutModel",
      "state": {
       "_model_module": "@jupyter-widgets/base",
       "_model_module_version": "1.2.0",
       "_model_name": "LayoutModel",
       "_view_count": null,
       "_view_module": "@jupyter-widgets/base",
       "_view_module_version": "1.2.0",
       "_view_name": "LayoutView",
       "align_content": null,
       "align_items": null,
       "align_self": null,
       "border": null,
       "bottom": null,
       "display": null,
       "flex": null,
       "flex_flow": null,
       "grid_area": null,
       "grid_auto_columns": null,
       "grid_auto_flow": null,
       "grid_auto_rows": null,
       "grid_column": null,
       "grid_gap": null,
       "grid_row": null,
       "grid_template_areas": null,
       "grid_template_columns": null,
       "grid_template_rows": null,
       "height": null,
       "justify_content": null,
       "justify_items": null,
       "left": null,
       "margin": null,
       "max_height": null,
       "max_width": null,
       "min_height": null,
       "min_width": null,
       "object_fit": null,
       "object_position": null,
       "order": null,
       "overflow": null,
       "overflow_x": null,
       "overflow_y": null,
       "padding": null,
       "right": null,
       "top": null,
       "visibility": null,
       "width": null
      }
     },
     "85be000702f84072a8faba8f3e6b0dce": {
      "model_module": "@jupyter-widgets/base",
      "model_module_version": "1.2.0",
      "model_name": "LayoutModel",
      "state": {
       "_model_module": "@jupyter-widgets/base",
       "_model_module_version": "1.2.0",
       "_model_name": "LayoutModel",
       "_view_count": null,
       "_view_module": "@jupyter-widgets/base",
       "_view_module_version": "1.2.0",
       "_view_name": "LayoutView",
       "align_content": null,
       "align_items": null,
       "align_self": null,
       "border": null,
       "bottom": null,
       "display": null,
       "flex": null,
       "flex_flow": null,
       "grid_area": null,
       "grid_auto_columns": null,
       "grid_auto_flow": null,
       "grid_auto_rows": null,
       "grid_column": null,
       "grid_gap": null,
       "grid_row": null,
       "grid_template_areas": null,
       "grid_template_columns": null,
       "grid_template_rows": null,
       "height": null,
       "justify_content": null,
       "justify_items": null,
       "left": null,
       "margin": null,
       "max_height": null,
       "max_width": null,
       "min_height": null,
       "min_width": null,
       "object_fit": null,
       "object_position": null,
       "order": null,
       "overflow": null,
       "overflow_x": null,
       "overflow_y": null,
       "padding": null,
       "right": null,
       "top": null,
       "visibility": null,
       "width": null
      }
     },
     "92aec2400f8646cfb97d4c77174f3583": {
      "model_module": "@jupyter-widgets/base",
      "model_module_version": "1.2.0",
      "model_name": "LayoutModel",
      "state": {
       "_model_module": "@jupyter-widgets/base",
       "_model_module_version": "1.2.0",
       "_model_name": "LayoutModel",
       "_view_count": null,
       "_view_module": "@jupyter-widgets/base",
       "_view_module_version": "1.2.0",
       "_view_name": "LayoutView",
       "align_content": null,
       "align_items": null,
       "align_self": null,
       "border": null,
       "bottom": null,
       "display": null,
       "flex": null,
       "flex_flow": null,
       "grid_area": null,
       "grid_auto_columns": null,
       "grid_auto_flow": null,
       "grid_auto_rows": null,
       "grid_column": null,
       "grid_gap": null,
       "grid_row": null,
       "grid_template_areas": null,
       "grid_template_columns": null,
       "grid_template_rows": null,
       "height": null,
       "justify_content": null,
       "justify_items": null,
       "left": null,
       "margin": null,
       "max_height": null,
       "max_width": null,
       "min_height": null,
       "min_width": null,
       "object_fit": null,
       "object_position": null,
       "order": null,
       "overflow": null,
       "overflow_x": null,
       "overflow_y": null,
       "padding": null,
       "right": null,
       "top": null,
       "visibility": null,
       "width": null
      }
     },
     "94ab5ba421e741fea44f3081639cc2c1": {
      "model_module": "@jupyter-widgets/controls",
      "model_module_version": "1.5.0",
      "model_name": "DescriptionStyleModel",
      "state": {
       "_model_module": "@jupyter-widgets/controls",
       "_model_module_version": "1.5.0",
       "_model_name": "DescriptionStyleModel",
       "_view_count": null,
       "_view_module": "@jupyter-widgets/base",
       "_view_module_version": "1.2.0",
       "_view_name": "StyleView",
       "description_width": ""
      }
     },
     "9618a51f89b24943b8de49cba82a0b58": {
      "model_module": "@jupyter-widgets/controls",
      "model_module_version": "1.5.0",
      "model_name": "FloatProgressModel",
      "state": {
       "_dom_classes": [],
       "_model_module": "@jupyter-widgets/controls",
       "_model_module_version": "1.5.0",
       "_model_name": "FloatProgressModel",
       "_view_count": null,
       "_view_module": "@jupyter-widgets/controls",
       "_view_module_version": "1.5.0",
       "_view_name": "ProgressView",
       "bar_style": "success",
       "description": "",
       "description_tooltip": null,
       "layout": "IPY_MODEL_92aec2400f8646cfb97d4c77174f3583",
       "max": 685.0,
       "min": 0.0,
       "orientation": "horizontal",
       "style": "IPY_MODEL_808b36bc4de045a38836228a363a18bf",
       "value": 685.0
      }
     },
     "9a1c891476fe4da78b325deefce7529d": {
      "model_module": "@jupyter-widgets/controls",
      "model_module_version": "1.5.0",
      "model_name": "FloatProgressModel",
      "state": {
       "_dom_classes": [],
       "_model_module": "@jupyter-widgets/controls",
       "_model_module_version": "1.5.0",
       "_model_name": "FloatProgressModel",
       "_view_count": null,
       "_view_module": "@jupyter-widgets/controls",
       "_view_module_version": "1.5.0",
       "_view_name": "ProgressView",
       "bar_style": "success",
       "description": "",
       "description_tooltip": null,
       "layout": "IPY_MODEL_9a37094e13e443d78d8d4354cf513abc",
       "max": 441.0,
       "min": 0.0,
       "orientation": "horizontal",
       "style": "IPY_MODEL_f422bf8dcee24e678469df7df1804633",
       "value": 441.0
      }
     },
     "9a37094e13e443d78d8d4354cf513abc": {
      "model_module": "@jupyter-widgets/base",
      "model_module_version": "1.2.0",
      "model_name": "LayoutModel",
      "state": {
       "_model_module": "@jupyter-widgets/base",
       "_model_module_version": "1.2.0",
       "_model_name": "LayoutModel",
       "_view_count": null,
       "_view_module": "@jupyter-widgets/base",
       "_view_module_version": "1.2.0",
       "_view_name": "LayoutView",
       "align_content": null,
       "align_items": null,
       "align_self": null,
       "border": null,
       "bottom": null,
       "display": null,
       "flex": null,
       "flex_flow": null,
       "grid_area": null,
       "grid_auto_columns": null,
       "grid_auto_flow": null,
       "grid_auto_rows": null,
       "grid_column": null,
       "grid_gap": null,
       "grid_row": null,
       "grid_template_areas": null,
       "grid_template_columns": null,
       "grid_template_rows": null,
       "height": null,
       "justify_content": null,
       "justify_items": null,
       "left": null,
       "margin": null,
       "max_height": null,
       "max_width": null,
       "min_height": null,
       "min_width": null,
       "object_fit": null,
       "object_position": null,
       "order": null,
       "overflow": null,
       "overflow_x": null,
       "overflow_y": null,
       "padding": null,
       "right": null,
       "top": null,
       "visibility": null,
       "width": null
      }
     },
     "9a7fd5575a4a408689b77ff973620ed4": {
      "model_module": "@jupyter-widgets/controls",
      "model_module_version": "1.5.0",
      "model_name": "ProgressStyleModel",
      "state": {
       "_model_module": "@jupyter-widgets/controls",
       "_model_module_version": "1.5.0",
       "_model_name": "ProgressStyleModel",
       "_view_count": null,
       "_view_module": "@jupyter-widgets/base",
       "_view_module_version": "1.2.0",
       "_view_name": "StyleView",
       "bar_color": null,
       "description_width": ""
      }
     },
     "9d59d9494d174c1381f81465eec65607": {
      "model_module": "@jupyter-widgets/controls",
      "model_module_version": "1.5.0",
      "model_name": "FloatProgressModel",
      "state": {
       "_dom_classes": [],
       "_model_module": "@jupyter-widgets/controls",
       "_model_module_version": "1.5.0",
       "_model_name": "FloatProgressModel",
       "_view_count": null,
       "_view_module": "@jupyter-widgets/controls",
       "_view_module_version": "1.5.0",
       "_view_name": "ProgressView",
       "bar_style": "success",
       "description": "",
       "description_tooltip": null,
       "layout": "IPY_MODEL_b588aeee71b14ae3913bc211054045a3",
       "max": 898822.0,
       "min": 0.0,
       "orientation": "horizontal",
       "style": "IPY_MODEL_9a7fd5575a4a408689b77ff973620ed4",
       "value": 898822.0
      }
     },
     "a2578d2628ea428a933a155332c484bf": {
      "model_module": "@jupyter-widgets/controls",
      "model_module_version": "1.5.0",
      "model_name": "HTMLModel",
      "state": {
       "_dom_classes": [],
       "_model_module": "@jupyter-widgets/controls",
       "_model_module_version": "1.5.0",
       "_model_name": "HTMLModel",
       "_view_count": null,
       "_view_module": "@jupyter-widgets/controls",
       "_view_module_version": "1.5.0",
       "_view_name": "HTMLView",
       "description": "",
       "description_tooltip": null,
       "layout": "IPY_MODEL_82fe138d19df4df2b47d0f3701930dea",
       "placeholder": "​",
       "style": "IPY_MODEL_f62db813a33f4f8ba4c23b6ae7ba8515",
       "value": " 899k/899k [00:00&lt;00:00, 20.9MB/s]"
      }
     },
     "aad0f42a27ef441cb132b0cce902a495": {
      "model_module": "@jupyter-widgets/base",
      "model_module_version": "1.2.0",
      "model_name": "LayoutModel",
      "state": {
       "_model_module": "@jupyter-widgets/base",
       "_model_module_version": "1.2.0",
       "_model_name": "LayoutModel",
       "_view_count": null,
       "_view_module": "@jupyter-widgets/base",
       "_view_module_version": "1.2.0",
       "_view_name": "LayoutView",
       "align_content": null,
       "align_items": null,
       "align_self": null,
       "border": null,
       "bottom": null,
       "display": null,
       "flex": null,
       "flex_flow": null,
       "grid_area": null,
       "grid_auto_columns": null,
       "grid_auto_flow": null,
       "grid_auto_rows": null,
       "grid_column": null,
       "grid_gap": null,
       "grid_row": null,
       "grid_template_areas": null,
       "grid_template_columns": null,
       "grid_template_rows": null,
       "height": null,
       "justify_content": null,
       "justify_items": null,
       "left": null,
       "margin": null,
       "max_height": null,
       "max_width": null,
       "min_height": null,
       "min_width": null,
       "object_fit": null,
       "object_position": null,
       "order": null,
       "overflow": null,
       "overflow_x": null,
       "overflow_y": null,
       "padding": null,
       "right": null,
       "top": null,
       "visibility": null,
       "width": null
      }
     },
     "b22fb64793f648f48ace7fb1e9869d34": {
      "model_module": "@jupyter-widgets/controls",
      "model_module_version": "1.5.0",
      "model_name": "HTMLModel",
      "state": {
       "_dom_classes": [],
       "_model_module": "@jupyter-widgets/controls",
       "_model_module_version": "1.5.0",
       "_model_name": "HTMLModel",
       "_view_count": null,
       "_view_module": "@jupyter-widgets/controls",
       "_view_module_version": "1.5.0",
       "_view_name": "HTMLView",
       "description": "",
       "description_tooltip": null,
       "layout": "IPY_MODEL_cb18276a2e86478aab8ffab336afdb73",
       "placeholder": "​",
       "style": "IPY_MODEL_0da697c3b3dc4e98a6ce2a2fab14cb5c",
       "value": " 644/644 [00:00&lt;00:00, 61.0kB/s]"
      }
     },
     "b29a12faea7548d9b3f205d34055bbc1": {
      "model_module": "@jupyter-widgets/controls",
      "model_module_version": "1.5.0",
      "model_name": "HTMLModel",
      "state": {
       "_dom_classes": [],
       "_model_module": "@jupyter-widgets/controls",
       "_model_module_version": "1.5.0",
       "_model_name": "HTMLModel",
       "_view_count": null,
       "_view_module": "@jupyter-widgets/controls",
       "_view_module_version": "1.5.0",
       "_view_name": "HTMLView",
       "description": "",
       "description_tooltip": null,
       "layout": "IPY_MODEL_d02311657b2d4399ae6f2675925f9cdb",
       "placeholder": "​",
       "style": "IPY_MODEL_80bc12b55f6d42719448f98d3a64d7ad",
       "value": "special_tokens_map.json: 100%"
      }
     },
     "b588aeee71b14ae3913bc211054045a3": {
      "model_module": "@jupyter-widgets/base",
      "model_module_version": "1.2.0",
      "model_name": "LayoutModel",
      "state": {
       "_model_module": "@jupyter-widgets/base",
       "_model_module_version": "1.2.0",
       "_model_name": "LayoutModel",
       "_view_count": null,
       "_view_module": "@jupyter-widgets/base",
       "_view_module_version": "1.2.0",
       "_view_name": "LayoutView",
       "align_content": null,
       "align_items": null,
       "align_self": null,
       "border": null,
       "bottom": null,
       "display": null,
       "flex": null,
       "flex_flow": null,
       "grid_area": null,
       "grid_auto_columns": null,
       "grid_auto_flow": null,
       "grid_auto_rows": null,
       "grid_column": null,
       "grid_gap": null,
       "grid_row": null,
       "grid_template_areas": null,
       "grid_template_columns": null,
       "grid_template_rows": null,
       "height": null,
       "justify_content": null,
       "justify_items": null,
       "left": null,
       "margin": null,
       "max_height": null,
       "max_width": null,
       "min_height": null,
       "min_width": null,
       "object_fit": null,
       "object_position": null,
       "order": null,
       "overflow": null,
       "overflow_x": null,
       "overflow_y": null,
       "padding": null,
       "right": null,
       "top": null,
       "visibility": null,
       "width": null
      }
     },
     "bc80784ec27d408691e502002d3cc8e2": {
      "model_module": "@jupyter-widgets/base",
      "model_module_version": "1.2.0",
      "model_name": "LayoutModel",
      "state": {
       "_model_module": "@jupyter-widgets/base",
       "_model_module_version": "1.2.0",
       "_model_name": "LayoutModel",
       "_view_count": null,
       "_view_module": "@jupyter-widgets/base",
       "_view_module_version": "1.2.0",
       "_view_name": "LayoutView",
       "align_content": null,
       "align_items": null,
       "align_self": null,
       "border": null,
       "bottom": null,
       "display": null,
       "flex": null,
       "flex_flow": null,
       "grid_area": null,
       "grid_auto_columns": null,
       "grid_auto_flow": null,
       "grid_auto_rows": null,
       "grid_column": null,
       "grid_gap": null,
       "grid_row": null,
       "grid_template_areas": null,
       "grid_template_columns": null,
       "grid_template_rows": null,
       "height": null,
       "justify_content": null,
       "justify_items": null,
       "left": null,
       "margin": null,
       "max_height": null,
       "max_width": null,
       "min_height": null,
       "min_width": null,
       "object_fit": null,
       "object_position": null,
       "order": null,
       "overflow": null,
       "overflow_x": null,
       "overflow_y": null,
       "padding": null,
       "right": null,
       "top": null,
       "visibility": null,
       "width": null
      }
     },
     "bf5bfcb0b95d449bb90bf35486cea3f2": {
      "model_module": "@jupyter-widgets/controls",
      "model_module_version": "1.5.0",
      "model_name": "DescriptionStyleModel",
      "state": {
       "_model_module": "@jupyter-widgets/controls",
       "_model_module_version": "1.5.0",
       "_model_name": "DescriptionStyleModel",
       "_view_count": null,
       "_view_module": "@jupyter-widgets/base",
       "_view_module_version": "1.2.0",
       "_view_name": "StyleView",
       "description_width": ""
      }
     },
     "c8993ca486474e22bdaffd0df31dc671": {
      "model_module": "@jupyter-widgets/base",
      "model_module_version": "1.2.0",
      "model_name": "LayoutModel",
      "state": {
       "_model_module": "@jupyter-widgets/base",
       "_model_module_version": "1.2.0",
       "_model_name": "LayoutModel",
       "_view_count": null,
       "_view_module": "@jupyter-widgets/base",
       "_view_module_version": "1.2.0",
       "_view_name": "LayoutView",
       "align_content": null,
       "align_items": null,
       "align_self": null,
       "border": null,
       "bottom": null,
       "display": null,
       "flex": null,
       "flex_flow": null,
       "grid_area": null,
       "grid_auto_columns": null,
       "grid_auto_flow": null,
       "grid_auto_rows": null,
       "grid_column": null,
       "grid_gap": null,
       "grid_row": null,
       "grid_template_areas": null,
       "grid_template_columns": null,
       "grid_template_rows": null,
       "height": null,
       "justify_content": null,
       "justify_items": null,
       "left": null,
       "margin": null,
       "max_height": null,
       "max_width": null,
       "min_height": null,
       "min_width": null,
       "object_fit": null,
       "object_position": null,
       "order": null,
       "overflow": null,
       "overflow_x": null,
       "overflow_y": null,
       "padding": null,
       "right": null,
       "top": null,
       "visibility": null,
       "width": null
      }
     },
     "cb18276a2e86478aab8ffab336afdb73": {
      "model_module": "@jupyter-widgets/base",
      "model_module_version": "1.2.0",
      "model_name": "LayoutModel",
      "state": {
       "_model_module": "@jupyter-widgets/base",
       "_model_module_version": "1.2.0",
       "_model_name": "LayoutModel",
       "_view_count": null,
       "_view_module": "@jupyter-widgets/base",
       "_view_module_version": "1.2.0",
       "_view_name": "LayoutView",
       "align_content": null,
       "align_items": null,
       "align_self": null,
       "border": null,
       "bottom": null,
       "display": null,
       "flex": null,
       "flex_flow": null,
       "grid_area": null,
       "grid_auto_columns": null,
       "grid_auto_flow": null,
       "grid_auto_rows": null,
       "grid_column": null,
       "grid_gap": null,
       "grid_row": null,
       "grid_template_areas": null,
       "grid_template_columns": null,
       "grid_template_rows": null,
       "height": null,
       "justify_content": null,
       "justify_items": null,
       "left": null,
       "margin": null,
       "max_height": null,
       "max_width": null,
       "min_height": null,
       "min_width": null,
       "object_fit": null,
       "object_position": null,
       "order": null,
       "overflow": null,
       "overflow_x": null,
       "overflow_y": null,
       "padding": null,
       "right": null,
       "top": null,
       "visibility": null,
       "width": null
      }
     },
     "ce37ad1ce2234ff890e352c4e9733203": {
      "model_module": "@jupyter-widgets/controls",
      "model_module_version": "1.5.0",
      "model_name": "HTMLModel",
      "state": {
       "_dom_classes": [],
       "_model_module": "@jupyter-widgets/controls",
       "_model_module_version": "1.5.0",
       "_model_name": "HTMLModel",
       "_view_count": null,
       "_view_module": "@jupyter-widgets/controls",
       "_view_module_version": "1.5.0",
       "_view_name": "HTMLView",
       "description": "",
       "description_tooltip": null,
       "layout": "IPY_MODEL_5b87fa270f6f4c279c4e1bbc3c9e1c24",
       "placeholder": "​",
       "style": "IPY_MODEL_da69ebf9a9f4492cb9b84702abea080a",
       "value": " 685/685 [00:00&lt;00:00, 56.0kB/s]"
      }
     },
     "d02311657b2d4399ae6f2675925f9cdb": {
      "model_module": "@jupyter-widgets/base",
      "model_module_version": "1.2.0",
      "model_name": "LayoutModel",
      "state": {
       "_model_module": "@jupyter-widgets/base",
       "_model_module_version": "1.2.0",
       "_model_name": "LayoutModel",
       "_view_count": null,
       "_view_module": "@jupyter-widgets/base",
       "_view_module_version": "1.2.0",
       "_view_name": "LayoutView",
       "align_content": null,
       "align_items": null,
       "align_self": null,
       "border": null,
       "bottom": null,
       "display": null,
       "flex": null,
       "flex_flow": null,
       "grid_area": null,
       "grid_auto_columns": null,
       "grid_auto_flow": null,
       "grid_auto_rows": null,
       "grid_column": null,
       "grid_gap": null,
       "grid_row": null,
       "grid_template_areas": null,
       "grid_template_columns": null,
       "grid_template_rows": null,
       "height": null,
       "justify_content": null,
       "justify_items": null,
       "left": null,
       "margin": null,
       "max_height": null,
       "max_width": null,
       "min_height": null,
       "min_width": null,
       "object_fit": null,
       "object_position": null,
       "order": null,
       "overflow": null,
       "overflow_x": null,
       "overflow_y": null,
       "padding": null,
       "right": null,
       "top": null,
       "visibility": null,
       "width": null
      }
     },
     "d8ac8e2ce59b4bd8a0a7a49253c04a1a": {
      "model_module": "@jupyter-widgets/base",
      "model_module_version": "1.2.0",
      "model_name": "LayoutModel",
      "state": {
       "_model_module": "@jupyter-widgets/base",
       "_model_module_version": "1.2.0",
       "_model_name": "LayoutModel",
       "_view_count": null,
       "_view_module": "@jupyter-widgets/base",
       "_view_module_version": "1.2.0",
       "_view_name": "LayoutView",
       "align_content": null,
       "align_items": null,
       "align_self": null,
       "border": null,
       "bottom": null,
       "display": null,
       "flex": null,
       "flex_flow": null,
       "grid_area": null,
       "grid_auto_columns": null,
       "grid_auto_flow": null,
       "grid_auto_rows": null,
       "grid_column": null,
       "grid_gap": null,
       "grid_row": null,
       "grid_template_areas": null,
       "grid_template_columns": null,
       "grid_template_rows": null,
       "height": null,
       "justify_content": null,
       "justify_items": null,
       "left": null,
       "margin": null,
       "max_height": null,
       "max_width": null,
       "min_height": null,
       "min_width": null,
       "object_fit": null,
       "object_position": null,
       "order": null,
       "overflow": null,
       "overflow_x": null,
       "overflow_y": null,
       "padding": null,
       "right": null,
       "top": null,
       "visibility": null,
       "width": null
      }
     },
     "da69ebf9a9f4492cb9b84702abea080a": {
      "model_module": "@jupyter-widgets/controls",
      "model_module_version": "1.5.0",
      "model_name": "DescriptionStyleModel",
      "state": {
       "_model_module": "@jupyter-widgets/controls",
       "_model_module_version": "1.5.0",
       "_model_name": "DescriptionStyleModel",
       "_view_count": null,
       "_view_module": "@jupyter-widgets/base",
       "_view_module_version": "1.2.0",
       "_view_name": "StyleView",
       "description_width": ""
      }
     },
     "e01f358c6b1d4d02ab90742af452071b": {
      "model_module": "@jupyter-widgets/controls",
      "model_module_version": "1.5.0",
      "model_name": "FloatProgressModel",
      "state": {
       "_dom_classes": [],
       "_model_module": "@jupyter-widgets/controls",
       "_model_module_version": "1.5.0",
       "_model_name": "FloatProgressModel",
       "_view_count": null,
       "_view_module": "@jupyter-widgets/controls",
       "_view_module_version": "1.5.0",
       "_view_name": "ProgressView",
       "bar_style": "success",
       "description": "",
       "description_tooltip": null,
       "layout": "IPY_MODEL_c8993ca486474e22bdaffd0df31dc671",
       "max": 456318.0,
       "min": 0.0,
       "orientation": "horizontal",
       "style": "IPY_MODEL_f62231de3eea4650bc4049c0220bf71c",
       "value": 456318.0
      }
     },
     "e5f76c2133c64c6abbf8fedd49049a4b": {
      "model_module": "@jupyter-widgets/controls",
      "model_module_version": "1.5.0",
      "model_name": "DescriptionStyleModel",
      "state": {
       "_model_module": "@jupyter-widgets/controls",
       "_model_module_version": "1.5.0",
       "_model_name": "DescriptionStyleModel",
       "_view_count": null,
       "_view_module": "@jupyter-widgets/base",
       "_view_module_version": "1.2.0",
       "_view_name": "StyleView",
       "description_width": ""
      }
     },
     "e875286eb70b4a048917ebc9f49958e1": {
      "model_module": "@jupyter-widgets/controls",
      "model_module_version": "1.5.0",
      "model_name": "HBoxModel",
      "state": {
       "_dom_classes": [],
       "_model_module": "@jupyter-widgets/controls",
       "_model_module_version": "1.5.0",
       "_model_name": "HBoxModel",
       "_view_count": null,
       "_view_module": "@jupyter-widgets/controls",
       "_view_module_version": "1.5.0",
       "_view_name": "HBoxView",
       "box_style": "",
       "children": [
        "IPY_MODEL_ed2882fd2aa34946bdd86a84a92f3380",
        "IPY_MODEL_9618a51f89b24943b8de49cba82a0b58",
        "IPY_MODEL_ce37ad1ce2234ff890e352c4e9733203"
       ],
       "layout": "IPY_MODEL_d8ac8e2ce59b4bd8a0a7a49253c04a1a"
      }
     },
     "ec8150409cca4b8aa3f875167374bd6c": {
      "model_module": "@jupyter-widgets/controls",
      "model_module_version": "1.5.0",
      "model_name": "HBoxModel",
      "state": {
       "_dom_classes": [],
       "_model_module": "@jupyter-widgets/controls",
       "_model_module_version": "1.5.0",
       "_model_name": "HBoxModel",
       "_view_count": null,
       "_view_module": "@jupyter-widgets/controls",
       "_view_module_version": "1.5.0",
       "_view_name": "HBoxView",
       "box_style": "",
       "children": [
        "IPY_MODEL_b29a12faea7548d9b3f205d34055bbc1",
        "IPY_MODEL_9a1c891476fe4da78b325deefce7529d",
        "IPY_MODEL_649dd58a6ef44cb0ac9005d03336f774"
       ],
       "layout": "IPY_MODEL_fd70d7a57df24204b03d4b96fcc21efb"
      }
     },
     "ed2882fd2aa34946bdd86a84a92f3380": {
      "model_module": "@jupyter-widgets/controls",
      "model_module_version": "1.5.0",
      "model_name": "HTMLModel",
      "state": {
       "_dom_classes": [],
       "_model_module": "@jupyter-widgets/controls",
       "_model_module_version": "1.5.0",
       "_model_name": "HTMLModel",
       "_view_count": null,
       "_view_module": "@jupyter-widgets/controls",
       "_view_module_version": "1.5.0",
       "_view_name": "HTMLView",
       "description": "",
       "description_tooltip": null,
       "layout": "IPY_MODEL_45c81651d7fb4fdb8110605a07a58da2",
       "placeholder": "​",
       "style": "IPY_MODEL_00738fa02a6d45d7a92e3fcb9098b382",
       "value": "tokenizer_config.json: 100%"
      }
     },
     "ef548d58dd7c4139a896322f12ae89d9": {
      "model_module": "@jupyter-widgets/base",
      "model_module_version": "1.2.0",
      "model_name": "LayoutModel",
      "state": {
       "_model_module": "@jupyter-widgets/base",
       "_model_module_version": "1.2.0",
       "_model_name": "LayoutModel",
       "_view_count": null,
       "_view_module": "@jupyter-widgets/base",
       "_view_module_version": "1.2.0",
       "_view_name": "LayoutView",
       "align_content": null,
       "align_items": null,
       "align_self": null,
       "border": null,
       "bottom": null,
       "display": null,
       "flex": null,
       "flex_flow": null,
       "grid_area": null,
       "grid_auto_columns": null,
       "grid_auto_flow": null,
       "grid_auto_rows": null,
       "grid_column": null,
       "grid_gap": null,
       "grid_row": null,
       "grid_template_areas": null,
       "grid_template_columns": null,
       "grid_template_rows": null,
       "height": null,
       "justify_content": null,
       "justify_items": null,
       "left": null,
       "margin": null,
       "max_height": null,
       "max_width": null,
       "min_height": null,
       "min_width": null,
       "object_fit": null,
       "object_position": null,
       "order": null,
       "overflow": null,
       "overflow_x": null,
       "overflow_y": null,
       "padding": null,
       "right": null,
       "top": null,
       "visibility": null,
       "width": null
      }
     },
     "f422bf8dcee24e678469df7df1804633": {
      "model_module": "@jupyter-widgets/controls",
      "model_module_version": "1.5.0",
      "model_name": "ProgressStyleModel",
      "state": {
       "_model_module": "@jupyter-widgets/controls",
       "_model_module_version": "1.5.0",
       "_model_name": "ProgressStyleModel",
       "_view_count": null,
       "_view_module": "@jupyter-widgets/base",
       "_view_module_version": "1.2.0",
       "_view_name": "StyleView",
       "bar_color": null,
       "description_width": ""
      }
     },
     "f5aa25984310489a9d7f98da9aef6058": {
      "model_module": "@jupyter-widgets/controls",
      "model_module_version": "1.5.0",
      "model_name": "DescriptionStyleModel",
      "state": {
       "_model_module": "@jupyter-widgets/controls",
       "_model_module_version": "1.5.0",
       "_model_name": "DescriptionStyleModel",
       "_view_count": null,
       "_view_module": "@jupyter-widgets/base",
       "_view_module_version": "1.2.0",
       "_view_name": "StyleView",
       "description_width": ""
      }
     },
     "f62231de3eea4650bc4049c0220bf71c": {
      "model_module": "@jupyter-widgets/controls",
      "model_module_version": "1.5.0",
      "model_name": "ProgressStyleModel",
      "state": {
       "_model_module": "@jupyter-widgets/controls",
       "_model_module_version": "1.5.0",
       "_model_name": "ProgressStyleModel",
       "_view_count": null,
       "_view_module": "@jupyter-widgets/base",
       "_view_module_version": "1.2.0",
       "_view_name": "StyleView",
       "bar_color": null,
       "description_width": ""
      }
     },
     "f62db813a33f4f8ba4c23b6ae7ba8515": {
      "model_module": "@jupyter-widgets/controls",
      "model_module_version": "1.5.0",
      "model_name": "DescriptionStyleModel",
      "state": {
       "_model_module": "@jupyter-widgets/controls",
       "_model_module_version": "1.5.0",
       "_model_name": "DescriptionStyleModel",
       "_view_count": null,
       "_view_module": "@jupyter-widgets/base",
       "_view_module_version": "1.2.0",
       "_view_name": "StyleView",
       "description_width": ""
      }
     },
     "fd70d7a57df24204b03d4b96fcc21efb": {
      "model_module": "@jupyter-widgets/base",
      "model_module_version": "1.2.0",
      "model_name": "LayoutModel",
      "state": {
       "_model_module": "@jupyter-widgets/base",
       "_model_module_version": "1.2.0",
       "_model_name": "LayoutModel",
       "_view_count": null,
       "_view_module": "@jupyter-widgets/base",
       "_view_module_version": "1.2.0",
       "_view_name": "LayoutView",
       "align_content": null,
       "align_items": null,
       "align_self": null,
       "border": null,
       "bottom": null,
       "display": null,
       "flex": null,
       "flex_flow": null,
       "grid_area": null,
       "grid_auto_columns": null,
       "grid_auto_flow": null,
       "grid_auto_rows": null,
       "grid_column": null,
       "grid_gap": null,
       "grid_row": null,
       "grid_template_areas": null,
       "grid_template_columns": null,
       "grid_template_rows": null,
       "height": null,
       "justify_content": null,
       "justify_items": null,
       "left": null,
       "margin": null,
       "max_height": null,
       "max_width": null,
       "min_height": null,
       "min_width": null,
       "object_fit": null,
       "object_position": null,
       "order": null,
       "overflow": null,
       "overflow_x": null,
       "overflow_y": null,
       "padding": null,
       "right": null,
       "top": null,
       "visibility": null,
       "width": null
      }
     }
    },
    "version_major": 2,
    "version_minor": 0
   }
  }
 },
 "nbformat": 4,
 "nbformat_minor": 5
}
