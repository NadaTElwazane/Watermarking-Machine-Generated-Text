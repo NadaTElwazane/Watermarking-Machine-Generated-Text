{
 "cells": [
  {
   "cell_type": "markdown",
   "id": "83db4b1d",
   "metadata": {
    "papermill": {
     "duration": 0.003124,
     "end_time": "2024-05-21T10:48:06.782670",
     "exception": false,
     "start_time": "2024-05-21T10:48:06.779546",
     "status": "completed"
    },
    "tags": []
   },
   "source": [
    "# Adding and Removing Whitespace.\n",
    "Possible improvement is to use OPT-350M to predict the punctuation and newlines."
   ]
  },
  {
   "cell_type": "code",
   "execution_count": 1,
   "id": "104d2e3e",
   "metadata": {
    "_cell_guid": "b1076dfc-b9ad-4769-8c92-a6c4dae69d19",
    "_uuid": "8f2839f25d086af736a60e9eeb907d3b93b6e0e5",
    "execution": {
     "iopub.execute_input": "2024-05-21T10:48:06.789185Z",
     "iopub.status.busy": "2024-05-21T10:48:06.788788Z",
     "iopub.status.idle": "2024-05-21T10:48:07.550151Z",
     "shell.execute_reply": "2024-05-21T10:48:07.548981Z"
    },
    "papermill": {
     "duration": 0.767492,
     "end_time": "2024-05-21T10:48:07.552759",
     "exception": false,
     "start_time": "2024-05-21T10:48:06.785267",
     "status": "completed"
    },
    "tags": []
   },
   "outputs": [
    {
     "name": "stdout",
     "output_type": "stream",
     "text": [
      "/kaggle/input/watermarked-and-unwatermarked-text-truncated/data_trunk.csv\n"
     ]
    }
   ],
   "source": [
    "# This Python 3 environment comes with many helpful analytics libraries installed\n",
    "# It is defined by the kaggle/python Docker image: https://github.com/kaggle/docker-python\n",
    "# For example, here's several helpful packages to load\n",
    "\n",
    "import numpy as np # linear algebra\n",
    "import pandas as pd # data processing, CSV file I/O (e.g. pd.read_csv)\n",
    "from tqdm import tqdm  # Import tqdm for progress bar\n",
    "\n",
    "# Input data files are available in the read-only \"../input/\" directory\n",
    "# For example, running this (by clicking run or pressing Shift+Enter) will list all files under the input directory\n",
    "\n",
    "import os\n",
    "for dirname, _, filenames in os.walk('/kaggle/input'):\n",
    "    for filename in filenames:\n",
    "        print(os.path.join(dirname, filename))\n",
    "\n",
    "# You can write up to 20GB to the current directory (/kaggle/working/) that gets preserved as output when you create a version using \"Save & Run All\" \n",
    "# You can also write temporary files to /kaggle/temp/, but they won't be saved outside of the current session"
   ]
  },
  {
   "cell_type": "code",
   "execution_count": 2,
   "id": "f98f8e33",
   "metadata": {
    "execution": {
     "iopub.execute_input": "2024-05-21T10:48:07.559478Z",
     "iopub.status.busy": "2024-05-21T10:48:07.558829Z",
     "iopub.status.idle": "2024-05-21T10:48:07.569200Z",
     "shell.execute_reply": "2024-05-21T10:48:07.568289Z"
    },
    "papermill": {
     "duration": 0.015991,
     "end_time": "2024-05-21T10:48:07.571363",
     "exception": false,
     "start_time": "2024-05-21T10:48:07.555372",
     "status": "completed"
    },
    "tags": []
   },
   "outputs": [
    {
     "name": "stdout",
     "output_type": "stream",
     "text": [
      "This is a   test   sentence. Here is another   one.\n",
      "This   should add  unnecessary whitespace.\n"
     ]
    }
   ],
   "source": [
    "import random\n",
    "\n",
    "def add_whitespace(text):\n",
    "    # Split text into sentences\n",
    "    sentences = text.split('. ')\n",
    "    modified_text = []\n",
    "\n",
    "    for sentence in sentences:\n",
    "        # Split sentence into words\n",
    "        words = sentence.split(' ')\n",
    "        modified_sentence = []\n",
    "\n",
    "        for word in words:\n",
    "            # Randomly choose to add space or tab after each word\n",
    "            if random.random() < 0.9:\n",
    "                modified_sentence.append(word + ' ' * random.randint(1, 3))  # Space with higher probability\n",
    "            elif random.random() < 0.1:\n",
    "                modified_sentence.append(word + '\\t')  # Tab with lower probability\n",
    "            else:\n",
    "                modified_sentence.append(word + ' ')\n",
    "        \n",
    "        # Join modified words back into a sentence\n",
    "        modified_text.append(''.join(modified_sentence).strip())\n",
    "    \n",
    "    final_text_parts = []\n",
    "\n",
    "    for sentence in modified_text:\n",
    "        # Randomly choose to add one or two new lines after each sentence\n",
    "        if random.random() < 0.5:\n",
    "            final_text_parts.append(sentence + '.\\n')  # One new line with higher probability\n",
    "        elif random.random() < 0.3:\n",
    "            final_text_parts.append(sentence + '.\\n\\n')  # Two new lines with lower probability\n",
    "        else:\n",
    "            final_text_parts.append(sentence + '. ')\n",
    "            \n",
    "    # Join the modified sentences into final text\n",
    "    final_text = ''.join(final_text_parts).strip()\n",
    "\n",
    "    return final_text[:-1] # removes last . \n",
    "\n",
    "# Example usage\n",
    "random.seed(42)\n",
    "input_text = \"This is a test sentence. Here is another one. This should add unnecessary whitespace.\"\n",
    "output_text = add_whitespace(input_text)\n",
    "print(output_text)\n"
   ]
  },
  {
   "cell_type": "code",
   "execution_count": 3,
   "id": "ad233060",
   "metadata": {
    "execution": {
     "iopub.execute_input": "2024-05-21T10:48:07.577628Z",
     "iopub.status.busy": "2024-05-21T10:48:07.577310Z",
     "iopub.status.idle": "2024-05-21T10:48:07.585257Z",
     "shell.execute_reply": "2024-05-21T10:48:07.584233Z"
    },
    "papermill": {
     "duration": 0.013312,
     "end_time": "2024-05-21T10:48:07.587241",
     "exception": false,
     "start_time": "2024-05-21T10:48:07.573929",
     "status": "completed"
    },
    "tags": []
   },
   "outputs": [
    {
     "name": "stdout",
     "output_type": "stream",
     "text": [
      "Text with unnecessary whitespace:\n",
      "This is a   test   sentence.\n",
      "Here is another one.\n",
      "\n",
      "This should   add unnecessary  whitespace.\n",
      "\n",
      "Cleaned text:\n",
      "This is a test sentence. Here is another one. This should add unnecessary whitespace.\n"
     ]
    }
   ],
   "source": [
    "import re\n",
    "\n",
    "def remove_whitespace(text):\n",
    "    # Step 1: Replace multiple spaces and tabs with a single space\n",
    "    text = re.sub(r'[ \\t]+', ' ', text)\n",
    "    \n",
    "    # Step 2: Replace multiple new lines with a single new line\n",
    "    text = re.sub(r'\\n+', '\\n', text)\n",
    "    \n",
    "    # Step 3: Split sentences by period followed by newline or space\n",
    "    sentences = re.split(r'\\. ?\\n*', text)\n",
    "    \n",
    "    # Step 4: Strip leading/trailing whitespace from each sentence and reassemble\n",
    "    sentences = [sentence.strip() for sentence in sentences if sentence]\n",
    "    cleaned_text = '. '.join(sentences) + '.'\n",
    "    \n",
    "    return cleaned_text\n",
    "\n",
    "# Example usage\n",
    "random.seed(42)\n",
    "input_text = \"This is a test sentence.\\nHere is another one. This should add unnecessary whitespace.\"\n",
    "output_text = add_whitespace(input_text)\n",
    "print(\"Text with unnecessary whitespace:\")\n",
    "print(output_text)\n",
    "print(\"\\nCleaned text:\")\n",
    "cleaned_text = remove_whitespace(output_text)\n",
    "print(cleaned_text)\n"
   ]
  },
  {
   "cell_type": "code",
   "execution_count": 4,
   "id": "64f77f23",
   "metadata": {
    "execution": {
     "iopub.execute_input": "2024-05-21T10:48:07.593669Z",
     "iopub.status.busy": "2024-05-21T10:48:07.593333Z",
     "iopub.status.idle": "2024-05-21T10:48:07.862607Z",
     "shell.execute_reply": "2024-05-21T10:48:07.861627Z"
    },
    "papermill": {
     "duration": 0.275263,
     "end_time": "2024-05-21T10:48:07.865079",
     "exception": false,
     "start_time": "2024-05-21T10:48:07.589816",
     "status": "completed"
    },
    "tags": []
   },
   "outputs": [
    {
     "name": "stderr",
     "output_type": "stream",
     "text": [
      "100%|██████████| 1000/1000 [00:00<00:00, 6500.11it/s]"
     ]
    },
    {
     "name": "stdout",
     "output_type": "stream",
     "text": [
      "Processing complete! Data saved to modified_and_cleaned_text.csv\n"
     ]
    },
    {
     "name": "stderr",
     "output_type": "stream",
     "text": [
      "\n"
     ]
    }
   ],
   "source": [
    "\n",
    "# Read data from CSV\n",
    "original_data = pd.read_csv(\"/kaggle/input/watermarked-and-unwatermarked-text-truncated/data_trunk.csv\")\n",
    "\n",
    "# Filter for watermarked \"Generated text\" with a limit of 1000 rows\n",
    "watermarked_data = original_data[original_data[\"label\"] == \"watermarked\"][[\"Generated Text\"]]\n",
    "\n",
    "# Initialize empty lists to store modified and cleaned text\n",
    "modified_text = []\n",
    "cleaned_text = []\n",
    "\n",
    "# Loop through the data using tqdm for progress bar\n",
    "for text in tqdm(watermarked_data[\"Generated Text\"].tolist()):\n",
    "    modified = add_whitespace(text)\n",
    "    cleaned = remove_whitespace(modified)\n",
    "    \n",
    "    modified_text.append(modified)\n",
    "    cleaned_text.append(cleaned)\n",
    "\n",
    "# Create a new dataframe with original, modified, and cleaned text\n",
    "df = pd.DataFrame({\n",
    "    \"Original Text\": watermarked_data[\"Generated Text\"],\n",
    "    \"Modified Text\": modified_text,\n",
    "    \"Cleaned Text\": cleaned_text\n",
    "})\n",
    "\n",
    "# Save dataframe as CSV file\n",
    "df.to_csv(\"modified_and_cleaned_text.csv\", index=False)\n",
    "\n",
    "print(\"Processing complete! Data saved to modified_and_cleaned_text.csv\")"
   ]
  },
  {
   "cell_type": "code",
   "execution_count": 5,
   "id": "c4899254",
   "metadata": {
    "execution": {
     "iopub.execute_input": "2024-05-21T10:48:07.873295Z",
     "iopub.status.busy": "2024-05-21T10:48:07.872392Z",
     "iopub.status.idle": "2024-05-21T10:48:07.880448Z",
     "shell.execute_reply": "2024-05-21T10:48:07.879451Z"
    },
    "papermill": {
     "duration": 0.014383,
     "end_time": "2024-05-21T10:48:07.882627",
     "exception": false,
     "start_time": "2024-05-21T10:48:07.868244",
     "status": "completed"
    },
    "tags": []
   },
   "outputs": [
    {
     "name": "stdout",
     "output_type": "stream",
     "text": [
      "213     Women   give birth in the  maternity   ward.\\n...\n",
      "1317    The cancer institute  has done a  very wonderf...\n",
      "1573    The attorney   general is  the\\tprincipal  leg...\n",
      "1732    Bodaboda operators  can   be   helpful\\tin roa...\n",
      "984     Closure  of   schools  might   lead to  increa...\n",
      "Name: Modified Text, dtype: object\n"
     ]
    }
   ],
   "source": [
    "# Print 5 random samples from the dataframe\n",
    "random.seed(5)\n",
    "print(df['Modified Text'].sample(n=5))"
   ]
  }
 ],
 "metadata": {
  "kaggle": {
   "accelerator": "none",
   "dataSources": [
    {
     "datasetId": 4779182,
     "sourceId": 8094561,
     "sourceType": "datasetVersion"
    }
   ],
   "dockerImageVersionId": 30698,
   "isGpuEnabled": false,
   "isInternetEnabled": true,
   "language": "python",
   "sourceType": "notebook"
  },
  "kernelspec": {
   "display_name": "Python 3",
   "language": "python",
   "name": "python3"
  },
  "language_info": {
   "codemirror_mode": {
    "name": "ipython",
    "version": 3
   },
   "file_extension": ".py",
   "mimetype": "text/x-python",
   "name": "python",
   "nbconvert_exporter": "python",
   "pygments_lexer": "ipython3",
   "version": "3.10.13"
  },
  "papermill": {
   "default_parameters": {},
   "duration": 4.136803,
   "end_time": "2024-05-21T10:48:08.304467",
   "environment_variables": {},
   "exception": null,
   "input_path": "__notebook__.ipynb",
   "output_path": "__notebook__.ipynb",
   "parameters": {},
   "start_time": "2024-05-21T10:48:04.167664",
   "version": "2.5.0"
  }
 },
 "nbformat": 4,
 "nbformat_minor": 5
}
