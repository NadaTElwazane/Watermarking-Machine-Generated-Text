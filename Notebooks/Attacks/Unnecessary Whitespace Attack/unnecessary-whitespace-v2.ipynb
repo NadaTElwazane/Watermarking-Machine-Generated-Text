{
 "cells": [
  {
   "cell_type": "markdown",
   "id": "c37b7507",
   "metadata": {
    "papermill": {
     "duration": 0.00369,
     "end_time": "2024-05-21T11:02:00.183475",
     "exception": false,
     "start_time": "2024-05-21T11:02:00.179785",
     "status": "completed"
    },
    "tags": []
   },
   "source": [
    "# Adding and Removing Whitespace.\n",
    "Possible improvement is to use OPT-350M to predict the punctuation and newlines."
   ]
  },
  {
   "cell_type": "code",
   "execution_count": 1,
   "id": "cecaa99a",
   "metadata": {
    "_cell_guid": "b1076dfc-b9ad-4769-8c92-a6c4dae69d19",
    "_uuid": "8f2839f25d086af736a60e9eeb907d3b93b6e0e5",
    "execution": {
     "iopub.execute_input": "2024-05-21T11:02:00.191116Z",
     "iopub.status.busy": "2024-05-21T11:02:00.190384Z",
     "iopub.status.idle": "2024-05-21T11:02:01.088847Z",
     "shell.execute_reply": "2024-05-21T11:02:01.087604Z"
    },
    "papermill": {
     "duration": 0.905002,
     "end_time": "2024-05-21T11:02:01.091346",
     "exception": false,
     "start_time": "2024-05-21T11:02:00.186344",
     "status": "completed"
    },
    "tags": []
   },
   "outputs": [
    {
     "name": "stdout",
     "output_type": "stream",
     "text": [
      "/kaggle/input/watermarked-and-unwatermarked-text-truncated/data_trunk.csv\n"
     ]
    }
   ],
   "source": [
    "# This Python 3 environment comes with many helpful analytics libraries installed\n",
    "# It is defined by the kaggle/python Docker image: https://github.com/kaggle/docker-python\n",
    "# For example, here's several helpful packages to load\n",
    "\n",
    "import numpy as np # linear algebra\n",
    "import pandas as pd # data processing, CSV file I/O (e.g. pd.read_csv)\n",
    "from tqdm import tqdm  # Import tqdm for progress bar\n",
    "\n",
    "# Input data files are available in the read-only \"../input/\" directory\n",
    "# For example, running this (by clicking run or pressing Shift+Enter) will list all files under the input directory\n",
    "\n",
    "import os\n",
    "for dirname, _, filenames in os.walk('/kaggle/input'):\n",
    "    for filename in filenames:\n",
    "        print(os.path.join(dirname, filename))\n",
    "\n",
    "# You can write up to 20GB to the current directory (/kaggle/working/) that gets preserved as output when you create a version using \"Save & Run All\" \n",
    "# You can also write temporary files to /kaggle/temp/, but they won't be saved outside of the current session"
   ]
  },
  {
   "cell_type": "code",
   "execution_count": 2,
   "id": "6f2b848e",
   "metadata": {
    "execution": {
     "iopub.execute_input": "2024-05-21T11:02:01.098828Z",
     "iopub.status.busy": "2024-05-21T11:02:01.098282Z",
     "iopub.status.idle": "2024-05-21T11:02:01.109516Z",
     "shell.execute_reply": "2024-05-21T11:02:01.108093Z"
    },
    "papermill": {
     "duration": 0.01761,
     "end_time": "2024-05-21T11:02:01.111845",
     "exception": false,
     "start_time": "2024-05-21T11:02:01.094235",
     "status": "completed"
    },
    "tags": []
   },
   "outputs": [
    {
     "name": "stdout",
     "output_type": "stream",
     "text": [
      "This is a   test   sentence. Here is another   one.\n",
      "This   should add  unnecessary whitespace.\n"
     ]
    }
   ],
   "source": [
    "import random\n",
    "\n",
    "def add_whitespace(text):\n",
    "    # Split text into sentences\n",
    "    sentences = text.split('. ')\n",
    "    modified_text = []\n",
    "\n",
    "    for sentence in sentences:\n",
    "        # Split sentence into words\n",
    "        words = sentence.split(' ')\n",
    "        modified_sentence = []\n",
    "\n",
    "        for word in words:\n",
    "            # Randomly choose to add space or tab after each word\n",
    "            if random.random() < 0.9:\n",
    "                modified_sentence.append(word + ' ' * random.randint(1, 3))  # Space with higher probability\n",
    "            elif random.random() < 0.1:\n",
    "                modified_sentence.append(word + '\\t')  # Tab with lower probability\n",
    "            else:\n",
    "                modified_sentence.append(word + ' ')\n",
    "        \n",
    "        # Join modified words back into a sentence\n",
    "        modified_text.append(''.join(modified_sentence).strip())\n",
    "    \n",
    "    final_text_parts = []\n",
    "\n",
    "    for sentence in modified_text:\n",
    "        # Randomly choose to add one or two new lines after each sentence\n",
    "        if random.random() < 0.5:\n",
    "            final_text_parts.append(sentence + '.\\n')  # One new line with higher probability\n",
    "        elif random.random() < 0.3:\n",
    "            final_text_parts.append(sentence + '.\\n\\n')  # Two new lines with lower probability\n",
    "        else:\n",
    "            final_text_parts.append(sentence + '. ')\n",
    "            \n",
    "    # Join the modified sentences into final text\n",
    "    final_text = ''.join(final_text_parts).strip()\n",
    "\n",
    "    return final_text[:-1] # removes last . \n",
    "\n",
    "# Example usage\n",
    "random.seed(42)\n",
    "input_text = \"This is a test sentence. Here is another one. This should add unnecessary whitespace.\"\n",
    "output_text = add_whitespace(input_text)\n",
    "print(output_text)\n"
   ]
  },
  {
   "cell_type": "code",
   "execution_count": 3,
   "id": "3651a7e5",
   "metadata": {
    "execution": {
     "iopub.execute_input": "2024-05-21T11:02:01.119918Z",
     "iopub.status.busy": "2024-05-21T11:02:01.118831Z",
     "iopub.status.idle": "2024-05-21T11:02:01.127693Z",
     "shell.execute_reply": "2024-05-21T11:02:01.126411Z"
    },
    "papermill": {
     "duration": 0.015057,
     "end_time": "2024-05-21T11:02:01.129816",
     "exception": false,
     "start_time": "2024-05-21T11:02:01.114759",
     "status": "completed"
    },
    "tags": []
   },
   "outputs": [
    {
     "name": "stdout",
     "output_type": "stream",
     "text": [
      "Text with unnecessary whitespace:\n",
      "This is a   test   sentence.\n",
      "Here is another one.\n",
      "\n",
      "This should   add unnecessary  whitespace.\n",
      "\n",
      "Cleaned text:\n",
      "This is a test sentence. Here is another one. This should add unnecessary whitespace.\n"
     ]
    }
   ],
   "source": [
    "import re\n",
    "\n",
    "def remove_whitespace(text):\n",
    "    # Step 1: Replace multiple spaces and tabs with a single space\n",
    "    text = re.sub(r'[ \\t]+', ' ', text)\n",
    "    \n",
    "    # Step 2: Replace multiple new lines with a single new line\n",
    "    text = re.sub(r'\\n+', '\\n', text)\n",
    "    \n",
    "    # Step 3: Split sentences by period followed by newline or space\n",
    "    sentences = re.split(r'\\. ?\\n*', text)\n",
    "    \n",
    "    # Step 4: Strip leading/trailing whitespace from each sentence and reassemble\n",
    "    sentences = [sentence.strip() for sentence in sentences if sentence]\n",
    "    cleaned_text = '. '.join(sentences) + '.'\n",
    "    \n",
    "    return cleaned_text\n",
    "\n",
    "# Example usage\n",
    "random.seed(42)\n",
    "input_text = \"This is a test sentence.\\nHere is another one. This should add unnecessary whitespace.\"\n",
    "output_text = add_whitespace(input_text)\n",
    "print(\"Text with unnecessary whitespace:\")\n",
    "print(output_text)\n",
    "print(\"\\nCleaned text:\")\n",
    "cleaned_text = remove_whitespace(output_text)\n",
    "print(cleaned_text)\n"
   ]
  },
  {
   "cell_type": "code",
   "execution_count": 4,
   "id": "9f88119b",
   "metadata": {
    "execution": {
     "iopub.execute_input": "2024-05-21T11:02:01.137572Z",
     "iopub.status.busy": "2024-05-21T11:02:01.136835Z",
     "iopub.status.idle": "2024-05-21T11:02:01.461778Z",
     "shell.execute_reply": "2024-05-21T11:02:01.460289Z"
    },
    "papermill": {
     "duration": 0.331867,
     "end_time": "2024-05-21T11:02:01.464617",
     "exception": false,
     "start_time": "2024-05-21T11:02:01.132750",
     "status": "completed"
    },
    "tags": []
   },
   "outputs": [
    {
     "name": "stderr",
     "output_type": "stream",
     "text": [
      "100%|██████████| 1000/1000 [00:00<00:00, 6391.16it/s]\n",
      "100%|██████████| 1000/1000 [00:00<00:00, 41111.76it/s]\n"
     ]
    },
    {
     "name": "stdout",
     "output_type": "stream",
     "text": [
      "Processing complete! Merged data saved to merged_data.csv\n"
     ]
    }
   ],
   "source": [
    "# Read data from CSV\n",
    "original_data = pd.read_csv(\"/kaggle/input/watermarked-and-unwatermarked-text-truncated/data_trunk.csv\")\n",
    "\n",
    "# Filter for watermarked and unwatermarked samples\n",
    "watermarked_data = original_data[original_data[\"label\"] == \"watermarked\"][[\"Generated Text\"]]\n",
    "unwatermarked_data = original_data[original_data[\"label\"] == \"unwatermarked\"][[\"Generated Text\"]]\n",
    "\n",
    "# Initialize empty lists to store modified and cleaned text\n",
    "modified_text = []\n",
    "cleaned_text = []\n",
    "\n",
    "# Loop through the watermarked data using tqdm for progress bar\n",
    "for text in tqdm(watermarked_data[\"Generated Text\"].tolist()):\n",
    "    modified = add_whitespace(text)\n",
    "    cleaned = remove_whitespace(modified)\n",
    "    \n",
    "    modified_text.append(modified)\n",
    "    cleaned_text.append(cleaned)\n",
    "\n",
    "# Create a DataFrame for watermarked samples\n",
    "watermarked_df = pd.DataFrame({\n",
    "    \"Original Text\": watermarked_data[\"Generated Text\"],\n",
    "    \"Modified Text\": modified_text,\n",
    "    \"Cleaned Text\": cleaned_text,\n",
    "    \"label\": \"watermarked\"\n",
    "})\n",
    "\n",
    "# Initialize empty lists to store modified and cleaned text for unwatermarked samples\n",
    "modified_text = []\n",
    "cleaned_text = []\n",
    "\n",
    "# Loop through the unwatermarked data using tqdm for progress bar\n",
    "for text in tqdm(unwatermarked_data[\"Generated Text\"].tolist()):\n",
    "    cleaned = remove_whitespace(text)\n",
    "\n",
    "    modified_text.append(text)  # Original text remains the same for unwatermarked samples\n",
    "    cleaned_text.append(cleaned)\n",
    "\n",
    "# Create a DataFrame for unwatermarked samples\n",
    "unwatermarked_df = pd.DataFrame({\n",
    "    \"Original Text\": unwatermarked_data[\"Generated Text\"],\n",
    "    \"Modified Text\": modified_text,\n",
    "    \"Cleaned Text\": cleaned_text,\n",
    "    \"label\": \"unwatermarked\"\n",
    "})\n",
    "\n",
    "# Merge the watermarked and unwatermarked DataFrames\n",
    "merged_df = pd.concat([watermarked_df, unwatermarked_df], ignore_index=True)\n",
    "\n",
    "# Save merged dataframe as CSV file\n",
    "merged_df.to_csv(\"merged_data.csv\", index=False)\n",
    "\n",
    "print(\"Processing complete! Merged data saved to merged_data.csv\")"
   ]
  },
  {
   "cell_type": "code",
   "execution_count": 5,
   "id": "05f3a43b",
   "metadata": {
    "execution": {
     "iopub.execute_input": "2024-05-21T11:02:01.473863Z",
     "iopub.status.busy": "2024-05-21T11:02:01.473431Z",
     "iopub.status.idle": "2024-05-21T11:02:01.485430Z",
     "shell.execute_reply": "2024-05-21T11:02:01.484246Z"
    },
    "papermill": {
     "duration": 0.019553,
     "end_time": "2024-05-21T11:02:01.487824",
     "exception": false,
     "start_time": "2024-05-21T11:02:01.468271",
     "status": "completed"
    },
    "tags": []
   },
   "outputs": [
    {
     "name": "stdout",
     "output_type": "stream",
     "text": [
      "                                         Original Text  \\\n",
      "568  The public will get daily updates about corona...   \n",
      "475  Most butchers have their own customers to whom...   \n",
      "960  The laboratory will test the quality levels of...   \n",
      "595  Leaders are responsible for maintaining peace ...   \n",
      "680  People should take caution before borrowing mo...   \n",
      "\n",
      "                                         Modified Text  \\\n",
      "568  The public will   get daily updates   about co...   \n",
      "475  Most   butchers have  their\\town  customers  t...   \n",
      "960  The   laboratory   will test  the  quality   l...   \n",
      "595  Leaders are responsible  for   maintaining  pe...   \n",
      "680  People  should  take   caution before borrowin...   \n",
      "\n",
      "                                          Cleaned Text        label  \n",
      "568  The public will get daily updates about corona...  watermarked  \n",
      "475  Most butchers have their own customers to whom...  watermarked  \n",
      "960  The laboratory will test the quality levels of...  watermarked  \n",
      "595  Leaders are responsible for maintaining peace ...  watermarked  \n",
      "680  People should take caution before borrowing mo...  watermarked  \n"
     ]
    }
   ],
   "source": [
    "print(merged_df.sample(n=5))"
   ]
  }
 ],
 "metadata": {
  "kaggle": {
   "accelerator": "none",
   "dataSources": [
    {
     "datasetId": 4779182,
     "sourceId": 8094561,
     "sourceType": "datasetVersion"
    }
   ],
   "dockerImageVersionId": 30698,
   "isGpuEnabled": false,
   "isInternetEnabled": true,
   "language": "python",
   "sourceType": "notebook"
  },
  "kernelspec": {
   "display_name": "Python 3",
   "language": "python",
   "name": "python3"
  },
  "language_info": {
   "codemirror_mode": {
    "name": "ipython",
    "version": 3
   },
   "file_extension": ".py",
   "mimetype": "text/x-python",
   "name": "python",
   "nbconvert_exporter": "python",
   "pygments_lexer": "ipython3",
   "version": "3.10.13"
  },
  "papermill": {
   "default_parameters": {},
   "duration": 4.616128,
   "end_time": "2024-05-21T11:02:02.012285",
   "environment_variables": {},
   "exception": null,
   "input_path": "__notebook__.ipynb",
   "output_path": "__notebook__.ipynb",
   "parameters": {},
   "start_time": "2024-05-21T11:01:57.396157",
   "version": "2.5.0"
  }
 },
 "nbformat": 4,
 "nbformat_minor": 5
}
