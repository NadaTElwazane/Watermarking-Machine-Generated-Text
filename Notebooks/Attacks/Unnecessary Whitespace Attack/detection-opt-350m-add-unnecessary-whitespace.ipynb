{
 "cells": [
  {
   "cell_type": "code",
   "execution_count": 1,
   "id": "9faee1b6",
   "metadata": {
    "_cell_guid": "b1076dfc-b9ad-4769-8c92-a6c4dae69d19",
    "_uuid": "8f2839f25d086af736a60e9eeb907d3b93b6e0e5",
    "execution": {
     "iopub.execute_input": "2024-05-21T11:34:55.704365Z",
     "iopub.status.busy": "2024-05-21T11:34:55.703663Z",
     "iopub.status.idle": "2024-05-21T11:34:56.486563Z",
     "shell.execute_reply": "2024-05-21T11:34:56.485452Z"
    },
    "papermill": {
     "duration": 0.791189,
     "end_time": "2024-05-21T11:34:56.488647",
     "exception": false,
     "start_time": "2024-05-21T11:34:55.697458",
     "status": "completed"
    },
    "tags": []
   },
   "outputs": [
    {
     "name": "stdout",
     "output_type": "stream",
     "text": [
      "/kaggle/input/spelling-mistakes-dataset/mispelled_text.csv\n",
      "/kaggle/input/zero-width/attacked_text.csv\n",
      "/kaggle/input/bidi-reordered-dataset/bidi_reordered_attacked.csv\n",
      "/kaggle/input/watermarked-and-unwatermarked-text-truncated/data_trunk.csv\n",
      "/kaggle/input/spellcheck-watermarked/corrected_text.csv\n",
      "/kaggle/input/unnecessary-whitespace-dataset/merged_data.csv\n"
     ]
    }
   ],
   "source": [
    "# This Python 3 environment comes with many helpful analytics libraries installed\n",
    "# It is defined by the kaggle/python Docker image: https://github.com/kaggle/docker-python\n",
    "# For example, here's several helpful packages to load\n",
    "\n",
    "import numpy as np # linear algebra\n",
    "import pandas as pd # data processing, CSV file I/O (e.g. pd.read_csv)\n",
    "\n",
    "# Input data files are available in the read-only \"../input/\" directory\n",
    "# For example, running this (by clicking run or pressing Shift+Enter) will list all files under the input directory\n",
    "\n",
    "import os\n",
    "for dirname, _, filenames in os.walk('/kaggle/input'):\n",
    "    for filename in filenames:\n",
    "        print(os.path.join(dirname, filename))\n",
    "\n",
    "# You can write up to 20GB to the current directory (/kaggle/working/) that gets preserved as output when you create a version using \"Save & Run All\" \n",
    "# You can also write temporary files to /kaggle/temp/, but they won't be saved outside of the current session"
   ]
  },
  {
   "cell_type": "code",
   "execution_count": 2,
   "id": "5ffef494",
   "metadata": {
    "execution": {
     "iopub.execute_input": "2024-05-21T11:34:56.498429Z",
     "iopub.status.busy": "2024-05-21T11:34:56.498027Z",
     "iopub.status.idle": "2024-05-21T11:34:58.070174Z",
     "shell.execute_reply": "2024-05-21T11:34:58.068945Z"
    },
    "papermill": {
     "duration": 1.579778,
     "end_time": "2024-05-21T11:34:58.072741",
     "exception": false,
     "start_time": "2024-05-21T11:34:56.492963",
     "status": "completed"
    },
    "tags": []
   },
   "outputs": [
    {
     "name": "stdout",
     "output_type": "stream",
     "text": [
      "Cloning into 'watermark'...\r\n",
      "remote: Enumerating objects: 80, done.\u001b[K\r\n",
      "remote: Counting objects: 100% (80/80), done.\u001b[K\r\n",
      "remote: Compressing objects: 100% (65/65), done.\u001b[K\r\n",
      "remote: Total 80 (delta 25), reused 67 (delta 14), pack-reused 0\u001b[K\r\n",
      "Unpacking objects: 100% (80/80), 264.81 KiB | 5.52 MiB/s, done.\r\n"
     ]
    }
   ],
   "source": [
    "!git clone https://github.com/jthickstun/watermark.git"
   ]
  },
  {
   "cell_type": "code",
   "execution_count": 3,
   "id": "b6b7bc01",
   "metadata": {
    "execution": {
     "iopub.execute_input": "2024-05-21T11:34:58.084079Z",
     "iopub.status.busy": "2024-05-21T11:34:58.083407Z",
     "iopub.status.idle": "2024-05-21T11:34:58.088102Z",
     "shell.execute_reply": "2024-05-21T11:34:58.087139Z"
    },
    "papermill": {
     "duration": 0.012826,
     "end_time": "2024-05-21T11:34:58.090342",
     "exception": false,
     "start_time": "2024-05-21T11:34:58.077516",
     "status": "completed"
    },
    "tags": []
   },
   "outputs": [],
   "source": [
    "import os\n",
    "os.chdir(\"/kaggle/working/watermark/demo\")"
   ]
  },
  {
   "cell_type": "code",
   "execution_count": 4,
   "id": "594263e1",
   "metadata": {
    "execution": {
     "iopub.execute_input": "2024-05-21T11:34:58.100909Z",
     "iopub.status.busy": "2024-05-21T11:34:58.100235Z",
     "iopub.status.idle": "2024-05-21T11:35:11.777717Z",
     "shell.execute_reply": "2024-05-21T11:35:11.776896Z"
    },
    "papermill": {
     "duration": 13.685081,
     "end_time": "2024-05-21T11:35:11.780072",
     "exception": false,
     "start_time": "2024-05-21T11:34:58.094991",
     "status": "completed"
    },
    "tags": []
   },
   "outputs": [
    {
     "name": "stderr",
     "output_type": "stream",
     "text": [
      "In file included from /opt/conda/lib/python3.10/site-packages/numpy/core/include/numpy/ndarraytypes.h:1929,\n",
      "                 from /opt/conda/lib/python3.10/site-packages/numpy/core/include/numpy/ndarrayobject.h:12,\n",
      "                 from /opt/conda/lib/python3.10/site-packages/numpy/core/include/numpy/arrayobject.h:5,\n",
      "                 from /root/.pyxbld/temp.linux-x86_64-cpython-310/kaggle/working/watermark/demo/levenshtein.c:1205:\n",
      "/opt/conda/lib/python3.10/site-packages/numpy/core/include/numpy/npy_1_7_deprecated_api.h:17:2: warning: #warning \"Using deprecated NumPy API, disable it with \" \"#define NPY_NO_DEPRECATED_API NPY_1_7_API_VERSION\" [-Wcpp]\n",
      "   17 | #warning \"Using deprecated NumPy API, disable it with \" \\\n",
      "      |  ^~~~~~~\n"
     ]
    }
   ],
   "source": [
    "import os, sys, argparse, time\n",
    "\n",
    "import numpy as np\n",
    "from transformers import AutoTokenizer\n",
    "from mersenne import mersenne_rng\n",
    "\n",
    "import pyximport\n",
    "pyximport.install(reload_support=True, language_level=sys.version_info[0],\n",
    "                  setup_args={'include_dirs':np.get_include()})\n",
    "from levenshtein import levenshtein\n",
    "\n",
    "def permutation_test(tokens,key,n,k,vocab_size,n_runs=100):\n",
    "    rng = mersenne_rng(key)\n",
    "    xi = np.array([rng.rand() for _ in range(n*vocab_size)], dtype=np.float32).reshape(n,vocab_size)\n",
    "    test_result = detect(tokens,n,k,xi)\n",
    "\n",
    "    p_val = 0\n",
    "    for run in range(n_runs):\n",
    "        xi_alternative = np.random.rand(n, vocab_size).astype(np.float32)\n",
    "        null_result = detect(tokens,n,k,xi_alternative)\n",
    "\n",
    "        # assuming lower test values indicate presence of watermark\n",
    "        p_val += null_result <= test_result\n",
    "\n",
    "    return (p_val+1.0)/(n_runs+1.0)\n",
    "\n",
    "\n",
    "def detect(tokens,n,k,xi,gamma=0.0):\n",
    "    m = len(tokens)\n",
    "    n = len(xi)\n",
    "\n",
    "    A = np.empty((m-(k-1),n))\n",
    "    for i in range(m-(k-1)):\n",
    "        for j in range(n):\n",
    "            A[i][j] = levenshtein(tokens[i:i+k],xi[(j+np.arange(k))%n],gamma)\n",
    "\n",
    "    return np.min(A)\n"
   ]
  },
  {
   "cell_type": "code",
   "execution_count": 5,
   "id": "f8b43be9",
   "metadata": {
    "execution": {
     "iopub.execute_input": "2024-05-21T11:35:11.790619Z",
     "iopub.status.busy": "2024-05-21T11:35:11.790166Z",
     "iopub.status.idle": "2024-05-21T16:54:27.837412Z",
     "shell.execute_reply": "2024-05-21T16:54:27.836451Z"
    },
    "papermill": {
     "duration": 19156.065665,
     "end_time": "2024-05-21T16:54:27.850405",
     "exception": false,
     "start_time": "2024-05-21T11:35:11.784740",
     "status": "completed"
    },
    "tags": []
   },
   "outputs": [
    {
     "data": {
      "application/vnd.jupyter.widget-view+json": {
       "model_id": "8a20b7cbf502402fb4c8b2c4a1927bd6",
       "version_major": 2,
       "version_minor": 0
      },
      "text/plain": [
       "tokenizer_config.json:   0%|          | 0.00/685 [00:00<?, ?B/s]"
      ]
     },
     "metadata": {},
     "output_type": "display_data"
    },
    {
     "data": {
      "application/vnd.jupyter.widget-view+json": {
       "model_id": "6465c4d0fc0d4522bd7119432ef18b24",
       "version_major": 2,
       "version_minor": 0
      },
      "text/plain": [
       "config.json:   0%|          | 0.00/644 [00:00<?, ?B/s]"
      ]
     },
     "metadata": {},
     "output_type": "display_data"
    },
    {
     "data": {
      "application/vnd.jupyter.widget-view+json": {
       "model_id": "f63e1c1bb58d471cb5a2b56e88dac16f",
       "version_major": 2,
       "version_minor": 0
      },
      "text/plain": [
       "vocab.json:   0%|          | 0.00/899k [00:00<?, ?B/s]"
      ]
     },
     "metadata": {},
     "output_type": "display_data"
    },
    {
     "data": {
      "application/vnd.jupyter.widget-view+json": {
       "model_id": "43b41fb197254f16a305c542d1659ab8",
       "version_major": 2,
       "version_minor": 0
      },
      "text/plain": [
       "merges.txt:   0%|          | 0.00/456k [00:00<?, ?B/s]"
      ]
     },
     "metadata": {},
     "output_type": "display_data"
    },
    {
     "data": {
      "application/vnd.jupyter.widget-view+json": {
       "model_id": "0be5e00478b94190b060328672802cba",
       "version_major": 2,
       "version_minor": 0
      },
      "text/plain": [
       "special_tokens_map.json:   0%|          | 0.00/441 [00:00<?, ?B/s]"
      ]
     },
     "metadata": {},
     "output_type": "display_data"
    },
    {
     "name": "stderr",
     "output_type": "stream",
     "text": [
      "  1%|          | 1/140 [01:16<2:57:46, 76.74s/it]"
     ]
    },
    {
     "name": "stdout",
     "output_type": "stream",
     "text": [
      "Row 1 - p-value: 0.3564, label: unwatermarked, actual_label unwatermarked (elapsed time: 76.71s)\n"
     ]
    },
    {
     "name": "stderr",
     "output_type": "stream",
     "text": [
      "  1%|▏         | 2/140 [04:50<6:01:38, 157.23s/it]"
     ]
    },
    {
     "name": "stdout",
     "output_type": "stream",
     "text": [
      "Row 2 - p-value: 0.0099, label: watermarked, actual_label watermarked (elapsed time: 213.58s)\n"
     ]
    },
    {
     "name": "stderr",
     "output_type": "stream",
     "text": [
      "  2%|▏         | 3/140 [08:13<6:46:51, 178.19s/it]"
     ]
    },
    {
     "name": "stdout",
     "output_type": "stream",
     "text": [
      "Row 3 - p-value: 0.0099, label: watermarked, actual_label watermarked (elapsed time: 203.11s)\n"
     ]
    },
    {
     "name": "stderr",
     "output_type": "stream",
     "text": [
      "  3%|▎         | 4/140 [09:12<4:57:01, 131.04s/it]"
     ]
    },
    {
     "name": "stdout",
     "output_type": "stream",
     "text": [
      "Row 4 - p-value: 0.1287, label: unwatermarked, actual_label unwatermarked (elapsed time: 58.76s)\n"
     ]
    },
    {
     "name": "stderr",
     "output_type": "stream",
     "text": [
      "  4%|▎         | 5/140 [12:28<5:47:47, 154.57s/it]"
     ]
    },
    {
     "name": "stdout",
     "output_type": "stream",
     "text": [
      "Row 5 - p-value: 0.0099, label: watermarked, actual_label watermarked (elapsed time: 196.30s)\n"
     ]
    },
    {
     "name": "stderr",
     "output_type": "stream",
     "text": [
      "  4%|▍         | 6/140 [15:50<6:21:24, 170.78s/it]"
     ]
    },
    {
     "name": "stdout",
     "output_type": "stream",
     "text": [
      "Row 6 - p-value: 0.0099, label: watermarked, actual_label watermarked (elapsed time: 202.23s)\n"
     ]
    },
    {
     "name": "stderr",
     "output_type": "stream",
     "text": [
      "  5%|▌         | 7/140 [17:06<5:10:01, 139.86s/it]"
     ]
    },
    {
     "name": "stdout",
     "output_type": "stream",
     "text": [
      "Row 7 - p-value: 0.4257, label: unwatermarked, actual_label unwatermarked (elapsed time: 76.20s)\n"
     ]
    },
    {
     "name": "stderr",
     "output_type": "stream",
     "text": [
      "  6%|▌         | 8/140 [20:01<5:31:49, 150.83s/it]"
     ]
    },
    {
     "name": "stdout",
     "output_type": "stream",
     "text": [
      "Row 8 - p-value: 0.0099, label: watermarked, actual_label watermarked (elapsed time: 174.32s)\n"
     ]
    },
    {
     "name": "stderr",
     "output_type": "stream",
     "text": [
      "  6%|▋         | 9/140 [21:18<4:38:50, 127.71s/it]"
     ]
    },
    {
     "name": "stdout",
     "output_type": "stream",
     "text": [
      "Row 9 - p-value: 0.9208, label: unwatermarked, actual_label unwatermarked (elapsed time: 76.88s)\n"
     ]
    },
    {
     "name": "stderr",
     "output_type": "stream",
     "text": [
      "  7%|▋         | 10/140 [22:35<4:02:42, 112.02s/it]"
     ]
    },
    {
     "name": "stdout",
     "output_type": "stream",
     "text": [
      "Row 10 - p-value: 0.8713, label: unwatermarked, actual_label unwatermarked (elapsed time: 76.88s)\n"
     ]
    },
    {
     "name": "stderr",
     "output_type": "stream",
     "text": [
      "  8%|▊         | 11/140 [23:52<3:38:00, 101.40s/it]"
     ]
    },
    {
     "name": "stdout",
     "output_type": "stream",
     "text": [
      "Row 11 - p-value: 0.4059, label: unwatermarked, actual_label unwatermarked (elapsed time: 77.32s)\n"
     ]
    },
    {
     "name": "stderr",
     "output_type": "stream",
     "text": [
      "  9%|▊         | 12/140 [28:11<5:18:27, 149.27s/it]"
     ]
    },
    {
     "name": "stdout",
     "output_type": "stream",
     "text": [
      "Row 12 - p-value: 0.0099, label: watermarked, actual_label watermarked (elapsed time: 258.77s)\n"
     ]
    },
    {
     "name": "stderr",
     "output_type": "stream",
     "text": [
      "  9%|▉         | 13/140 [31:18<5:40:36, 160.92s/it]"
     ]
    },
    {
     "name": "stdout",
     "output_type": "stream",
     "text": [
      "Row 13 - p-value: 0.0099, label: watermarked, actual_label watermarked (elapsed time: 187.71s)\n"
     ]
    },
    {
     "name": "stderr",
     "output_type": "stream",
     "text": [
      " 10%|█         | 14/140 [34:38<6:02:42, 172.71s/it]"
     ]
    },
    {
     "name": "stdout",
     "output_type": "stream",
     "text": [
      "Row 14 - p-value: 0.0099, label: watermarked, actual_label watermarked (elapsed time: 199.97s)\n"
     ]
    },
    {
     "name": "stderr",
     "output_type": "stream",
     "text": [
      " 11%|█         | 15/140 [35:55<4:59:21, 143.69s/it]"
     ]
    },
    {
     "name": "stdout",
     "output_type": "stream",
     "text": [
      "Row 15 - p-value: 1.0000, label: unwatermarked, actual_label unwatermarked (elapsed time: 76.42s)\n"
     ]
    },
    {
     "name": "stderr",
     "output_type": "stream",
     "text": [
      " 11%|█▏        | 16/140 [37:11<4:15:17, 123.53s/it]"
     ]
    },
    {
     "name": "stdout",
     "output_type": "stream",
     "text": [
      "Row 16 - p-value: 0.0693, label: unwatermarked, actual_label unwatermarked (elapsed time: 76.70s)\n"
     ]
    },
    {
     "name": "stderr",
     "output_type": "stream",
     "text": [
      " 12%|█▏        | 17/140 [40:52<5:12:57, 152.67s/it]"
     ]
    },
    {
     "name": "stdout",
     "output_type": "stream",
     "text": [
      "Row 17 - p-value: 0.0099, label: watermarked, actual_label watermarked (elapsed time: 220.43s)\n"
     ]
    },
    {
     "name": "stderr",
     "output_type": "stream",
     "text": [
      " 13%|█▎        | 18/140 [44:29<5:49:34, 171.93s/it]"
     ]
    },
    {
     "name": "stdout",
     "output_type": "stream",
     "text": [
      "Row 18 - p-value: 0.0099, label: watermarked, actual_label watermarked (elapsed time: 216.76s)\n"
     ]
    },
    {
     "name": "stderr",
     "output_type": "stream",
     "text": [
      " 14%|█▎        | 19/140 [45:45<4:48:57, 143.28s/it]"
     ]
    },
    {
     "name": "stdout",
     "output_type": "stream",
     "text": [
      "Row 19 - p-value: 0.8119, label: unwatermarked, actual_label unwatermarked (elapsed time: 76.56s)\n"
     ]
    },
    {
     "name": "stderr",
     "output_type": "stream",
     "text": [
      " 14%|█▍        | 20/140 [47:02<4:06:35, 123.29s/it]"
     ]
    },
    {
     "name": "stdout",
     "output_type": "stream",
     "text": [
      "Row 20 - p-value: 0.9802, label: unwatermarked, actual_label unwatermarked (elapsed time: 76.70s)\n"
     ]
    },
    {
     "name": "stderr",
     "output_type": "stream",
     "text": [
      " 15%|█▌        | 21/140 [49:50<4:31:15, 136.77s/it]"
     ]
    },
    {
     "name": "stdout",
     "output_type": "stream",
     "text": [
      "Row 21 - p-value: 0.0099, label: watermarked, actual_label watermarked (elapsed time: 168.18s)\n"
     ]
    },
    {
     "name": "stderr",
     "output_type": "stream",
     "text": [
      " 16%|█▌        | 22/140 [51:07<3:53:25, 118.69s/it]"
     ]
    },
    {
     "name": "stdout",
     "output_type": "stream",
     "text": [
      "Row 22 - p-value: 0.1584, label: unwatermarked, actual_label unwatermarked (elapsed time: 76.52s)\n"
     ]
    },
    {
     "name": "stderr",
     "output_type": "stream",
     "text": [
      " 16%|█▋        | 23/140 [54:27<4:39:07, 143.14s/it]"
     ]
    },
    {
     "name": "stdout",
     "output_type": "stream",
     "text": [
      "Row 23 - p-value: 0.0099, label: watermarked, actual_label watermarked (elapsed time: 200.16s)\n"
     ]
    },
    {
     "name": "stderr",
     "output_type": "stream",
     "text": [
      " 17%|█▋        | 24/140 [57:18<4:53:10, 151.64s/it]"
     ]
    },
    {
     "name": "stdout",
     "output_type": "stream",
     "text": [
      "Row 24 - p-value: 0.0099, label: watermarked, actual_label watermarked (elapsed time: 171.49s)\n"
     ]
    },
    {
     "name": "stderr",
     "output_type": "stream",
     "text": [
      " 18%|█▊        | 25/140 [58:35<4:07:37, 129.20s/it]"
     ]
    },
    {
     "name": "stdout",
     "output_type": "stream",
     "text": [
      "Row 25 - p-value: 0.1287, label: unwatermarked, actual_label unwatermarked (elapsed time: 76.84s)\n"
     ]
    },
    {
     "name": "stderr",
     "output_type": "stream",
     "text": [
      " 19%|█▊        | 26/140 [1:03:20<5:34:06, 175.84s/it]"
     ]
    },
    {
     "name": "stdout",
     "output_type": "stream",
     "text": [
      "Row 26 - p-value: 0.0099, label: watermarked, actual_label watermarked (elapsed time: 284.66s)\n"
     ]
    },
    {
     "name": "stderr",
     "output_type": "stream",
     "text": [
      " 19%|█▉        | 27/140 [1:04:37<4:35:20, 146.20s/it]"
     ]
    },
    {
     "name": "stdout",
     "output_type": "stream",
     "text": [
      "Row 27 - p-value: 0.4752, label: unwatermarked, actual_label unwatermarked (elapsed time: 77.03s)\n"
     ]
    },
    {
     "name": "stderr",
     "output_type": "stream",
     "text": [
      " 20%|██        | 28/140 [1:05:42<3:47:43, 122.00s/it]"
     ]
    },
    {
     "name": "stdout",
     "output_type": "stream",
     "text": [
      "Row 28 - p-value: 0.5248, label: unwatermarked, actual_label unwatermarked (elapsed time: 65.52s)\n"
     ]
    },
    {
     "name": "stderr",
     "output_type": "stream",
     "text": [
      " 21%|██        | 29/140 [1:08:41<4:17:00, 138.92s/it]"
     ]
    },
    {
     "name": "stdout",
     "output_type": "stream",
     "text": [
      "Row 29 - p-value: 0.0099, label: watermarked, actual_label watermarked (elapsed time: 178.42s)\n"
     ]
    },
    {
     "name": "stderr",
     "output_type": "stream",
     "text": [
      " 21%|██▏       | 30/140 [1:12:05<4:50:24, 158.40s/it]"
     ]
    },
    {
     "name": "stdout",
     "output_type": "stream",
     "text": [
      "Row 30 - p-value: 0.0099, label: watermarked, actual_label watermarked (elapsed time: 203.85s)\n"
     ]
    },
    {
     "name": "stderr",
     "output_type": "stream",
     "text": [
      " 22%|██▏       | 31/140 [1:14:50<4:51:29, 160.45s/it]"
     ]
    },
    {
     "name": "stdout",
     "output_type": "stream",
     "text": [
      "Row 31 - p-value: 0.0099, label: watermarked, actual_label watermarked (elapsed time: 165.23s)\n"
     ]
    },
    {
     "name": "stderr",
     "output_type": "stream",
     "text": [
      " 23%|██▎       | 32/140 [1:16:07<4:03:57, 135.53s/it]"
     ]
    },
    {
     "name": "stdout",
     "output_type": "stream",
     "text": [
      "Row 32 - p-value: 0.7921, label: unwatermarked, actual_label unwatermarked (elapsed time: 77.39s)\n"
     ]
    },
    {
     "name": "stderr",
     "output_type": "stream",
     "text": [
      " 24%|██▎       | 33/140 [1:17:24<3:30:04, 117.80s/it]"
     ]
    },
    {
     "name": "stdout",
     "output_type": "stream",
     "text": [
      "Row 33 - p-value: 0.0495, label: unwatermarked, actual_label unwatermarked (elapsed time: 76.43s)\n"
     ]
    },
    {
     "name": "stderr",
     "output_type": "stream",
     "text": [
      " 24%|██▍       | 34/140 [1:18:41<3:06:31, 105.58s/it]"
     ]
    },
    {
     "name": "stdout",
     "output_type": "stream",
     "text": [
      "Row 34 - p-value: 0.1980, label: unwatermarked, actual_label unwatermarked (elapsed time: 77.06s)\n"
     ]
    },
    {
     "name": "stderr",
     "output_type": "stream",
     "text": [
      " 25%|██▌       | 35/140 [1:21:51<3:49:30, 131.15s/it]"
     ]
    },
    {
     "name": "stdout",
     "output_type": "stream",
     "text": [
      "Row 35 - p-value: 0.0099, label: watermarked, actual_label watermarked (elapsed time: 190.80s)\n"
     ]
    },
    {
     "name": "stderr",
     "output_type": "stream",
     "text": [
      " 26%|██▌       | 36/140 [1:24:56<4:14:51, 147.03s/it]"
     ]
    },
    {
     "name": "stdout",
     "output_type": "stream",
     "text": [
      "Row 36 - p-value: 0.0099, label: watermarked, actual_label watermarked (elapsed time: 184.10s)\n"
     ]
    },
    {
     "name": "stderr",
     "output_type": "stream",
     "text": [
      " 26%|██▋       | 37/140 [1:26:10<3:35:12, 125.36s/it]"
     ]
    },
    {
     "name": "stdout",
     "output_type": "stream",
     "text": [
      "Row 37 - p-value: 0.6634, label: unwatermarked, actual_label unwatermarked (elapsed time: 74.78s)\n"
     ]
    },
    {
     "name": "stderr",
     "output_type": "stream",
     "text": [
      " 27%|██▋       | 38/140 [1:27:27<3:08:18, 110.77s/it]"
     ]
    },
    {
     "name": "stdout",
     "output_type": "stream",
     "text": [
      "Row 38 - p-value: 0.1089, label: unwatermarked, actual_label unwatermarked (elapsed time: 76.72s)\n"
     ]
    },
    {
     "name": "stderr",
     "output_type": "stream",
     "text": [
      " 28%|██▊       | 39/140 [1:30:51<3:53:27, 138.69s/it]"
     ]
    },
    {
     "name": "stdout",
     "output_type": "stream",
     "text": [
      "Row 39 - p-value: 0.0198, label: unwatermarked, actual_label watermarked (elapsed time: 203.84s)\n"
     ]
    },
    {
     "name": "stderr",
     "output_type": "stream",
     "text": [
      " 29%|██▊       | 40/140 [1:34:25<4:28:39, 161.19s/it]"
     ]
    },
    {
     "name": "stdout",
     "output_type": "stream",
     "text": [
      "Row 40 - p-value: 0.0099, label: watermarked, actual_label watermarked (elapsed time: 213.70s)\n"
     ]
    },
    {
     "name": "stderr",
     "output_type": "stream",
     "text": [
      " 29%|██▉       | 41/140 [1:38:00<4:52:39, 177.37s/it]"
     ]
    },
    {
     "name": "stdout",
     "output_type": "stream",
     "text": [
      "Row 41 - p-value: 0.0099, label: watermarked, actual_label watermarked (elapsed time: 215.10s)\n"
     ]
    },
    {
     "name": "stderr",
     "output_type": "stream",
     "text": [
      " 30%|███       | 42/140 [1:40:52<4:47:16, 175.89s/it]"
     ]
    },
    {
     "name": "stdout",
     "output_type": "stream",
     "text": [
      "Row 42 - p-value: 0.0099, label: watermarked, actual_label watermarked (elapsed time: 172.43s)\n"
     ]
    },
    {
     "name": "stderr",
     "output_type": "stream",
     "text": [
      " 31%|███       | 43/140 [1:43:57<4:48:49, 178.66s/it]"
     ]
    },
    {
     "name": "stdout",
     "output_type": "stream",
     "text": [
      "Row 43 - p-value: 0.0198, label: unwatermarked, actual_label watermarked (elapsed time: 185.12s)\n"
     ]
    },
    {
     "name": "stderr",
     "output_type": "stream",
     "text": [
      " 31%|███▏      | 44/140 [1:46:47<4:41:35, 175.99s/it]"
     ]
    },
    {
     "name": "stdout",
     "output_type": "stream",
     "text": [
      "Row 44 - p-value: 0.0099, label: watermarked, actual_label watermarked (elapsed time: 169.78s)\n"
     ]
    },
    {
     "name": "stderr",
     "output_type": "stream",
     "text": [
      " 32%|███▏      | 45/140 [1:48:04<3:51:40, 146.32s/it]"
     ]
    },
    {
     "name": "stdout",
     "output_type": "stream",
     "text": [
      "Row 45 - p-value: 0.3564, label: unwatermarked, actual_label unwatermarked (elapsed time: 77.09s)\n"
     ]
    },
    {
     "name": "stderr",
     "output_type": "stream",
     "text": [
      " 33%|███▎      | 46/140 [1:49:23<3:17:35, 126.12s/it]"
     ]
    },
    {
     "name": "stdout",
     "output_type": "stream",
     "text": [
      "Row 46 - p-value: 0.6634, label: unwatermarked, actual_label unwatermarked (elapsed time: 78.98s)\n"
     ]
    },
    {
     "name": "stderr",
     "output_type": "stream",
     "text": [
      " 34%|███▎      | 47/140 [1:50:40<2:52:25, 111.24s/it]"
     ]
    },
    {
     "name": "stdout",
     "output_type": "stream",
     "text": [
      "Row 47 - p-value: 0.0693, label: unwatermarked, actual_label unwatermarked (elapsed time: 76.50s)\n"
     ]
    },
    {
     "name": "stderr",
     "output_type": "stream",
     "text": [
      " 34%|███▍      | 48/140 [1:53:55<3:29:25, 136.58s/it]"
     ]
    },
    {
     "name": "stdout",
     "output_type": "stream",
     "text": [
      "Row 48 - p-value: 0.0099, label: watermarked, actual_label watermarked (elapsed time: 195.72s)\n"
     ]
    },
    {
     "name": "stderr",
     "output_type": "stream",
     "text": [
      " 35%|███▌      | 49/140 [1:57:22<3:59:04, 157.63s/it]"
     ]
    },
    {
     "name": "stdout",
     "output_type": "stream",
     "text": [
      "Row 49 - p-value: 0.0099, label: watermarked, actual_label watermarked (elapsed time: 206.73s)\n"
     ]
    },
    {
     "name": "stderr",
     "output_type": "stream",
     "text": [
      " 36%|███▌      | 50/140 [2:00:24<4:07:10, 164.78s/it]"
     ]
    },
    {
     "name": "stdout",
     "output_type": "stream",
     "text": [
      "Row 50 - p-value: 0.0198, label: unwatermarked, actual_label watermarked (elapsed time: 181.47s)\n"
     ]
    },
    {
     "name": "stderr",
     "output_type": "stream",
     "text": [
      " 36%|███▋      | 51/140 [2:01:27<3:19:19, 134.38s/it]"
     ]
    },
    {
     "name": "stdout",
     "output_type": "stream",
     "text": [
      "Row 51 - p-value: 0.5941, label: unwatermarked, actual_label unwatermarked (elapsed time: 63.44s)\n"
     ]
    },
    {
     "name": "stderr",
     "output_type": "stream",
     "text": [
      " 37%|███▋      | 52/140 [2:04:48<3:46:18, 154.30s/it]"
     ]
    },
    {
     "name": "stdout",
     "output_type": "stream",
     "text": [
      "Row 52 - p-value: 0.0099, label: watermarked, actual_label watermarked (elapsed time: 200.79s)\n"
     ]
    },
    {
     "name": "stderr",
     "output_type": "stream",
     "text": [
      " 38%|███▊      | 53/140 [2:08:01<4:00:36, 165.93s/it]"
     ]
    },
    {
     "name": "stdout",
     "output_type": "stream",
     "text": [
      "Row 53 - p-value: 0.0099, label: watermarked, actual_label watermarked (elapsed time: 193.06s)\n"
     ]
    },
    {
     "name": "stderr",
     "output_type": "stream",
     "text": [
      " 39%|███▊      | 54/140 [2:09:18<3:19:32, 139.21s/it]"
     ]
    },
    {
     "name": "stdout",
     "output_type": "stream",
     "text": [
      "Row 54 - p-value: 0.8713, label: unwatermarked, actual_label unwatermarked (elapsed time: 76.86s)\n"
     ]
    },
    {
     "name": "stderr",
     "output_type": "stream",
     "text": [
      " 39%|███▉      | 55/140 [2:10:35<2:50:55, 120.65s/it]"
     ]
    },
    {
     "name": "stdout",
     "output_type": "stream",
     "text": [
      "Row 55 - p-value: 0.4059, label: unwatermarked, actual_label unwatermarked (elapsed time: 77.34s)\n"
     ]
    },
    {
     "name": "stderr",
     "output_type": "stream",
     "text": [
      " 40%|████      | 56/140 [2:11:52<2:30:30, 107.50s/it]"
     ]
    },
    {
     "name": "stdout",
     "output_type": "stream",
     "text": [
      "Row 56 - p-value: 0.4950, label: unwatermarked, actual_label unwatermarked (elapsed time: 76.81s)\n"
     ]
    },
    {
     "name": "stderr",
     "output_type": "stream",
     "text": [
      " 41%|████      | 57/140 [2:15:08<3:05:15, 133.92s/it]"
     ]
    },
    {
     "name": "stdout",
     "output_type": "stream",
     "text": [
      "Row 57 - p-value: 0.0099, label: watermarked, actual_label watermarked (elapsed time: 195.57s)\n"
     ]
    },
    {
     "name": "stderr",
     "output_type": "stream",
     "text": [
      " 41%|████▏     | 58/140 [2:18:29<3:30:47, 154.24s/it]"
     ]
    },
    {
     "name": "stdout",
     "output_type": "stream",
     "text": [
      "Row 58 - p-value: 0.0099, label: watermarked, actual_label watermarked (elapsed time: 201.63s)\n"
     ]
    },
    {
     "name": "stderr",
     "output_type": "stream",
     "text": [
      " 42%|████▏     | 59/140 [2:19:46<2:56:45, 130.93s/it]"
     ]
    },
    {
     "name": "stdout",
     "output_type": "stream",
     "text": [
      "Row 59 - p-value: 0.7921, label: unwatermarked, actual_label unwatermarked (elapsed time: 76.56s)\n"
     ]
    },
    {
     "name": "stderr",
     "output_type": "stream",
     "text": [
      " 43%|████▎     | 60/140 [2:21:03<2:33:07, 114.84s/it]"
     ]
    },
    {
     "name": "stdout",
     "output_type": "stream",
     "text": [
      "Row 60 - p-value: 0.7723, label: unwatermarked, actual_label unwatermarked (elapsed time: 77.28s)\n"
     ]
    },
    {
     "name": "stderr",
     "output_type": "stream",
     "text": [
      " 44%|████▎     | 61/140 [2:24:31<3:08:07, 142.88s/it]"
     ]
    },
    {
     "name": "stdout",
     "output_type": "stream",
     "text": [
      "Row 61 - p-value: 0.0099, label: watermarked, actual_label watermarked (elapsed time: 208.31s)\n"
     ]
    },
    {
     "name": "stderr",
     "output_type": "stream",
     "text": [
      " 44%|████▍     | 62/140 [2:28:08<3:34:37, 165.10s/it]"
     ]
    },
    {
     "name": "stdout",
     "output_type": "stream",
     "text": [
      "Row 62 - p-value: 0.0099, label: watermarked, actual_label watermarked (elapsed time: 216.95s)\n"
     ]
    },
    {
     "name": "stderr",
     "output_type": "stream",
     "text": [
      " 45%|████▌     | 63/140 [2:29:25<2:58:01, 138.72s/it]"
     ]
    },
    {
     "name": "stdout",
     "output_type": "stream",
     "text": [
      "Row 63 - p-value: 0.7822, label: unwatermarked, actual_label unwatermarked (elapsed time: 77.18s)\n"
     ]
    },
    {
     "name": "stderr",
     "output_type": "stream",
     "text": [
      " 46%|████▌     | 64/140 [2:32:38<3:16:10, 154.88s/it]"
     ]
    },
    {
     "name": "stdout",
     "output_type": "stream",
     "text": [
      "Row 64 - p-value: 0.0099, label: watermarked, actual_label watermarked (elapsed time: 192.57s)\n"
     ]
    },
    {
     "name": "stderr",
     "output_type": "stream",
     "text": [
      " 46%|████▋     | 65/140 [2:33:55<2:44:29, 131.59s/it]"
     ]
    },
    {
     "name": "stdout",
     "output_type": "stream",
     "text": [
      "Row 65 - p-value: 0.3366, label: unwatermarked, actual_label unwatermarked (elapsed time: 77.24s)\n"
     ]
    },
    {
     "name": "stderr",
     "output_type": "stream",
     "text": [
      " 47%|████▋     | 66/140 [2:37:02<3:02:47, 148.21s/it]"
     ]
    },
    {
     "name": "stdout",
     "output_type": "stream",
     "text": [
      "Row 66 - p-value: 0.0099, label: watermarked, actual_label watermarked (elapsed time: 186.98s)\n"
     ]
    },
    {
     "name": "stderr",
     "output_type": "stream",
     "text": [
      " 48%|████▊     | 67/140 [2:40:09<3:14:14, 159.65s/it]"
     ]
    },
    {
     "name": "stdout",
     "output_type": "stream",
     "text": [
      "Row 67 - p-value: 0.0099, label: watermarked, actual_label watermarked (elapsed time: 186.34s)\n"
     ]
    },
    {
     "name": "stderr",
     "output_type": "stream",
     "text": [
      " 49%|████▊     | 68/140 [2:41:25<2:41:36, 134.68s/it]"
     ]
    },
    {
     "name": "stdout",
     "output_type": "stream",
     "text": [
      "Row 68 - p-value: 0.5446, label: unwatermarked, actual_label unwatermarked (elapsed time: 76.40s)\n"
     ]
    },
    {
     "name": "stderr",
     "output_type": "stream",
     "text": [
      " 49%|████▉     | 69/140 [2:44:13<2:51:15, 144.73s/it]"
     ]
    },
    {
     "name": "stdout",
     "output_type": "stream",
     "text": [
      "Row 69 - p-value: 0.0198, label: unwatermarked, actual_label watermarked (elapsed time: 168.18s)\n"
     ]
    },
    {
     "name": "stderr",
     "output_type": "stream",
     "text": [
      " 50%|█████     | 70/140 [2:46:52<2:53:56, 149.09s/it]"
     ]
    },
    {
     "name": "stdout",
     "output_type": "stream",
     "text": [
      "Row 70 - p-value: 0.0099, label: watermarked, actual_label watermarked (elapsed time: 159.26s)\n"
     ]
    },
    {
     "name": "stderr",
     "output_type": "stream",
     "text": [
      " 51%|█████     | 71/140 [2:48:09<2:26:23, 127.29s/it]"
     ]
    },
    {
     "name": "stdout",
     "output_type": "stream",
     "text": [
      "Row 71 - p-value: 0.6436, label: unwatermarked, actual_label unwatermarked (elapsed time: 76.43s)\n"
     ]
    },
    {
     "name": "stderr",
     "output_type": "stream",
     "text": [
      " 51%|█████▏    | 72/140 [2:49:25<2:07:00, 112.06s/it]"
     ]
    },
    {
     "name": "stdout",
     "output_type": "stream",
     "text": [
      "Row 72 - p-value: 0.6238, label: unwatermarked, actual_label unwatermarked (elapsed time: 76.53s)\n"
     ]
    },
    {
     "name": "stderr",
     "output_type": "stream",
     "text": [
      " 52%|█████▏    | 73/140 [2:52:29<2:29:07, 133.55s/it]"
     ]
    },
    {
     "name": "stdout",
     "output_type": "stream",
     "text": [
      "Row 73 - p-value: 0.0099, label: watermarked, actual_label watermarked (elapsed time: 183.67s)\n"
     ]
    },
    {
     "name": "stderr",
     "output_type": "stream",
     "text": [
      " 53%|█████▎    | 74/140 [2:55:33<2:43:40, 148.80s/it]"
     ]
    },
    {
     "name": "stdout",
     "output_type": "stream",
     "text": [
      "Row 74 - p-value: 0.0099, label: watermarked, actual_label watermarked (elapsed time: 184.40s)\n"
     ]
    },
    {
     "name": "stderr",
     "output_type": "stream",
     "text": [
      " 54%|█████▎    | 75/140 [2:58:28<2:49:25, 156.39s/it]"
     ]
    },
    {
     "name": "stdout",
     "output_type": "stream",
     "text": [
      "Row 75 - p-value: 0.0099, label: watermarked, actual_label watermarked (elapsed time: 174.10s)\n"
     ]
    },
    {
     "name": "stderr",
     "output_type": "stream",
     "text": [
      " 54%|█████▍    | 76/140 [2:59:44<2:21:15, 132.43s/it]"
     ]
    },
    {
     "name": "stdout",
     "output_type": "stream",
     "text": [
      "Row 76 - p-value: 0.8119, label: unwatermarked, actual_label unwatermarked (elapsed time: 76.53s)\n"
     ]
    },
    {
     "name": "stderr",
     "output_type": "stream",
     "text": [
      " 55%|█████▌    | 77/140 [3:02:24<2:27:44, 140.71s/it]"
     ]
    },
    {
     "name": "stdout",
     "output_type": "stream",
     "text": [
      "Row 77 - p-value: 0.0099, label: watermarked, actual_label watermarked (elapsed time: 160.03s)\n"
     ]
    },
    {
     "name": "stderr",
     "output_type": "stream",
     "text": [
      " 56%|█████▌    | 78/140 [3:05:40<2:42:24, 157.18s/it]"
     ]
    },
    {
     "name": "stdout",
     "output_type": "stream",
     "text": [
      "Row 78 - p-value: 0.0099, label: watermarked, actual_label watermarked (elapsed time: 195.59s)\n"
     ]
    },
    {
     "name": "stderr",
     "output_type": "stream",
     "text": [
      " 56%|█████▋    | 79/140 [3:06:56<2:15:03, 132.84s/it]"
     ]
    },
    {
     "name": "stdout",
     "output_type": "stream",
     "text": [
      "Row 79 - p-value: 0.1980, label: unwatermarked, actual_label unwatermarked (elapsed time: 76.06s)\n"
     ]
    },
    {
     "name": "stderr",
     "output_type": "stream",
     "text": [
      " 57%|█████▋    | 80/140 [3:08:12<1:56:00, 116.00s/it]"
     ]
    },
    {
     "name": "stdout",
     "output_type": "stream",
     "text": [
      "Row 80 - p-value: 0.1683, label: unwatermarked, actual_label unwatermarked (elapsed time: 76.71s)\n"
     ]
    },
    {
     "name": "stderr",
     "output_type": "stream",
     "text": [
      " 58%|█████▊    | 81/140 [3:09:29<1:42:20, 104.07s/it]"
     ]
    },
    {
     "name": "stdout",
     "output_type": "stream",
     "text": [
      "Row 81 - p-value: 0.1683, label: unwatermarked, actual_label unwatermarked (elapsed time: 76.23s)\n"
     ]
    },
    {
     "name": "stderr",
     "output_type": "stream",
     "text": [
      " 59%|█████▊    | 82/140 [3:10:45<1:32:35, 95.79s/it] "
     ]
    },
    {
     "name": "stdout",
     "output_type": "stream",
     "text": [
      "Row 82 - p-value: 0.0198, label: unwatermarked, actual_label unwatermarked (elapsed time: 76.45s)\n"
     ]
    },
    {
     "name": "stderr",
     "output_type": "stream",
     "text": [
      " 59%|█████▉    | 83/140 [3:13:53<1:57:18, 123.48s/it]"
     ]
    },
    {
     "name": "stdout",
     "output_type": "stream",
     "text": [
      "Row 83 - p-value: 0.0099, label: watermarked, actual_label watermarked (elapsed time: 188.10s)\n"
     ]
    },
    {
     "name": "stderr",
     "output_type": "stream",
     "text": [
      " 60%|██████    | 84/140 [3:17:13<2:16:41, 146.46s/it]"
     ]
    },
    {
     "name": "stdout",
     "output_type": "stream",
     "text": [
      "Row 84 - p-value: 0.0099, label: watermarked, actual_label watermarked (elapsed time: 200.08s)\n"
     ]
    },
    {
     "name": "stderr",
     "output_type": "stream",
     "text": [
      " 61%|██████    | 85/140 [3:18:30<1:55:06, 125.57s/it]"
     ]
    },
    {
     "name": "stdout",
     "output_type": "stream",
     "text": [
      "Row 85 - p-value: 0.1386, label: unwatermarked, actual_label unwatermarked (elapsed time: 76.81s)\n"
     ]
    },
    {
     "name": "stderr",
     "output_type": "stream",
     "text": [
      " 61%|██████▏   | 86/140 [3:21:14<2:03:24, 137.11s/it]"
     ]
    },
    {
     "name": "stdout",
     "output_type": "stream",
     "text": [
      "Row 86 - p-value: 0.0099, label: watermarked, actual_label watermarked (elapsed time: 164.05s)\n"
     ]
    },
    {
     "name": "stderr",
     "output_type": "stream",
     "text": [
      " 62%|██████▏   | 87/140 [3:24:54<2:23:06, 162.01s/it]"
     ]
    },
    {
     "name": "stdout",
     "output_type": "stream",
     "text": [
      "Row 87 - p-value: 0.0099, label: watermarked, actual_label watermarked (elapsed time: 220.09s)\n"
     ]
    },
    {
     "name": "stderr",
     "output_type": "stream",
     "text": [
      " 63%|██████▎   | 88/140 [3:28:28<2:33:48, 177.48s/it]"
     ]
    },
    {
     "name": "stdout",
     "output_type": "stream",
     "text": [
      "Row 88 - p-value: 0.0099, label: watermarked, actual_label watermarked (elapsed time: 213.56s)\n"
     ]
    },
    {
     "name": "stderr",
     "output_type": "stream",
     "text": [
      " 64%|██████▎   | 89/140 [3:29:46<2:05:37, 147.80s/it]"
     ]
    },
    {
     "name": "stdout",
     "output_type": "stream",
     "text": [
      "Row 89 - p-value: 0.9703, label: unwatermarked, actual_label unwatermarked (elapsed time: 78.54s)\n"
     ]
    },
    {
     "name": "stderr",
     "output_type": "stream",
     "text": [
      " 64%|██████▍   | 90/140 [3:31:05<1:45:45, 126.91s/it]"
     ]
    },
    {
     "name": "stdout",
     "output_type": "stream",
     "text": [
      "Row 90 - p-value: 0.0990, label: unwatermarked, actual_label unwatermarked (elapsed time: 78.17s)\n"
     ]
    },
    {
     "name": "stderr",
     "output_type": "stream",
     "text": [
      " 65%|██████▌   | 91/140 [3:34:42<2:05:55, 154.18s/it]"
     ]
    },
    {
     "name": "stdout",
     "output_type": "stream",
     "text": [
      "Row 91 - p-value: 0.0099, label: watermarked, actual_label watermarked (elapsed time: 217.82s)\n"
     ]
    },
    {
     "name": "stderr",
     "output_type": "stream",
     "text": [
      " 66%|██████▌   | 92/140 [3:36:00<1:44:53, 131.12s/it]"
     ]
    },
    {
     "name": "stdout",
     "output_type": "stream",
     "text": [
      "Row 92 - p-value: 0.2079, label: unwatermarked, actual_label unwatermarked (elapsed time: 77.29s)\n"
     ]
    },
    {
     "name": "stderr",
     "output_type": "stream",
     "text": [
      " 66%|██████▋   | 93/140 [3:37:17<1:30:02, 114.95s/it]"
     ]
    },
    {
     "name": "stdout",
     "output_type": "stream",
     "text": [
      "Row 93 - p-value: 0.8119, label: unwatermarked, actual_label unwatermarked (elapsed time: 77.23s)\n"
     ]
    },
    {
     "name": "stderr",
     "output_type": "stream",
     "text": [
      " 67%|██████▋   | 94/140 [3:38:32<1:18:56, 102.96s/it]"
     ]
    },
    {
     "name": "stdout",
     "output_type": "stream",
     "text": [
      "Row 94 - p-value: 0.3465, label: unwatermarked, actual_label unwatermarked (elapsed time: 74.98s)\n"
     ]
    },
    {
     "name": "stderr",
     "output_type": "stream",
     "text": [
      " 68%|██████▊   | 95/140 [3:43:08<1:56:05, 154.80s/it]"
     ]
    },
    {
     "name": "stdout",
     "output_type": "stream",
     "text": [
      "Row 95 - p-value: 0.0099, label: watermarked, actual_label watermarked (elapsed time: 275.75s)\n"
     ]
    },
    {
     "name": "stderr",
     "output_type": "stream",
     "text": [
      " 69%|██████▊   | 96/140 [3:46:03<1:58:01, 160.93s/it]"
     ]
    },
    {
     "name": "stdout",
     "output_type": "stream",
     "text": [
      "Row 96 - p-value: 0.0099, label: watermarked, actual_label watermarked (elapsed time: 175.24s)\n"
     ]
    },
    {
     "name": "stderr",
     "output_type": "stream",
     "text": [
      " 69%|██████▉   | 97/140 [3:47:10<1:35:12, 132.84s/it]"
     ]
    },
    {
     "name": "stdout",
     "output_type": "stream",
     "text": [
      "Row 97 - p-value: 0.8218, label: unwatermarked, actual_label unwatermarked (elapsed time: 67.28s)\n"
     ]
    },
    {
     "name": "stderr",
     "output_type": "stream",
     "text": [
      " 70%|███████   | 98/140 [3:50:36<1:48:19, 154.75s/it]"
     ]
    },
    {
     "name": "stdout",
     "output_type": "stream",
     "text": [
      "Row 98 - p-value: 0.0099, label: watermarked, actual_label watermarked (elapsed time: 205.88s)\n"
     ]
    },
    {
     "name": "stderr",
     "output_type": "stream",
     "text": [
      " 71%|███████   | 99/140 [3:51:55<1:30:06, 131.88s/it]"
     ]
    },
    {
     "name": "stdout",
     "output_type": "stream",
     "text": [
      "Row 99 - p-value: 0.2673, label: unwatermarked, actual_label unwatermarked (elapsed time: 78.50s)\n"
     ]
    },
    {
     "name": "stderr",
     "output_type": "stream",
     "text": [
      " 71%|███████▏  | 100/140 [3:54:34<1:33:30, 140.27s/it]"
     ]
    },
    {
     "name": "stdout",
     "output_type": "stream",
     "text": [
      "Row 100 - p-value: 0.0099, label: watermarked, actual_label watermarked (elapsed time: 159.85s)\n"
     ]
    },
    {
     "name": "stderr",
     "output_type": "stream",
     "text": [
      " 72%|███████▏  | 101/140 [3:55:51<1:18:50, 121.28s/it]"
     ]
    },
    {
     "name": "stdout",
     "output_type": "stream",
     "text": [
      "Row 101 - p-value: 0.8713, label: unwatermarked, actual_label unwatermarked (elapsed time: 76.98s)\n"
     ]
    },
    {
     "name": "stderr",
     "output_type": "stream",
     "text": [
      " 73%|███████▎  | 102/140 [3:57:10<1:08:39, 108.40s/it]"
     ]
    },
    {
     "name": "stdout",
     "output_type": "stream",
     "text": [
      "Row 102 - p-value: 0.6436, label: unwatermarked, actual_label unwatermarked (elapsed time: 78.33s)\n"
     ]
    },
    {
     "name": "stderr",
     "output_type": "stream",
     "text": [
      " 74%|███████▎  | 103/140 [3:58:27<1:01:04, 99.04s/it] "
     ]
    },
    {
     "name": "stdout",
     "output_type": "stream",
     "text": [
      "Row 103 - p-value: 0.9208, label: unwatermarked, actual_label unwatermarked (elapsed time: 77.21s)\n"
     ]
    },
    {
     "name": "stderr",
     "output_type": "stream",
     "text": [
      " 74%|███████▍  | 104/140 [3:59:44<55:29, 92.50s/it]  "
     ]
    },
    {
     "name": "stdout",
     "output_type": "stream",
     "text": [
      "Row 104 - p-value: 0.4851, label: unwatermarked, actual_label unwatermarked (elapsed time: 77.23s)\n"
     ]
    },
    {
     "name": "stderr",
     "output_type": "stream",
     "text": [
      " 75%|███████▌  | 105/140 [4:02:40<1:08:28, 117.39s/it]"
     ]
    },
    {
     "name": "stdout",
     "output_type": "stream",
     "text": [
      "Row 105 - p-value: 0.0099, label: watermarked, actual_label watermarked (elapsed time: 175.48s)\n"
     ]
    },
    {
     "name": "stderr",
     "output_type": "stream",
     "text": [
      " 76%|███████▌  | 106/140 [4:06:05<1:21:23, 143.62s/it]"
     ]
    },
    {
     "name": "stdout",
     "output_type": "stream",
     "text": [
      "Row 106 - p-value: 0.0099, label: watermarked, actual_label watermarked (elapsed time: 204.82s)\n"
     ]
    },
    {
     "name": "stderr",
     "output_type": "stream",
     "text": [
      " 76%|███████▋  | 107/140 [4:07:22<1:08:01, 123.69s/it]"
     ]
    },
    {
     "name": "stdout",
     "output_type": "stream",
     "text": [
      "Row 107 - p-value: 0.5149, label: unwatermarked, actual_label unwatermarked (elapsed time: 77.17s)\n"
     ]
    },
    {
     "name": "stderr",
     "output_type": "stream",
     "text": [
      " 77%|███████▋  | 108/140 [4:10:48<1:19:06, 148.33s/it]"
     ]
    },
    {
     "name": "stdout",
     "output_type": "stream",
     "text": [
      "Row 108 - p-value: 0.0099, label: watermarked, actual_label watermarked (elapsed time: 205.81s)\n"
     ]
    },
    {
     "name": "stderr",
     "output_type": "stream",
     "text": [
      " 78%|███████▊  | 109/140 [4:12:06<1:05:44, 127.23s/it]"
     ]
    },
    {
     "name": "stdout",
     "output_type": "stream",
     "text": [
      "Row 109 - p-value: 0.9307, label: unwatermarked, actual_label unwatermarked (elapsed time: 78.02s)\n"
     ]
    },
    {
     "name": "stderr",
     "output_type": "stream",
     "text": [
      " 79%|███████▊  | 110/140 [4:13:22<56:04, 112.15s/it]  "
     ]
    },
    {
     "name": "stdout",
     "output_type": "stream",
     "text": [
      "Row 110 - p-value: 0.2277, label: unwatermarked, actual_label unwatermarked (elapsed time: 76.94s)\n"
     ]
    },
    {
     "name": "stderr",
     "output_type": "stream",
     "text": [
      " 79%|███████▉  | 111/140 [4:14:40<49:09, 101.71s/it]"
     ]
    },
    {
     "name": "stdout",
     "output_type": "stream",
     "text": [
      "Row 111 - p-value: 0.2178, label: unwatermarked, actual_label unwatermarked (elapsed time: 77.34s)\n"
     ]
    },
    {
     "name": "stderr",
     "output_type": "stream",
     "text": [
      " 80%|████████  | 112/140 [4:19:05<1:10:17, 150.61s/it]"
     ]
    },
    {
     "name": "stdout",
     "output_type": "stream",
     "text": [
      "Row 112 - p-value: 0.0099, label: watermarked, actual_label watermarked (elapsed time: 264.72s)\n"
     ]
    },
    {
     "name": "stderr",
     "output_type": "stream",
     "text": [
      " 81%|████████  | 113/140 [4:20:17<57:14, 127.19s/it]  "
     ]
    },
    {
     "name": "stdout",
     "output_type": "stream",
     "text": [
      "Row 113 - p-value: 0.6139, label: unwatermarked, actual_label unwatermarked (elapsed time: 72.54s)\n"
     ]
    },
    {
     "name": "stderr",
     "output_type": "stream",
     "text": [
      " 81%|████████▏ | 114/140 [4:23:32<1:03:58, 147.63s/it]"
     ]
    },
    {
     "name": "stdout",
     "output_type": "stream",
     "text": [
      "Row 114 - p-value: 0.0099, label: watermarked, actual_label watermarked (elapsed time: 195.32s)\n"
     ]
    },
    {
     "name": "stderr",
     "output_type": "stream",
     "text": [
      " 82%|████████▏ | 115/140 [4:24:50<52:43, 126.53s/it]  "
     ]
    },
    {
     "name": "stdout",
     "output_type": "stream",
     "text": [
      "Row 115 - p-value: 0.2376, label: unwatermarked, actual_label unwatermarked (elapsed time: 77.30s)\n"
     ]
    },
    {
     "name": "stderr",
     "output_type": "stream",
     "text": [
      " 83%|████████▎ | 116/140 [4:27:48<56:47, 141.98s/it]"
     ]
    },
    {
     "name": "stdout",
     "output_type": "stream",
     "text": [
      "Row 116 - p-value: 0.0099, label: watermarked, actual_label watermarked (elapsed time: 178.02s)\n"
     ]
    },
    {
     "name": "stderr",
     "output_type": "stream",
     "text": [
      " 84%|████████▎ | 117/140 [4:31:02<1:00:25, 157.65s/it]"
     ]
    },
    {
     "name": "stdout",
     "output_type": "stream",
     "text": [
      "Row 117 - p-value: 0.0099, label: watermarked, actual_label watermarked (elapsed time: 194.21s)\n"
     ]
    },
    {
     "name": "stderr",
     "output_type": "stream",
     "text": [
      " 84%|████████▍ | 118/140 [4:32:19<48:54, 133.39s/it]  "
     ]
    },
    {
     "name": "stdout",
     "output_type": "stream",
     "text": [
      "Row 118 - p-value: 0.0396, label: unwatermarked, actual_label unwatermarked (elapsed time: 76.80s)\n"
     ]
    },
    {
     "name": "stderr",
     "output_type": "stream",
     "text": [
      " 85%|████████▌ | 119/140 [4:36:42<1:00:20, 172.41s/it]"
     ]
    },
    {
     "name": "stdout",
     "output_type": "stream",
     "text": [
      "Row 119 - p-value: 0.0099, label: watermarked, actual_label watermarked (elapsed time: 263.45s)\n"
     ]
    },
    {
     "name": "stderr",
     "output_type": "stream",
     "text": [
      " 86%|████████▌ | 120/140 [4:40:07<1:00:39, 181.99s/it]"
     ]
    },
    {
     "name": "stdout",
     "output_type": "stream",
     "text": [
      "Row 120 - p-value: 0.0099, label: watermarked, actual_label watermarked (elapsed time: 204.35s)\n"
     ]
    },
    {
     "name": "stderr",
     "output_type": "stream",
     "text": [
      " 86%|████████▋ | 121/140 [4:41:23<47:36, 150.34s/it]  "
     ]
    },
    {
     "name": "stdout",
     "output_type": "stream",
     "text": [
      "Row 121 - p-value: 0.9406, label: unwatermarked, actual_label unwatermarked (elapsed time: 76.49s)\n"
     ]
    },
    {
     "name": "stderr",
     "output_type": "stream",
     "text": [
      " 87%|████████▋ | 122/140 [4:42:40<38:29, 128.33s/it]"
     ]
    },
    {
     "name": "stdout",
     "output_type": "stream",
     "text": [
      "Row 122 - p-value: 0.1089, label: unwatermarked, actual_label unwatermarked (elapsed time: 76.97s)\n"
     ]
    },
    {
     "name": "stderr",
     "output_type": "stream",
     "text": [
      " 88%|████████▊ | 123/140 [4:47:10<48:26, 170.97s/it]"
     ]
    },
    {
     "name": "stdout",
     "output_type": "stream",
     "text": [
      "Row 123 - p-value: 0.0099, label: watermarked, actual_label watermarked (elapsed time: 270.45s)\n"
     ]
    },
    {
     "name": "stderr",
     "output_type": "stream",
     "text": [
      " 89%|████████▊ | 124/140 [4:50:33<48:08, 180.55s/it]"
     ]
    },
    {
     "name": "stdout",
     "output_type": "stream",
     "text": [
      "Row 124 - p-value: 0.0099, label: watermarked, actual_label watermarked (elapsed time: 202.91s)\n"
     ]
    },
    {
     "name": "stderr",
     "output_type": "stream",
     "text": [
      " 89%|████████▉ | 125/140 [4:53:40<45:37, 182.47s/it]"
     ]
    },
    {
     "name": "stdout",
     "output_type": "stream",
     "text": [
      "Row 125 - p-value: 0.0099, label: watermarked, actual_label watermarked (elapsed time: 186.95s)\n"
     ]
    },
    {
     "name": "stderr",
     "output_type": "stream",
     "text": [
      " 90%|█████████ | 126/140 [4:56:46<42:47, 183.42s/it]"
     ]
    },
    {
     "name": "stdout",
     "output_type": "stream",
     "text": [
      "Row 126 - p-value: 0.0099, label: watermarked, actual_label watermarked (elapsed time: 185.62s)\n"
     ]
    },
    {
     "name": "stderr",
     "output_type": "stream",
     "text": [
      " 91%|█████████ | 127/140 [4:59:38<39:00, 180.06s/it]"
     ]
    },
    {
     "name": "stdout",
     "output_type": "stream",
     "text": [
      "Row 127 - p-value: 0.0099, label: watermarked, actual_label watermarked (elapsed time: 172.24s)\n"
     ]
    },
    {
     "name": "stderr",
     "output_type": "stream",
     "text": [
      " 91%|█████████▏| 128/140 [5:00:55<29:48, 149.04s/it]"
     ]
    },
    {
     "name": "stdout",
     "output_type": "stream",
     "text": [
      "Row 128 - p-value: 0.3861, label: unwatermarked, actual_label unwatermarked (elapsed time: 76.64s)\n"
     ]
    },
    {
     "name": "stderr",
     "output_type": "stream",
     "text": [
      " 92%|█████████▏| 129/140 [5:02:12<23:22, 127.49s/it]"
     ]
    },
    {
     "name": "stdout",
     "output_type": "stream",
     "text": [
      "Row 129 - p-value: 0.1881, label: unwatermarked, actual_label unwatermarked (elapsed time: 77.20s)\n"
     ]
    },
    {
     "name": "stderr",
     "output_type": "stream",
     "text": [
      " 93%|█████████▎| 130/140 [5:03:29<18:43, 112.36s/it]"
     ]
    },
    {
     "name": "stdout",
     "output_type": "stream",
     "text": [
      "Row 130 - p-value: 0.8020, label: unwatermarked, actual_label unwatermarked (elapsed time: 77.08s)\n"
     ]
    },
    {
     "name": "stderr",
     "output_type": "stream",
     "text": [
      " 94%|█████████▎| 131/140 [5:04:46<15:15, 101.75s/it]"
     ]
    },
    {
     "name": "stdout",
     "output_type": "stream",
     "text": [
      "Row 131 - p-value: 0.1089, label: unwatermarked, actual_label unwatermarked (elapsed time: 76.98s)\n"
     ]
    },
    {
     "name": "stderr",
     "output_type": "stream",
     "text": [
      " 94%|█████████▍| 132/140 [5:06:03<12:34, 94.27s/it] "
     ]
    },
    {
     "name": "stdout",
     "output_type": "stream",
     "text": [
      "Row 132 - p-value: 0.7921, label: unwatermarked, actual_label unwatermarked (elapsed time: 76.80s)\n"
     ]
    },
    {
     "name": "stderr",
     "output_type": "stream",
     "text": [
      " 95%|█████████▌| 133/140 [5:07:13<10:08, 86.99s/it]"
     ]
    },
    {
     "name": "stdout",
     "output_type": "stream",
     "text": [
      "Row 133 - p-value: 0.2970, label: unwatermarked, actual_label unwatermarked (elapsed time: 70.01s)\n"
     ]
    },
    {
     "name": "stderr",
     "output_type": "stream",
     "text": [
      " 96%|█████████▌| 134/140 [5:08:29<08:23, 83.84s/it]"
     ]
    },
    {
     "name": "stdout",
     "output_type": "stream",
     "text": [
      "Row 134 - p-value: 0.2079, label: unwatermarked, actual_label unwatermarked (elapsed time: 76.48s)\n"
     ]
    },
    {
     "name": "stderr",
     "output_type": "stream",
     "text": [
      " 96%|█████████▋| 135/140 [5:11:20<09:09, 109.85s/it]"
     ]
    },
    {
     "name": "stdout",
     "output_type": "stream",
     "text": [
      "Row 135 - p-value: 0.0099, label: watermarked, actual_label watermarked (elapsed time: 170.55s)\n"
     ]
    },
    {
     "name": "stderr",
     "output_type": "stream",
     "text": [
      " 97%|█████████▋| 136/140 [5:12:37<06:40, 100.02s/it]"
     ]
    },
    {
     "name": "stdout",
     "output_type": "stream",
     "text": [
      "Row 136 - p-value: 0.9307, label: unwatermarked, actual_label unwatermarked (elapsed time: 77.07s)\n"
     ]
    },
    {
     "name": "stderr",
     "output_type": "stream",
     "text": [
      " 98%|█████████▊| 137/140 [5:13:54<04:39, 93.17s/it] "
     ]
    },
    {
     "name": "stdout",
     "output_type": "stream",
     "text": [
      "Row 137 - p-value: 0.3861, label: unwatermarked, actual_label unwatermarked (elapsed time: 77.18s)\n"
     ]
    },
    {
     "name": "stderr",
     "output_type": "stream",
     "text": [
      " 99%|█████████▊| 138/140 [5:16:47<03:54, 117.16s/it]"
     ]
    },
    {
     "name": "stdout",
     "output_type": "stream",
     "text": [
      "Row 138 - p-value: 0.0099, label: watermarked, actual_label watermarked (elapsed time: 173.15s)\n"
     ]
    },
    {
     "name": "stderr",
     "output_type": "stream",
     "text": [
      " 99%|█████████▉| 139/140 [5:17:56<01:42, 102.50s/it]"
     ]
    },
    {
     "name": "stdout",
     "output_type": "stream",
     "text": [
      "Row 139 - p-value: 0.3861, label: unwatermarked, actual_label unwatermarked (elapsed time: 68.30s)\n"
     ]
    },
    {
     "name": "stderr",
     "output_type": "stream",
     "text": [
      "100%|██████████| 140/140 [5:19:12<00:00, 136.81s/it]"
     ]
    },
    {
     "name": "stdout",
     "output_type": "stream",
     "text": [
      "Row 140 - p-value: 0.0297, label: unwatermarked, actual_label unwatermarked (elapsed time: 76.81s)\n"
     ]
    },
    {
     "name": "stderr",
     "output_type": "stream",
     "text": [
      "\n"
     ]
    }
   ],
   "source": [
    "from tqdm import tqdm\n",
    "import pandas as pd\n",
    "from sklearn.utils import shuffle\n",
    "\n",
    "def main():\n",
    "    # Read data from CSV using pandas\n",
    "    data = pd.read_csv(\"/kaggle/input/unnecessary-whitespace-dataset/merged_data.csv\")\n",
    "\n",
    "    # Read data from CSV\n",
    "    data = pd.read_csv(\"/kaggle/input/unnecessary-whitespace-dataset/merged_data.csv\")\n",
    "\n",
    "    # Sample 100 watermarked and 100 unwatermarked rows\n",
    "    watermarked_sample = data[data['label'] == 'watermarked'].sample(n=70, random_state=42)\n",
    "    unwatermarked_sample = data[data['label'] == 'unwatermarked'].sample(n=70, random_state=42)\n",
    "\n",
    "    # Drop the index for both samples\n",
    "    watermarked_sample.reset_index(drop=True, inplace=True)\n",
    "    unwatermarked_sample.reset_index(drop=True, inplace=True)\n",
    "\n",
    "    # Merge the samples\n",
    "    merged_samples = pd.concat([watermarked_sample, unwatermarked_sample], ignore_index=True)\n",
    "\n",
    "    # Shuffle the merged samples\n",
    "    shuffled_samples = shuffle(merged_samples, random_state=42).reset_index(drop=True)\n",
    "    shuffled_samples.to_csv(\"/kaggle/working/Shuffled_samples.csv\", index=False)\n",
    "#     # Combine filtered data\n",
    "#     split_point1 = int(len(data) / 3)\n",
    "#     split_point2 = split_point1 * 2\n",
    "#     split_point3 = 100\n",
    "#     part1 = shuffled_samples.iloc[:100] # First part\n",
    "#     part2 = shuffled_samples.iloc[35:69]  # Second part\n",
    "#     part3 = shuffled_samples.iloc[69:100]  # Third part (might be slightly bigger)\n",
    "    # Load pre-trained tokenizer (replace with your desired tokenizer)\n",
    "    tokenizer = AutoTokenizer.from_pretrained(\"facebook/opt-350m\")\n",
    "\n",
    "    # Progress bar with tqdm\n",
    "    results = []\n",
    "    for index, row in tqdm(shuffled_samples.iterrows(), total=len(shuffled_samples)):\n",
    "        text = row[\"Modified Text\"] \n",
    "        actual_label = row['label'] \n",
    "\n",
    "        # Tokenize the text\n",
    "        tokens = tokenizer.encode(text, return_tensors='pt', truncation=True, max_length=2048).numpy()[0]\n",
    "\n",
    "        t0 = time.time()\n",
    "        pval = permutation_test(tokens, 42, 256, len(tokens), len(tokenizer))\n",
    "        label = \"watermarked\" if pval <= 0.01 else \"unwatermarked\"\n",
    "        results.append({\"text\": text, \"p-value\": pval, \"label\": label, \"actual_label\": actual_label})\n",
    "        print(f\"Row {index+1} - p-value: {pval:.4f}, label: {label}, actual_label {actual_label} (elapsed time: {time.time()-t0:.2f}s)\")\n",
    "\n",
    "    # Create a pandas DataFrame from the results\n",
    "    df_results = pd.DataFrame(results)\n",
    "#     df_results.head(2)\n",
    "    # Save the DataFrame (optional)\n",
    "    df_results.to_csv(\"permutation_test_results_whitespace.csv\", index=False)\n",
    "if __name__ == '__main__':\n",
    "    main()"
   ]
  },
  {
   "cell_type": "code",
   "execution_count": 6,
   "id": "b047dc47",
   "metadata": {
    "execution": {
     "iopub.execute_input": "2024-05-21T16:54:27.905598Z",
     "iopub.status.busy": "2024-05-21T16:54:27.904946Z",
     "iopub.status.idle": "2024-05-21T16:54:28.184073Z",
     "shell.execute_reply": "2024-05-21T16:54:28.183300Z"
    },
    "papermill": {
     "duration": 0.309459,
     "end_time": "2024-05-21T16:54:28.186411",
     "exception": false,
     "start_time": "2024-05-21T16:54:27.876952",
     "status": "completed"
    },
    "tags": []
   },
   "outputs": [],
   "source": [
    "# This Python 3 environment comes with many helpful analytics libraries installed\n",
    "# It is defined by the kaggle/python Docker image: https://github.com/kaggle/docker-python\n",
    "# For example, here's several helpful packages to load\n",
    "\n",
    "import numpy as np # linear algebra\n",
    "import pandas as pd # data processing, CSV file I/O (e.g. pd.read_csv)\n",
    "from sklearn.metrics import confusion_matrix\n",
    "import seaborn as sns\n",
    "import matplotlib.pyplot as plt\n",
    "from sklearn.metrics import accuracy_score\n",
    "from sklearn.metrics import f1_score\n",
    "from sklearn.metrics import precision_score\n",
    "from sklearn.metrics import recall_score\n",
    "# Input data files are available in the read-only \"../input/\" directory\n",
    "# For example, running this (by clicking run or pressing Shift+Enter) will list all files under the input directory\n",
    "\n",
    "import os\n",
    "\n",
    "# You can write up to 20GB to the current directory (/kaggle/working/) that gets preserved as output when you create a version using \"Save & Run All\" \n",
    "# You can also write temporary files to /kaggle/temp/, but they won't be saved outside of the current session"
   ]
  },
  {
   "cell_type": "code",
   "execution_count": 7,
   "id": "25bd52fd",
   "metadata": {
    "execution": {
     "iopub.execute_input": "2024-05-21T16:54:28.242000Z",
     "iopub.status.busy": "2024-05-21T16:54:28.241700Z",
     "iopub.status.idle": "2024-05-21T16:54:28.671168Z",
     "shell.execute_reply": "2024-05-21T16:54:28.670238Z"
    },
    "papermill": {
     "duration": 0.460069,
     "end_time": "2024-05-21T16:54:28.673893",
     "exception": false,
     "start_time": "2024-05-21T16:54:28.213824",
     "status": "completed"
    },
    "tags": []
   },
   "outputs": [
    {
     "data": {
      "image/png": "[encoded data removed]",
      "text/plain": [
       "<Figure size 800x600 with 2 Axes>"
      ]
     },
     "metadata": {},
     "output_type": "display_data"
    },
    {
     "name": "stdout",
     "output_type": "stream",
     "text": [
      "\n",
      "Classification Metrics:\n",
      "Accuracy: 97.1429\n",
      "F1-score: 97.1405\n",
      "Precision: 97.2973\n",
      "Recall: 97.1429\n"
     ]
    }
   ],
   "source": [
    "def evaluate_classification(file_path):\n",
    "\n",
    "    # Evaluates a classification model using various metrics, reading data from a CSV file and creates a confusion matrix heatmap using seaborn.\n",
    "\n",
    "    # Read the CSV file assuming 'label' and 'actual_label' columns are present\n",
    "    df = pd.read_csv(file_path)\n",
    "\n",
    "    # Extract true labels (assuming 'actual_label' column)\n",
    "    y_true = df['actual_label'].tolist()\n",
    "\n",
    "    # Extract predicted labels (assuming 'label' column)\n",
    "    y_pred = df['label'].tolist()\n",
    "\n",
    "    # Create the confusion matrix\n",
    "    cm = confusion_matrix(y_true, y_pred)\n",
    "\n",
    "    # Calculate accuracy\n",
    "    accuracy = accuracy_score(y_true, y_pred)\n",
    "\n",
    "    # Calculate F1-score\n",
    "    f1 = f1_score(y_true, y_pred, average='weighted')\n",
    "\n",
    "    # Calculate precision\n",
    "    precision = precision_score(y_true, y_pred, average='weighted')\n",
    "\n",
    "    # Calculate recall\n",
    "    recall = recall_score(y_true, y_pred, average='weighted')\n",
    "      # Define custom labels for the confusion matrix\n",
    "\n",
    "    # Create a confusion matrix heatmap using seaborn\n",
    "    plt.figure(figsize=(8, 6))\n",
    "    ax = sns.heatmap(cm, annot=True, cmap='Blues', fmt='d',annot_kws={'fontsize': 25})\n",
    "    ax.set_xlabel('Predicted Label')\n",
    "    ax.set_ylabel('True Label')\n",
    "    ax.set_title('Confusion Matrix (Watermarked)')\n",
    "    plt.xticks([0.5, 1.5], ['Predicted Unwatermarked', 'Predicted Watermarked'])\n",
    "    plt.yticks([0.5, 1.5], ['Actual Unwatermarked', 'Actual Watermarked'])    \n",
    "    plt.tight_layout()\n",
    "    plt.show()\n",
    "    return cm, accuracy, f1, precision, recall\n",
    "\n",
    "# Specify the file path (assuming you're using Kaggle)\n",
    "file_path = \"/kaggle/working/watermark/demo/permutation_test_results_whitespace.csv\"\n",
    "\n",
    "# Evaluate the classification\n",
    "cm, accuracy, f1, precision, recall = evaluate_classification(file_path)\n",
    "\n",
    "# Print classification metrics (same as before)\n",
    "print(\"\\nClassification Metrics:\")\n",
    "print(f\"Accuracy: {accuracy * 100:.4f}\")\n",
    "print(f\"F1-score: {f1 * 100:.4f}\")\n",
    "print(f\"Precision: {precision * 100:.4f}\")\n",
    "print(f\"Recall: {recall * 100:.4f}\")\n"
   ]
  },
  {
   "cell_type": "code",
   "execution_count": 8,
   "id": "a437f4bb",
   "metadata": {
    "execution": {
     "iopub.execute_input": "2024-05-21T16:54:28.730186Z",
     "iopub.status.busy": "2024-05-21T16:54:28.729887Z",
     "iopub.status.idle": "2024-05-21T16:54:28.742134Z",
     "shell.execute_reply": "2024-05-21T16:54:28.741299Z"
    },
    "papermill": {
     "duration": 0.042437,
     "end_time": "2024-05-21T16:54:28.744045",
     "exception": false,
     "start_time": "2024-05-21T16:54:28.701608",
     "status": "completed"
    },
    "tags": []
   },
   "outputs": [
    {
     "name": "stdout",
     "output_type": "stream",
     "text": [
      "Average absolute difference for misclassified watermarked images: 0.0802\n"
     ]
    }
   ],
   "source": [
    "def evaluate_misclassifications(file_path):\n",
    "    # Evaluates the average absolute difference between misclassified p-values and the threshold (0.1) for watermarked images.\n",
    "    # Read the CSV file into a Pandas DataFrame\n",
    "    df = pd.read_csv(file_path)\n",
    "\n",
    "    # Filter for misclassified watermarked images\n",
    "    misclassified_watermarked = df[(df['label'] != df['actual_label']) & (df['actual_label'] == 'watermarked')]\n",
    "\n",
    "    # Check if there are any misclassified watermarked images\n",
    "    if len(misclassified_watermarked) == 0:\n",
    "        print(\"No misclassified watermarked images found.\")\n",
    "        return None\n",
    "\n",
    "    # Calculate absolute difference between misclassified p-values and the threshold (0.1)\n",
    "    abs_diff = np.abs(misclassified_watermarked['p-value'] - 0.1)\n",
    "\n",
    "    # Calculate average absolute difference\n",
    "    average_diff = np.mean(abs_diff)\n",
    "\n",
    "    return average_diff\n",
    "\n",
    "# Specify the file path\n",
    "file_path = \"/kaggle/working/watermark/demo/permutation_test_results_whitespace.csv\"\n",
    "\n",
    "# Evaluate misclassifications\n",
    "average_diff = evaluate_misclassifications(file_path)\n",
    "\n",
    "if average_diff is not None:\n",
    "    print(f\"Average absolute difference for misclassified watermarked images: {average_diff:.4f}\")\n"
   ]
  },
  {
   "cell_type": "code",
   "execution_count": 9,
   "id": "66f7d398",
   "metadata": {
    "execution": {
     "iopub.execute_input": "2024-05-21T16:54:28.799959Z",
     "iopub.status.busy": "2024-05-21T16:54:28.799685Z",
     "iopub.status.idle": "2024-05-21T16:54:28.818755Z",
     "shell.execute_reply": "2024-05-21T16:54:28.817910Z"
    },
    "papermill": {
     "duration": 0.049105,
     "end_time": "2024-05-21T16:54:28.820644",
     "exception": false,
     "start_time": "2024-05-21T16:54:28.771539",
     "status": "completed"
    },
    "tags": []
   },
   "outputs": [
    {
     "data": {
      "text/html": [
       "<div>\n",
       "<style scoped>\n",
       "    .dataframe tbody tr th:only-of-type {\n",
       "        vertical-align: middle;\n",
       "    }\n",
       "\n",
       "    .dataframe tbody tr th {\n",
       "        vertical-align: top;\n",
       "    }\n",
       "\n",
       "    .dataframe thead th {\n",
       "        text-align: right;\n",
       "    }\n",
       "</style>\n",
       "<table border=\"1\" class=\"dataframe\">\n",
       "  <thead>\n",
       "    <tr style=\"text-align: right;\">\n",
       "      <th></th>\n",
       "      <th>text</th>\n",
       "      <th>p-value</th>\n",
       "      <th>label</th>\n",
       "      <th>actual_label</th>\n",
       "    </tr>\n",
       "  </thead>\n",
       "  <tbody>\n",
       "    <tr>\n",
       "      <th>38</th>\n",
       "      <td>It  was to   honour the women who die   of   c...</td>\n",
       "      <td>0.019802</td>\n",
       "      <td>unwatermarked</td>\n",
       "      <td>watermarked</td>\n",
       "    </tr>\n",
       "    <tr>\n",
       "      <th>42</th>\n",
       "      <td>The  army   has   ensured that  the   environm...</td>\n",
       "      <td>0.019802</td>\n",
       "      <td>unwatermarked</td>\n",
       "      <td>watermarked</td>\n",
       "    </tr>\n",
       "    <tr>\n",
       "      <th>49</th>\n",
       "      <td>Anyone  is   capable of   winning   an electio...</td>\n",
       "      <td>0.019802</td>\n",
       "      <td>unwatermarked</td>\n",
       "      <td>watermarked</td>\n",
       "    </tr>\n",
       "    <tr>\n",
       "      <th>68</th>\n",
       "      <td>The  system\\thas  helped\\tto increase   produc...</td>\n",
       "      <td>0.019802</td>\n",
       "      <td>unwatermarked</td>\n",
       "      <td>watermarked</td>\n",
       "    </tr>\n",
       "  </tbody>\n",
       "</table>\n",
       "</div>"
      ],
      "text/plain": [
       "                                                 text   p-value  \\\n",
       "38  It  was to   honour the women who die   of   c...  0.019802   \n",
       "42  The  army   has   ensured that  the   environm...  0.019802   \n",
       "49  Anyone  is   capable of   winning   an electio...  0.019802   \n",
       "68  The  system\\thas  helped\\tto increase   produc...  0.019802   \n",
       "\n",
       "            label actual_label  \n",
       "38  unwatermarked  watermarked  \n",
       "42  unwatermarked  watermarked  \n",
       "49  unwatermarked  watermarked  \n",
       "68  unwatermarked  watermarked  "
      ]
     },
     "execution_count": 9,
     "metadata": {},
     "output_type": "execute_result"
    }
   ],
   "source": [
    "def get_incorrect_samples(file_path):\n",
    "   \n",
    "    # Extracts all samples from a CSV file where 'label' and 'actual_label' differ.\n",
    "    # Read the CSV file into a Pandas DataFrame\n",
    "    df = pd.read_csv(file_path)\n",
    "\n",
    "    # Filter for rows where label doesn't equal actual_label\n",
    "    incorrect_samples = df[df['label'] != df['actual_label']]\n",
    "    incorrect_samples = incorrect_samples.sort_values(by='actual_label')\n",
    "\n",
    "    return incorrect_samples\n",
    "\n",
    "file_path = \"/kaggle/working/watermark/demo/permutation_test_results_whitespace.csv\"\n",
    "incorrect_df = get_incorrect_samples(file_path)\n",
    "\n",
    "\n",
    "incorrect_df.head(len(incorrect_df))"
   ]
  },
  {
   "cell_type": "code",
   "execution_count": null,
   "id": "b2d9aea0",
   "metadata": {
    "papermill": {
     "duration": 0.027445,
     "end_time": "2024-05-21T16:54:28.875509",
     "exception": false,
     "start_time": "2024-05-21T16:54:28.848064",
     "status": "completed"
    },
    "tags": []
   },
   "outputs": [],
   "source": []
  }
 ],
 "metadata": {
  "kaggle": {
   "accelerator": "gpu",
   "dataSources": [
    {
     "datasetId": 4779182,
     "sourceId": 8094561,
     "sourceType": "datasetVersion"
    },
    {
     "datasetId": 4886815,
     "sourceId": 8238648,
     "sourceType": "datasetVersion"
    },
    {
     "datasetId": 4961483,
     "sourceId": 8350798,
     "sourceType": "datasetVersion"
    },
    {
     "datasetId": 5008343,
     "sourceId": 8414321,
     "sourceType": "datasetVersion"
    },
    {
     "datasetId": 5037734,
     "sourceId": 8452941,
     "sourceType": "datasetVersion"
    },
    {
     "datasetId": 5054952,
     "sourceId": 8476218,
     "sourceType": "datasetVersion"
    }
   ],
   "dockerImageVersionId": 30699,
   "isGpuEnabled": true,
   "isInternetEnabled": true,
   "language": "python",
   "sourceType": "notebook"
  },
  "kernelspec": {
   "display_name": "Python 3",
   "language": "python",
   "name": "python3"
  },
  "language_info": {
   "codemirror_mode": {
    "name": "ipython",
    "version": 3
   },
   "file_extension": ".py",
   "mimetype": "text/x-python",
   "name": "python",
   "nbconvert_exporter": "python",
   "pygments_lexer": "ipython3",
   "version": "3.10.13"
  },
  "papermill": {
   "default_parameters": {},
   "duration": 19177.807201,
   "end_time": "2024-05-21T16:54:30.665865",
   "environment_variables": {},
   "exception": null,
   "input_path": "__notebook__.ipynb",
   "output_path": "__notebook__.ipynb",
   "parameters": {},
   "start_time": "2024-05-21T11:34:52.858664",
   "version": "2.5.0"
  },
  "widgets": {
   "application/vnd.jupyter.widget-state+json": {
    "state": {
     "00a609b31df74f749709e28a5f1c938a": {
      "model_module": "@jupyter-widgets/controls",
      "model_module_version": "1.5.0",
      "model_name": "HTMLModel",
      "state": {
       "_dom_classes": [],
       "_model_module": "@jupyter-widgets/controls",
       "_model_module_version": "1.5.0",
       "_model_name": "HTMLModel",
       "_view_count": null,
       "_view_module": "@jupyter-widgets/controls",
       "_view_module_version": "1.5.0",
       "_view_name": "HTMLView",
       "description": "",
       "description_tooltip": null,
       "layout": "IPY_MODEL_051c6a115ba042ffbb96abc925827c6d",
       "placeholder": "​",
       "style": "IPY_MODEL_fc1dd576cca445a5a015bb8806cf4d38",
       "value": " 644/644 [00:00&lt;00:00, 57.9kB/s]"
      }
     },
     "0113c571c6014d7c9a5f9cf0f9e3a314": {
      "model_module": "@jupyter-widgets/controls",
      "model_module_version": "1.5.0",
      "model_name": "FloatProgressModel",
      "state": {
       "_dom_classes": [],
       "_model_module": "@jupyter-widgets/controls",
       "_model_module_version": "1.5.0",
       "_model_name": "FloatProgressModel",
       "_view_count": null,
       "_view_module": "@jupyter-widgets/controls",
       "_view_module_version": "1.5.0",
       "_view_name": "ProgressView",
       "bar_style": "success",
       "description": "",
       "description_tooltip": null,
       "layout": "IPY_MODEL_d899d12b52c4422c95f5a1e54450dbc7",
       "max": 685.0,
       "min": 0.0,
       "orientation": "horizontal",
       "style": "IPY_MODEL_f69417ce4bf94fe8a00797b05cd25b63",
       "value": 685.0
      }
     },
     "03002c72113d4318a4791d8f238e613a": {
      "model_module": "@jupyter-widgets/base",
      "model_module_version": "1.2.0",
      "model_name": "LayoutModel",
      "state": {
       "_model_module": "@jupyter-widgets/base",
       "_model_module_version": "1.2.0",
       "_model_name": "LayoutModel",
       "_view_count": null,
       "_view_module": "@jupyter-widgets/base",
       "_view_module_version": "1.2.0",
       "_view_name": "LayoutView",
       "align_content": null,
       "align_items": null,
       "align_self": null,
       "border": null,
       "bottom": null,
       "display": null,
       "flex": null,
       "flex_flow": null,
       "grid_area": null,
       "grid_auto_columns": null,
       "grid_auto_flow": null,
       "grid_auto_rows": null,
       "grid_column": null,
       "grid_gap": null,
       "grid_row": null,
       "grid_template_areas": null,
       "grid_template_columns": null,
       "grid_template_rows": null,
       "height": null,
       "justify_content": null,
       "justify_items": null,
       "left": null,
       "margin": null,
       "max_height": null,
       "max_width": null,
       "min_height": null,
       "min_width": null,
       "object_fit": null,
       "object_position": null,
       "order": null,
       "overflow": null,
       "overflow_x": null,
       "overflow_y": null,
       "padding": null,
       "right": null,
       "top": null,
       "visibility": null,
       "width": null
      }
     },
     "04b0b15a2d0c4096b5a18487797d1111": {
      "model_module": "@jupyter-widgets/base",
      "model_module_version": "1.2.0",
      "model_name": "LayoutModel",
      "state": {
       "_model_module": "@jupyter-widgets/base",
       "_model_module_version": "1.2.0",
       "_model_name": "LayoutModel",
       "_view_count": null,
       "_view_module": "@jupyter-widgets/base",
       "_view_module_version": "1.2.0",
       "_view_name": "LayoutView",
       "align_content": null,
       "align_items": null,
       "align_self": null,
       "border": null,
       "bottom": null,
       "display": null,
       "flex": null,
       "flex_flow": null,
       "grid_area": null,
       "grid_auto_columns": null,
       "grid_auto_flow": null,
       "grid_auto_rows": null,
       "grid_column": null,
       "grid_gap": null,
       "grid_row": null,
       "grid_template_areas": null,
       "grid_template_columns": null,
       "grid_template_rows": null,
       "height": null,
       "justify_content": null,
       "justify_items": null,
       "left": null,
       "margin": null,
       "max_height": null,
       "max_width": null,
       "min_height": null,
       "min_width": null,
       "object_fit": null,
       "object_position": null,
       "order": null,
       "overflow": null,
       "overflow_x": null,
       "overflow_y": null,
       "padding": null,
       "right": null,
       "top": null,
       "visibility": null,
       "width": null
      }
     },
     "051c6a115ba042ffbb96abc925827c6d": {
      "model_module": "@jupyter-widgets/base",
      "model_module_version": "1.2.0",
      "model_name": "LayoutModel",
      "state": {
       "_model_module": "@jupyter-widgets/base",
       "_model_module_version": "1.2.0",
       "_model_name": "LayoutModel",
       "_view_count": null,
       "_view_module": "@jupyter-widgets/base",
       "_view_module_version": "1.2.0",
       "_view_name": "LayoutView",
       "align_content": null,
       "align_items": null,
       "align_self": null,
       "border": null,
       "bottom": null,
       "display": null,
       "flex": null,
       "flex_flow": null,
       "grid_area": null,
       "grid_auto_columns": null,
       "grid_auto_flow": null,
       "grid_auto_rows": null,
       "grid_column": null,
       "grid_gap": null,
       "grid_row": null,
       "grid_template_areas": null,
       "grid_template_columns": null,
       "grid_template_rows": null,
       "height": null,
       "justify_content": null,
       "justify_items": null,
       "left": null,
       "margin": null,
       "max_height": null,
       "max_width": null,
       "min_height": null,
       "min_width": null,
       "object_fit": null,
       "object_position": null,
       "order": null,
       "overflow": null,
       "overflow_x": null,
       "overflow_y": null,
       "padding": null,
       "right": null,
       "top": null,
       "visibility": null,
       "width": null
      }
     },
     "0690dee1d98c49928a6351dcd54dc3aa": {
      "model_module": "@jupyter-widgets/base",
      "model_module_version": "1.2.0",
      "model_name": "LayoutModel",
      "state": {
       "_model_module": "@jupyter-widgets/base",
       "_model_module_version": "1.2.0",
       "_model_name": "LayoutModel",
       "_view_count": null,
       "_view_module": "@jupyter-widgets/base",
       "_view_module_version": "1.2.0",
       "_view_name": "LayoutView",
       "align_content": null,
       "align_items": null,
       "align_self": null,
       "border": null,
       "bottom": null,
       "display": null,
       "flex": null,
       "flex_flow": null,
       "grid_area": null,
       "grid_auto_columns": null,
       "grid_auto_flow": null,
       "grid_auto_rows": null,
       "grid_column": null,
       "grid_gap": null,
       "grid_row": null,
       "grid_template_areas": null,
       "grid_template_columns": null,
       "grid_template_rows": null,
       "height": null,
       "justify_content": null,
       "justify_items": null,
       "left": null,
       "margin": null,
       "max_height": null,
       "max_width": null,
       "min_height": null,
       "min_width": null,
       "object_fit": null,
       "object_position": null,
       "order": null,
       "overflow": null,
       "overflow_x": null,
       "overflow_y": null,
       "padding": null,
       "right": null,
       "top": null,
       "visibility": null,
       "width": null
      }
     },
     "0b4e5759bb8f43aab4d10804ceffd0fc": {
      "model_module": "@jupyter-widgets/controls",
      "model_module_version": "1.5.0",
      "model_name": "ProgressStyleModel",
      "state": {
       "_model_module": "@jupyter-widgets/controls",
       "_model_module_version": "1.5.0",
       "_model_name": "ProgressStyleModel",
       "_view_count": null,
       "_view_module": "@jupyter-widgets/base",
       "_view_module_version": "1.2.0",
       "_view_name": "StyleView",
       "bar_color": null,
       "description_width": ""
      }
     },
     "0be5e00478b94190b060328672802cba": {
      "model_module": "@jupyter-widgets/controls",
      "model_module_version": "1.5.0",
      "model_name": "HBoxModel",
      "state": {
       "_dom_classes": [],
       "_model_module": "@jupyter-widgets/controls",
       "_model_module_version": "1.5.0",
       "_model_name": "HBoxModel",
       "_view_count": null,
       "_view_module": "@jupyter-widgets/controls",
       "_view_module_version": "1.5.0",
       "_view_name": "HBoxView",
       "box_style": "",
       "children": [
        "IPY_MODEL_f4a7b166191a4e509537cee73f5ce17b",
        "IPY_MODEL_a6a4782135934cf789c63f94db9f63c9",
        "IPY_MODEL_1d1922c6cbb141bd8fcac040ef7e153f"
       ],
       "layout": "IPY_MODEL_81b1d9b904d74774b9243d90158cdd4c"
      }
     },
     "1492f510a4f7443e97f316d9d58dee0d": {
      "model_module": "@jupyter-widgets/controls",
      "model_module_version": "1.5.0",
      "model_name": "HTMLModel",
      "state": {
       "_dom_classes": [],
       "_model_module": "@jupyter-widgets/controls",
       "_model_module_version": "1.5.0",
       "_model_name": "HTMLModel",
       "_view_count": null,
       "_view_module": "@jupyter-widgets/controls",
       "_view_module_version": "1.5.0",
       "_view_name": "HTMLView",
       "description": "",
       "description_tooltip": null,
       "layout": "IPY_MODEL_0690dee1d98c49928a6351dcd54dc3aa",
       "placeholder": "​",
       "style": "IPY_MODEL_d6e07233697047308e0b711e828dbf07",
       "value": " 899k/899k [00:00&lt;00:00, 4.07MB/s]"
      }
     },
     "1599b36464454c60b99fa30850180815": {
      "model_module": "@jupyter-widgets/base",
      "model_module_version": "1.2.0",
      "model_name": "LayoutModel",
      "state": {
       "_model_module": "@jupyter-widgets/base",
       "_model_module_version": "1.2.0",
       "_model_name": "LayoutModel",
       "_view_count": null,
       "_view_module": "@jupyter-widgets/base",
       "_view_module_version": "1.2.0",
       "_view_name": "LayoutView",
       "align_content": null,
       "align_items": null,
       "align_self": null,
       "border": null,
       "bottom": null,
       "display": null,
       "flex": null,
       "flex_flow": null,
       "grid_area": null,
       "grid_auto_columns": null,
       "grid_auto_flow": null,
       "grid_auto_rows": null,
       "grid_column": null,
       "grid_gap": null,
       "grid_row": null,
       "grid_template_areas": null,
       "grid_template_columns": null,
       "grid_template_rows": null,
       "height": null,
       "justify_content": null,
       "justify_items": null,
       "left": null,
       "margin": null,
       "max_height": null,
       "max_width": null,
       "min_height": null,
       "min_width": null,
       "object_fit": null,
       "object_position": null,
       "order": null,
       "overflow": null,
       "overflow_x": null,
       "overflow_y": null,
       "padding": null,
       "right": null,
       "top": null,
       "visibility": null,
       "width": null
      }
     },
     "17f90b57b9154922a1f3e5f033a4e5ee": {
      "model_module": "@jupyter-widgets/controls",
      "model_module_version": "1.5.0",
      "model_name": "DescriptionStyleModel",
      "state": {
       "_model_module": "@jupyter-widgets/controls",
       "_model_module_version": "1.5.0",
       "_model_name": "DescriptionStyleModel",
       "_view_count": null,
       "_view_module": "@jupyter-widgets/base",
       "_view_module_version": "1.2.0",
       "_view_name": "StyleView",
       "description_width": ""
      }
     },
     "1d1922c6cbb141bd8fcac040ef7e153f": {
      "model_module": "@jupyter-widgets/controls",
      "model_module_version": "1.5.0",
      "model_name": "HTMLModel",
      "state": {
       "_dom_classes": [],
       "_model_module": "@jupyter-widgets/controls",
       "_model_module_version": "1.5.0",
       "_model_name": "HTMLModel",
       "_view_count": null,
       "_view_module": "@jupyter-widgets/controls",
       "_view_module_version": "1.5.0",
       "_view_name": "HTMLView",
       "description": "",
       "description_tooltip": null,
       "layout": "IPY_MODEL_d9ea17ffc16946719bb1b0f7ac53ccee",
       "placeholder": "​",
       "style": "IPY_MODEL_e2140e93cba24219baf69bd297143d9b",
       "value": " 441/441 [00:00&lt;00:00, 36.3kB/s]"
      }
     },
     "26a6c4a896a2477fb8a60ebb7222d539": {
      "model_module": "@jupyter-widgets/controls",
      "model_module_version": "1.5.0",
      "model_name": "ProgressStyleModel",
      "state": {
       "_model_module": "@jupyter-widgets/controls",
       "_model_module_version": "1.5.0",
       "_model_name": "ProgressStyleModel",
       "_view_count": null,
       "_view_module": "@jupyter-widgets/base",
       "_view_module_version": "1.2.0",
       "_view_name": "StyleView",
       "bar_color": null,
       "description_width": ""
      }
     },
     "29afa3d713174f6c968a3fb848088040": {
      "model_module": "@jupyter-widgets/controls",
      "model_module_version": "1.5.0",
      "model_name": "HTMLModel",
      "state": {
       "_dom_classes": [],
       "_model_module": "@jupyter-widgets/controls",
       "_model_module_version": "1.5.0",
       "_model_name": "HTMLModel",
       "_view_count": null,
       "_view_module": "@jupyter-widgets/controls",
       "_view_module_version": "1.5.0",
       "_view_name": "HTMLView",
       "description": "",
       "description_tooltip": null,
       "layout": "IPY_MODEL_93638339e1604ff987fe7e2acf337c9b",
       "placeholder": "​",
       "style": "IPY_MODEL_8aaf3c70941e42ab9b5c7f221da97d4c",
       "value": "merges.txt: 100%"
      }
     },
     "319f8770994f44dfa3c8453e2a3a9fc6": {
      "model_module": "@jupyter-widgets/controls",
      "model_module_version": "1.5.0",
      "model_name": "DescriptionStyleModel",
      "state": {
       "_model_module": "@jupyter-widgets/controls",
       "_model_module_version": "1.5.0",
       "_model_name": "DescriptionStyleModel",
       "_view_count": null,
       "_view_module": "@jupyter-widgets/base",
       "_view_module_version": "1.2.0",
       "_view_name": "StyleView",
       "description_width": ""
      }
     },
     "33155c08244a4b50a1703956b635c0e0": {
      "model_module": "@jupyter-widgets/base",
      "model_module_version": "1.2.0",
      "model_name": "LayoutModel",
      "state": {
       "_model_module": "@jupyter-widgets/base",
       "_model_module_version": "1.2.0",
       "_model_name": "LayoutModel",
       "_view_count": null,
       "_view_module": "@jupyter-widgets/base",
       "_view_module_version": "1.2.0",
       "_view_name": "LayoutView",
       "align_content": null,
       "align_items": null,
       "align_self": null,
       "border": null,
       "bottom": null,
       "display": null,
       "flex": null,
       "flex_flow": null,
       "grid_area": null,
       "grid_auto_columns": null,
       "grid_auto_flow": null,
       "grid_auto_rows": null,
       "grid_column": null,
       "grid_gap": null,
       "grid_row": null,
       "grid_template_areas": null,
       "grid_template_columns": null,
       "grid_template_rows": null,
       "height": null,
       "justify_content": null,
       "justify_items": null,
       "left": null,
       "margin": null,
       "max_height": null,
       "max_width": null,
       "min_height": null,
       "min_width": null,
       "object_fit": null,
       "object_position": null,
       "order": null,
       "overflow": null,
       "overflow_x": null,
       "overflow_y": null,
       "padding": null,
       "right": null,
       "top": null,
       "visibility": null,
       "width": null
      }
     },
     "370c1036203d42e3ae74a0fbce044069": {
      "model_module": "@jupyter-widgets/base",
      "model_module_version": "1.2.0",
      "model_name": "LayoutModel",
      "state": {
       "_model_module": "@jupyter-widgets/base",
       "_model_module_version": "1.2.0",
       "_model_name": "LayoutModel",
       "_view_count": null,
       "_view_module": "@jupyter-widgets/base",
       "_view_module_version": "1.2.0",
       "_view_name": "LayoutView",
       "align_content": null,
       "align_items": null,
       "align_self": null,
       "border": null,
       "bottom": null,
       "display": null,
       "flex": null,
       "flex_flow": null,
       "grid_area": null,
       "grid_auto_columns": null,
       "grid_auto_flow": null,
       "grid_auto_rows": null,
       "grid_column": null,
       "grid_gap": null,
       "grid_row": null,
       "grid_template_areas": null,
       "grid_template_columns": null,
       "grid_template_rows": null,
       "height": null,
       "justify_content": null,
       "justify_items": null,
       "left": null,
       "margin": null,
       "max_height": null,
       "max_width": null,
       "min_height": null,
       "min_width": null,
       "object_fit": null,
       "object_position": null,
       "order": null,
       "overflow": null,
       "overflow_x": null,
       "overflow_y": null,
       "padding": null,
       "right": null,
       "top": null,
       "visibility": null,
       "width": null
      }
     },
     "3ef74a6673e6428287ba4f69c54a62a6": {
      "model_module": "@jupyter-widgets/controls",
      "model_module_version": "1.5.0",
      "model_name": "DescriptionStyleModel",
      "state": {
       "_model_module": "@jupyter-widgets/controls",
       "_model_module_version": "1.5.0",
       "_model_name": "DescriptionStyleModel",
       "_view_count": null,
       "_view_module": "@jupyter-widgets/base",
       "_view_module_version": "1.2.0",
       "_view_name": "StyleView",
       "description_width": ""
      }
     },
     "43b41fb197254f16a305c542d1659ab8": {
      "model_module": "@jupyter-widgets/controls",
      "model_module_version": "1.5.0",
      "model_name": "HBoxModel",
      "state": {
       "_dom_classes": [],
       "_model_module": "@jupyter-widgets/controls",
       "_model_module_version": "1.5.0",
       "_model_name": "HBoxModel",
       "_view_count": null,
       "_view_module": "@jupyter-widgets/controls",
       "_view_module_version": "1.5.0",
       "_view_name": "HBoxView",
       "box_style": "",
       "children": [
        "IPY_MODEL_29afa3d713174f6c968a3fb848088040",
        "IPY_MODEL_e92cd0c2375b4e4aaa7ace93ee42a3db",
        "IPY_MODEL_81477e44145a414ebcb5c8df44d4eb79"
       ],
       "layout": "IPY_MODEL_370c1036203d42e3ae74a0fbce044069"
      }
     },
     "46160bc8bac14c12b2260d8b517dacbf": {
      "model_module": "@jupyter-widgets/controls",
      "model_module_version": "1.5.0",
      "model_name": "HTMLModel",
      "state": {
       "_dom_classes": [],
       "_model_module": "@jupyter-widgets/controls",
       "_model_module_version": "1.5.0",
       "_model_name": "HTMLModel",
       "_view_count": null,
       "_view_module": "@jupyter-widgets/controls",
       "_view_module_version": "1.5.0",
       "_view_name": "HTMLView",
       "description": "",
       "description_tooltip": null,
       "layout": "IPY_MODEL_b8dfba4695f1493e82a58fb5eb1e11e4",
       "placeholder": "​",
       "style": "IPY_MODEL_8ba93c8c6e474c938047bf9fe65ff550",
       "value": "config.json: 100%"
      }
     },
     "5ee84b9e829742f4afcd9137bb4406ac": {
      "model_module": "@jupyter-widgets/controls",
      "model_module_version": "1.5.0",
      "model_name": "DescriptionStyleModel",
      "state": {
       "_model_module": "@jupyter-widgets/controls",
       "_model_module_version": "1.5.0",
       "_model_name": "DescriptionStyleModel",
       "_view_count": null,
       "_view_module": "@jupyter-widgets/base",
       "_view_module_version": "1.2.0",
       "_view_name": "StyleView",
       "description_width": ""
      }
     },
     "61e5b8b3cf604f1d96a449637af5ddf6": {
      "model_module": "@jupyter-widgets/base",
      "model_module_version": "1.2.0",
      "model_name": "LayoutModel",
      "state": {
       "_model_module": "@jupyter-widgets/base",
       "_model_module_version": "1.2.0",
       "_model_name": "LayoutModel",
       "_view_count": null,
       "_view_module": "@jupyter-widgets/base",
       "_view_module_version": "1.2.0",
       "_view_name": "LayoutView",
       "align_content": null,
       "align_items": null,
       "align_self": null,
       "border": null,
       "bottom": null,
       "display": null,
       "flex": null,
       "flex_flow": null,
       "grid_area": null,
       "grid_auto_columns": null,
       "grid_auto_flow": null,
       "grid_auto_rows": null,
       "grid_column": null,
       "grid_gap": null,
       "grid_row": null,
       "grid_template_areas": null,
       "grid_template_columns": null,
       "grid_template_rows": null,
       "height": null,
       "justify_content": null,
       "justify_items": null,
       "left": null,
       "margin": null,
       "max_height": null,
       "max_width": null,
       "min_height": null,
       "min_width": null,
       "object_fit": null,
       "object_position": null,
       "order": null,
       "overflow": null,
       "overflow_x": null,
       "overflow_y": null,
       "padding": null,
       "right": null,
       "top": null,
       "visibility": null,
       "width": null
      }
     },
     "62fc69973b74460c93638ce2213b5aee": {
      "model_module": "@jupyter-widgets/controls",
      "model_module_version": "1.5.0",
      "model_name": "HTMLModel",
      "state": {
       "_dom_classes": [],
       "_model_module": "@jupyter-widgets/controls",
       "_model_module_version": "1.5.0",
       "_model_name": "HTMLModel",
       "_view_count": null,
       "_view_module": "@jupyter-widgets/controls",
       "_view_module_version": "1.5.0",
       "_view_name": "HTMLView",
       "description": "",
       "description_tooltip": null,
       "layout": "IPY_MODEL_33155c08244a4b50a1703956b635c0e0",
       "placeholder": "​",
       "style": "IPY_MODEL_5ee84b9e829742f4afcd9137bb4406ac",
       "value": "tokenizer_config.json: 100%"
      }
     },
     "6465c4d0fc0d4522bd7119432ef18b24": {
      "model_module": "@jupyter-widgets/controls",
      "model_module_version": "1.5.0",
      "model_name": "HBoxModel",
      "state": {
       "_dom_classes": [],
       "_model_module": "@jupyter-widgets/controls",
       "_model_module_version": "1.5.0",
       "_model_name": "HBoxModel",
       "_view_count": null,
       "_view_module": "@jupyter-widgets/controls",
       "_view_module_version": "1.5.0",
       "_view_name": "HBoxView",
       "box_style": "",
       "children": [
        "IPY_MODEL_46160bc8bac14c12b2260d8b517dacbf",
        "IPY_MODEL_e0a66e631c6641d493d85aa93d14e9bf",
        "IPY_MODEL_00a609b31df74f749709e28a5f1c938a"
       ],
       "layout": "IPY_MODEL_b773041440d243879c9bf25cef19978f"
      }
     },
     "74e46fa3fdb5437490c51d4cbf5cd2fe": {
      "model_module": "@jupyter-widgets/controls",
      "model_module_version": "1.5.0",
      "model_name": "HTMLModel",
      "state": {
       "_dom_classes": [],
       "_model_module": "@jupyter-widgets/controls",
       "_model_module_version": "1.5.0",
       "_model_name": "HTMLModel",
       "_view_count": null,
       "_view_module": "@jupyter-widgets/controls",
       "_view_module_version": "1.5.0",
       "_view_name": "HTMLView",
       "description": "",
       "description_tooltip": null,
       "layout": "IPY_MODEL_c9a8ab6c976b419b979d6a4b438b50aa",
       "placeholder": "​",
       "style": "IPY_MODEL_319f8770994f44dfa3c8453e2a3a9fc6",
       "value": "vocab.json: 100%"
      }
     },
     "7663f4e635b84ac99d1cee202b99803c": {
      "model_module": "@jupyter-widgets/base",
      "model_module_version": "1.2.0",
      "model_name": "LayoutModel",
      "state": {
       "_model_module": "@jupyter-widgets/base",
       "_model_module_version": "1.2.0",
       "_model_name": "LayoutModel",
       "_view_count": null,
       "_view_module": "@jupyter-widgets/base",
       "_view_module_version": "1.2.0",
       "_view_name": "LayoutView",
       "align_content": null,
       "align_items": null,
       "align_self": null,
       "border": null,
       "bottom": null,
       "display": null,
       "flex": null,
       "flex_flow": null,
       "grid_area": null,
       "grid_auto_columns": null,
       "grid_auto_flow": null,
       "grid_auto_rows": null,
       "grid_column": null,
       "grid_gap": null,
       "grid_row": null,
       "grid_template_areas": null,
       "grid_template_columns": null,
       "grid_template_rows": null,
       "height": null,
       "justify_content": null,
       "justify_items": null,
       "left": null,
       "margin": null,
       "max_height": null,
       "max_width": null,
       "min_height": null,
       "min_width": null,
       "object_fit": null,
       "object_position": null,
       "order": null,
       "overflow": null,
       "overflow_x": null,
       "overflow_y": null,
       "padding": null,
       "right": null,
       "top": null,
       "visibility": null,
       "width": null
      }
     },
     "77af1ced8ee8410a990450c852825f8a": {
      "model_module": "@jupyter-widgets/base",
      "model_module_version": "1.2.0",
      "model_name": "LayoutModel",
      "state": {
       "_model_module": "@jupyter-widgets/base",
       "_model_module_version": "1.2.0",
       "_model_name": "LayoutModel",
       "_view_count": null,
       "_view_module": "@jupyter-widgets/base",
       "_view_module_version": "1.2.0",
       "_view_name": "LayoutView",
       "align_content": null,
       "align_items": null,
       "align_self": null,
       "border": null,
       "bottom": null,
       "display": null,
       "flex": null,
       "flex_flow": null,
       "grid_area": null,
       "grid_auto_columns": null,
       "grid_auto_flow": null,
       "grid_auto_rows": null,
       "grid_column": null,
       "grid_gap": null,
       "grid_row": null,
       "grid_template_areas": null,
       "grid_template_columns": null,
       "grid_template_rows": null,
       "height": null,
       "justify_content": null,
       "justify_items": null,
       "left": null,
       "margin": null,
       "max_height": null,
       "max_width": null,
       "min_height": null,
       "min_width": null,
       "object_fit": null,
       "object_position": null,
       "order": null,
       "overflow": null,
       "overflow_x": null,
       "overflow_y": null,
       "padding": null,
       "right": null,
       "top": null,
       "visibility": null,
       "width": null
      }
     },
     "81477e44145a414ebcb5c8df44d4eb79": {
      "model_module": "@jupyter-widgets/controls",
      "model_module_version": "1.5.0",
      "model_name": "HTMLModel",
      "state": {
       "_dom_classes": [],
       "_model_module": "@jupyter-widgets/controls",
       "_model_module_version": "1.5.0",
       "_model_name": "HTMLModel",
       "_view_count": null,
       "_view_module": "@jupyter-widgets/controls",
       "_view_module_version": "1.5.0",
       "_view_name": "HTMLView",
       "description": "",
       "description_tooltip": null,
       "layout": "IPY_MODEL_cbbbd651105f4da7be4f9757dd5494e4",
       "placeholder": "​",
       "style": "IPY_MODEL_3ef74a6673e6428287ba4f69c54a62a6",
       "value": " 456k/456k [00:00&lt;00:00, 2.94MB/s]"
      }
     },
     "81b1d9b904d74774b9243d90158cdd4c": {
      "model_module": "@jupyter-widgets/base",
      "model_module_version": "1.2.0",
      "model_name": "LayoutModel",
      "state": {
       "_model_module": "@jupyter-widgets/base",
       "_model_module_version": "1.2.0",
       "_model_name": "LayoutModel",
       "_view_count": null,
       "_view_module": "@jupyter-widgets/base",
       "_view_module_version": "1.2.0",
       "_view_name": "LayoutView",
       "align_content": null,
       "align_items": null,
       "align_self": null,
       "border": null,
       "bottom": null,
       "display": null,
       "flex": null,
       "flex_flow": null,
       "grid_area": null,
       "grid_auto_columns": null,
       "grid_auto_flow": null,
       "grid_auto_rows": null,
       "grid_column": null,
       "grid_gap": null,
       "grid_row": null,
       "grid_template_areas": null,
       "grid_template_columns": null,
       "grid_template_rows": null,
       "height": null,
       "justify_content": null,
       "justify_items": null,
       "left": null,
       "margin": null,
       "max_height": null,
       "max_width": null,
       "min_height": null,
       "min_width": null,
       "object_fit": null,
       "object_position": null,
       "order": null,
       "overflow": null,
       "overflow_x": null,
       "overflow_y": null,
       "padding": null,
       "right": null,
       "top": null,
       "visibility": null,
       "width": null
      }
     },
     "8701a54bfdb34f4998b1304ba9ae636a": {
      "model_module": "@jupyter-widgets/base",
      "model_module_version": "1.2.0",
      "model_name": "LayoutModel",
      "state": {
       "_model_module": "@jupyter-widgets/base",
       "_model_module_version": "1.2.0",
       "_model_name": "LayoutModel",
       "_view_count": null,
       "_view_module": "@jupyter-widgets/base",
       "_view_module_version": "1.2.0",
       "_view_name": "LayoutView",
       "align_content": null,
       "align_items": null,
       "align_self": null,
       "border": null,
       "bottom": null,
       "display": null,
       "flex": null,
       "flex_flow": null,
       "grid_area": null,
       "grid_auto_columns": null,
       "grid_auto_flow": null,
       "grid_auto_rows": null,
       "grid_column": null,
       "grid_gap": null,
       "grid_row": null,
       "grid_template_areas": null,
       "grid_template_columns": null,
       "grid_template_rows": null,
       "height": null,
       "justify_content": null,
       "justify_items": null,
       "left": null,
       "margin": null,
       "max_height": null,
       "max_width": null,
       "min_height": null,
       "min_width": null,
       "object_fit": null,
       "object_position": null,
       "order": null,
       "overflow": null,
       "overflow_x": null,
       "overflow_y": null,
       "padding": null,
       "right": null,
       "top": null,
       "visibility": null,
       "width": null
      }
     },
     "8a20b7cbf502402fb4c8b2c4a1927bd6": {
      "model_module": "@jupyter-widgets/controls",
      "model_module_version": "1.5.0",
      "model_name": "HBoxModel",
      "state": {
       "_dom_classes": [],
       "_model_module": "@jupyter-widgets/controls",
       "_model_module_version": "1.5.0",
       "_model_name": "HBoxModel",
       "_view_count": null,
       "_view_module": "@jupyter-widgets/controls",
       "_view_module_version": "1.5.0",
       "_view_name": "HBoxView",
       "box_style": "",
       "children": [
        "IPY_MODEL_62fc69973b74460c93638ce2213b5aee",
        "IPY_MODEL_0113c571c6014d7c9a5f9cf0f9e3a314",
        "IPY_MODEL_fa952c255d984b40ae78458c619bd353"
       ],
       "layout": "IPY_MODEL_61e5b8b3cf604f1d96a449637af5ddf6"
      }
     },
     "8aaf3c70941e42ab9b5c7f221da97d4c": {
      "model_module": "@jupyter-widgets/controls",
      "model_module_version": "1.5.0",
      "model_name": "DescriptionStyleModel",
      "state": {
       "_model_module": "@jupyter-widgets/controls",
       "_model_module_version": "1.5.0",
       "_model_name": "DescriptionStyleModel",
       "_view_count": null,
       "_view_module": "@jupyter-widgets/base",
       "_view_module_version": "1.2.0",
       "_view_name": "StyleView",
       "description_width": ""
      }
     },
     "8ba93c8c6e474c938047bf9fe65ff550": {
      "model_module": "@jupyter-widgets/controls",
      "model_module_version": "1.5.0",
      "model_name": "DescriptionStyleModel",
      "state": {
       "_model_module": "@jupyter-widgets/controls",
       "_model_module_version": "1.5.0",
       "_model_name": "DescriptionStyleModel",
       "_view_count": null,
       "_view_module": "@jupyter-widgets/base",
       "_view_module_version": "1.2.0",
       "_view_name": "StyleView",
       "description_width": ""
      }
     },
     "93638339e1604ff987fe7e2acf337c9b": {
      "model_module": "@jupyter-widgets/base",
      "model_module_version": "1.2.0",
      "model_name": "LayoutModel",
      "state": {
       "_model_module": "@jupyter-widgets/base",
       "_model_module_version": "1.2.0",
       "_model_name": "LayoutModel",
       "_view_count": null,
       "_view_module": "@jupyter-widgets/base",
       "_view_module_version": "1.2.0",
       "_view_name": "LayoutView",
       "align_content": null,
       "align_items": null,
       "align_self": null,
       "border": null,
       "bottom": null,
       "display": null,
       "flex": null,
       "flex_flow": null,
       "grid_area": null,
       "grid_auto_columns": null,
       "grid_auto_flow": null,
       "grid_auto_rows": null,
       "grid_column": null,
       "grid_gap": null,
       "grid_row": null,
       "grid_template_areas": null,
       "grid_template_columns": null,
       "grid_template_rows": null,
       "height": null,
       "justify_content": null,
       "justify_items": null,
       "left": null,
       "margin": null,
       "max_height": null,
       "max_width": null,
       "min_height": null,
       "min_width": null,
       "object_fit": null,
       "object_position": null,
       "order": null,
       "overflow": null,
       "overflow_x": null,
       "overflow_y": null,
       "padding": null,
       "right": null,
       "top": null,
       "visibility": null,
       "width": null
      }
     },
     "a6a4782135934cf789c63f94db9f63c9": {
      "model_module": "@jupyter-widgets/controls",
      "model_module_version": "1.5.0",
      "model_name": "FloatProgressModel",
      "state": {
       "_dom_classes": [],
       "_model_module": "@jupyter-widgets/controls",
       "_model_module_version": "1.5.0",
       "_model_name": "FloatProgressModel",
       "_view_count": null,
       "_view_module": "@jupyter-widgets/controls",
       "_view_module_version": "1.5.0",
       "_view_name": "ProgressView",
       "bar_style": "success",
       "description": "",
       "description_tooltip": null,
       "layout": "IPY_MODEL_04b0b15a2d0c4096b5a18487797d1111",
       "max": 441.0,
       "min": 0.0,
       "orientation": "horizontal",
       "style": "IPY_MODEL_fa1785ae28664c10879da1c58380772d",
       "value": 441.0
      }
     },
     "b773041440d243879c9bf25cef19978f": {
      "model_module": "@jupyter-widgets/base",
      "model_module_version": "1.2.0",
      "model_name": "LayoutModel",
      "state": {
       "_model_module": "@jupyter-widgets/base",
       "_model_module_version": "1.2.0",
       "_model_name": "LayoutModel",
       "_view_count": null,
       "_view_module": "@jupyter-widgets/base",
       "_view_module_version": "1.2.0",
       "_view_name": "LayoutView",
       "align_content": null,
       "align_items": null,
       "align_self": null,
       "border": null,
       "bottom": null,
       "display": null,
       "flex": null,
       "flex_flow": null,
       "grid_area": null,
       "grid_auto_columns": null,
       "grid_auto_flow": null,
       "grid_auto_rows": null,
       "grid_column": null,
       "grid_gap": null,
       "grid_row": null,
       "grid_template_areas": null,
       "grid_template_columns": null,
       "grid_template_rows": null,
       "height": null,
       "justify_content": null,
       "justify_items": null,
       "left": null,
       "margin": null,
       "max_height": null,
       "max_width": null,
       "min_height": null,
       "min_width": null,
       "object_fit": null,
       "object_position": null,
       "order": null,
       "overflow": null,
       "overflow_x": null,
       "overflow_y": null,
       "padding": null,
       "right": null,
       "top": null,
       "visibility": null,
       "width": null
      }
     },
     "b8dfba4695f1493e82a58fb5eb1e11e4": {
      "model_module": "@jupyter-widgets/base",
      "model_module_version": "1.2.0",
      "model_name": "LayoutModel",
      "state": {
       "_model_module": "@jupyter-widgets/base",
       "_model_module_version": "1.2.0",
       "_model_name": "LayoutModel",
       "_view_count": null,
       "_view_module": "@jupyter-widgets/base",
       "_view_module_version": "1.2.0",
       "_view_name": "LayoutView",
       "align_content": null,
       "align_items": null,
       "align_self": null,
       "border": null,
       "bottom": null,
       "display": null,
       "flex": null,
       "flex_flow": null,
       "grid_area": null,
       "grid_auto_columns": null,
       "grid_auto_flow": null,
       "grid_auto_rows": null,
       "grid_column": null,
       "grid_gap": null,
       "grid_row": null,
       "grid_template_areas": null,
       "grid_template_columns": null,
       "grid_template_rows": null,
       "height": null,
       "justify_content": null,
       "justify_items": null,
       "left": null,
       "margin": null,
       "max_height": null,
       "max_width": null,
       "min_height": null,
       "min_width": null,
       "object_fit": null,
       "object_position": null,
       "order": null,
       "overflow": null,
       "overflow_x": null,
       "overflow_y": null,
       "padding": null,
       "right": null,
       "top": null,
       "visibility": null,
       "width": null
      }
     },
     "c9a8ab6c976b419b979d6a4b438b50aa": {
      "model_module": "@jupyter-widgets/base",
      "model_module_version": "1.2.0",
      "model_name": "LayoutModel",
      "state": {
       "_model_module": "@jupyter-widgets/base",
       "_model_module_version": "1.2.0",
       "_model_name": "LayoutModel",
       "_view_count": null,
       "_view_module": "@jupyter-widgets/base",
       "_view_module_version": "1.2.0",
       "_view_name": "LayoutView",
       "align_content": null,
       "align_items": null,
       "align_self": null,
       "border": null,
       "bottom": null,
       "display": null,
       "flex": null,
       "flex_flow": null,
       "grid_area": null,
       "grid_auto_columns": null,
       "grid_auto_flow": null,
       "grid_auto_rows": null,
       "grid_column": null,
       "grid_gap": null,
       "grid_row": null,
       "grid_template_areas": null,
       "grid_template_columns": null,
       "grid_template_rows": null,
       "height": null,
       "justify_content": null,
       "justify_items": null,
       "left": null,
       "margin": null,
       "max_height": null,
       "max_width": null,
       "min_height": null,
       "min_width": null,
       "object_fit": null,
       "object_position": null,
       "order": null,
       "overflow": null,
       "overflow_x": null,
       "overflow_y": null,
       "padding": null,
       "right": null,
       "top": null,
       "visibility": null,
       "width": null
      }
     },
     "cbbbd651105f4da7be4f9757dd5494e4": {
      "model_module": "@jupyter-widgets/base",
      "model_module_version": "1.2.0",
      "model_name": "LayoutModel",
      "state": {
       "_model_module": "@jupyter-widgets/base",
       "_model_module_version": "1.2.0",
       "_model_name": "LayoutModel",
       "_view_count": null,
       "_view_module": "@jupyter-widgets/base",
       "_view_module_version": "1.2.0",
       "_view_name": "LayoutView",
       "align_content": null,
       "align_items": null,
       "align_self": null,
       "border": null,
       "bottom": null,
       "display": null,
       "flex": null,
       "flex_flow": null,
       "grid_area": null,
       "grid_auto_columns": null,
       "grid_auto_flow": null,
       "grid_auto_rows": null,
       "grid_column": null,
       "grid_gap": null,
       "grid_row": null,
       "grid_template_areas": null,
       "grid_template_columns": null,
       "grid_template_rows": null,
       "height": null,
       "justify_content": null,
       "justify_items": null,
       "left": null,
       "margin": null,
       "max_height": null,
       "max_width": null,
       "min_height": null,
       "min_width": null,
       "object_fit": null,
       "object_position": null,
       "order": null,
       "overflow": null,
       "overflow_x": null,
       "overflow_y": null,
       "padding": null,
       "right": null,
       "top": null,
       "visibility": null,
       "width": null
      }
     },
     "d1cce285c866462299126ee65ba2582b": {
      "model_module": "@jupyter-widgets/controls",
      "model_module_version": "1.5.0",
      "model_name": "FloatProgressModel",
      "state": {
       "_dom_classes": [],
       "_model_module": "@jupyter-widgets/controls",
       "_model_module_version": "1.5.0",
       "_model_name": "FloatProgressModel",
       "_view_count": null,
       "_view_module": "@jupyter-widgets/controls",
       "_view_module_version": "1.5.0",
       "_view_name": "ProgressView",
       "bar_style": "success",
       "description": "",
       "description_tooltip": null,
       "layout": "IPY_MODEL_f984bb855a02425cad23bcc6facece93",
       "max": 898822.0,
       "min": 0.0,
       "orientation": "horizontal",
       "style": "IPY_MODEL_f3d7e12c8ec5415d88a03bb473b483ba",
       "value": 898822.0
      }
     },
     "d4aed28c2718438d9f8dc9bedd4bfa0d": {
      "model_module": "@jupyter-widgets/controls",
      "model_module_version": "1.5.0",
      "model_name": "DescriptionStyleModel",
      "state": {
       "_model_module": "@jupyter-widgets/controls",
       "_model_module_version": "1.5.0",
       "_model_name": "DescriptionStyleModel",
       "_view_count": null,
       "_view_module": "@jupyter-widgets/base",
       "_view_module_version": "1.2.0",
       "_view_name": "StyleView",
       "description_width": ""
      }
     },
     "d6e07233697047308e0b711e828dbf07": {
      "model_module": "@jupyter-widgets/controls",
      "model_module_version": "1.5.0",
      "model_name": "DescriptionStyleModel",
      "state": {
       "_model_module": "@jupyter-widgets/controls",
       "_model_module_version": "1.5.0",
       "_model_name": "DescriptionStyleModel",
       "_view_count": null,
       "_view_module": "@jupyter-widgets/base",
       "_view_module_version": "1.2.0",
       "_view_name": "StyleView",
       "description_width": ""
      }
     },
     "d899d12b52c4422c95f5a1e54450dbc7": {
      "model_module": "@jupyter-widgets/base",
      "model_module_version": "1.2.0",
      "model_name": "LayoutModel",
      "state": {
       "_model_module": "@jupyter-widgets/base",
       "_model_module_version": "1.2.0",
       "_model_name": "LayoutModel",
       "_view_count": null,
       "_view_module": "@jupyter-widgets/base",
       "_view_module_version": "1.2.0",
       "_view_name": "LayoutView",
       "align_content": null,
       "align_items": null,
       "align_self": null,
       "border": null,
       "bottom": null,
       "display": null,
       "flex": null,
       "flex_flow": null,
       "grid_area": null,
       "grid_auto_columns": null,
       "grid_auto_flow": null,
       "grid_auto_rows": null,
       "grid_column": null,
       "grid_gap": null,
       "grid_row": null,
       "grid_template_areas": null,
       "grid_template_columns": null,
       "grid_template_rows": null,
       "height": null,
       "justify_content": null,
       "justify_items": null,
       "left": null,
       "margin": null,
       "max_height": null,
       "max_width": null,
       "min_height": null,
       "min_width": null,
       "object_fit": null,
       "object_position": null,
       "order": null,
       "overflow": null,
       "overflow_x": null,
       "overflow_y": null,
       "padding": null,
       "right": null,
       "top": null,
       "visibility": null,
       "width": null
      }
     },
     "d9ea17ffc16946719bb1b0f7ac53ccee": {
      "model_module": "@jupyter-widgets/base",
      "model_module_version": "1.2.0",
      "model_name": "LayoutModel",
      "state": {
       "_model_module": "@jupyter-widgets/base",
       "_model_module_version": "1.2.0",
       "_model_name": "LayoutModel",
       "_view_count": null,
       "_view_module": "@jupyter-widgets/base",
       "_view_module_version": "1.2.0",
       "_view_name": "LayoutView",
       "align_content": null,
       "align_items": null,
       "align_self": null,
       "border": null,
       "bottom": null,
       "display": null,
       "flex": null,
       "flex_flow": null,
       "grid_area": null,
       "grid_auto_columns": null,
       "grid_auto_flow": null,
       "grid_auto_rows": null,
       "grid_column": null,
       "grid_gap": null,
       "grid_row": null,
       "grid_template_areas": null,
       "grid_template_columns": null,
       "grid_template_rows": null,
       "height": null,
       "justify_content": null,
       "justify_items": null,
       "left": null,
       "margin": null,
       "max_height": null,
       "max_width": null,
       "min_height": null,
       "min_width": null,
       "object_fit": null,
       "object_position": null,
       "order": null,
       "overflow": null,
       "overflow_x": null,
       "overflow_y": null,
       "padding": null,
       "right": null,
       "top": null,
       "visibility": null,
       "width": null
      }
     },
     "e0a66e631c6641d493d85aa93d14e9bf": {
      "model_module": "@jupyter-widgets/controls",
      "model_module_version": "1.5.0",
      "model_name": "FloatProgressModel",
      "state": {
       "_dom_classes": [],
       "_model_module": "@jupyter-widgets/controls",
       "_model_module_version": "1.5.0",
       "_model_name": "FloatProgressModel",
       "_view_count": null,
       "_view_module": "@jupyter-widgets/controls",
       "_view_module_version": "1.5.0",
       "_view_name": "ProgressView",
       "bar_style": "success",
       "description": "",
       "description_tooltip": null,
       "layout": "IPY_MODEL_8701a54bfdb34f4998b1304ba9ae636a",
       "max": 644.0,
       "min": 0.0,
       "orientation": "horizontal",
       "style": "IPY_MODEL_0b4e5759bb8f43aab4d10804ceffd0fc",
       "value": 644.0
      }
     },
     "e2140e93cba24219baf69bd297143d9b": {
      "model_module": "@jupyter-widgets/controls",
      "model_module_version": "1.5.0",
      "model_name": "DescriptionStyleModel",
      "state": {
       "_model_module": "@jupyter-widgets/controls",
       "_model_module_version": "1.5.0",
       "_model_name": "DescriptionStyleModel",
       "_view_count": null,
       "_view_module": "@jupyter-widgets/base",
       "_view_module_version": "1.2.0",
       "_view_name": "StyleView",
       "description_width": ""
      }
     },
     "e92cd0c2375b4e4aaa7ace93ee42a3db": {
      "model_module": "@jupyter-widgets/controls",
      "model_module_version": "1.5.0",
      "model_name": "FloatProgressModel",
      "state": {
       "_dom_classes": [],
       "_model_module": "@jupyter-widgets/controls",
       "_model_module_version": "1.5.0",
       "_model_name": "FloatProgressModel",
       "_view_count": null,
       "_view_module": "@jupyter-widgets/controls",
       "_view_module_version": "1.5.0",
       "_view_name": "ProgressView",
       "bar_style": "success",
       "description": "",
       "description_tooltip": null,
       "layout": "IPY_MODEL_77af1ced8ee8410a990450c852825f8a",
       "max": 456318.0,
       "min": 0.0,
       "orientation": "horizontal",
       "style": "IPY_MODEL_26a6c4a896a2477fb8a60ebb7222d539",
       "value": 456318.0
      }
     },
     "f3d7e12c8ec5415d88a03bb473b483ba": {
      "model_module": "@jupyter-widgets/controls",
      "model_module_version": "1.5.0",
      "model_name": "ProgressStyleModel",
      "state": {
       "_model_module": "@jupyter-widgets/controls",
       "_model_module_version": "1.5.0",
       "_model_name": "ProgressStyleModel",
       "_view_count": null,
       "_view_module": "@jupyter-widgets/base",
       "_view_module_version": "1.2.0",
       "_view_name": "StyleView",
       "bar_color": null,
       "description_width": ""
      }
     },
     "f4a7b166191a4e509537cee73f5ce17b": {
      "model_module": "@jupyter-widgets/controls",
      "model_module_version": "1.5.0",
      "model_name": "HTMLModel",
      "state": {
       "_dom_classes": [],
       "_model_module": "@jupyter-widgets/controls",
       "_model_module_version": "1.5.0",
       "_model_name": "HTMLModel",
       "_view_count": null,
       "_view_module": "@jupyter-widgets/controls",
       "_view_module_version": "1.5.0",
       "_view_name": "HTMLView",
       "description": "",
       "description_tooltip": null,
       "layout": "IPY_MODEL_1599b36464454c60b99fa30850180815",
       "placeholder": "​",
       "style": "IPY_MODEL_17f90b57b9154922a1f3e5f033a4e5ee",
       "value": "special_tokens_map.json: 100%"
      }
     },
     "f63e1c1bb58d471cb5a2b56e88dac16f": {
      "model_module": "@jupyter-widgets/controls",
      "model_module_version": "1.5.0",
      "model_name": "HBoxModel",
      "state": {
       "_dom_classes": [],
       "_model_module": "@jupyter-widgets/controls",
       "_model_module_version": "1.5.0",
       "_model_name": "HBoxModel",
       "_view_count": null,
       "_view_module": "@jupyter-widgets/controls",
       "_view_module_version": "1.5.0",
       "_view_name": "HBoxView",
       "box_style": "",
       "children": [
        "IPY_MODEL_74e46fa3fdb5437490c51d4cbf5cd2fe",
        "IPY_MODEL_d1cce285c866462299126ee65ba2582b",
        "IPY_MODEL_1492f510a4f7443e97f316d9d58dee0d"
       ],
       "layout": "IPY_MODEL_7663f4e635b84ac99d1cee202b99803c"
      }
     },
     "f69417ce4bf94fe8a00797b05cd25b63": {
      "model_module": "@jupyter-widgets/controls",
      "model_module_version": "1.5.0",
      "model_name": "ProgressStyleModel",
      "state": {
       "_model_module": "@jupyter-widgets/controls",
       "_model_module_version": "1.5.0",
       "_model_name": "ProgressStyleModel",
       "_view_count": null,
       "_view_module": "@jupyter-widgets/base",
       "_view_module_version": "1.2.0",
       "_view_name": "StyleView",
       "bar_color": null,
       "description_width": ""
      }
     },
     "f984bb855a02425cad23bcc6facece93": {
      "model_module": "@jupyter-widgets/base",
      "model_module_version": "1.2.0",
      "model_name": "LayoutModel",
      "state": {
       "_model_module": "@jupyter-widgets/base",
       "_model_module_version": "1.2.0",
       "_model_name": "LayoutModel",
       "_view_count": null,
       "_view_module": "@jupyter-widgets/base",
       "_view_module_version": "1.2.0",
       "_view_name": "LayoutView",
       "align_content": null,
       "align_items": null,
       "align_self": null,
       "border": null,
       "bottom": null,
       "display": null,
       "flex": null,
       "flex_flow": null,
       "grid_area": null,
       "grid_auto_columns": null,
       "grid_auto_flow": null,
       "grid_auto_rows": null,
       "grid_column": null,
       "grid_gap": null,
       "grid_row": null,
       "grid_template_areas": null,
       "grid_template_columns": null,
       "grid_template_rows": null,
       "height": null,
       "justify_content": null,
       "justify_items": null,
       "left": null,
       "margin": null,
       "max_height": null,
       "max_width": null,
       "min_height": null,
       "min_width": null,
       "object_fit": null,
       "object_position": null,
       "order": null,
       "overflow": null,
       "overflow_x": null,
       "overflow_y": null,
       "padding": null,
       "right": null,
       "top": null,
       "visibility": null,
       "width": null
      }
     },
     "fa1785ae28664c10879da1c58380772d": {
      "model_module": "@jupyter-widgets/controls",
      "model_module_version": "1.5.0",
      "model_name": "ProgressStyleModel",
      "state": {
       "_model_module": "@jupyter-widgets/controls",
       "_model_module_version": "1.5.0",
       "_model_name": "ProgressStyleModel",
       "_view_count": null,
       "_view_module": "@jupyter-widgets/base",
       "_view_module_version": "1.2.0",
       "_view_name": "StyleView",
       "bar_color": null,
       "description_width": ""
      }
     },
     "fa952c255d984b40ae78458c619bd353": {
      "model_module": "@jupyter-widgets/controls",
      "model_module_version": "1.5.0",
      "model_name": "HTMLModel",
      "state": {
       "_dom_classes": [],
       "_model_module": "@jupyter-widgets/controls",
       "_model_module_version": "1.5.0",
       "_model_name": "HTMLModel",
       "_view_count": null,
       "_view_module": "@jupyter-widgets/controls",
       "_view_module_version": "1.5.0",
       "_view_name": "HTMLView",
       "description": "",
       "description_tooltip": null,
       "layout": "IPY_MODEL_03002c72113d4318a4791d8f238e613a",
       "placeholder": "​",
       "style": "IPY_MODEL_d4aed28c2718438d9f8dc9bedd4bfa0d",
       "value": " 685/685 [00:00&lt;00:00, 57.5kB/s]"
      }
     },
     "fc1dd576cca445a5a015bb8806cf4d38": {
      "model_module": "@jupyter-widgets/controls",
      "model_module_version": "1.5.0",
      "model_name": "DescriptionStyleModel",
      "state": {
       "_model_module": "@jupyter-widgets/controls",
       "_model_module_version": "1.5.0",
       "_model_name": "DescriptionStyleModel",
       "_view_count": null,
       "_view_module": "@jupyter-widgets/base",
       "_view_module_version": "1.2.0",
       "_view_name": "StyleView",
       "description_width": ""
      }
     }
    },
    "version_major": 2,
    "version_minor": 0
   }
  }
 },
 "nbformat": 4,
 "nbformat_minor": 5
}
